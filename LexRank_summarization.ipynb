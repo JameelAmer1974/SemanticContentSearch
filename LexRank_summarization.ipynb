{
 "cells": [
  {
   "metadata": {
    "ExecuteTime": {
     "end_time": "2025-04-12T03:30:43.419798Z",
     "start_time": "2025-04-12T03:30:39.045074Z"
    }
   },
   "cell_type": "code",
   "source": [
    "\n",
    "import numpy as np\n",
    "import pandas as pd\n",
    "from evaluate import load\n",
    "from scipy.ndimage import label\n",
    "from transformers import AutoTokenizer, AutoModelForSeq2SeqLM\n",
    "from datasets import Dataset, DatasetDict\n",
    "from datasets import load_from_disk\n",
    "import numpy as np\n",
    "import nltk\n",
    "import re\n",
    "import spacy\n",
    "nltk.download('punkt')\n",
    "from nltk.tokenize import sent_tokenize\n"
   ],
   "id": "abd853ea5f6e2149",
   "outputs": [
    {
     "name": "stderr",
     "output_type": "stream",
     "text": [
      "/Users/jameelamer/MasterProject/Summarization/summrization_webapp/flaskProject2/.venv/lib/python3.12/site-packages/tqdm/auto.py:21: TqdmWarning: IProgress not found. Please update jupyter and ipywidgets. See https://ipywidgets.readthedocs.io/en/stable/user_install.html\n",
      "  from .autonotebook import tqdm as notebook_tqdm\n",
      "[nltk_data] Downloading package punkt to\n",
      "[nltk_data]     /Users/jameelamer/nltk_data...\n",
      "[nltk_data]   Package punkt is already up-to-date!\n"
     ]
    }
   ],
   "execution_count": 1
  },
  {
   "metadata": {
    "ExecuteTime": {
     "end_time": "2025-04-12T03:30:43.851594Z",
     "start_time": "2025-04-12T03:30:43.423556Z"
    }
   },
   "cell_type": "code",
   "source": [
    "# Load English tokenizer, POS tagger, parser, NER from spaCy\n",
    "import spacy.cli\n",
    "\n",
    "try:\n",
    "    nlp = spacy.load(\"en_core_web_sm\")\n",
    "except OSError:\n",
    "    import spacy.cli\n",
    "    spacy.cli.download(\"en_core_web_sm\")\n",
    "    nlp = spacy.load(\"en_core_web_sm\")\n",
    "def normalize_whitespace(text):\n",
    "    \"\"\"Remove extra whitespace, newlines, and tabs.\"\"\"\n",
    "    return re.sub(r'\\s+', ' ', text).strip()\n",
    "\n",
    "def remove_noise_and_references(text):\n",
    "    \"\"\"\n",
    "    Remove references like [1], (Smith et al., 2020), and figure/table mentions.\n",
    "    You can extend the patterns as needed.\n",
    "    \"\"\"\n",
    "    # Remove square bracket citations like [1], [12]\n",
    "    text = re.sub(r'\\[\\d+\\]', '', text)\n",
    "    \n",
    "    # Remove in-text references like (Smith et al., 2020)\n",
    "    text = re.sub(r'\\(([^)]*et al\\.,?\\s?\\d{4})\\)', '', text)\n",
    "    \n",
    "    # Remove \"Fig. 1\", \"Table 2\", etc.\n",
    "    text = re.sub(r'(Fig\\.?|Figure|Table)\\s?\\d+[a-zA-Z]?', '', text, flags=re.IGNORECASE)\n",
    "    \n",
    "    # Remove licensing and copyright boilerplate\n",
    "    text = re.sub(r'©.*?(\\.|\\n)', '', text)\n",
    "    text = re.sub(r'This article is licensed.*?(\\.|\\n)', '', text, flags=re.IGNORECASE)\n",
    "    \n",
    "    return text\n",
    "\n",
    "def sentence_segmentation(text):\n",
    "    \"\"\"Segment text into individual sentences using spaCy.\"\"\"\n",
    "    doc = nlp(text)\n",
    "    return [sent.text.strip() for sent in doc.sents if sent.text.strip()]\n",
    "\n",
    "def preprocess_text(raw_text):\n",
    "    \"\"\"Complete preprocessing pipeline.\"\"\"\n",
    "    step1 = normalize_whitespace(raw_text)\n",
    "    step2 = remove_noise_and_references(step1)\n",
    "    sentences = sentence_segmentation(step2)\n",
    "    return ' '.join(str(sentence) for sentence in sentences)"
   ],
   "id": "b0ef3ea0792dd562",
   "outputs": [],
   "execution_count": 2
  },
  {
   "metadata": {
    "collapsed": true,
    "ExecuteTime": {
     "end_time": "2025-04-12T03:30:44.013546Z",
     "start_time": "2025-04-12T03:30:43.949919Z"
    }
   },
   "cell_type": "code",
   "source": [
    "from sumy.parsers.plaintext import PlaintextParser\n",
    "from sumy.nlp.tokenizers import Tokenizer\n",
    "from sumy.summarizers.lex_rank import LexRankSummarizer\n",
    "\n",
    "def lexrank_summary(text, num_sentences=3):    \n",
    "    # call preprocess\n",
    "    clean_text=preprocess_text(text)\n",
    "    parser = PlaintextParser.from_string(clean_text, Tokenizer(\"english\"))\n",
    "    summarizer = LexRankSummarizer()\n",
    "    summary = summarizer(parser.document, num_sentences)\n",
    "    \n",
    "    return ' '.join(str(sentence) for sentence in summary)\n",
    "\n",
    "# Example usage\n",
    "text = \"\"\"\n",
    "Artificial intelligence is rapidly evolving. Many industries are integrating AI to enhance performance.\n",
    "Applications include healthcare, finance, and transportation. AI also raises ethical and employment concerns.\n",
    "Researchers are focused on creating explainable and fair AI. Governments are responding with new regulations and policies.\n",
    "\"\"\"\n",
    "\n",
    "summary = lexrank_summary(text, num_sentences=2)\n",
    "print(summary)\n"
   ],
   "id": "initial_id",
   "outputs": [
    {
     "name": "stdout",
     "output_type": "stream",
     "text": [
      "Artificial intelligence is rapidly evolving. Many industries are integrating AI to enhance performance.\n"
     ]
    }
   ],
   "execution_count": 3
  },
  {
   "metadata": {
    "ExecuteTime": {
     "end_time": "2025-04-12T03:30:44.466920Z",
     "start_time": "2025-04-12T03:30:44.020109Z"
    }
   },
   "cell_type": "code",
   "source": [
    "# BBC News Dataset\n",
    "# testdf=pd.read_csv('bbc_news_with_articles_and_extractive_summary.csv')\n",
    "# gov report dataset\n",
    "\n",
    "testdf = pd.read_csv('gov_report_with_articles_and_extractive_summary.csv')"
   ],
   "id": "ee00213e995670fa",
   "outputs": [],
   "execution_count": 4
  },
  {
   "metadata": {
    "ExecuteTime": {
     "end_time": "2025-04-12T04:08:36.315111Z",
     "start_time": "2025-04-12T03:30:44.475458Z"
    }
   },
   "cell_type": "code",
   "source": "testdf['generated_summary'] = testdf['Article'].apply(lambda x:str(lexrank_summary( x, 25)))",
   "id": "9063a937d919a5ad",
   "outputs": [],
   "execution_count": 5
  },
  {
   "metadata": {
    "ExecuteTime": {
     "end_time": "2025-04-12T04:08:36.440051Z",
     "start_time": "2025-04-12T04:08:36.412791Z"
    }
   },
   "cell_type": "code",
   "source": [
    "import numpy as np\n",
    "testdf.replace(r'^\\s*$', np.nan, regex=True)\n",
    "testdf.dropna(axis=0, how='any')\n",
    "# Remove rows where \"Title\" is empty or null\n",
    "testdf = testdf[testdf[\"generated_summary\"].notna() & (testdf[\"generated_summary\"] != \"\")]\n",
    "len(testdf)"
   ],
   "id": "59454cc95365f011",
   "outputs": [
    {
     "data": {
      "text/plain": [
       "973"
      ]
     },
     "execution_count": 6,
     "metadata": {},
     "output_type": "execute_result"
    }
   ],
   "execution_count": 6
  },
  {
   "metadata": {
    "ExecuteTime": {
     "end_time": "2025-04-12T04:08:36.572884Z",
     "start_time": "2025-04-12T04:08:36.553405Z"
    }
   },
   "cell_type": "code",
   "source": [
    "testdf=testdf.drop_duplicates(subset=[\"generated_summary\"])\n",
    "testdf['generated_summary'].value_counts()"
   ],
   "id": "444d73e621aa5cd9",
   "outputs": [
    {
     "data": {
      "text/plain": [
       "generated_summary\n",
       "The technology to produce cell-cultured meat at a commercial scale is still in development, and information about the methods to be used for commercial production and the composition of the final product are not yet known. As a result, certain information is not yet available to stakeholders—including cell-cultured meat firms themselves, regulators, and the public—about specific aspects of the technology and commercial production methods that will be used, such as the composition of the growth medium and of the final products. For example, if the scaffold on which the cell-cultured meat is grown is not edible, the agencies may require firms to disclose certain aspects of their commercial production methods, such as how they removed the cell- cultured meat from the scaffold. According to FDA officials and representatives from one cell-cultured meat firm, it is likely that some firms will use genetic engineering in their commercial cell-cultured meat production methods. However, representatives from two other cell-cultured meat firms told us they were undecided as to whether they would use genetic engineering in their commercial production methods. Agency officials stated that they are working to develop a detailed process for the transfer of jurisdiction, including defining the point of harvest. Are potential safety hazards in commercial production methods for cell-cultured meat different from those for conventional meat, and how will eventual commercial production methods affect the overall safety of the product? In addition, FDA and USDA have not documented which agency will oversee cell-cultured seafood not covered by the interagency agreement. In 2018, FDA and USDA began taking steps to collaborate on the regulatory oversight of cell-cultured meat through several mechanisms: a joint public meeting, an interagency agreement, and three working groups. If appropriate, have the participating agencies documented their agreement regarding how they will collaborate? As the agencies continue to collaborate on their shared oversight of cell- cultured meat, by more fully incorporating all seven leading practices for collaboration into their interagency agreement, they will be better positioned to address potential fragmentation in their efforts to ensure the safety of the food supply as cell-cultured meat products near commercialization and entry into the marketplace. For example, the working groups have not documented leadership, accountability, roles and responsibilities, or resources needed for working groups. In this context, some industry representatives and other stakeholders have expressed concerns about potential fragmentation or overlap in oversight of cell-cultured meat, such as could occur during the harvest phase of cell-cultured meat production when FDA hands off its oversight to USDA. However, stakeholders from two cell-cultured meat firms, including representatives of a cell- cultured seafood firm we spoke with in April 2019, stated that they did not know who in the federal government would oversee cell-cultured seafood. While FDA and USDA officials have informally communicated to some stakeholders that FDA will have sole oversight of most cell-cultured seafood, FDA has not communicated this information formally or in a method readily available to all relevant stakeholders, such as in their interagency agreement or other publicly available written document. By taking steps to document which agency will oversee cell-cultured seafood other than catfish, FDA and USDA will better ensure the public, including key stakeholders such as cell-cultured meat firms, have clarity about the agencies’ oversight responsibilities in this area. By taking steps to document in their interagency agreement, or other publicly available document, which agency will oversee cell-cultured seafood other than catfish, FDA and USDA could better ensure that members of the public and other key stakeholders such as cell-cultured meat firms have clarity about the agencies’ oversight responsibilities in this area. We are making a total of six recommendations, three to FDA and three to USDA: The Commissioner of the Food and Drug Administration, in coordination with the Secretary of Agriculture, should more fully incorporate the seven leading practices for effective collaboration in the agencies’ interagency agreement for the joint oversight of cell-cultured meat. (Recommendation 2) As the three cell-cultured meat working groups move forward, the Commissioner of the Food and Drug Administration, in coordination with the Secretary of Agriculture, should more fully incorporate the seven leading practices for effective collaboration, such as identifying specific outcomes and a way to monitor and evaluate progress toward outcomes. (Recommendation 3) As the three cell-cultured meat working groups move forward, the Secretary of Agriculture, in coordination with the Commissioner of the Food and Drug Administration, should more fully incorporate the seven leading practices for effective collaboration, such as identifying specific outcomes and a way to monitor and evaluate progress toward outcomes. We agree that the technology to produce cell-cultured meat is still in development and that information about the commercial production methods and composition of the final product are not yet known, as we state in our report. Specifically, both agencies agreed with our recommendations regarding (1) more fully incorporating the seven leading practices for effective collaboration in the three cell-cultured meat working groups as they move forward and (2) clearly documenting which agency will oversee cell-cultured seafood other than catfish. GAO staff who made key contributions to this report are listed in appendix V. Our report (1) describes what is known about methods for commercially producing cell-cultured meat and (2) examines the extent to which the Food and Drug Administration (FDA) and U.S. Department of Agriculture (USDA) are collaborating to provide regulatory oversight of cell-cultured meat. To describe what is known about the process for producing cell-cultured meat and potential commercial production methods, we also reviewed two sets of public comments submitted to FDA and USDA in association with the two 2018 public meetings pertaining to cell-cultured meat. If appropriate, have the participating agencies documented their agreement regarding how they will be collaborating?                                                                                                                                                                                                                                                                                                                                                                                                                                                                                                                                                                                                                                                                                                                                                                                                                                                                                                                                                   1\n",
       "This report describes the structure, activities, legislative history, and funding history of seven federally-chartered regional commissions and authorities: the Appalachian Regional Commission (ARC); the Delta Regional Authority (DRA); the Denali Commission; the Northern Border Regional Commission (NBRC); the Northern Great Plains Regional Authority (NGPRA); the Southeast Crescent Regional Commission (SCRC); and the Southwest Border Regional Commission (SBRC) ( Table A-1 ). The Appalachian Regional Commission was established in 1965 to address economic distress in the Appalachian region. According to the authorizing legislation, the Appalachian Regional Development Act of 1965, as amended, the ARC is a federally-chartered, regional economic development entity led by a federal co-chair, whose term is open-ended, and the 13 participating state governors, of which one serves as the state co-chair for a term of \"at least one year.\" The ARC's investment activities are divided into 10 program areas: These program areas can be funded through five types of eligible activities: 1. business development and entrepreneurship, through grants to help create and retain jobs in the region, including through targeted loan funds; 2. education and training, for projects that \"develop, support, or expand education and training programs\"; 3. health care, through funding for \"equipment and demonstration projects\" and sometimes for facility construction and renovation, including hospital and community health services; 4. physical infrastructure, including funds for basic infrastructure services such as water and sewer facilities, as well as housing and telecommunications; and 5. leadership development and civic capacity, such as community-based strategic plans, training for local leaders, and organizational support. The Delta Regional Authority was established in 2000 to address economic distress in the Mississippi River Delta region. State development plans are required by statute every five years to coincide with the strategic plan, and reflect the economic development goals and priorities of member states and LDDs. The DRA funds projects through 44 LDDs, which are multicounty economic development organizations financially supported by the DRA and advise on local priorities. In 1999, the Delta Regional Authority Act of 1999 was introduced in the House ( H.R. Under \"farm bill\" legislation, the DRA has consistently received funding authorizations of $30 million annually since it was first authorized. The Denali Commission was established in 1998 to support rural economic development in Alaska. The Denali Commission's authorizing statute obligates the Commission to address economic distress in rural areas of Alaska. Eligible counties within the NBRC's jurisdiction may receive funding \"for community and economic development\" projects pursuant to regional, state, and local planning and priorities ( Table C-4 ). All projects are required to address at least one of the NBRC's four authorized program areas and its five-year strategic plan. The NBRC was first proposed in the Northern Border Economic Development Commission Act of 2007 ( H.R. The NBRC was reintroduced in the Regional Economic and Infrastructure Development Act of 2007 ( H.R. The 2008 farm bill authorized annual appropriations of $30 million for FY2008 through FY2012 for all three new commissions. The NGPRA featured broad similarities to the basic structure shared among most of the federal regional authorities and commissions, being a federal-state partnership led by a federal co-chair (appointed by the President, with the advice and consent of the Senate) and governors of the participating states, of which one was designated as the state co-chair. Also, the NGPRA would have designated levels of county economic distress; 75% of funds were reserved for the most distressed counties in each state, and 50% reserved for transportation, telecommunications, and basic infrastructure improvements. The NGPRA was authorized to receive $30 million annually from FY2002 to FY2018. The Southeast Crescent Regional Commission (SCRC) was created by the 2008 farm bill, which also created the NBRC and the Southwest Border Regional Commission. However, as no federal co-chair has been appointed since the SCRC was authorized, it is not operational. The SBRC was reintroduced in the Regional Economic and Infrastructure Development Act of 2003 ( H.R. In 2007, SBRC was reintroduced in the Regional Economic and Infrastructure Development Act of 2007 ( H.R. The 2008 farm bill authorized annual appropriations of $30 million for FY2008 through FY2012 for all three of the new organizations. At the same time, as organizations that are largely governed by the respective state-based commissioners, the federal regional commissions and authorities are not typical federal agencies but federally-chartered entities that integrate federal funding and direction with state and local economic development priorities.                                                                                                                                                                                                                                                                                                                                                                                                                                                                                                                                                                                                                                                                                                                                                                                                                                                                                                                                                                                                                                                                                                                                                                                                                                                                                                                                                                                                                                                                                                                                                                                                                                                                                                                                                                                                                                                                                                                                                                                                                                                                                                                                                                                                                                                                                                                                                                                                                                                                           1\n",
       "This report provides an overview of FY2019 appropriations actions for accounts traditionally funded in the appropriations bill for the Departments of Labor, Health and Human Services, and Education, and Related Agencies (LHHS). In general, this report is focused strictly on appropriations to agencies and accounts that are subject to the jurisdiction of the Labor, Health and Human Services, Education, and Related Agencies subcommittees of the House and Senate appropriations committees (i.e., accounts traditionally funded via the LHHS bill). While all discretionary spending is subject to the annual appropriations process, only a portion of mandatory spending is provided in appropriations measures. The bill was passed by the House on June 3 and by the Senate on May 23. Of this amount, HHS is directed to transfer not less than $100 million to the Substance Abuse and Mental Health Services Administration (SAMHSA) Health Surveillance and Program Support account for grants, contracts, and cooperative agreements for behavioral health treatment, treatment of substance use disorders, crisis counseling and related helplines, and other similar programs to support impacted individuals; $80 million to the Health Resources and Services Administration (HRSA) federal health centers program for alteration, renovation, construction, equipment, and other capital improvements to meet the needs of affected areas; not less than $20 million to the Centers for Disease Control and Prevention (CDC) for CDC-Wide Activities and Program Support for response, recovery, mitigation, and other expenses; and up to $1 million to the Office of the Inspector General for oversight activities. During the 115 th Congress, on September 28, 2018, the President signed into law the Department of Defense and Labor, Health and Human Services, and Education Appropriations Act, 2019 and Continuing Appropriations Act, 2019 ( H.R. (Note that these totals are based only on amounts provided by the FY2019 LHHS omnibus and do not include the supplemental funds, which were provided in addition to the annual appropriations.) As reported by the full committee, the bill would have provided $187.2 billion in discretionary LHHS funds, a 0.3% increase from FY2018 enacted levels. The President requested $173.9 billion in discretionary funding for accounts funded by the LHHS bill, which would have been a decrease of 6.8% from FY2018 levels. This is due to the large amount of mandatory funding included in the HHS appropriation, the majority of which is for Medicaid grants to states and payments to health care trust funds. Of the total funding provided in the bill for DOL, roughly 89% is discretionary. The FY2019 LHHS omnibus provided $160 million for the Apprenticeship Grant program, which is $15 million (+10.3%) more than the level enacted in FY2018. Note that all amounts in this section are based on regular LHHS appropriations only; they do not include funds for HHS agencies provided through other appropriations bills (e.g., funding for the Food and Drug Administration) or outside of the annual appropriations process (e.g., direct appropriations for Medicare or mandatory funds provided by authorizing laws, such as the Patient Protection and Affordable Care Act [ACA, P.L. In general, discretionary funds account for about 10% of HHS appropriations in the LHHS bill. When taking into account both mandatory and discretionary funding, CMS accounts for $796.9 billion, which is 88.6% of all enacted appropriations for HHS. The FY2019 LHHS omnibus provided $37.9 billion in discretionary budget authority for NIH. 114-255 ), which was equal to the amount authorized to be appropriated in that act. In addition, the FY2019 LHHS omnibus also directed $134 million in PHS evaluation tap funding and $12 million in PPHF funding to SAMHSA, which was the same amount as FY2018. State Opioid Response Grants received $1.5 billion in FY2019, a $500 million (+50%) increase from FY2018, which was the first year in which funding was provided for this program. The FY2019 appropriation was the same amount that was proposed by the Senate-passed bill, but more than the amounts proposed by the President's budget (+3.6%) and the House committee bill (+4.8%). The LHHS omnibus retained a provision, included in LHHS appropriations since FY2015, authorizing HHS to augment appropriations for the Refugee and Entrant Assistance account by up to 10% via transfers from other discretionary HHS funds. In addition, the conference report on the LHHS omnibus expressed an expectation that HHS would adhere to certain general provisions that had been included in the House committee bill ( H.R. In addition, the House committee bill proposed a new provision that was not enacted (Â§534) based on the Conscience Protection Act ( H.R. The President's budget, the Senate bill, and the House committee bill all proposed level funding. The FY2019 LHHS omnibus provided $1.1 billion in total CNCS funding, a $19 million (+1.8%) increase over the FY2018 enacted level.                                                                                                                                                                                                                                                                                                                                                                                                                                                                                                                                                                                                                                                                                                                                                                                                                                                                                                                                                                                                                                                                                                                                                                                                                                                                                                                                                                                                                                                                                                                                                                                                                                                                                                                                                                                                                                                                                                                                                                                                                                                                                                                                                                                                                                                                                                                                                                                                                                         1\n",
       "The scope of this report is limited to the effects of COVID-19 on federally funded R&D. At the same time, some NASA centers may be at stage 3 (open to mission-essential personnel) while others are at stage 4 (closed except to protect life and critical infrastructure). In some cases, specific R&D activities may be allowed to continue, despite closures, if an institution determines that the work is sufficiently important, that suspending it would be too costly or disruptive, or that it can be conducted remotely. The Office of Management and Budget (OMB) has provided guidance to agencies about what travel (including travel to conduct R&D or to attend scientific meetings) should be considered mission-critical, based on a list of 11 factors, such as whether the travel is for activities essential to national security or whether it is time-sensitive. In some cases, the determination of whether an R&D project should continue is based on how severely it would be affected by being suspended. While NASA has suspended a number of other major projects, it is continuing work on the Mars 2020 mission, scheduled for a launch window that opens in mid-July 2020. Columbia University has defined essential functions to include, in addition to COVID-19 research and ongoing clinical trials, \"the maintenance of equipment, laboratory resources, critical animal resources, and cell lines.\" Travel restrictions and social distancing requirements have also resulted in the cancellation of numerous scientific and technical conferences. While these conferences are not generally a significant source of agency revenues, some agencies are likely to face one-time cancellation costs that may be considerable. There are specific challenges for shared university research infrastructure, including core facilitiesâspecialized laboratories with unique instruments and capabilities that provide services to an institution's researchers âas well as animal care facilities and clinical trial infrastructure. Some facilities remain open to support research that is continuing, but open facilities may face their own financial challenges in continuing to operate, as the fees that usually support them are likely to be reduced by the suspension of research by some of their users. NIST conducted $94.4 million in research, development and supporting services for other federal agencies in FY2019. As some agencies and researchers shift their R&D priorities to respond to the COVID-19 pandemic, the funding available for R&D on other topics may be reduced, at least in the near term. More generally, the federal funding needed for the national response to COVID-19 may reduce the overall federal resources available for R&D. On March 9, 2020, OMB authorized federal agencies to provide certain short-term relief from administrative, financial management, and auditing requirements for grantees involved in research related to COVID-19. It also provides a link to a compilation maintained by the Council on Governmental Relations (COGR) of guidance from federal agencies, academic institutions, and other organizations, as well as frequently asked questions about how federal agencies that fund R&D are implementing the OMB-directed flexibilities. For example, grant funds that have been spent on cancellation fees, activities required for the suspension of research, or researcher salaries while research is suspended necessarily reduce the balance of funds subsequently available to complete a research project. The credit only applies to R&D funded by a company itself, but companies that conduct R&D with federal funding often fund their own R&D as well. While OMB has issued guidance to agencies regarding administrative flexibilities and other issues, as described above, agency implementation of that guidance has varied. These might include seeking a clearer understanding of how federally funded R&D is being affected by COVID-19, through hearings, mandates for agency reports, support for academic studies, or mandates for reports by organizations such as the Government Accountability Office or the National Academies of Sciences, Engineering, and Medicine; directing OMB, the Office of Science and Technology Policy, or an interagency task force to develop more uniform guidance on how to identify essential or critical R&D activities, with recommendations for implementing that guidance at government laboratories, universities, companies, and other institutions involved in intramural and extramural federally funded R&D; and establishing a post-pandemic task force on the federal R&D enterprise to examine lessons learned from the COVID-19 pandemic and recommend policy changes to improve the national response of the R&D community in the event of future pandemics. In accordance with 2 CFR Â§200.102, \"Exceptions,\" OMB is allowing federal agencies to grant class exceptions in instances where the agency has determined that the purpose of the federal awards is to support the continued research and services necessary to carry out the emergency response related to COVID-19. Agencies are urged to work with their contractors, if they have not already, to evaluate and maximize telework for contractor employees, wherever possible; be flexible in providing extensions to performance dates if telework or other flexible work solutions, such as virtual work environments, are not possible, or if a contractor is unable to perform in a timely manner due to quarantining, social distancing, or other COVID-19 related interruptions; take into consideration whether it is beneficial to keep skilled professionals or key personnel in a mobile-ready state for activities the agency deems critical to national security or other high priorities; consider whether contracts that possess capabilities for addressing impending requirements such as security, logistics, or other functions may be retooled for pandemic response consistent with the scope of the contract; and leverage the special emergency procurement authorities authorized in connection with the President's emergency declaration under Section 501(b) of the Robert T. Stafford Disaster Relief and Emergency Assistance Act, 42 U.S.C. https://www.whitehouse.gov/wp-content/uploads/2020/03/M-20-16.pdf M-20-15 Updated Guidance for the National Capital Region on Telework Flexibilities in Response to Coronavirus (March 15, 2020) Directs agencies to offer maximum telework flexibilities to all current telework-eligible employees, consistent with operational needs of the departments and agencies as determined by their heads, as well as to use all existing authorities to offer telework to additional employees, to the extent their work could be telework enabled. Notes that OMB is allowing federal agencies to grant class exceptions in instances where the agency has determined that the purpose of the federal awards is to support the continued research and services necessary to carry out the emergency response related to COVID-19. https://www.whitehouse.gov/wp-content/uploads/2020/03/M-20-11.pdf Compilation of Other Resources The Council on Governmental Relations maintains an online compilation of guidance from federal agencies, academic institutions, and other organizations, as well as responses to frequently asked questions about how federal agencies that fund R&D are implementing the OMB-directed flexibilities.    1\n",
       "The report also discusses potential issues for Congress, such as the federal role for nonfederal dam safety; federal funding for dam safety programs, rehabilitation, and repair; and public awareness of dam safety risks. The study projected that the cost to rehabilitate high hazard potential dams in the NID would be approximately $3 billion for federal dams and $19 billion for nonfederal dams. In 1996, the National Dam Safety Program Act (Section 215 of the Water Resources Development Act of 1996; P.L. The Federal Guidelines for Dam Safety provides basic guidance for federal agencies' dam safety programs. USACE implements a dam safety program consisting of inspections and risk analyses for USACE operated dams, and performs risk reduction measures or project modifications to address dam safety risks. The Construction account provides funding for nonroutine dam safety activities (e.g., dam safety rehabilitation and repair modifications). Reclamation's dam safety program, authorized by Reclamation Safety of Dams Act of 1978, as amended ( P.L. 98-404 ) requires a 15% cost share from sponsors for dam safety modifications when modifications are based on new hydrologic or seismic data or changes in state-of-the-art design or construction criteria that are deemed necessary for safety purposes. In 2015, P.L. Some federal agencies are involved in dam safety activities of nonfederal dams; these activities may be regulatory or consist of voluntary coordination (see box on \"Nonfederal Dams on Federal Lands\"). According to FERC, approximately 3,036 dams are regulated by FERC's dam safety program. Of these, 1,374 are nonfederal dams listed in the 2018 NID; 791 nonfederal dams are classified as high hazard, with 144 in California, 87 in New York, and 72 in Michigan. Some federal programs may specifically provide limited assistance to nonfederal dams; these programs are described below. The WIIN Act authorized FEMA to administer a high hazard dam rehabilitation grant program, which would provide funding assistance for the repair, removal, or rehabilitation of nonfederal high hazard potential dams. Eligible dams must be in a state with a dam safety program, be classified as high hazard, have developed a state-approved EAP, fail to meet the state's minimum dam safety standards, and pose an unacceptable risk to the public. Congress appropriated $10 million in FY2019 for FEMA's High Hazard Dam Rehabilitation Grant Program under the Consolidated Appropriations Act, 2019 ( P.L. 83-566) and the Flood Control Act of 1944 (P.L. From 2000 to 2018, the program authorized the rehabilitation of 288 dams. Further, Congress may evaluate the level and allocation of appropriations to federal dam safety programs, project modifications for federal dams, and financial assistance for nonfederal dam safety programs and nonfederal dams. These activities, as well as the enhancement of federal agencies' dam safety programs, have improved certain dam safety metrics; nonetheless, deficiencies in federal and state programs may have contributed to recent incidents (e.g., the 2017 spillway incident at Oroville Dam, California). Some stakeholders argue that the federal government should continue its activities in maintaining and regulating dams owned by federal agencies and nonfederal dams under federal regulatory authority, while state dam safety programs should retain responsibility for state-regulated dams by following the guidelines of the Model State Dam Safety Program . They argue that many state dam safety programs and nonfederal dam owners have limited resources and authorities to inspect, conduct O&M, rehabilitate, and repair nonfederal dams. Dam removal is a potential policy alternative to rehabilitation and repair of high hazard dams. As of 2019, ASDSO estimated that rehabilitation and repair of nonfederal high hazard dams in the NID would cost approximately $18.7 billion (overall rehabilitation and repair for nonfederal dams in the NID were estimated at $65.9 billion). To address this backlog, Congress has considered authorizing mandatory funding from the Reclamation Fund to provide for dam O&M, rehabilitation, and repair, so the funding would not be subject to the appropriations process.                                                                                                                                                                                                                                                                                                                                                                                                                                                                                                                                                                                                                                                                                                                                                                                                                                                                                                                                                                                                                                                                                                                                                                                                                                                                                                                                                                                                                                                                                                                                                                                                                                                                                                                                                                                                                                                                                                                                                                                                                                                                                                                                                                                                                                                                                                                                                                                                                                                                                                                                                                                                                                                                                                                                                                                                                                                                                                                                                                                                                                                                                                                                                                                                                                                                             1\n",
       "                                                                                                                                                                                                                                                                                                                                                                                                                                                                                                                                                                                                                                                                                                                                                                                                                                                                                                                                                                                                                                                                                                                                                                                                                                                                                                                                                                                                                                                                                                                                                                                                                                                                                                                                                                                                                                                                                                                                                                                                                                                                                                                                                                                                                                                                                                                                                                                                                                                                                                                                                                                                                                                                                                                                                                                                                                                                                                                                                                                                                                                                                                                                                                                                                                                                                                                                                                                                                                                                                                                                                                                                                                                                                                                                                                                                                                                                                                                                                                                                                                                                                                                                                                                                                                                                                                                                                                                                                                                                                                                                                                                                                                                                                                                                                                                                                                                                                                                                                                                                                                                                                                                                                                                                                                                                                                                                                                                                                                                                                                                                                                                                                                                                                                                                                                                                                                                                                                                                                                                                                                                                                                                                                                                                                                                                                                                                                                                                                                                                                                                                                                                                                                                                                                                                                                                                                                                                                                                                                                                                                                                                                                                                                                                                                                                                                                                                                                                                                                                                                                                                                                                                                                                                                  ..\n",
       "USAID provides training as well as a formal mentoring program intended to support diversity and inclusion, according to USAID officials. USAID’s Civil Service employees are U.S. U.S. shows the number and percentage of employees in each Foreign Service rank in fiscal year 2018 as well as the rate of promotion from each rank for promotions effective in that fiscal year. Our comparison of USAID workforce data for fiscal year 2018 with federal workforce data for fiscal year 2017—the most recent available— found that the proportion of racial or ethnic minorities was 37 percent both at USAID and in the federal workforce. Our comparison of USAID workforce data for fiscal year 2018 with federal government workforce data for 2017 found the following: The proportion of women at USAID in fiscal year 2018 (54 percent) was higher than the proportion of women in the federal workforce in fiscal year 2017 (43 percent). In addition, our analysis of yearly promotion rates in the Civil Service for fiscal years 2013 through 2017 showed that the rate of promotion from GS-11 and higher ranks was greater for whites than for racial or ethnic minorities for every rank and year, except for promotions from GS-15 to the executive class in fiscal years 2013, 2014, and 2016. In addition, our adjusted analysis found differences between the promotion rates for racial or ethnic minorities and those for whites. As  shows, our descriptive analysis of the data for USAID’s Foreign Service found that for Class 4 and higher ranks, a lower average percentage of racial or ethnic minorities than of whites was promoted from each rank except Class 1. Our adjusted analysis of the data for USAID’s Foreign Service, controlling for certain factors other than racial or ethnic minority status that could influence promotion, found that racial or ethnic minorities had lower adjusted rates and odds of promotion than their white counterparts but that these differences were generally not statistically significant. Our analyses of USAID data on promotions in fiscal years 2002 through 2017 found differences between promotion outcomes for women relative to men, but these differences were generally not statistically significant. As  shows, our descriptive analysis of USAID data on promotions in fiscal years 2002 through 2017 found that the rate of promotion in USAID’s Civil Service was generally lower for women than for men at GS- 13 and lower ranks. Our descriptive and adjusted analyses of data on promotions in fiscal years 2002 through 2017 for USAID’s Foreign Service both found that the rate and odds of promotion were generally higher for women than for men, as  shows. USAID has determined that specific groups, such as Hispanics and African Americans, are underrepresented in its workforce, and the agency has a strategic plan that identifies goals, activities, and measures to support diversity and inclusion. According to EEOC MD-715 instructions to federal agencies, model EEO programs must have sufficient budget and staffing to support the success of the EEO program, including sufficient staffing to ensure thorough and fair processing of EEO complaints in a timely manner. Without OCRD capacity to submit required reports on the agency’s diversity and inclusion efforts, USAID leadership will lack sufficient insight into the EEO program to ensure that its activities meet agency goals. Without senior USAID leadership attention to diversity, OCRD will continue to lack the staffing resources necessary to build its capacity to support USAID’s diversity and inclusion efforts as well as operate an effective and efficient EEO program. (Recommendation 4) We provided a draft of this report to USAID, EEOC, and OPM for comment. This report examines (1) the demographic composition of USAID’s workforce in fiscal years 2002 through 2018, (2) differences in promotion outcomes for racial or ethnic groups in USAID’s workforce, (3) differences in promotion outcomes for men and women in USAID’s workforce, and (4) the extent to which USAID has identified workforce diversity issues and worked to address them. For each year, we calculated the demographic composition of the workforce by racial or ethnic group and by gender for USAID overall and for USAID’s Civil and Foreign Services. Additionally, we met with relevant USAID officials from the Office of Civil Rights and Diversity and the Office of Human Capital and Talent Management as well as officials from EEOC. The following figures and tables present numbers and proportions of employees in racial, ethnic, and gender groups in the U.S. Agency for International Development (USAID) overall and in USAID’s Civil and Foreign Services in fiscal years 2002 through 2018. Our comparison of USAID personnel data with data from the Office of Personnel Management’s FEORP report for the federal government found differences between the proportions of racial or ethnic minorities at USAID and those in the federal workforce. As  shows, our analysis of yearly promotion rates for fiscal years 2013 through 2017 at the U.S. Agency for International Development (USAID) found that promotion rates for white employees exceeded those for racial or ethnic minority employees for Civil Service promotions from GS-11 and every higher rank in every year, except from GS-15 to executive in 3 years, and Foreign Service promotions from Class 4 and higher ranks for 11 of the 20 possible year-rank combinations. shows the promotion rates for white employees and racial or ethnic minority employees in USAID’s Civil and Foreign Services in fiscal years 2013 through 2017. from Class 4 and higher ranks for 12 of the 20 possible year-rank combinations in the Foreign Service. Our analysis of U.S. Agency for International Development (USAID) workforce data found that racial or ethnic minorities generally spent more years in each rank than whites did in USAID’s Civil Service in fiscal years 2002 through 2018.  shows the average years in rank for whites and racial or ethnic minorities in USAID’s Civil and Foreign Services.                                                                                                                                                                                                                                                                                                                                                                                                                                                                                                                                                                                                                                                                                                                                                                                                                                                                                                                                                                                                                                                                                                                                                                                                                                                                                                                                                                         1\n",
       "The Improper Payments Information Act of 2002 (IPIA), as amended by IPERA and the Improper Payments Elimination and Recovery Improvement Act of 2012, requires executive branch agencies, among other things, to (1) review all programs and activities and identify those that may be susceptible to significant improper payments (commonly referred to as conducting a risk assessment), (2) publish improper payment estimates for those programs and activities that the agency identified as being susceptible to significant improper payments, (3) implement corrective actions to reduce improper payments and set reduction targets, and (4) report on the results of addressing the foregoing requirements. If an agency does not meet one or more of the six IPERA criteria for any of its programs or activities, the IG considers the agency to be noncompliant overall. The six criteria are as follows: 1. publish a financial report in the form and including all content required by OMB—typically an AFR or a PAR—for the most recent fiscal year, and post that report on the agency website; 2. conduct a program-specific risk assessment, if required, for each program or activity that conforms with IPIA, as amended; 3. publish improper payment estimates for all programs and activities deemed susceptible to significant improper payments; 4. publish corrective action plans for those programs and activities assessed to be susceptible to significant improper payments; 5. publish and meet annual reduction targets for all programs and activities assessed to be at risk for significant improper payments; and 6. report a gross improper payment rate of less than 10 percent for each program and activity for which an improper payment estimate was published. Based on agencies that reported improper payment estimates in their AFRs and PARs, government-wide estimated improper payments for fiscal years 2019 and 2018 totaled about $175 billion and $151 billion, respectively. See appendix II for details on the root causes that agencies identified for their reported improper payment estimates for fiscal year 2019. The fiscal year 2019 total reported government-wide estimated improper payments, among programs that reported estimates, increased by about $24 billion from the fiscal year 2018 total reported. Between fiscal years 2018 and 2019, six programs had an increase and five programs had a decrease of over $1 billion in estimated improper payments. Examples of substantial changes in improper payments and the reasons for such changes that agencies provided in their AFRs include the following: Department of Health and Human Services (HHS) reported an increase in the total estimated improper payments for the Medicaid program in excess of $21.1 billion for fiscal year 2019. From fiscal years 2015 through 2018, HHS did not estimate improper payments attributed to eligibility determinations, but did include a proxy estimate, which was the last reported rate in fiscal year 2014 for the eligibility component, while HHS worked to update this component. HHS reported that most eligibility errors identified through the new measurement process were due to insufficient documentation to verify eligibility or noncompliance with eligibility redetermination requirements. In addition, HHS reported a decrease in the total estimated improper payments for the Medicare Fee-for-Service (Parts A and B) program of about $2.7 billion. For example, certain federal programs and activities that agencies determined to be at risk for significant improper payments did not report estimates of improper payments for fiscal year 2019, including the Premium Tax Credit and Temporary Assistance for Needy Families programs, and as we previously reported, the Department of Defense (DOD) lacks quality assurance procedures to ensure the completeness and accuracy of the payment populations from which it develops improper payment estimates. With regard to the six IPERA criteria, as shown in , IGs reported all agencies as compliant with the requirement to conduct program-specific risk assessments if it was applicable to the agency. Based on the IGs’ fiscal year 2018 compliance reports, agencies were most frequently reported as noncompliant with the IPERA requirement to publish and meet annual targets for improper payment reduction. In addition, IGs for certain CFO Act agencies reported quality issues in their agencies’ reporting of improper payment data. As we stated above pertaining to the IGs’ determination of compliance with IPERA criteria, these determinations are based on whether the agency met the requirements and is not a judgment on the quality of the work conducted in order to meet those requirements. As stated above, IGs for 12 of the 24 CFO Act agencies reported that their agencies were compliant with IPERA overall for fiscal year 2018. As shown in , this is an increase from 10 agencies reported as compliant for fiscal year 2017, and 11 agencies reported as compliant for fiscal year 2016. No agencies that IGs reported as compliant in fiscal year 2017 were reported as noncompliant in fiscal year 2018. In addition, the IGs reported that 21 programs within these agencies were noncompliant with IPERA for each of the past 3 fiscal years (2016–2018). Improper payment estimates for these programs totaled about $78 billion, representing approximately 52 percent of the $151 billion government- wide reported improper payment estimates for fiscal year 2018. The reported improper payment estimates for these programs totaled about $109 billion for fiscal year 2016, $74 billion for fiscal year 2017, and $78 billion for fiscal year 2018. The total improper payment estimates for programs reported as noncompliant for 3 or more consecutive years decreased for fiscal 2017 primarily because the Medicare Fee-for-Service program, with about $41 billion of improper payments in fiscal year 2016, was reported as compliant beginning fiscal year 2017. We provided a draft of this report to OMB and CIGIE for review and comment. For example, a program does not have documentation to support a beneficiary’s eligibility for a benefit, and without that particular documentation, the agency is unable to discern that the payment was for the correct amount or went to the right recipient.                                                                                                                                                                                                                                                                                                                                                                                                                                                                                                                                                                                                                                                                                                                                                                                                                                                                                                                                                                                                                                                                                                                                         1\n",
       "The program office plans for over 500 aircraft to be procured by the time operational testing is completed. Until operational testing is complete, there is a risk that additional problems with the aircraft may be identified. shows the program’s planned end to developmental testing and planned timeframes for operational testing for 2012 and the past four years and the delays the program has realized each year since the program was re-baselined in 2012. Resolution of deficiencies: First, before the program could begin operational testing, it had to resolve critical deficiencies with the aircraft that were identified during development testing. Of the 23 operational test aircraft, the program replaced the fuel tubes on 18 aircraft by the start of operational testing in December 2018, which contributed to the 3-month delay. According to a test official, as of April 2019, some of these risks have been realized, such as the delay with the simulator, and as a result, the end of operational testing is now planned for December 2019. According to DOT&E officials, since the start of operational testing, four new category 1 deficiencies have been identified, bringing the total to 17. Furthermore, the program office has not prioritized funding for projects that will improve the R&M metrics that are not meeting their targets. In June 2018, we recommended that the F-35 program identify what steps it needs to take to ensure the F-35 aircraft meet R&M requirements before each variant reaches maturity and update its R&M Improvement Program (RMIP)—DOD’s action plan for prioritizing and funding R&M improvement projects—with these steps. The F-35 program office has estimated that implementing all of the identified improvement projects currently contained in its RMIP could result in potential life cycle cost savings of over $9.2 billion by improving the F-35’s R&M. In addition, most of the R&M improvement projects that were approved in fiscal year 2018 were not funded. Program officials stated that they are in the process of revising the RMIP and have considered including more specific objectives, such as a focus on improving aircraft availability and mission capability and a focus on improving R&M performance where the ORD R&M metrics’ targets are not being met. With development of the baseline program complete, the program is transitioning to early development and testing for modernization efforts known as Block 4, which are expected to cost about $10.5 billion. In 2018, we found that DOD’s report to Congress was incomplete but included information on some elements of the Block 4 acquisition program baseline. According to best practices identified by GAO, without several of the business case documents completed, program officials cannot have a high level of confidence that the requirements are firm and that the risk to committing an estimated $10.5 billion in funding to Block 4 has been adequately reduced. For example: According to the program office, it has invested a total of $320.3 million in efforts to improve manufacturing processes that it estimates could result in up to $7.9 billion in savings over the life of the program. The airframe contractor—Lockheed Martin—increased its production rate by 50 percent and delivered a total of 91 aircraft in 2018, with a total of 267 aircraft on its production floor or in contract negotiations as of December 2018, as shown in . As the program is considering revisions to its R&M Improvement Program (RMIP), it is in a good position to clearly define and communicate its R&M objectives for the aircraft to meet the targets under all of its eight R&M metrics. (Recommendation 4) The Secretary of Defense should ensure that the F-35 program office completes its business case, at least for the initial Block 4 capabilities under development, before initiating additional development work, to include: an independent cost estimate; an approved test and evaluation master plan which addresses resources, aircraft shortfalls, and funding; and an independent technology readiness assessment. In concurring with our four R&M recommendations, DOD stated that it would review its R&M requirements and possibly revise them, update its RMIP guidance, and plan for R&M funding going forward. DOD stated that the F-35 program office has adequate cost, schedule, and technical maturity knowledge to begin the development of initial Block 4 capabilities. On June 22, 2015, the Under Secretary of Defense for Acquisition, Technology, and Logistics issued a Joint Strike Fighter software development report, which met the intent of GAO’s recommendation. It stated it planned to develop a full acquisition program baseline for the modernization effort in 2018 and provide a report to Congress by March 2019. In this report, we (1) provide information on the program’s progress toward completing testing of the baseline aircraft; (2) assess the aircraft’s current reliability and maintainability (R&M) status; (3) assess the program’s modernization efforts (to add new aircraft capabilities), known as Block 4; and (4) provide information on the program’s production costs and efficiency initiatives. We interviewed officials from the program office, military test authorities, and contractors—Lockheed Martin (airframe) and Pratt & Whitney (engine)— on key aspects of F-35 development progress, including flight testing, future test plans, and recent findings from test events.                                                                                                                                                                                                                                                                                                                                                                                                                                                                                                                                                                                                                                                                                                                                                                                                                                                                                                                                                                                                                                                                                                                                                                                                                                                                                                                                                                                                                                                                                                                                                                                                                                                                                                                                                                                                                                                                                                                                                                                                               1\n",
       "To qualify as an MDH, a hospital must demonstrate that it is: Medicare-dependent, defined as having at least 60 percent of their inpatient days or discharges attributable to Medicare beneficiaries; small, defined as having 100 or fewer beds; and rural, defined as being located in a rural area, though hospitals can also be eligible if they are located in a state without any rural areas. Our review of CMS documentation shows that the MDH payment designation differs from the other rural payment designations in terms of eligibility criteria, financial benefit, extent of legislative permanence, and size—that is, the number of hospitals receiving the designation. The MDH designation has a relatively small financial benefit compared to most of the other rural hospital designations, and the benefit only applies to costs associated with inpatient services. Hospitals with an SCH designation can receive an additional payment added to their IPPS rate payment equal to 100 percent of the difference between payment based on the HSR and what the hospital would otherwise receive as payment based on the IPPS rate, as well as a 7.1 percent addition to their outpatient payments. Of the 2,204 rural hospitals in fiscal year 2017, a relatively small share of these hospitals were MDHs. In total, 138 hospitals, or 6.3 percent of those rural hospitals with at least one designation, were MDHs. (For detailed information on the 5 rural payment designations including LVA and RRC eligibility and financial benefit, see app. From fiscal years 2011 through 2017, the number of MDHs declined, as well as the number of MDHs that received an additional payment under the program. In addition, the number of MDHs that received an additional annual payment also declined, from 92 MDHs in fiscal year 2011 to 78 MDHs in fiscal year 2017—a 15 percent decrease. To obtain additional context on the relationship between MDH eligibility criteria and the various measures of Medicare dependence, we ran regression models to identify the extent to which hospitals’ bed size and rural status were associated with the Medicare share of days, discharges, and total care revenue for all hospitals from fiscal years 2011 through 2017. At the same time, rural hospitals with fewer beds generally received a smaller share of their total care revenue from Medicare compared with other hospitals. The self-reported data show that unlike rural and all hospitals, MDHs were not profitable in 2017—meaning that the revenue they received from Medicare and other payers was less than their reported costs for providing services. We next identified the number of hospitals with each designation and the value of additional payments received under the rural designations that each hospital had in that year using data provided by each hospital through their Medicare Cost Report (MCR). The MCR is submitted to CMS by hospitals each fiscal year and contains information such as facility characteristics, utilization data, and costs to provide services to Medicare beneficiaries and all patients. To first identify the universe of MDHs, rural hospitals, and all acute care inpatient prospective payment system (IPPS) hospitals, we used the PSF and MCR for fiscal years 2011 through 2017, as well as CMS Impact Files for fiscal years 2012 through 2018. Third, we calculated hospitals’ degree of Medicare dependence using three separate definitions, or measures, of dependence: (1) the amount of revenue the hospital received from Medicare as a share of all the revenue the hospital received for inpatient and outpatient services (total care revenue), (2) the share of inpatient days of care the hospital provides that are attributed to Medicare beneficiaries, and (3) the share of inpatient discharges that are attributed to Medicare beneficiaries. We also calculated these metrics separately for those MDHs that were eligible for the program based on data from the 1980s—legacy MDHs. We used the following measures as dependent variables: (1) the amount of revenue the hospital received from Medicare as a share of all the revenue the hospital received for inpatient and outpatient services (total care revenue), (2) the share of inpatient days of care the hospital provides that are attributed to Medicare beneficiaries, and (3) the share of inpatient discharges that are attributed to Medicare beneficiaries. Where 𝑅𝑅𝑖𝑖𝑖𝑖 represents the Medicare share of revenue, inpatient days or discharges, and the i and t subscripts represent the hospital and year, respectively. Rural location is one of the criteria for MDH program eligibility, and so this was a key variable in our model. We included a set of state fixed effects (a dummy variable for each of the states in the analysis) to control for effects that are common to a specific area, but for which data may have been unavailable. We also modeled the effects of hospital characteristics on total facility profit margins; that is, the difference between revenue and costs as a percent of revenue. We used the same explanatory factors in our econometric model of hospital margins as in our models of Medicare dependence but we supplement these factors with our three measures of Medicare dependence—a separate model for each measure. As with the Medicare share of total revenue, our model for Medicare share of inpatient days showed, controlling for bed numbers, that rural hospitals generally had significantly greater Medicare dependence than urban hospitals. Our model for the Medicare share of inpatient discharges showed that, controlling for bed numbers, rural hospitals generally had greater Medicare dependence than urban hospitals.                                                                                                                                                                                                                                                                                                                                                                                                                                                                                                                                                                                                                                                                                                                                                                                                                                                                                                                                                                                                                                                                                                                                                                                                                                                                                                                                                                                                                                                                                                                                                                                                                                                                                                                                                                                            1\n",
       "The House and Senate Appropriations Committees then hold hearings at which agencies provide further information and details about the President's budget. Congress has adjusted these statutory caps, including through the Bipartisan Budget Acts (BBAs) of 2013 (for FY2014 and FY2015), 2015 (for FY2016 and FY2017), 2018 (for FY2018 and FY2019), and 2019 (for FY2020 and FY2021), which provided for spending cap increases in both defense and nondefense categories. It also provided that in the absence of agreement on a budget resolution for FY2019, the Budget Committees in the House and Senate could make committee allocations that could function as enforceable limits under Section 302 of the Congressional Budget Act. With a \"top-line\" for FY2019 funding established, the Appropriations Committees could proceed with consideration of the 12 appropriations bills and provide enforceable 302(b) suballocations for each regular appropriations bill. The House and Senate Appropriations Committees completed their drafting and consideration of all 12 regular appropriations bills by the end of July 2018. In the 115 th Congress and prior to the start of FY2019 on October 1, 2018, the House passed half of the regular bills (6 out of 12), and the Senate passed 9 bills (see  and  ). The House passed this combined measure on June 8, 2018. The Senate subsequently agreed to the combined measure with amendment on June 25. The House passed it on September 13. The House passed it on September 26. The Senate added the text of the Agriculture appropriations bill and the Transportation and HUD appropriations bill and passed the combined measure on August 1, 2018. Although a conference committee was appointed to negotiate on this measure, it did not report an agreement back to the House and Senate. Funding for agencies, projects, and activities covered by the remaining seven regular appropriations bills was provided through December 7, 2018, in a CR (Division C of P.L. The amended CR passed the House by a vote of 217-185 and was sent back to the Senate for further consideration. While the Senate continued consideration of the House amendment on December 22, December 27, and January 2, no further votes on appropriations occurred during the 115 th Congress. The 115 th Congress adjourned sine die on January 3, 2019, and the 116 th Congress took office the same day. 27 , a CR to provide funding through February 1 for the seven remaining regular FY2019 appropriations bills. On January 24, 2019, the Senate considered two separate amendments to the House-passed bill: a Republican amendment ( S.Amdt. 28 , a CR to provide FY2019 appropriations for the seven remaining regular appropriations measures through February 28. The resolution passed the House on a voice vote, but the House later, by unanimous consent, vacated the proceedings by which the CR had passed and allowed further proceedings to be postponed through the legislative day of January 23, 2019. The resolution subsequently passed the House by a vote of 229-184 on January 23. The measure was passed by the Senate on January 25 by voice vote, with an amendment providing for continuing appropriations through February 15. The measure was amended in the Senate to provide full-year funding for the seven remaining regular appropriations bills and agreed to by voice vote on January 25. 31 was filed on February 13 and agreed to in the Senate, 83-16, on February 14 and in the House, 300-128, the same day. This ended action on regular appropriations bills for FY2019.                                                                                                                                                                                                                                                                                                                                                                                                                                                                                                                                                                                                                                                                                                                                                                                                                                                                                                                                                                                                                                                                                                                                                                                                                                                                                                                                                                                                                                                                                                                                                                                                                                                                                                                                                                                                                                                                                                                                                                                                                                                                                                                                                                                                                                                                                                                                                                                                                                                                                                                                                                                                                                                                                                                                                                                                                                                                                                                                                                                                                                                                                                                                                                                                                                                                                                                                                                                                                                                                                                                                                                                                                                                                                                                                                                                                                                                                                                                                                                                                    1\n",
       "Name: count, Length: 971, dtype: int64"
      ]
     },
     "execution_count": 7,
     "metadata": {},
     "output_type": "execute_result"
    }
   ],
   "execution_count": 7
  },
  {
   "metadata": {
    "ExecuteTime": {
     "end_time": "2025-04-12T04:08:36.608011Z",
     "start_time": "2025-04-12T04:08:36.606466Z"
    }
   },
   "cell_type": "code",
   "source": "",
   "id": "e9dfbb0a7a4e2928",
   "outputs": [],
   "execution_count": null
  },
  {
   "metadata": {
    "ExecuteTime": {
     "end_time": "2025-04-12T04:08:36.646319Z",
     "start_time": "2025-04-12T04:08:36.644732Z"
    }
   },
   "cell_type": "code",
   "source": [
    "import re\n",
    "# Function to clean text\n",
    "def clean_text(text):\n",
    "    return re.sub(r'[^\\w\\s]', '', str(text)).strip().lower()"
   ],
   "id": "a6b465eef77c0226",
   "outputs": [],
   "execution_count": 8
  },
  {
   "metadata": {
    "ExecuteTime": {
     "end_time": "2025-04-12T04:08:37.508324Z",
     "start_time": "2025-04-12T04:08:36.661910Z"
    }
   },
   "cell_type": "code",
   "source": "testdf['is_match'] = testdf.apply(lambda row: clean_text(row['Article']) == clean_text(testdf['generated_summary']), axis=1)",
   "id": "72edaf855ee27209",
   "outputs": [],
   "execution_count": 9
  },
  {
   "metadata": {
    "ExecuteTime": {
     "end_time": "2025-04-12T04:08:37.521976Z",
     "start_time": "2025-04-12T04:08:37.516296Z"
    }
   },
   "cell_type": "code",
   "source": "testdf.head()",
   "id": "baee3b7960079285",
   "outputs": [
    {
     "data": {
      "text/plain": [
       "   Unnamed: 0                                            Article  \\\n",
       "0           0  In our prior work, we have found that technolo...   \n",
       "1           1  A variety of federal laws, regulations, and po...   \n",
       "2           2  According to the National Research Council, al...   \n",
       "3           3  Nursing homes are required to keep residents s...   \n",
       "4           4  This section provides an overview of (1) the l...   \n",
       "\n",
       "                                             Summary  \\\n",
       "0  Multiple firms have produced cell-cultured mea...   \n",
       "1  Federal advisory committees provide advice to ...   \n",
       "2  DOD manages a global real-estate portfolio wit...   \n",
       "3  Nursing homes provide care to about 1.4 millio...   \n",
       "4  Decades of defense activities at DOE's Idaho N...   \n",
       "\n",
       "                                  extractive_summary  \\\n",
       "0  Some firms have developed prototypes of cell-c...   \n",
       "1  EPA’s federal advisory committees play an impo...   \n",
       "2  DOD has a global real estate portfolio that su...   \n",
       "3  Nursing home characteristics.. At the national...   \n",
       "4  DOE has a process for determining that certain...   \n",
       "\n",
       "                                   generated_summary  is_match  \n",
       "0  The technology to produce cell-cultured meat a...     False  \n",
       "1  EPA’s Ethics Office is responsible for helping...     False  \n",
       "2  Individual DOD facilities projects within inst...     False  \n",
       "3  In addition to standard surveys, state survey ...     False  \n",
       "4  As of March 2019, EM’s IWTU reengineering proj...     False  "
      ],
      "text/html": [
       "<div>\n",
       "<style scoped>\n",
       "    .dataframe tbody tr th:only-of-type {\n",
       "        vertical-align: middle;\n",
       "    }\n",
       "\n",
       "    .dataframe tbody tr th {\n",
       "        vertical-align: top;\n",
       "    }\n",
       "\n",
       "    .dataframe thead th {\n",
       "        text-align: right;\n",
       "    }\n",
       "</style>\n",
       "<table border=\"1\" class=\"dataframe\">\n",
       "  <thead>\n",
       "    <tr style=\"text-align: right;\">\n",
       "      <th></th>\n",
       "      <th>Unnamed: 0</th>\n",
       "      <th>Article</th>\n",
       "      <th>Summary</th>\n",
       "      <th>extractive_summary</th>\n",
       "      <th>generated_summary</th>\n",
       "      <th>is_match</th>\n",
       "    </tr>\n",
       "  </thead>\n",
       "  <tbody>\n",
       "    <tr>\n",
       "      <th>0</th>\n",
       "      <td>0</td>\n",
       "      <td>In our prior work, we have found that technolo...</td>\n",
       "      <td>Multiple firms have produced cell-cultured mea...</td>\n",
       "      <td>Some firms have developed prototypes of cell-c...</td>\n",
       "      <td>The technology to produce cell-cultured meat a...</td>\n",
       "      <td>False</td>\n",
       "    </tr>\n",
       "    <tr>\n",
       "      <th>1</th>\n",
       "      <td>1</td>\n",
       "      <td>A variety of federal laws, regulations, and po...</td>\n",
       "      <td>Federal advisory committees provide advice to ...</td>\n",
       "      <td>EPA’s federal advisory committees play an impo...</td>\n",
       "      <td>EPA’s Ethics Office is responsible for helping...</td>\n",
       "      <td>False</td>\n",
       "    </tr>\n",
       "    <tr>\n",
       "      <th>2</th>\n",
       "      <td>2</td>\n",
       "      <td>According to the National Research Council, al...</td>\n",
       "      <td>DOD manages a global real-estate portfolio wit...</td>\n",
       "      <td>DOD has a global real estate portfolio that su...</td>\n",
       "      <td>Individual DOD facilities projects within inst...</td>\n",
       "      <td>False</td>\n",
       "    </tr>\n",
       "    <tr>\n",
       "      <th>3</th>\n",
       "      <td>3</td>\n",
       "      <td>Nursing homes are required to keep residents s...</td>\n",
       "      <td>Nursing homes provide care to about 1.4 millio...</td>\n",
       "      <td>Nursing home characteristics.. At the national...</td>\n",
       "      <td>In addition to standard surveys, state survey ...</td>\n",
       "      <td>False</td>\n",
       "    </tr>\n",
       "    <tr>\n",
       "      <th>4</th>\n",
       "      <td>4</td>\n",
       "      <td>This section provides an overview of (1) the l...</td>\n",
       "      <td>Decades of defense activities at DOE's Idaho N...</td>\n",
       "      <td>DOE has a process for determining that certain...</td>\n",
       "      <td>As of March 2019, EM’s IWTU reengineering proj...</td>\n",
       "      <td>False</td>\n",
       "    </tr>\n",
       "  </tbody>\n",
       "</table>\n",
       "</div>"
      ]
     },
     "execution_count": 10,
     "metadata": {},
     "output_type": "execute_result"
    }
   ],
   "execution_count": 10
  },
  {
   "metadata": {
    "ExecuteTime": {
     "end_time": "2025-04-12T04:08:41.138902Z",
     "start_time": "2025-04-12T04:08:37.549628Z"
    }
   },
   "cell_type": "code",
   "source": [
    "from rouge import Rouge\n",
    "\n",
    "rouge = Rouge()\n",
    "\n",
    "def truncate_text(text, max_words=100):\n",
    "    return \" \".join(text.split()[:max_words])\n",
    "\n",
    "def compute_rouge(reference, generated):\n",
    "    if not generated.strip():  # Handle empty strings\n",
    "        return {\"rouge-1\": 0, \"rouge-2\": 0, \"rouge-l\": 0}\n",
    "    \n",
    "    # Truncate long summaries\n",
    "    reference = truncate_text(reference)\n",
    "    generated = truncate_text(generated)\n",
    "    \n",
    "    scores = rouge.get_scores(generated, reference)\n",
    "    return scores[0]\n",
    "\n",
    "# Apply function\n",
    "testdf[\"rouge_scores\"] = testdf.apply(lambda row: compute_rouge(row[\"extractive_summary\"], row[\"generated_summary\"]), axis=1)\n"
   ],
   "id": "63df238a8dfef07c",
   "outputs": [],
   "execution_count": 11
  },
  {
   "metadata": {
    "ExecuteTime": {
     "end_time": "2025-04-12T04:08:41.171108Z",
     "start_time": "2025-04-12T04:08:41.164307Z"
    }
   },
   "cell_type": "code",
   "source": "testdf.head()",
   "id": "bb6a7bc2420a7ae2",
   "outputs": [
    {
     "data": {
      "text/plain": [
       "   Unnamed: 0                                            Article  \\\n",
       "0           0  In our prior work, we have found that technolo...   \n",
       "1           1  A variety of federal laws, regulations, and po...   \n",
       "2           2  According to the National Research Council, al...   \n",
       "3           3  Nursing homes are required to keep residents s...   \n",
       "4           4  This section provides an overview of (1) the l...   \n",
       "\n",
       "                                             Summary  \\\n",
       "0  Multiple firms have produced cell-cultured mea...   \n",
       "1  Federal advisory committees provide advice to ...   \n",
       "2  DOD manages a global real-estate portfolio wit...   \n",
       "3  Nursing homes provide care to about 1.4 millio...   \n",
       "4  Decades of defense activities at DOE's Idaho N...   \n",
       "\n",
       "                                  extractive_summary  \\\n",
       "0  Some firms have developed prototypes of cell-c...   \n",
       "1  EPA’s federal advisory committees play an impo...   \n",
       "2  DOD has a global real estate portfolio that su...   \n",
       "3  Nursing home characteristics.. At the national...   \n",
       "4  DOE has a process for determining that certain...   \n",
       "\n",
       "                                   generated_summary  is_match  \\\n",
       "0  The technology to produce cell-cultured meat a...     False   \n",
       "1  EPA’s Ethics Office is responsible for helping...     False   \n",
       "2  Individual DOD facilities projects within inst...     False   \n",
       "3  In addition to standard surveys, state survey ...     False   \n",
       "4  As of March 2019, EM’s IWTU reengineering proj...     False   \n",
       "\n",
       "                                        rouge_scores  \n",
       "0  {'rouge-1': {'r': 0.23684210526315788, 'p': 0....  \n",
       "1  {'rouge-1': {'r': 0.17333333333333334, 'p': 0....  \n",
       "2  {'rouge-1': {'r': 0.2, 'p': 0.2105263157894736...  \n",
       "3  {'rouge-1': {'r': 0.18309859154929578, 'p': 0....  \n",
       "4  {'rouge-1': {'r': 0.36619718309859156, 'p': 0....  "
      ],
      "text/html": [
       "<div>\n",
       "<style scoped>\n",
       "    .dataframe tbody tr th:only-of-type {\n",
       "        vertical-align: middle;\n",
       "    }\n",
       "\n",
       "    .dataframe tbody tr th {\n",
       "        vertical-align: top;\n",
       "    }\n",
       "\n",
       "    .dataframe thead th {\n",
       "        text-align: right;\n",
       "    }\n",
       "</style>\n",
       "<table border=\"1\" class=\"dataframe\">\n",
       "  <thead>\n",
       "    <tr style=\"text-align: right;\">\n",
       "      <th></th>\n",
       "      <th>Unnamed: 0</th>\n",
       "      <th>Article</th>\n",
       "      <th>Summary</th>\n",
       "      <th>extractive_summary</th>\n",
       "      <th>generated_summary</th>\n",
       "      <th>is_match</th>\n",
       "      <th>rouge_scores</th>\n",
       "    </tr>\n",
       "  </thead>\n",
       "  <tbody>\n",
       "    <tr>\n",
       "      <th>0</th>\n",
       "      <td>0</td>\n",
       "      <td>In our prior work, we have found that technolo...</td>\n",
       "      <td>Multiple firms have produced cell-cultured mea...</td>\n",
       "      <td>Some firms have developed prototypes of cell-c...</td>\n",
       "      <td>The technology to produce cell-cultured meat a...</td>\n",
       "      <td>False</td>\n",
       "      <td>{'rouge-1': {'r': 0.23684210526315788, 'p': 0....</td>\n",
       "    </tr>\n",
       "    <tr>\n",
       "      <th>1</th>\n",
       "      <td>1</td>\n",
       "      <td>A variety of federal laws, regulations, and po...</td>\n",
       "      <td>Federal advisory committees provide advice to ...</td>\n",
       "      <td>EPA’s federal advisory committees play an impo...</td>\n",
       "      <td>EPA’s Ethics Office is responsible for helping...</td>\n",
       "      <td>False</td>\n",
       "      <td>{'rouge-1': {'r': 0.17333333333333334, 'p': 0....</td>\n",
       "    </tr>\n",
       "    <tr>\n",
       "      <th>2</th>\n",
       "      <td>2</td>\n",
       "      <td>According to the National Research Council, al...</td>\n",
       "      <td>DOD manages a global real-estate portfolio wit...</td>\n",
       "      <td>DOD has a global real estate portfolio that su...</td>\n",
       "      <td>Individual DOD facilities projects within inst...</td>\n",
       "      <td>False</td>\n",
       "      <td>{'rouge-1': {'r': 0.2, 'p': 0.2105263157894736...</td>\n",
       "    </tr>\n",
       "    <tr>\n",
       "      <th>3</th>\n",
       "      <td>3</td>\n",
       "      <td>Nursing homes are required to keep residents s...</td>\n",
       "      <td>Nursing homes provide care to about 1.4 millio...</td>\n",
       "      <td>Nursing home characteristics.. At the national...</td>\n",
       "      <td>In addition to standard surveys, state survey ...</td>\n",
       "      <td>False</td>\n",
       "      <td>{'rouge-1': {'r': 0.18309859154929578, 'p': 0....</td>\n",
       "    </tr>\n",
       "    <tr>\n",
       "      <th>4</th>\n",
       "      <td>4</td>\n",
       "      <td>This section provides an overview of (1) the l...</td>\n",
       "      <td>Decades of defense activities at DOE's Idaho N...</td>\n",
       "      <td>DOE has a process for determining that certain...</td>\n",
       "      <td>As of March 2019, EM’s IWTU reengineering proj...</td>\n",
       "      <td>False</td>\n",
       "      <td>{'rouge-1': {'r': 0.36619718309859156, 'p': 0....</td>\n",
       "    </tr>\n",
       "  </tbody>\n",
       "</table>\n",
       "</div>"
      ]
     },
     "execution_count": 12,
     "metadata": {},
     "output_type": "execute_result"
    }
   ],
   "execution_count": 12
  },
  {
   "metadata": {
    "ExecuteTime": {
     "end_time": "2025-04-12T04:08:41.194756Z",
     "start_time": "2025-04-12T04:08:41.191691Z"
    }
   },
   "cell_type": "code",
   "source": [
    "# Display average ROUGE scores\n",
    "rouge_l_scores = [score[\"rouge-l\"][\"f\"] for score in testdf[\"rouge_scores\"]]\n",
    "print(f\"Average ROUGE-L Score: {sum(rouge_l_scores) / len(rouge_l_scores):.4f}\")"
   ],
   "id": "e2f06b8e0b34b655",
   "outputs": [
    {
     "name": "stdout",
     "output_type": "stream",
     "text": [
      "Average ROUGE-L Score: 0.2911\n"
     ]
    }
   ],
   "execution_count": 13
  },
  {
   "metadata": {
    "ExecuteTime": {
     "end_time": "2025-04-12T04:08:41.266355Z",
     "start_time": "2025-04-12T04:08:41.263557Z"
    }
   },
   "cell_type": "code",
   "source": [
    "# Display average ROUGE scores\n",
    "rouge_l_scores = [score[\"rouge-2\"][\"f\"] for score in testdf[\"rouge_scores\"]]\n",
    "print(f\"Average ROUGE-2 Score: {sum(rouge_l_scores) / len(rouge_l_scores):.4f}\")"
   ],
   "id": "18bfcb800e4eea9b",
   "outputs": [
    {
     "name": "stdout",
     "output_type": "stream",
     "text": [
      "Average ROUGE-2 Score: 0.1425\n"
     ]
    }
   ],
   "execution_count": 14
  },
  {
   "metadata": {
    "ExecuteTime": {
     "end_time": "2025-04-12T04:08:41.310385Z",
     "start_time": "2025-04-12T04:08:41.307221Z"
    }
   },
   "cell_type": "code",
   "source": [
    "# Display average ROUGE scores\n",
    "rouge_l_scores = [score[\"rouge-1\"][\"f\"] for score in testdf[\"rouge_scores\"]]\n",
    "print(f\"Average ROUGE-1 Score: {sum(rouge_l_scores) / len(rouge_l_scores):.4f}\")"
   ],
   "id": "b8c0b70b8fefff30",
   "outputs": [
    {
     "name": "stdout",
     "output_type": "stream",
     "text": [
      "Average ROUGE-1 Score: 0.3237\n"
     ]
    }
   ],
   "execution_count": 15
  },
  {
   "metadata": {
    "ExecuteTime": {
     "end_time": "2025-04-12T04:09:10.697641Z",
     "start_time": "2025-04-12T04:08:41.330978Z"
    }
   },
   "cell_type": "code",
   "source": [
    "from sklearn.metrics.pairwise import cosine_similarity\n",
    "from sentence_transformers import SentenceTransformer\n",
    "\n",
    "model = SentenceTransformer('all-MiniLM-L6-v2')\n",
    "\n",
    "\n",
    "def compute_similarity(reference, generated):\n",
    "    ref_embedding = model.encode(reference)\n",
    "    gen_embedding = model.encode(generated)\n",
    "    return cosine_similarity([ref_embedding], [gen_embedding])[0][0]\n",
    "\n",
    "\n",
    "testdf[\"cosine_similarity\"] = testdf.apply(lambda row: compute_similarity(row[\"Summary\"], row[\"generated_summary\"]),\n",
    "                                           axis=1)\n",
    "print(f\"Average Cosine Similarity: {testdf['cosine_similarity'].mean():.4f}\")\n"
   ],
   "id": "7d046c096cee5154",
   "outputs": [
    {
     "name": "stdout",
     "output_type": "stream",
     "text": [
      "Average Cosine Similarity: 0.7756\n"
     ]
    }
   ],
   "execution_count": 16
  },
  {
   "metadata": {
    "ExecuteTime": {
     "end_time": "2025-04-12T04:09:10.712280Z",
     "start_time": "2025-04-12T04:09:10.708707Z"
    }
   },
   "cell_type": "code",
   "source": [
    "from sklearn.metrics import precision_score, recall_score, f1_score\n",
    "from collections import Counter\n",
    "def precision_recall_f1(reference_texts, generated_summaries):\n",
    "    precisions, recalls, f1s = [], [], []\n",
    "\n",
    "    for ref, gen in zip(reference_texts, generated_summaries):\n",
    "        ref_tokens = ref.lower().split()\n",
    "        gen_tokens = gen.lower().split()\n",
    "\n",
    "        ref_counter = Counter(ref_tokens)\n",
    "        gen_counter = Counter(gen_tokens)\n",
    "\n",
    "        common = ref_counter & gen_counter\n",
    "        tp = sum(common.values())\n",
    "        fp = sum(gen_counter.values()) - tp\n",
    "        fn = sum(ref_counter.values()) - tp\n",
    "\n",
    "        precision = tp / (tp + fp) if (tp + fp) > 0 else 0.0\n",
    "        recall = tp / (tp + fn) if (tp + fn) > 0 else 0.0\n",
    "        f1 = 2 * precision * recall / (precision + recall) if (precision + recall) > 0 else 0.0\n",
    "\n",
    "        precisions.append(precision)\n",
    "        recalls.append(recall)\n",
    "        f1s.append(f1)\n",
    "\n",
    "    return {\n",
    "        \"average_precision\": np.mean(precisions),\n",
    "        \"average_recall\": np.mean(recalls),\n",
    "        \"average_f1_score\": np.mean(f1s)\n",
    "    }"
   ],
   "id": "683422a57fb86695",
   "outputs": [],
   "execution_count": 17
  },
  {
   "metadata": {
    "ExecuteTime": {
     "end_time": "2025-04-12T04:09:10.955495Z",
     "start_time": "2025-04-12T04:09:10.724212Z"
    }
   },
   "cell_type": "code",
   "source": [
    "reference_summaries = testdf['extractive_summary'].tolist()  \n",
    "generated_summaries = testdf['generated_summary'].tolist()  \n",
    "\n",
    "# Evaluate\n",
    "results = precision_recall_f1(reference_summaries, generated_summaries)\n",
    "# Print results\n",
    "print(\"Average Precision:\", round(results['average_precision'], 4))\n",
    "print(\"Average Recall:\", round(results['average_recall'], 4))\n",
    "print(\"Average F1 Score:\", round(results['average_f1_score'], 4))"
   ],
   "id": "e4304382327b5d40",
   "outputs": [
    {
     "name": "stdout",
     "output_type": "stream",
     "text": [
      "Average Precision: 0.4739\n",
      "Average Recall: 0.6392\n",
      "Average F1 Score: 0.5321\n"
     ]
    }
   ],
   "execution_count": 18
  }
 ],
 "metadata": {
  "kernelspec": {
   "display_name": "Python 3",
   "language": "python",
   "name": "python3"
  },
  "language_info": {
   "codemirror_mode": {
    "name": "ipython",
    "version": 2
   },
   "file_extension": ".py",
   "mimetype": "text/x-python",
   "name": "python",
   "nbconvert_exporter": "python",
   "pygments_lexer": "ipython2",
   "version": "2.7.6"
  }
 },
 "nbformat": 4,
 "nbformat_minor": 5
}
