{
 "cells": [
  {
   "metadata": {
    "ExecuteTime": {
     "end_time": "2025-04-06T18:07:32.226324Z",
     "start_time": "2025-04-06T18:07:28.007005Z"
    }
   },
   "cell_type": "code",
   "source": [
    "\n",
    "import numpy as np\n",
    "import pandas as pd\n",
    "from evaluate import load\n",
    "from scipy.ndimage import label\n",
    "from transformers import AutoTokenizer, AutoModelForSeq2SeqLM\n",
    "from datasets import Dataset, DatasetDict\n",
    "from datasets import load_from_disk\n",
    "import numpy as np\n",
    "import nltk\n",
    "import re\n",
    "import spacy\n",
    "nltk.download('punkt')\n",
    "from nltk.tokenize import sent_tokenize\n"
   ],
   "id": "abd853ea5f6e2149",
   "outputs": [
    {
     "name": "stderr",
     "output_type": "stream",
     "text": [
      "/Users/jameelamer/MasterProject/Summarization/summrization_webapp/flaskProject2/.venv/lib/python3.12/site-packages/tqdm/auto.py:21: TqdmWarning: IProgress not found. Please update jupyter and ipywidgets. See https://ipywidgets.readthedocs.io/en/stable/user_install.html\n",
      "  from .autonotebook import tqdm as notebook_tqdm\n",
      "[nltk_data] Downloading package punkt to\n",
      "[nltk_data]     /Users/jameelamer/nltk_data...\n",
      "[nltk_data]   Package punkt is already up-to-date!\n"
     ]
    }
   ],
   "execution_count": 1
  },
  {
   "metadata": {
    "ExecuteTime": {
     "end_time": "2025-04-06T18:07:34.168780Z",
     "start_time": "2025-04-06T18:07:33.746793Z"
    }
   },
   "cell_type": "code",
   "source": [
    "# Load English tokenizer, POS tagger, parser, NER from spaCy\n",
    "import spacy.cli\n",
    "\n",
    "try:\n",
    "    nlp = spacy.load(\"en_core_web_sm\")\n",
    "except OSError:\n",
    "    import spacy.cli\n",
    "    spacy.cli.download(\"en_core_web_sm\")\n",
    "    nlp = spacy.load(\"en_core_web_sm\")\n",
    "def normalize_whitespace(text):\n",
    "    \"\"\"Remove extra whitespace, newlines, and tabs.\"\"\"\n",
    "    return re.sub(r'\\s+', ' ', text).strip()\n",
    "\n",
    "def remove_noise_and_references(text):\n",
    "    \"\"\"\n",
    "    Remove references like [1], (Smith et al., 2020), and figure/table mentions.\n",
    "    You can extend the patterns as needed.\n",
    "    \"\"\"\n",
    "    # Remove square bracket citations like [1], [12]\n",
    "    text = re.sub(r'\\[\\d+\\]', '', text)\n",
    "    \n",
    "    # Remove in-text references like (Smith et al., 2020)\n",
    "    text = re.sub(r'\\(([^)]*et al\\.,?\\s?\\d{4})\\)', '', text)\n",
    "    \n",
    "    # Remove \"Fig. 1\", \"Table 2\", etc.\n",
    "    text = re.sub(r'(Fig\\.?|Figure|Table)\\s?\\d+[a-zA-Z]?', '', text, flags=re.IGNORECASE)\n",
    "    \n",
    "    # Remove licensing and copyright boilerplate\n",
    "    text = re.sub(r'©.*?(\\.|\\n)', '', text)\n",
    "    text = re.sub(r'This article is licensed.*?(\\.|\\n)', '', text, flags=re.IGNORECASE)\n",
    "    \n",
    "    return text\n",
    "\n",
    "def sentence_segmentation(text):\n",
    "    \"\"\"Segment text into individual sentences using spaCy.\"\"\"\n",
    "    doc = nlp(text)\n",
    "    return [sent.text.strip() for sent in doc.sents if sent.text.strip()]\n",
    "\n",
    "def preprocess_text(raw_text):\n",
    "    \"\"\"Complete preprocessing pipeline.\"\"\"\n",
    "    step1 = normalize_whitespace(raw_text)\n",
    "    step2 = remove_noise_and_references(step1)\n",
    "    sentences = sentence_segmentation(step2)\n",
    "    return ' '.join(str(sentence) for sentence in sentences)"
   ],
   "id": "b0ef3ea0792dd562",
   "outputs": [],
   "execution_count": 2
  },
  {
   "metadata": {
    "ExecuteTime": {
     "end_time": "2025-04-06T18:08:16.356772Z",
     "start_time": "2025-04-06T18:08:13.026405Z"
    }
   },
   "cell_type": "code",
   "source": [
    "from transformers import BartTokenizer, BartForConditionalGeneration\n",
    "\n",
    "model_name = \"facebook/bart-large-cnn\"\n",
    "tokenizer = BartTokenizer.from_pretrained(model_name)\n",
    "model = BartForConditionalGeneration.from_pretrained(model_name)"
   ],
   "id": "ed05903d6333da6c",
   "outputs": [],
   "execution_count": 4
  },
  {
   "metadata": {
    "collapsed": true,
    "ExecuteTime": {
     "end_time": "2025-04-06T18:09:24.801256Z",
     "start_time": "2025-04-06T18:09:19.953450Z"
    }
   },
   "cell_type": "code",
   "source": [
    "\n",
    "def bert_summary(text, num_sentences=3):    \n",
    "    # call preprocess\n",
    "    clean_text=preprocess_text(text)\n",
    "    inputs = tokenizer.encode(clean_text, return_tensors=\"pt\", max_length=1024, truncation=True)\n",
    "    summary_ids = model.generate(inputs, max_length=150, min_length=40, length_penalty=2.0, num_beams=4, early_stopping=True)\n",
    "    summary = tokenizer.decode(summary_ids[0], skip_special_tokens=True)\n",
    "    return summary\n",
    "\n",
    "# Example usage\n",
    "text = \"\"\"\n",
    "Artificial intelligence is rapidly evolving. Many industries are integrating AI to enhance performance.\n",
    "Applications include healthcare, finance, and transportation. AI also raises ethical and employment concerns.\n",
    "Researchers are focused on creating explainable and fair AI. Governments are responding with new regulations and policies.\n",
    "\"\"\"\n",
    "\n",
    "summary = bert_summary(text, num_sentences=2)\n",
    "print(summary)\n"
   ],
   "id": "initial_id",
   "outputs": [
    {
     "name": "stdout",
     "output_type": "stream",
     "text": [
      "Many industries are integrating AI to enhance performance. Applications include healthcare, finance, and transportation. AI also raises ethical and employment concerns. Researchers are focused on creating explainable and fair AI. Governments are responding with new regulations and policies.\n"
     ]
    }
   ],
   "execution_count": 5
  },
  {
   "metadata": {
    "ExecuteTime": {
     "end_time": "2025-04-06T18:09:48.943018Z",
     "start_time": "2025-04-06T18:09:48.871376Z"
    }
   },
   "cell_type": "code",
   "source": "testdf=pd.read_csv('bbc_news_with_articles_and_extractive_summary.csv')",
   "id": "ee00213e995670fa",
   "outputs": [],
   "execution_count": 6
  },
  {
   "metadata": {
    "ExecuteTime": {
     "end_time": "2025-04-06T21:49:28.813900Z",
     "start_time": "2025-04-06T18:09:50.448845Z"
    }
   },
   "cell_type": "code",
   "source": "testdf['generated_summary'] = testdf['Article'].apply(lambda x:str(bert_summary( x, 5)))",
   "id": "9063a937d919a5ad",
   "outputs": [],
   "execution_count": 7
  },
  {
   "metadata": {
    "ExecuteTime": {
     "end_time": "2025-04-06T21:49:28.856205Z",
     "start_time": "2025-04-06T21:49:28.839586Z"
    }
   },
   "cell_type": "code",
   "source": [
    "import numpy as np\n",
    "testdf.replace(r'^\\s*$', np.nan, regex=True)\n",
    "testdf.dropna(axis=0, how='any')\n",
    "# Remove rows where \"Title\" is empty or null\n",
    "testdf = testdf[testdf[\"generated_summary\"].notna() & (testdf[\"generated_summary\"] != \"\")]\n",
    "len(testdf)"
   ],
   "id": "59454cc95365f011",
   "outputs": [
    {
     "data": {
      "text/plain": [
       "2225"
      ]
     },
     "execution_count": 8,
     "metadata": {},
     "output_type": "execute_result"
    }
   ],
   "execution_count": 8
  },
  {
   "metadata": {
    "ExecuteTime": {
     "end_time": "2025-04-06T21:49:29.014511Z",
     "start_time": "2025-04-06T21:49:29.006931Z"
    }
   },
   "cell_type": "code",
   "source": [
    "testdf=testdf.drop_duplicates(subset=[\"generated_summary\"])\n",
    "testdf['generated_summary'].value_counts()"
   ],
   "id": "444d73e621aa5cd9",
   "outputs": [
    {
     "data": {
      "text/plain": [
       "generated_summary\n",
       "Musicians' groups are calling for an end to the \"raw deal\" faced by British performers. US acts are not faced with comparable expense and bureaucracy. Musicians face tougher regulations than athletes and journalists.                                                                                                                                                                         1\n",
       "MPs voted 272-219 in favour of the Bill after key concessions from Mr Clarke. Labour's majority in the Commons was reduced to 14. Bill now faces opposition from peers angry at house arrest proposals. Lord Strathclyde, Tory leader in the Lords, said ministers should expect it to be \"substantially re-written\"                                                                             1\n",
       "Blair uses speech to set out his broad brush election manifesto. Little in terms of concrete proposals or what might form manifesto pledges. More a speech designed to remind people what New Labour stood for. He insisted the future direction would be unremittingly New Labour.                                                                                                              1\n",
       "Defection timed to hit tax pledge. Tory defector Robert Jackson and his new Labour bosses have attempted to overshadow Michael Howard's latest announcement on taxation and spending. The big idea is his £35bn savings on waste and bureaucracy which Mr Howard has pledged to plough back into public services and tax cuts.                                                                   1\n",
       "Tony Blair and Gordon Brown were read the riot act during a meeting of the parliamentary Labour party. The dressing down appears to have done the trick, with Mr Brown joining his alleged rival Alan Milburn and Deputy Prime Minister John Prescott at an election poster launch. Some believe the effect of the warnings from the backbenchers will actually be to silence the Brown camp.    1\n",
       "                                                                                                                                                                                                                                                                                                                                                                                                ..\n",
       "A total of 24.2 trillion pesos ($10.2bn; £5.5bn) is earmarked for the poor. But it also found 12.1 trillion peso was going to the richest part of the population. Sound distribution of the cash could cut poverty levels to 36% from 53%.                                                                                                                                                       1\n",
       "Lakshmi Mittal told investors the combined company will have to shed thousands of jobs. The Indian-born magnate did not say where the job losses would fall. Mittal Steel has operations in 14 countries and employs 50,000 staff in Kazakhstan alone.                                                                                                                                           1\n",
       "Venezuela to review all foreign investment in its mining industries. Review will cover production of gold, aluminium and iron ore. President Hugo Chavez has sought to extend the state's role in all sectors of the economy.                                                                                                                                                                    1\n",
       "Sales in January rose by 0.5% on a like-for-like basis, compared with a year earlier. Consumers remain cautious over buying big-ticket items like furniture. Clothing and footwear sales were said to be generally better than December.                                                                                                                                                         1\n",
       "Hackers can build malicious playlist files which could crash the program and let them seize control of the computer by inserting Trojan code. Security firm iDefence recommended that users upgrade to iTunes version 4.7.1.                                                                                                                                                                     1\n",
       "Name: count, Length: 2105, dtype: int64"
      ]
     },
     "execution_count": 9,
     "metadata": {},
     "output_type": "execute_result"
    }
   ],
   "execution_count": 9
  },
  {
   "metadata": {},
   "cell_type": "code",
   "source": "",
   "id": "e9dfbb0a7a4e2928",
   "outputs": [],
   "execution_count": null
  },
  {
   "metadata": {
    "ExecuteTime": {
     "end_time": "2025-04-06T21:49:29.049Z",
     "start_time": "2025-04-06T21:49:29.046684Z"
    }
   },
   "cell_type": "code",
   "source": [
    "import re\n",
    "# Function to clean text\n",
    "def clean_text(text):\n",
    "    return re.sub(r'[^\\w\\s]', '', str(text)).strip().lower()"
   ],
   "id": "a6b465eef77c0226",
   "outputs": [],
   "execution_count": 10
  },
  {
   "metadata": {
    "ExecuteTime": {
     "end_time": "2025-04-06T21:49:29.458561Z",
     "start_time": "2025-04-06T21:49:29.072851Z"
    }
   },
   "cell_type": "code",
   "source": "testdf['is_match'] = testdf.apply(lambda row: clean_text(row['Article']) == clean_text(testdf['generated_summary']), axis=1)",
   "id": "72edaf855ee27209",
   "outputs": [],
   "execution_count": 11
  },
  {
   "metadata": {
    "ExecuteTime": {
     "end_time": "2025-04-06T21:49:29.478761Z",
     "start_time": "2025-04-06T21:49:29.474656Z"
    }
   },
   "cell_type": "code",
   "source": "testdf.head()",
   "id": "baee3b7960079285",
   "outputs": [
    {
     "data": {
      "text/plain": [
       "   Unnamed: 0  Title                                            Article  \\\n",
       "0           0    289  Musicians to tackle US red tape\\n\\nMusicians' ...   \n",
       "1           1    262  U2's desire to be number one\\n\\nU2, who have w...   \n",
       "2           2    276  Rocker Doherty in on-stage fight\\n\\nRock singe...   \n",
       "3           3     60  Snicket tops US box office chart\\n\\nThe film a...   \n",
       "4           4     74  Ocean's Twelve raids box office\\n\\nOcean's Twe...   \n",
       "\n",
       "                                             Summary       Category  \\\n",
       "0  Nigel McCune from the Musicians' Union said Br...  entertainment   \n",
       "1  But they still want more.They have to want to ...  entertainment   \n",
       "2  Babyshambles, which he formed after his acrimo...  entertainment   \n",
       "3  A Series of Unfortunate Events also stars Scot...  entertainment   \n",
       "4  Ocean's Twelve, the crime caper sequel starrin...  entertainment   \n",
       "\n",
       "                                  extractive_summary  \\\n",
       "0  Nigel McCune from the Musicians' Union said Br...   \n",
       "1  They have to want to be the biggest band ever ...   \n",
       "2  Babyshambles, which he formed after his acrimo...   \n",
       "3  A Series of Unfortunate Events, starring Jim C...   \n",
       "4  Ocean's Twelve raids box office\\n\\nOcean's Twe...   \n",
       "\n",
       "                                   generated_summary  is_match  \n",
       "0  Musicians' groups are calling for an end to th...     False  \n",
       "1  U2's new album, How To Dismantle An Atomic Bom...     False  \n",
       "2  Former Libertines singer Pete Doherty involved...     False  \n",
       "3  A Series of Unfortunate Events took $30.2m (£1...     False  \n",
       "4  Ocean's Twelve is the fourth-biggest opening f...     False  "
      ],
      "text/html": [
       "<div>\n",
       "<style scoped>\n",
       "    .dataframe tbody tr th:only-of-type {\n",
       "        vertical-align: middle;\n",
       "    }\n",
       "\n",
       "    .dataframe tbody tr th {\n",
       "        vertical-align: top;\n",
       "    }\n",
       "\n",
       "    .dataframe thead th {\n",
       "        text-align: right;\n",
       "    }\n",
       "</style>\n",
       "<table border=\"1\" class=\"dataframe\">\n",
       "  <thead>\n",
       "    <tr style=\"text-align: right;\">\n",
       "      <th></th>\n",
       "      <th>Unnamed: 0</th>\n",
       "      <th>Title</th>\n",
       "      <th>Article</th>\n",
       "      <th>Summary</th>\n",
       "      <th>Category</th>\n",
       "      <th>extractive_summary</th>\n",
       "      <th>generated_summary</th>\n",
       "      <th>is_match</th>\n",
       "    </tr>\n",
       "  </thead>\n",
       "  <tbody>\n",
       "    <tr>\n",
       "      <th>0</th>\n",
       "      <td>0</td>\n",
       "      <td>289</td>\n",
       "      <td>Musicians to tackle US red tape\\n\\nMusicians' ...</td>\n",
       "      <td>Nigel McCune from the Musicians' Union said Br...</td>\n",
       "      <td>entertainment</td>\n",
       "      <td>Nigel McCune from the Musicians' Union said Br...</td>\n",
       "      <td>Musicians' groups are calling for an end to th...</td>\n",
       "      <td>False</td>\n",
       "    </tr>\n",
       "    <tr>\n",
       "      <th>1</th>\n",
       "      <td>1</td>\n",
       "      <td>262</td>\n",
       "      <td>U2's desire to be number one\\n\\nU2, who have w...</td>\n",
       "      <td>But they still want more.They have to want to ...</td>\n",
       "      <td>entertainment</td>\n",
       "      <td>They have to want to be the biggest band ever ...</td>\n",
       "      <td>U2's new album, How To Dismantle An Atomic Bom...</td>\n",
       "      <td>False</td>\n",
       "    </tr>\n",
       "    <tr>\n",
       "      <th>2</th>\n",
       "      <td>2</td>\n",
       "      <td>276</td>\n",
       "      <td>Rocker Doherty in on-stage fight\\n\\nRock singe...</td>\n",
       "      <td>Babyshambles, which he formed after his acrimo...</td>\n",
       "      <td>entertainment</td>\n",
       "      <td>Babyshambles, which he formed after his acrimo...</td>\n",
       "      <td>Former Libertines singer Pete Doherty involved...</td>\n",
       "      <td>False</td>\n",
       "    </tr>\n",
       "    <tr>\n",
       "      <th>3</th>\n",
       "      <td>3</td>\n",
       "      <td>60</td>\n",
       "      <td>Snicket tops US box office chart\\n\\nThe film a...</td>\n",
       "      <td>A Series of Unfortunate Events also stars Scot...</td>\n",
       "      <td>entertainment</td>\n",
       "      <td>A Series of Unfortunate Events, starring Jim C...</td>\n",
       "      <td>A Series of Unfortunate Events took $30.2m (£1...</td>\n",
       "      <td>False</td>\n",
       "    </tr>\n",
       "    <tr>\n",
       "      <th>4</th>\n",
       "      <td>4</td>\n",
       "      <td>74</td>\n",
       "      <td>Ocean's Twelve raids box office\\n\\nOcean's Twe...</td>\n",
       "      <td>Ocean's Twelve, the crime caper sequel starrin...</td>\n",
       "      <td>entertainment</td>\n",
       "      <td>Ocean's Twelve raids box office\\n\\nOcean's Twe...</td>\n",
       "      <td>Ocean's Twelve is the fourth-biggest opening f...</td>\n",
       "      <td>False</td>\n",
       "    </tr>\n",
       "  </tbody>\n",
       "</table>\n",
       "</div>"
      ]
     },
     "execution_count": 12,
     "metadata": {},
     "output_type": "execute_result"
    }
   ],
   "execution_count": 12
  },
  {
   "metadata": {
    "ExecuteTime": {
     "end_time": "2025-04-06T21:49:33.192883Z",
     "start_time": "2025-04-06T21:49:29.515642Z"
    }
   },
   "cell_type": "code",
   "source": [
    "from rouge import Rouge\n",
    "\n",
    "rouge = Rouge()\n",
    "\n",
    "def truncate_text(text, max_words=100):\n",
    "    return \" \".join(text.split()[:max_words])\n",
    "\n",
    "def compute_rouge(reference, generated):\n",
    "    if not generated.strip():  # Handle empty strings\n",
    "        return {\"rouge-1\": 0, \"rouge-2\": 0, \"rouge-l\": 0}\n",
    "    \n",
    "    # Truncate long summaries\n",
    "    reference = truncate_text(reference)\n",
    "    generated = truncate_text(generated)\n",
    "    \n",
    "    scores = rouge.get_scores(generated, reference)\n",
    "    return scores[0]\n",
    "\n",
    "# Apply function\n",
    "testdf[\"rouge_scores\"] = testdf.apply(lambda row: compute_rouge(row[\"Summary\"], row[\"generated_summary\"]), axis=1)\n"
   ],
   "id": "63df238a8dfef07c",
   "outputs": [],
   "execution_count": 13
  },
  {
   "metadata": {
    "ExecuteTime": {
     "end_time": "2025-04-06T21:49:33.219356Z",
     "start_time": "2025-04-06T21:49:33.213389Z"
    }
   },
   "cell_type": "code",
   "source": "testdf.head()",
   "id": "bb6a7bc2420a7ae2",
   "outputs": [
    {
     "data": {
      "text/plain": [
       "   Unnamed: 0  Title                                            Article  \\\n",
       "0           0    289  Musicians to tackle US red tape\\n\\nMusicians' ...   \n",
       "1           1    262  U2's desire to be number one\\n\\nU2, who have w...   \n",
       "2           2    276  Rocker Doherty in on-stage fight\\n\\nRock singe...   \n",
       "3           3     60  Snicket tops US box office chart\\n\\nThe film a...   \n",
       "4           4     74  Ocean's Twelve raids box office\\n\\nOcean's Twe...   \n",
       "\n",
       "                                             Summary       Category  \\\n",
       "0  Nigel McCune from the Musicians' Union said Br...  entertainment   \n",
       "1  But they still want more.They have to want to ...  entertainment   \n",
       "2  Babyshambles, which he formed after his acrimo...  entertainment   \n",
       "3  A Series of Unfortunate Events also stars Scot...  entertainment   \n",
       "4  Ocean's Twelve, the crime caper sequel starrin...  entertainment   \n",
       "\n",
       "                                  extractive_summary  \\\n",
       "0  Nigel McCune from the Musicians' Union said Br...   \n",
       "1  They have to want to be the biggest band ever ...   \n",
       "2  Babyshambles, which he formed after his acrimo...   \n",
       "3  A Series of Unfortunate Events, starring Jim C...   \n",
       "4  Ocean's Twelve raids box office\\n\\nOcean's Twe...   \n",
       "\n",
       "                                   generated_summary  is_match  \\\n",
       "0  Musicians' groups are calling for an end to th...     False   \n",
       "1  U2's new album, How To Dismantle An Atomic Bom...     False   \n",
       "2  Former Libertines singer Pete Doherty involved...     False   \n",
       "3  A Series of Unfortunate Events took $30.2m (£1...     False   \n",
       "4  Ocean's Twelve is the fourth-biggest opening f...     False   \n",
       "\n",
       "                                        rouge_scores  \n",
       "0  {'rouge-1': {'r': 0.15584415584415584, 'p': 0....  \n",
       "1  {'rouge-1': {'r': 0.22972972972972974, 'p': 0....  \n",
       "2  {'rouge-1': {'r': 0.19480519480519481, 'p': 0....  \n",
       "3  {'rouge-1': {'r': 0.4745762711864407, 'p': 0.9...  \n",
       "4  {'rouge-1': {'r': 0.19230769230769232, 'p': 0....  "
      ],
      "text/html": [
       "<div>\n",
       "<style scoped>\n",
       "    .dataframe tbody tr th:only-of-type {\n",
       "        vertical-align: middle;\n",
       "    }\n",
       "\n",
       "    .dataframe tbody tr th {\n",
       "        vertical-align: top;\n",
       "    }\n",
       "\n",
       "    .dataframe thead th {\n",
       "        text-align: right;\n",
       "    }\n",
       "</style>\n",
       "<table border=\"1\" class=\"dataframe\">\n",
       "  <thead>\n",
       "    <tr style=\"text-align: right;\">\n",
       "      <th></th>\n",
       "      <th>Unnamed: 0</th>\n",
       "      <th>Title</th>\n",
       "      <th>Article</th>\n",
       "      <th>Summary</th>\n",
       "      <th>Category</th>\n",
       "      <th>extractive_summary</th>\n",
       "      <th>generated_summary</th>\n",
       "      <th>is_match</th>\n",
       "      <th>rouge_scores</th>\n",
       "    </tr>\n",
       "  </thead>\n",
       "  <tbody>\n",
       "    <tr>\n",
       "      <th>0</th>\n",
       "      <td>0</td>\n",
       "      <td>289</td>\n",
       "      <td>Musicians to tackle US red tape\\n\\nMusicians' ...</td>\n",
       "      <td>Nigel McCune from the Musicians' Union said Br...</td>\n",
       "      <td>entertainment</td>\n",
       "      <td>Nigel McCune from the Musicians' Union said Br...</td>\n",
       "      <td>Musicians' groups are calling for an end to th...</td>\n",
       "      <td>False</td>\n",
       "      <td>{'rouge-1': {'r': 0.15584415584415584, 'p': 0....</td>\n",
       "    </tr>\n",
       "    <tr>\n",
       "      <th>1</th>\n",
       "      <td>1</td>\n",
       "      <td>262</td>\n",
       "      <td>U2's desire to be number one\\n\\nU2, who have w...</td>\n",
       "      <td>But they still want more.They have to want to ...</td>\n",
       "      <td>entertainment</td>\n",
       "      <td>They have to want to be the biggest band ever ...</td>\n",
       "      <td>U2's new album, How To Dismantle An Atomic Bom...</td>\n",
       "      <td>False</td>\n",
       "      <td>{'rouge-1': {'r': 0.22972972972972974, 'p': 0....</td>\n",
       "    </tr>\n",
       "    <tr>\n",
       "      <th>2</th>\n",
       "      <td>2</td>\n",
       "      <td>276</td>\n",
       "      <td>Rocker Doherty in on-stage fight\\n\\nRock singe...</td>\n",
       "      <td>Babyshambles, which he formed after his acrimo...</td>\n",
       "      <td>entertainment</td>\n",
       "      <td>Babyshambles, which he formed after his acrimo...</td>\n",
       "      <td>Former Libertines singer Pete Doherty involved...</td>\n",
       "      <td>False</td>\n",
       "      <td>{'rouge-1': {'r': 0.19480519480519481, 'p': 0....</td>\n",
       "    </tr>\n",
       "    <tr>\n",
       "      <th>3</th>\n",
       "      <td>3</td>\n",
       "      <td>60</td>\n",
       "      <td>Snicket tops US box office chart\\n\\nThe film a...</td>\n",
       "      <td>A Series of Unfortunate Events also stars Scot...</td>\n",
       "      <td>entertainment</td>\n",
       "      <td>A Series of Unfortunate Events, starring Jim C...</td>\n",
       "      <td>A Series of Unfortunate Events took $30.2m (£1...</td>\n",
       "      <td>False</td>\n",
       "      <td>{'rouge-1': {'r': 0.4745762711864407, 'p': 0.9...</td>\n",
       "    </tr>\n",
       "    <tr>\n",
       "      <th>4</th>\n",
       "      <td>4</td>\n",
       "      <td>74</td>\n",
       "      <td>Ocean's Twelve raids box office\\n\\nOcean's Twe...</td>\n",
       "      <td>Ocean's Twelve, the crime caper sequel starrin...</td>\n",
       "      <td>entertainment</td>\n",
       "      <td>Ocean's Twelve raids box office\\n\\nOcean's Twe...</td>\n",
       "      <td>Ocean's Twelve is the fourth-biggest opening f...</td>\n",
       "      <td>False</td>\n",
       "      <td>{'rouge-1': {'r': 0.19230769230769232, 'p': 0....</td>\n",
       "    </tr>\n",
       "  </tbody>\n",
       "</table>\n",
       "</div>"
      ]
     },
     "execution_count": 14,
     "metadata": {},
     "output_type": "execute_result"
    }
   ],
   "execution_count": 14
  },
  {
   "metadata": {
    "ExecuteTime": {
     "end_time": "2025-04-06T21:49:33.285508Z",
     "start_time": "2025-04-06T21:49:33.281741Z"
    }
   },
   "cell_type": "code",
   "source": [
    "# Display average ROUGE scores\n",
    "rouge_l_scores = [score[\"rouge-l\"][\"f\"] for score in testdf[\"rouge_scores\"]]\n",
    "print(f\"Average ROUGE-L Score: {sum(rouge_l_scores) / len(rouge_l_scores):.4f}\")"
   ],
   "id": "e2f06b8e0b34b655",
   "outputs": [
    {
     "name": "stdout",
     "output_type": "stream",
     "text": [
      "Average ROUGE-L Score: 0.3579\n"
     ]
    }
   ],
   "execution_count": 15
  },
  {
   "metadata": {
    "ExecuteTime": {
     "end_time": "2025-04-06T21:49:33.339490Z",
     "start_time": "2025-04-06T21:49:33.336819Z"
    }
   },
   "cell_type": "code",
   "source": [
    "# Display average ROUGE scores\n",
    "rouge_l_scores = [score[\"rouge-2\"][\"f\"] for score in testdf[\"rouge_scores\"]]\n",
    "print(f\"Average ROUGE-2 Score: {sum(rouge_l_scores) / len(rouge_l_scores):.4f}\")"
   ],
   "id": "18bfcb800e4eea9b",
   "outputs": [
    {
     "name": "stdout",
     "output_type": "stream",
     "text": [
      "Average ROUGE-2 Score: 0.2209\n"
     ]
    }
   ],
   "execution_count": 16
  },
  {
   "metadata": {
    "ExecuteTime": {
     "end_time": "2025-04-06T21:49:33.389053Z",
     "start_time": "2025-04-06T21:49:33.386084Z"
    }
   },
   "cell_type": "code",
   "source": [
    "# Display average ROUGE scores\n",
    "rouge_l_scores = [score[\"rouge-1\"][\"f\"] for score in testdf[\"rouge_scores\"]]\n",
    "print(f\"Average ROUGE-1 Score: {sum(rouge_l_scores) / len(rouge_l_scores):.4f}\")"
   ],
   "id": "b8c0b70b8fefff30",
   "outputs": [
    {
     "name": "stdout",
     "output_type": "stream",
     "text": [
      "Average ROUGE-1 Score: 0.3722\n"
     ]
    }
   ],
   "execution_count": 17
  },
  {
   "metadata": {
    "ExecuteTime": {
     "end_time": "2025-04-06T21:50:27.605124Z",
     "start_time": "2025-04-06T21:49:33.446901Z"
    }
   },
   "cell_type": "code",
   "source": [
    "from sklearn.metrics.pairwise import cosine_similarity\n",
    "from sentence_transformers import SentenceTransformer\n",
    "\n",
    "model = SentenceTransformer('all-MiniLM-L6-v2')\n",
    "\n",
    "\n",
    "def compute_similarity(reference, generated):\n",
    "    ref_embedding = model.encode(reference)\n",
    "    gen_embedding = model.encode(generated)\n",
    "    return cosine_similarity([ref_embedding], [gen_embedding])[0][0]\n",
    "\n",
    "\n",
    "testdf[\"cosine_similarity\"] = testdf.apply(lambda row: compute_similarity(row[\"Summary\"], row[\"generated_summary\"]),\n",
    "                                           axis=1)\n",
    "print(f\"Average Cosine Similarity: {testdf['cosine_similarity'].mean():.4f}\")\n"
   ],
   "id": "7d046c096cee5154",
   "outputs": [
    {
     "name": "stdout",
     "output_type": "stream",
     "text": [
      "Average Cosine Similarity: 0.7268\n"
     ]
    }
   ],
   "execution_count": 18
  }
 ],
 "metadata": {
  "kernelspec": {
   "display_name": "Python 3",
   "language": "python",
   "name": "python3"
  },
  "language_info": {
   "codemirror_mode": {
    "name": "ipython",
    "version": 2
   },
   "file_extension": ".py",
   "mimetype": "text/x-python",
   "name": "python",
   "nbconvert_exporter": "python",
   "pygments_lexer": "ipython2",
   "version": "2.7.6"
  }
 },
 "nbformat": 4,
 "nbformat_minor": 5
}
