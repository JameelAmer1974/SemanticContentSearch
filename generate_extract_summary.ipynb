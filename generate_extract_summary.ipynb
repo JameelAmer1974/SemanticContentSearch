{
 "cells": [
  {
   "metadata": {
    "ExecuteTime": {
     "end_time": "2025-04-05T17:58:55.259655Z",
     "start_time": "2025-04-05T17:58:53.905894Z"
    }
   },
   "cell_type": "code",
   "source": [
    "from dotenv import load_dotenv\n",
    "from pprint import pprint\n",
    "from sumy.parsers.plaintext import PlaintextParser\n",
    "from sumy.nlp.tokenizers import Tokenizer\n",
    "from sumy.summarizers.text_rank import TextRankSummarizer\n",
    "import pandas as pd\n",
    "import requests\n",
    "import os"
   ],
   "id": "34bc6a01f9d76815",
   "outputs": [],
   "execution_count": 1
  },
  {
   "metadata": {
    "ExecuteTime": {
     "end_time": "2025-04-05T17:59:02.141625Z",
     "start_time": "2025-04-05T17:58:56.001431Z"
    }
   },
   "cell_type": "code",
   "source": [
    "from sentence_transformers import SentenceTransformer, util\n",
    "import nltk\n",
    "\n",
    "nltk.download('punkt')\n",
    "\n",
    "# Load model\n",
    "model = SentenceTransformer('all-MiniLM-L6-v2')"
   ],
   "id": "70bfd0ea6a359216",
   "outputs": [
    {
     "name": "stderr",
     "output_type": "stream",
     "text": [
      "/Users/jameelamer/MasterProject/Summarization/summrization_webapp/flaskProject2/.venv/lib/python3.12/site-packages/tqdm/auto.py:21: TqdmWarning: IProgress not found. Please update jupyter and ipywidgets. See https://ipywidgets.readthedocs.io/en/stable/user_install.html\n",
      "  from .autonotebook import tqdm as notebook_tqdm\n",
      "[nltk_data] Downloading package punkt to\n",
      "[nltk_data]     /Users/jameelamer/nltk_data...\n",
      "[nltk_data]   Package punkt is already up-to-date!\n"
     ]
    }
   ],
   "execution_count": 2
  },
  {
   "metadata": {
    "collapsed": true,
    "ExecuteTime": {
     "end_time": "2025-04-05T17:59:03.999110Z",
     "start_time": "2025-04-05T17:59:03.993782Z"
    }
   },
   "cell_type": "code",
   "source": [
    "def get_summary(article_text=\"SSS Document\",abstractive_summary=\"\"):\n",
    "    # # Create parser and summarizer\n",
    "    # parser = PlaintextParser.from_string(document_content, Tokenizer(\"english\"))\n",
    "    # summarizer = TextRankSummarizer()\n",
    "    # summary = summarizer(parser.document, 5)\n",
    "    # return \". \".join(str(sentence) for sentence in summary)  # Convert Sentence objects to string\n",
    "    # Sample article and summary\n",
    "    article_sentences = nltk.sent_tokenize(article_text)\n",
    "    summary_sentences = nltk.sent_tokenize(abstractive_summary)\n",
    "    \n",
    "    # Encode\n",
    "    article_embeddings = model.encode(article_sentences, convert_to_tensor=True)\n",
    "    summary_embeddings = model.encode(summary_sentences, convert_to_tensor=True)\n",
    "    \n",
    "    # Match summary sentences to most similar article sentence\n",
    "    extractive_summary = []\n",
    "    for summary_emb in summary_embeddings:\n",
    "        cosine_scores = util.cos_sim(summary_emb, article_embeddings)[0]\n",
    "        best_idx = cosine_scores.argmax()\n",
    "        extractive_summary.append(article_sentences[best_idx])\n",
    "    return \". \".join(str(sentence) for sentence in extractive_summary)\n",
    "    "
   ],
   "id": "initial_id",
   "outputs": [],
   "execution_count": 3
  },
  {
   "metadata": {
    "ExecuteTime": {
     "end_time": "2025-04-05T17:59:07.502196Z",
     "start_time": "2025-04-05T17:59:07.428181Z"
    }
   },
   "cell_type": "code",
   "source": [
    "# Load dataset\n",
    "df = pd.read_csv(\"bbc_news_summary_with_articles.csv\") "
   ],
   "id": "b5b9c6d05ced02ad",
   "outputs": [],
   "execution_count": 4
  },
  {
   "metadata": {
    "ExecuteTime": {
     "end_time": "2025-04-05T17:59:30.385729Z",
     "start_time": "2025-04-05T17:59:30.364517Z"
    }
   },
   "cell_type": "code",
   "source": "df.head()",
   "id": "630780dd8e8b8218",
   "outputs": [
    {
     "data": {
      "text/plain": [
       "   Title                                            Article  \\\n",
       "0    289  Musicians to tackle US red tape\\n\\nMusicians' ...   \n",
       "1    262  U2's desire to be number one\\n\\nU2, who have w...   \n",
       "2    276  Rocker Doherty in on-stage fight\\n\\nRock singe...   \n",
       "3     60  Snicket tops US box office chart\\n\\nThe film a...   \n",
       "4     74  Ocean's Twelve raids box office\\n\\nOcean's Twe...   \n",
       "\n",
       "                                             Summary       Category  \n",
       "0  Nigel McCune from the Musicians' Union said Br...  entertainment  \n",
       "1  But they still want more.They have to want to ...  entertainment  \n",
       "2  Babyshambles, which he formed after his acrimo...  entertainment  \n",
       "3  A Series of Unfortunate Events also stars Scot...  entertainment  \n",
       "4  Ocean's Twelve, the crime caper sequel starrin...  entertainment  "
      ],
      "text/html": [
       "<div>\n",
       "<style scoped>\n",
       "    .dataframe tbody tr th:only-of-type {\n",
       "        vertical-align: middle;\n",
       "    }\n",
       "\n",
       "    .dataframe tbody tr th {\n",
       "        vertical-align: top;\n",
       "    }\n",
       "\n",
       "    .dataframe thead th {\n",
       "        text-align: right;\n",
       "    }\n",
       "</style>\n",
       "<table border=\"1\" class=\"dataframe\">\n",
       "  <thead>\n",
       "    <tr style=\"text-align: right;\">\n",
       "      <th></th>\n",
       "      <th>Title</th>\n",
       "      <th>Article</th>\n",
       "      <th>Summary</th>\n",
       "      <th>Category</th>\n",
       "    </tr>\n",
       "  </thead>\n",
       "  <tbody>\n",
       "    <tr>\n",
       "      <th>0</th>\n",
       "      <td>289</td>\n",
       "      <td>Musicians to tackle US red tape\\n\\nMusicians' ...</td>\n",
       "      <td>Nigel McCune from the Musicians' Union said Br...</td>\n",
       "      <td>entertainment</td>\n",
       "    </tr>\n",
       "    <tr>\n",
       "      <th>1</th>\n",
       "      <td>262</td>\n",
       "      <td>U2's desire to be number one\\n\\nU2, who have w...</td>\n",
       "      <td>But they still want more.They have to want to ...</td>\n",
       "      <td>entertainment</td>\n",
       "    </tr>\n",
       "    <tr>\n",
       "      <th>2</th>\n",
       "      <td>276</td>\n",
       "      <td>Rocker Doherty in on-stage fight\\n\\nRock singe...</td>\n",
       "      <td>Babyshambles, which he formed after his acrimo...</td>\n",
       "      <td>entertainment</td>\n",
       "    </tr>\n",
       "    <tr>\n",
       "      <th>3</th>\n",
       "      <td>60</td>\n",
       "      <td>Snicket tops US box office chart\\n\\nThe film a...</td>\n",
       "      <td>A Series of Unfortunate Events also stars Scot...</td>\n",
       "      <td>entertainment</td>\n",
       "    </tr>\n",
       "    <tr>\n",
       "      <th>4</th>\n",
       "      <td>74</td>\n",
       "      <td>Ocean's Twelve raids box office\\n\\nOcean's Twe...</td>\n",
       "      <td>Ocean's Twelve, the crime caper sequel starrin...</td>\n",
       "      <td>entertainment</td>\n",
       "    </tr>\n",
       "  </tbody>\n",
       "</table>\n",
       "</div>"
      ]
     },
     "execution_count": 6,
     "metadata": {},
     "output_type": "execute_result"
    }
   ],
   "execution_count": 6
  },
  {
   "metadata": {
    "ExecuteTime": {
     "end_time": "2025-04-05T18:09:36.614943Z",
     "start_time": "2025-04-05T18:00:39.628136Z"
    }
   },
   "cell_type": "code",
   "source": "df['extractive_summary'] = df.apply(lambda x: str(get_summary(x['Article'], x['Summary'])), axis=1)",
   "id": "fb25cdf8a2e2313f",
   "outputs": [],
   "execution_count": 7
  },
  {
   "metadata": {
    "ExecuteTime": {
     "end_time": "2025-04-05T18:25:51.154301Z",
     "start_time": "2025-04-05T18:25:51.138176Z"
    }
   },
   "cell_type": "code",
   "source": "df['extractive_summary'][0]",
   "id": "2f2647f0269b872d",
   "outputs": [
    {
     "data": {
      "text/plain": [
       "'Nigel McCune from the Musicians\\' Union said British musicians are \"disadvantaged\" compared to their US counterparts.. The Musicians\\' Union stance is being endorsed by the Music Managers\\' Forum (MMF), who say British artists face \"an uphill struggle\" to succeed in the US, thanks to the tough visa requirements, which are also seen as impractical.. \"The US is the world\\'s biggest music market, which means something has to be done about the creaky bureaucracy,\" says Mr McCune.. A singer hoping to perform in the US can expect to pay $1,300 (£680) simply for obtaining a visa.'"
      ]
     },
     "execution_count": 8,
     "metadata": {},
     "output_type": "execute_result"
    }
   ],
   "execution_count": 8
  },
  {
   "metadata": {
    "ExecuteTime": {
     "end_time": "2025-04-05T18:25:55.886852Z",
     "start_time": "2025-04-05T18:25:55.883505Z"
    }
   },
   "cell_type": "code",
   "source": "df.size",
   "id": "776d8124807b1052",
   "outputs": [
    {
     "data": {
      "text/plain": [
       "11125"
      ]
     },
     "execution_count": 9,
     "metadata": {},
     "output_type": "execute_result"
    }
   ],
   "execution_count": 9
  },
  {
   "metadata": {
    "ExecuteTime": {
     "end_time": "2025-04-05T18:25:59.707869Z",
     "start_time": "2025-04-05T18:25:59.609798Z"
    }
   },
   "cell_type": "code",
   "source": "df.to_csv(\"bbc_news_with_articles_and_extractive_summary.csv\", index=True)",
   "id": "67d4f6f06bdf4db1",
   "outputs": [],
   "execution_count": 10
  },
  {
   "metadata": {},
   "cell_type": "code",
   "outputs": [],
   "execution_count": null,
   "source": "",
   "id": "7dc17a3548c5aab4"
  },
  {
   "metadata": {
    "ExecuteTime": {
     "end_time": "2025-04-05T18:27:16.393403Z",
     "start_time": "2025-04-05T18:27:16.242373Z"
    }
   },
   "cell_type": "code",
   "source": [
    "from datasets import Dataset, DatasetDict\n",
    "# Convert Pandas DataFrame to Hugging Face Dataset\n",
    "dataset = Dataset.from_pandas(df)\n",
    "# Split into train (80%), validation (10%), test (10%)\n",
    "dataset = dataset.train_test_split(test_size=0.4, seed=42)\n",
    "test_valid = dataset[\"test\"].train_test_split(test_size=0.5, seed=42)\n",
    "\n",
    "# Create final dataset\n",
    "dataset = DatasetDict({\n",
    "    \"train\": dataset[\"train\"],\n",
    "    \"validation\": test_valid[\"train\"],\n",
    "    \"test\": test_valid[\"test\"]\n",
    "})\n",
    "\n",
    "# Show dataset structure\n",
    "print(dataset)\n",
    "dataset.save_to_disk(\"bbc_dataset\")\n",
    "print(\"Dataset saved successfully!\")"
   ],
   "id": "7e997258045bc602",
   "outputs": [
    {
     "name": "stdout",
     "output_type": "stream",
     "text": [
      "DatasetDict({\n",
      "    train: Dataset({\n",
      "        features: ['Title', 'Article', 'Summary', 'Category', 'extractive_summary'],\n",
      "        num_rows: 1335\n",
      "    })\n",
      "    validation: Dataset({\n",
      "        features: ['Title', 'Article', 'Summary', 'Category', 'extractive_summary'],\n",
      "        num_rows: 445\n",
      "    })\n",
      "    test: Dataset({\n",
      "        features: ['Title', 'Article', 'Summary', 'Category', 'extractive_summary'],\n",
      "        num_rows: 445\n",
      "    })\n",
      "})\n"
     ]
    },
    {
     "name": "stderr",
     "output_type": "stream",
     "text": [
      "Saving the dataset (1/1 shards): 100%|██████████| 1335/1335 [00:00<00:00, 73618.14 examples/s]\n",
      "Saving the dataset (1/1 shards): 100%|██████████| 445/445 [00:00<00:00, 72145.08 examples/s]\n",
      "Saving the dataset (1/1 shards): 100%|██████████| 445/445 [00:00<00:00, 96110.47 examples/s] "
     ]
    },
    {
     "name": "stdout",
     "output_type": "stream",
     "text": [
      "Dataset saved successfully!\n"
     ]
    },
    {
     "name": "stderr",
     "output_type": "stream",
     "text": [
      "\n"
     ]
    }
   ],
   "execution_count": 11
  }
 ],
 "metadata": {
  "kernelspec": {
   "display_name": "Python 3",
   "language": "python",
   "name": "python3"
  },
  "language_info": {
   "codemirror_mode": {
    "name": "ipython",
    "version": 2
   },
   "file_extension": ".py",
   "mimetype": "text/x-python",
   "name": "python",
   "nbconvert_exporter": "python",
   "pygments_lexer": "ipython2",
   "version": "2.7.6"
  }
 },
 "nbformat": 4,
 "nbformat_minor": 5
}
