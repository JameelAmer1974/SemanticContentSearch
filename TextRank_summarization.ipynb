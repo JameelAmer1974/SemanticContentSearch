{
 "cells": [
  {
   "metadata": {
    "ExecuteTime": {
     "end_time": "2025-04-12T02:56:10.923762Z",
     "start_time": "2025-04-12T02:56:05.484987Z"
    }
   },
   "cell_type": "code",
   "source": [
    "\n",
    "import numpy as np\n",
    "import pandas as pd\n",
    "from evaluate import load\n",
    "from scipy.ndimage import label\n",
    "from transformers import AutoTokenizer, AutoModelForSeq2SeqLM\n",
    "from datasets import Dataset, DatasetDict\n",
    "from datasets import load_from_disk\n",
    "import numpy as np\n",
    "import re\n",
    "import spacy\n",
    "import networkx as nx\n",
    "from sklearn.feature_extraction.text import TfidfVectorizer\n",
    "from sklearn.metrics.pairwise import cosine_similarity\n",
    "from nltk.tokenize import sent_tokenize\n",
    "import nltk\n",
    "nltk.download('punkt')\n"
   ],
   "id": "abd853ea5f6e2149",
   "outputs": [
    {
     "name": "stderr",
     "output_type": "stream",
     "text": [
      "/Users/jameelamer/MasterProject/Summarization/summrization_webapp/flaskProject2/.venv/lib/python3.12/site-packages/tqdm/auto.py:21: TqdmWarning: IProgress not found. Please update jupyter and ipywidgets. See https://ipywidgets.readthedocs.io/en/stable/user_install.html\n",
      "  from .autonotebook import tqdm as notebook_tqdm\n",
      "[nltk_data] Downloading package punkt to\n",
      "[nltk_data]     /Users/jameelamer/nltk_data...\n",
      "[nltk_data]   Package punkt is already up-to-date!\n"
     ]
    },
    {
     "data": {
      "text/plain": [
       "True"
      ]
     },
     "execution_count": 1,
     "metadata": {},
     "output_type": "execute_result"
    }
   ],
   "execution_count": 1
  },
  {
   "metadata": {
    "ExecuteTime": {
     "end_time": "2025-04-12T02:56:11.428888Z",
     "start_time": "2025-04-12T02:56:10.981632Z"
    }
   },
   "cell_type": "code",
   "source": [
    "# Load English tokenizer, POS tagger, parser, NER from spaCy\n",
    "import spacy.cli\n",
    "\n",
    "try:\n",
    "    nlp = spacy.load(\"en_core_web_sm\")\n",
    "except OSError:\n",
    "    import spacy.cli\n",
    "    spacy.cli.download(\"en_core_web_sm\")\n",
    "    nlp = spacy.load(\"en_core_web_sm\")\n",
    "def normalize_whitespace(text):\n",
    "    \"\"\"Remove extra whitespace, newlines, and tabs.\"\"\"\n",
    "    return re.sub(r'\\s+', ' ', text).strip()\n",
    "\n",
    "def remove_noise_and_references(text):\n",
    "    \"\"\"\n",
    "    Remove references like [1], (Smith et al., 2020), and figure/table mentions.\n",
    "    You can extend the patterns as needed.\n",
    "    \"\"\"\n",
    "    # Remove square bracket citations like [1], [12]\n",
    "    text = re.sub(r'\\[\\d+\\]', '', text)\n",
    "    \n",
    "    # Remove in-text references like (Smith et al., 2020)\n",
    "    text = re.sub(r'\\(([^)]*et al\\.,?\\s?\\d{4})\\)', '', text)\n",
    "    \n",
    "    # Remove \"Fig. 1\", \"Table 2\", etc.\n",
    "    text = re.sub(r'(Fig\\.?|Figure|Table)\\s?\\d+[a-zA-Z]?', '', text, flags=re.IGNORECASE)\n",
    "    \n",
    "    # Remove licensing and copyright boilerplate\n",
    "    text = re.sub(r'©.*?(\\.|\\n)', '', text)\n",
    "    text = re.sub(r'This article is licensed.*?(\\.|\\n)', '', text, flags=re.IGNORECASE)\n",
    "    \n",
    "    return text\n",
    "\n",
    "def sentence_segmentation(text):\n",
    "    \"\"\"Segment text into individual sentences using spaCy.\"\"\"\n",
    "    doc = nlp(text)\n",
    "    return [sent.text.strip() for sent in doc.sents if sent.text.strip()]\n",
    "\n",
    "def preprocess_text(raw_text):\n",
    "    \"\"\"Complete preprocessing pipeline.\"\"\"\n",
    "    step1 = normalize_whitespace(raw_text)\n",
    "    step2 = remove_noise_and_references(step1)\n",
    "    sentences = sentence_segmentation(step2)\n",
    "    return ' '.join(str(sentence) for sentence in sentences)"
   ],
   "id": "b0ef3ea0792dd562",
   "outputs": [],
   "execution_count": 2
  },
  {
   "metadata": {
    "collapsed": true,
    "ExecuteTime": {
     "end_time": "2025-04-12T02:56:11.598201Z",
     "start_time": "2025-04-12T02:56:11.555401Z"
    }
   },
   "cell_type": "code",
   "source": [
    "from sumy.parsers.plaintext import PlaintextParser\n",
    "from sumy.nlp.tokenizers import Tokenizer\n",
    "from sumy.summarizers.lex_rank import LexRankSummarizer\n",
    "\n",
    "def textrank_summary(text, num_sentences=3):    \n",
    "    # call preprocess\n",
    "    clean_text=preprocess_text(text)\n",
    "    sentences = sent_tokenize(text)\n",
    "    if len(sentences) <= num_sentences:\n",
    "        return text\n",
    "\n",
    "    tfidf_vectorizer = TfidfVectorizer()\n",
    "    tfidf_matrix = tfidf_vectorizer.fit_transform(sentences)\n",
    "\n",
    "    cosine_sim_matrix = cosine_similarity(tfidf_matrix, tfidf_matrix)\n",
    "\n",
    "    nx_graph = nx.from_numpy_array(cosine_sim_matrix)\n",
    "\n",
    "    scores = nx.pagerank(nx_graph)\n",
    "    ranked_sentences = sorted(((scores[i], s) for i, s in enumerate(sentences)), reverse=True)\n",
    "    selected_sentences = [ranked_sentences[i][1] for i in range(num_sentences)]\n",
    "    summary = \" \".join(selected_sentences)\n",
    "    return summary\n",
    "\n",
    "# Example usage\n",
    "text = \"\"\"\n",
    "Artificial intelligence is rapidly evolving. Many industries are integrating AI to enhance performance.\n",
    "Applications include healthcare, finance, and transportation. AI also raises ethical and employment concerns.\n",
    "Researchers are focused on creating explainable and fair AI. Governments are responding with new regulations and policies.\n",
    "\"\"\"\n",
    "\n",
    "summary = textrank_summary(text, num_sentences=2)\n",
    "print(summary)\n"
   ],
   "id": "initial_id",
   "outputs": [
    {
     "name": "stdout",
     "output_type": "stream",
     "text": [
      "Researchers are focused on creating explainable and fair AI. AI also raises ethical and employment concerns.\n"
     ]
    }
   ],
   "execution_count": 3
  },
  {
   "metadata": {
    "ExecuteTime": {
     "end_time": "2025-04-12T02:56:12.140020Z",
     "start_time": "2025-04-12T02:56:11.664368Z"
    }
   },
   "cell_type": "code",
   "source": [
    "# BBC News Dataset\n",
    "# testdf=pd.read_csv('bbc_news_with_articles_and_extractive_summary.csv')\n",
    "# gov report dataset\n",
    "\n",
    "testdf=pd.read_csv('gov_report_with_articles_and_extractive_summary.csv')"
   ],
   "id": "ee00213e995670fa",
   "outputs": [],
   "execution_count": 4
  },
  {
   "metadata": {
    "ExecuteTime": {
     "end_time": "2025-04-12T03:19:31.327108Z",
     "start_time": "2025-04-12T02:56:12.161643Z"
    }
   },
   "cell_type": "code",
   "source": "testdf['generated_summary'] = testdf['Article'].apply(lambda x:str(textrank_summary( x, 25)))",
   "id": "9063a937d919a5ad",
   "outputs": [],
   "execution_count": 5
  },
  {
   "metadata": {
    "ExecuteTime": {
     "end_time": "2025-04-12T03:19:31.357231Z",
     "start_time": "2025-04-12T03:19:31.341466Z"
    }
   },
   "cell_type": "code",
   "source": [
    "import numpy as np\n",
    "testdf.replace(r'^\\s*$', np.nan, regex=True)\n",
    "testdf.dropna(axis=0, how='any')\n",
    "# Remove rows where \"Title\" is empty or null\n",
    "testdf = testdf[testdf[\"generated_summary\"].notna() & (testdf[\"generated_summary\"] != \"\")]\n",
    "len(testdf)"
   ],
   "id": "59454cc95365f011",
   "outputs": [
    {
     "data": {
      "text/plain": [
       "973"
      ]
     },
     "execution_count": 6,
     "metadata": {},
     "output_type": "execute_result"
    }
   ],
   "execution_count": 6
  },
  {
   "metadata": {
    "ExecuteTime": {
     "end_time": "2025-04-12T03:19:31.483811Z",
     "start_time": "2025-04-12T03:19:31.460660Z"
    }
   },
   "cell_type": "code",
   "source": [
    "testdf=testdf.drop_duplicates(subset=[\"generated_summary\"])\n",
    "testdf['generated_summary'].value_counts()"
   ],
   "id": "444d73e621aa5cd9",
   "outputs": [
    {
     "data": {
      "text/plain": [
       "generated_summary\n",
       "As a result, certain information is not yet available to stakeholders—including cell-cultured meat firms themselves, regulators, and the public—about specific aspects of the technology and commercial production methods that will be used, such as the composition of the growth medium and of the final products. We are making a total of six recommendations, three to FDA and three to USDA: The Commissioner of the Food and Drug Administration, in coordination with the Secretary of Agriculture, should more fully incorporate the seven leading practices for effective collaboration in the agencies’ interagency agreement for the joint oversight of cell-cultured meat. (Recommendation 1) The Secretary of Agriculture, in coordination with the Commissioner of the Food and Drug Administration, should more fully incorporate the seven leading practices for effective collaboration in the agencies’ interagency agreement for the joint oversight of cell-cultured meat. The technology to produce cell-cultured meat at a commercial scale is still in development, and information about the methods to be used for commercial production and the composition of the final product are not yet known. As the agencies continue to collaborate on their shared oversight of cell- cultured meat, by more fully incorporating all seven leading practices for collaboration into their interagency agreement, they will be better positioned to address potential fragmentation in their efforts to ensure the safety of the food supply as cell-cultured meat products near commercialization and entry into the marketplace. By taking steps to document in their interagency agreement, or other publicly available document, which agency will oversee cell-cultured seafood other than catfish, FDA and USDA could better ensure that members of the public and other key stakeholders such as cell-cultured meat firms have clarity about the agencies’ oversight responsibilities in this area. We agree that the technology to produce cell-cultured meat is still in development and that information about the commercial production methods and composition of the final product are not yet known, as we state in our report. For example, if the scaffold on which the cell-cultured meat is grown is not edible, the agencies may require firms to disclose certain aspects of their commercial production methods, such as how they removed the cell- cultured meat from the scaffold. FDA stated that it concurred with the intent of incorporating the seven leading practices into the interagency agreement, and both agencies said that they are open to incorporating the practices into their development of the structure for joint oversight of cell-cultured meat. FDA and USDA partially concurred with our recommendation, directed to each agency, to more fully incorporate the seven leading practices for effective collaboration into the agencies’ interagency agreement for the joint oversight of cell-cultured meat. According to FDA officials and representatives from one cell-cultured meat firm, it is likely that some firms will use genetic engineering in their commercial cell-cultured meat production methods. (Recommendation 3) As the three cell-cultured meat working groups move forward, the Secretary of Agriculture, in coordination with the Commissioner of the Food and Drug Administration, should more fully incorporate the seven leading practices for effective collaboration, such as identifying specific outcomes and a way to monitor and evaluate progress toward outcomes. (Recommendation 2) As the three cell-cultured meat working groups move forward, the Commissioner of the Food and Drug Administration, in coordination with the Secretary of Agriculture, should more fully incorporate the seven leading practices for effective collaboration, such as identifying specific outcomes and a way to monitor and evaluate progress toward outcomes. We continue to believe that FDA and USDA should more fully incorporate the seven leading practices for effective collaboration into their interagency agreement for the joint oversight of cell-cultured meat. By taking steps to document which agency will oversee cell-cultured seafood other than catfish, FDA and USDA will better ensure the public, including key stakeholders such as cell-cultured meat firms, have clarity about the agencies’ oversight responsibilities in this area. By more fully incorporating all seven leading practices for interagency collaboration early in the development of the three working groups, FDA and USDA could proactively minimize potential fragmentation and overlap in their oversight of cell-cultured meat, ensure consistency and efficient use of resources, and provide clarity to key stakeholders. Compounding this challenge is that specific information about key aspects of cell-cultured meat, such as the technology and production methods to be used as well as the composition of the products, is not yet known. We found that the pre-market assessment, labeling, and transfer of jurisdiction working groups that FDA and USDA created to carry out the terms of the interagency agreement either partially incorporate or do not incorporate the seven leading practices for interagency collaboration. This lack of information results in unanswered questions about cell- cultured meat as it relates to the eventual technology and commercial production methods to be used and the composition of the final products. One of the biggest cost drivers in the production of cell-cultured meat is the growth medium, according to some studies and some cell-cultured meat firms. The agencies’ 2019 agreement to share oversight of cell-cultured meat creates a new relationship between FDA and USDA, since the agencies will oversee different stages of the production of the same food and hand off oversight at a certain point in that production. Moreover, by more fully incorporating all seven leading practices for interagency collaboration early in the development of the working groups, FDA and USDA could proactively minimize potential fragmentation and overlap in their oversight of cell-cultured meat and ensure they are utilizing resources efficiently or effectively. To describe what is known about the process for producing cell-cultured meat and potential commercial production methods, we also reviewed two sets of public comments submitted to FDA and USDA in association with the two 2018 public meetings pertaining to cell-cultured meat. In this context, some industry representatives and other stakeholders have expressed concerns about potential fragmentation or overlap in oversight of cell-cultured meat, such as could occur during the harvest phase of cell-cultured meat production when FDA hands off its oversight to USDA. They also said that as the technology to produce cell-cultured meat develops and they implement the agreement, including developing the content of a regulatory program, they will consider incorporating leading practices for interagency collaboration.                                                                                                                                                                                                                                                                                                                                                                                                                                                                                                                                                                                                                                                                                                                                                                                                                                                                                                                                                                                                                                                                                                                                                                                                                                                                                                                                                                                                                                                                                                                                                                                                                                                                                                                                                                                                                                                                                                                                                                                                                                                                                                                                                                                                                                                                                                                                                     1\n",
       "The NGPRA featured broad similarities to the basic structure shared among most of the federal regional authorities and commissions, being a federal-state partnership led by a federal co-chair (appointed by the President, with the advice and consent of the Senate) and governors of the participating states, of which one was designated as the state co-chair. The NBRC was reintroduced in the Regional Economic and Infrastructure Development Act of 2007 ( H.R. 3246 ), which would have authorized the SBRC, the SCRC, and the NBRC, and reauthorized the DRA and the NGPRA in a combined bill. The DRA consists of a federal co-chair appointed by the President with the advice and consent of the Senate, and the eight state governors, of which one is state co-chair. The SBRC was reintroduced in the Regional Economic and Infrastructure Development Act of 2003 ( H.R. According to the authorizing legislation, the Appalachian Regional Development Act of 1965, as amended, the ARC is a federally-chartered, regional economic development entity led by a federal co-chair, whose term is open-ended, and the 13 participating state governors, of which one serves as the state co-chair for a term of \"at least one year.\" The Senate incorporated authorizations for the establishment of the NBRC, SCRC, and the SBRC in the 2008 farm bill. 3246 ), which would have authorized the NBRC, the SCRC, and the SBRC, and reauthorized the DRA and the NGPRA (discussed in the next section) in a combined bill. This report describes the structure, activities, legislative history, and funding history of seven federally-chartered regional commissions and authorities: the Appalachian Regional Commission (ARC); the Delta Regional Authority (DRA); the Denali Commission; the Northern Border Regional Commission (NBRC); the Northern Great Plains Regional Authority (NGPRA); the Southeast Crescent Regional Commission (SCRC); and the Southwest Border Regional Commission (SBRC) ( Table A-1 ). The Southwest Border Regional Commission (SBRC) was created with the enactment of the Food, Conservation, and Energy Act of 2008, or the 2008 farm bill ( P.L. The Southeast Crescent Regional Commission (SCRC) was created by the 2008 farm bill, which also created the NBRC and the Southwest Border Regional Commission. The NBRC is led by a federal co-chair, appointed by the President with the advice and consent of the Senate, and four state governors, of which one is appointed state co-chair. As authorized, the SCRC would consist of a federal co-chair, appointed by the President with the advice and consent of the Senate, along with the participating state governors (or their designated representatives), of which one would be named by the state representatives as state co-chair. By statute, the SBRC consists of a federal co-chair, appointed by the President with the advice and consent of the Senate, along with the participating state governors (or their designated representatives), of which one would be named by the state representatives as state co-chair. The federal co-chair is appointed by the President with the advice and consent of the Senate. Four of the seven entitiesâthe Appalachian Regional Commission, the Delta Regional Authority, the Denali Commission, and the Northern Border Regional Commissionâare currently active and receive regular annual appropriations. The amendments included: 1. various limitations on project funding amounts and commission contributions; 2. the establishment of an economic and energy development initiative; 3. the expansion of county designations to include an \"at-risk\" designation; and 4. the expansion of the number of counties under the ARC's jurisdiction. The ARC is also the highest-funded of the federal regional commissions and authorities. The NBRC was first proposed in the Northern Border Economic Development Commission Act of 2007 ( H.R. The NGPRA also included a Native American tribal co-chair, who was the chairperson of an Indian tribe in the region (or their designated representative), and appointed by the President, with the advice and consent of the Senate. The authorizing act also allows for the appointment of federal and state alternates to the commission. The legislation also expanded the authority to include areas of Missouri not covered by the DRA, and provided mechanisms to enable the NGPRA to begin operations even without the Senate confirmation of a federal co-chair, as well as in the absence of a confirmed tribal co-chair. The Northern Border Regional Commission (NBRC) was created by the Food, Conservation, and Energy Act of 2008, otherwise known as the 2008 farm bill. Upon House passage, the Senate incorporated authorizations for the establishment of the NBRC, SCRC, and SBRC in the 2008 farm bill. The 2008 farm bill authorized the appropriation of $30 million for the NBRC for each of FY2008 through FY2013 ( P.L.                                                                                                                                                                                                                                                                                                                                                                                                                                                                                                                                                                                                                                                                                                                                                                                                                                                                                                                                                                                                                                                                                                                                                                                                                                                                                                                                                                                                                                                                                                                                                                                                                                                                                                                                                                                                                                                                                                                                                                                                                                                                                                                                                                                                                                                                                                                                                                                                                                                                                                                                                                                                                                                                                                                                                                                                                                                                                                                                                                                                                                                                                                                                                                                                                                                                                                                                                                                                                                                                                                                                                                                                                                                                                                                                                                                                                                                                                                                                                                                                                                                                                                                                                                                                                                                                                                                                                                                                                                                                                                                                                                 1\n",
       "The FY2019 appropriation was the same amount that was proposed by the Senate-passed bill, but more than the amounts proposed by the President's budget (+3.6%) and the House committee bill (+4.8%). The FY2019 President's budget and the House committee bill would have decreased funding for the NLRB by $25 million (-9.2%) and by $13 million (-4.7%), respectively, while the Senate-passed bill would have provided the same amount as FY2018. Compared to the FY2018 funding levels, the FY2019 LHHS omnibus increased HHS discretionary appropriations by 2.6%. (Note that these totals are based only on amounts provided by the FY2019 LHHS omnibus and do not include the supplemental funds, which were provided in addition to the annual appropriations.) Note that all amounts in this section are based on regular LHHS appropriations only; they do not include funds for HHS agencies provided through other appropriations bills (e.g., funding for the Food and Drug Administration) or outside of the annual appropriations process (e.g., direct appropriations for Medicare or mandatory funds provided by authorizing laws, such as the Patient Protection and Affordable Care Act [ACA, P.L. In general, this report is focused strictly on appropriations to agencies and accounts that are subject to the jurisdiction of the Labor, Health and Human Services, Education, and Related Agencies subcommittees of the House and Senate appropriations committees (i.e., accounts traditionally funded via the LHHS bill). The LHHS bill typically is one of the more controversial of the regular appropriations bills because of the size of its funding total and the scope of its programs, as well as various related social policy issues addressed in the bill, such as restrictions on the use of federal funds for abortion and for research on human embryos and stem cells. The FY2019 LHHS omnibus decreased discretionary appropriations for DOL by 0.8% compared to the FY2018 enacted levels. The LHHS bill provides appropriations for the following federal departments and agencies: the Department of Labor; most agencies at the Department of Health and Human Services, except for the Food and Drug Administration (funded through the Agriculture appropriations bill), the Indian Health Service (funded through the Interior-Environment appropriations bill), and the Agency for Toxic Substances and Disease Registry (also funded through the Interior-Environment appropriations bill); the Department of Education; and more than a dozen related agencies, including the Social Security Administration, the Corporation for National and Community Service, the Corporation for Public Broadcasting, the Institute of Museum and Library Services, the National Labor Relations Board, and the Railroad Retirement Board. The FY2019 LHHS omnibus provided $7.1 billion in discretionary budget authority for CDC. In contrast, the FY2019 Senate-passed bill and the FY2019 President's budget had proposed a flat funding level for Title X from FY2018, and no prohibition on the use of other HHS funds. Unless otherwise specified, appropriations levels displayed in this report refer to the total amount of budget authority provided in an appropriations bill (i.e., \"total in the bill\"), regardless of the year in which the funding becomes available. For current-year LHHS discretionary funding, Table A-1 displays FY2018 enacted levels, the House and the Senate FY2019 initial suballocations, and enacted FY2019 LHHS appropriations. The amounts shown in this table reflect total budget authority provided in the bill (i.e., all funds appropriated in the bill, regardless of the fiscal year in which the funds become available), not total budget authority available for the current fiscal year. This report provides an overview of FY2019 appropriations actions for accounts traditionally funded in the appropriations bill for the Departments of Labor, Health and Human Services, and Education, and Related Agencies (LHHS). The FY2019 LHHS omnibus provided $4.4 billion in discretionary budget authority for CMS. The President's budget and the House committee bill would have decreased discretionary appropriations for related agencies by about 14.0% and 2.2%, respectively, while the Senate-passed bill would have increased such appropriations by 0.5%. The FY2019 LHHS omnibus provided $6.9 billion in discretionary budget authority for HRSA. The President's budget, the Senate bill, and the House committee bill all proposed level funding. The FY2019 LHHS omnibus provided $5.6 billion in discretionary budget authority for SAMHSA. The FY2019 LHHS omnibus provided $2.2 billion in discretionary budget authority for ACL. Of this amount, HHS is directed to transfer not less than $100 million to the Substance Abuse and Mental Health Services Administration (SAMHSA) Health Surveillance and Program Support account for grants, contracts, and cooperative agreements for behavioral health treatment, treatment of substance use disorders, crisis counseling and related helplines, and other similar programs to support impacted individuals; $80 million to the Health Resources and Services Administration (HRSA) federal health centers program for alteration, renovation, construction, equipment, and other capital improvements to meet the needs of affected areas; not less than $20 million to the Centers for Disease Control and Prevention (CDC) for CDC-Wide Activities and Program Support for response, recovery, mitigation, and other expenses; and up to $1 million to the Office of the Inspector General for oversight activities. While the FY2019 LHHS omnibus provided the same funding for the three WIOA state formula grant programs compared to FY2018, the President's budget would have reduced funding for all three of the state formula grant programs by $80 million (-2.9%), compared to FY2018 enacted levels. In general, discretionary funds account for about 10% of HHS appropriations in the LHHS bill. In addition, the FY2019 LHHS omnibus also directed $134 million in PHS evaluation tap funding and $12 million in PPHF funding to SAMHSA, which was the same amount as FY2018.                                                                                                                                                                                                                                                                                                                                                                                                                                                                                                                                                                                                                                                                                                                                                                                                                                                                                                                                                                                                                                                                                                                                                                                                                                                                                                                                                                                                                                                                                                                                                                                                                                                                                                                                                                                                                                                                                                                                                                                                                                                                                                                                                                                                                                                                                                                                                                                                                                                                                                                                                                                                                                                                                                                                                                                                                                                                                                                                                                                                                                                                                                                                                                                                                                                                         1\n",
       "These might include seeking a clearer understanding of how federally funded R&D is being affected by COVID-19, through hearings, mandates for agency reports, support for academic studies, or mandates for reports by organizations such as the Government Accountability Office or the National Academies of Sciences, Engineering, and Medicine; directing OMB, the Office of Science and Technology Policy, or an interagency task force to develop more uniform guidance on how to identify essential or critical R&D activities, with recommendations for implementing that guidance at government laboratories, universities, companies, and other institutions involved in intramural and extramural federally funded R&D; and establishing a post-pandemic task force on the federal R&D enterprise to examine lessons learned from the COVID-19 pandemic and recommend policy changes to improve the national response of the R&D community in the event of future pandemics. Notes that OMB is allowing federal agencies to grant class exceptions in instances where the agency has determined that the purpose of the federal awards is to support the continued research and services necessary to carry out the emergency response related to COVID-19. Agencies are urged to work with their contractors, if they have not already, to evaluate and maximize telework for contractor employees, wherever possible; be flexible in providing extensions to performance dates if telework or other flexible work solutions, such as virtual work environments, are not possible, or if a contractor is unable to perform in a timely manner due to quarantining, social distancing, or other COVID-19 related interruptions; take into consideration whether it is beneficial to keep skilled professionals or key personnel in a mobile-ready state for activities the agency deems critical to national security or other high priorities; consider whether contracts that possess capabilities for addressing impending requirements such as security, logistics, or other functions may be retooled for pandemic response consistent with the scope of the contract; and leverage the special emergency procurement authorities authorized in connection with the President's emergency declaration under Section 501(b) of the Robert T. Stafford Disaster Relief and Emergency Assistance Act, 42 U.S.C. In accordance with 2 CFR Â§200.102, \"Exceptions,\" OMB is allowing federal agencies to grant class exceptions in instances where the agency has determined that the purpose of the federal awards is to support the continued research and services necessary to carry out the emergency response related to COVID-19. As some agencies and researchers shift their R&D priorities to respond to the COVID-19 pandemic, the funding available for R&D on other topics may be reduced, at least in the near term. While the cancellation or suspension of WFO projects due to the COVID-19 response may reduce costs to the sponsoring organization, it may simultaneously reduce revenue that would otherwise have supported the staff, facilities, and equipment of the laboratory that was to perform the work. Some of the $3.1 billion appropriated to the Public Health and Social Services Emergency Fund may also be made available to the Biomedical Advanced Research and Development Authority for the development of COVID-19 medical countermeasures, such as therapies and vaccines. Some agencies have announced accommodations for existing awardees, such as no-cost extensions of awards, extensions of financial and other reporting deadlines, changes to the allowability of cancellation fees and costs resulting from the pausing and restarting of research, and allowing the continued payment of salaries and benefits out of grant funds. The Office of Management and Budget (OMB) has provided guidance to agencies about what travel (including travel to conduct R&D or to attend scientific meetings) should be considered mission-critical, based on a list of 11 factors, such as whether the travel is for activities essential to national security or whether it is time-sensitive. This report provides an overview of how the nation's response to COVID-19 is affecting the federal R&D enterprise, how the federal government and others are addressing those effects, and issues that may arise as the situation develops. The CARES Act provided NIST laboratories with $6 million in additional funding, including $5 million to support and accelerate measurement science related to viral testing and biomanufacturing; $50 million for the NIST Manufacturing Extension Partnership program to help companies across the country transform operations in support of COVID-19 related needs and to foster development of COVID-19 related supply chains; and $10 million for research related activities at Manufacturing USA's National Institute for Innovation in Manufacturing Biopharmaceuticals (NIIMBL). More generally, the federal funding needed for the national response to COVID-19 may reduce the overall federal resources available for R&D. Organizations representing research universities, medical schools, and teaching hospitals have asked Congress, among other steps, to give research institutions receiving federal funding additional flexibility to cover researcher salaries and benefits while their institutions are affected, to provide $13 billion in additional extramural research funding, and to allow agencies to reprogram any supplemental funds that are not spent within a year for new awards. The effects of COVID-19 on federally funded R&D, as described in this report, may adversely affect the pace of R&D generally and the pace of the innovation that builds on it. Some facilities remain open to support research that is continuing, but open facilities may face their own financial challenges in continuing to operate, as the fees that usually support them are likely to be reduced by the suspension of research by some of their users. Congress may monitor these effects and develop a deeper understanding of their implications for the wide-ranging national policy objectives that motivate federal spending on R&Dâsuch as national security, economic growth and job creation, public health, transportation, and agricultureâas well as the implications for the U.S. science and engineering workforce and the education of the next generation of American scientists, engineers, and technicians. https://www.whitehouse.gov/wp-content/uploads/2020/03/M-20-18.pdf M-20-17 Administrative Relief for Recipients and Applicants of Federal Financial Assistance Directly Impacted by the Novel Coronavirus (COVID-19) Due to Loss of OperationsÂ (March 19, 2020) Identifies steps to help ensure safety while maintaining continued contract performance in support of agency missions, wherever possible and consistent with the precautions issued by the Centers for Disease Control and Prevention (CDC). As the scientific, government, and public understanding of COVID-19 has grown, the national response has evolved, and it is likely to continue to evolve. It also provides a link to a compilation maintained by the Council on Governmental Relations (COGR) of guidance from federal agencies, academic institutions, and other organizations, as well as frequently asked questions about how federal agencies that fund R&D are implementing the OMB-directed flexibilities. https://www.whitehouse.gov/wp-content/uploads/2020/03/M-20-16.pdf M-20-15 Updated Guidance for the National Capital Region on Telework Flexibilities in Response to Coronavirus (March 15, 2020) Directs agencies to offer maximum telework flexibilities to all current telework-eligible employees, consistent with operational needs of the departments and agencies as determined by their heads, as well as to use all existing authorities to offer telework to additional employees, to the extent their work could be telework enabled. The federal research and development (R&D) enterprise is a large and complex system, spanning the country, that includes government facilities and employees as well as federally funded work in industry, academia, and the nonprofit sector. The scope of this report is limited to the effects of COVID-19 on federally funded R&D. https://www.whitehouse.gov/wp-content/uploads/2020/03/M-20-11.pdf Compilation of Other Resources The Council on Governmental Relations maintains an online compilation of guidance from federal agencies, academic institutions, and other organizations, as well as responses to frequently asked questions about how federal agencies that fund R&D are implementing the OMB-directed flexibilities. Noting that \"many scientific societies have been and will continue to be adversely impacted by meeting and conference cancellations as a result of COVID-19,\" the Federation of American Societies for Experimental Biology has asked Congress to include measures such as zero-interest loans and grant to associations, nonprofit organizations, and other tax-exempt organizations in future economic stimulus packages and supplemental appropriations measures. On March 9, 2020, OMB authorized federal agencies to provide certain short-term relief from administrative, financial management, and auditing requirements for grantees involved in research related to COVID-19.    1\n",
       "The report also discusses potential issues for Congress, such as the federal role for nonfederal dam safety; federal funding for dam safety programs, rehabilitation, and repair; and public awareness of dam safety risks. Further, Congress may evaluate the level and allocation of appropriations to federal dam safety programs, project modifications for federal dams, and financial assistance for nonfederal dam safety programs and nonfederal dams. Dam failures in the 1970s resulting in the loss of life and billions of dollars in property damage prompted Congress and the executive branch to establish the NID, the National Dam Safety Program (NDSP), and other federal activities related to dam safety. Congress may deliberate the federal role for dam safety, especially as most of the dams in the NID are nonfederal. Some of the metrics for the dam safety program, such as the percentage of state-regulated high hazard potential dams with EAPs and condition assessments, have shown improvement. Some stakeholders argue that the federal government should continue its activities in maintaining and regulating dams owned by federal agencies and nonfederal dams under federal regulatory authority, while state dam safety programs should retain responsibility for state-regulated dams by following the guidelines of the Model State Dam Safety Program . State dam safety programs typically include safety evaluations of existing dams, review of plans and specifications for dam construction and major repair work, periodic inspections of construction work on new and existing dams, reviews and approval of EAPs, and activities with local officials and dam owners for emergency preparedness. The WIIN Act authorized FEMA to administer a high hazard dam rehabilitation grant program, which would provide funding assistance for the repair, removal, or rehabilitation of nonfederal high hazard potential dams. The study projected that the cost to rehabilitate high hazard potential dams in the NID would be approximately $3 billion for federal dams and $19 billion for nonfederal dams. As of 2019, ASDSO estimated that rehabilitation and repair of nonfederal high hazard dams in the NID would cost approximately $18.7 billion (overall rehabilitation and repair for nonfederal dams in the NID were estimated at $65.9 billion). These activities, as well as the enhancement of federal agencies' dam safety programs, have improved certain dam safety metrics; nonetheless, deficiencies in federal and state programs may have contributed to recent incidents (e.g., the 2017 spillway incident at Oroville Dam, California). Under current funding, some metrics for the NDSP, such as the percentage of dams with EAPs and condition assessments, have shown improvement (see \" Progress of the National Dam Safety Program \"). Nonfederal dam owners generally are responsible for investing in the safety, rehabilitation, and repair of their dams. The Commissioner of Reclamation also serves as the Department of the Interior's (DOI's) coordinator for dam safety and advises the Secretary of the Interior on program development and operation of the dam safety programs within DOI. In addition, Congress may maintain or amend policies for disclosure of dam safety information when considering the federal role in both providing dam safety risk and response information to the public (including those living downstream of dams) while also maintaining security of these structures. Many agencies with large dam portfolios (e.g., Reclamation and USACE) have since moved from this solely standards-based approach for their dam safety programs to a portfolio risk management approach to dam safety, including evaluating all modes of failure (e.g., seepage of water and sediment through a dam) and prioritizing rehabilitation and repair efforts. Inspections may result in an update of the dam's hazard potential and condition assessment (see Figure 8 for the status of hazard potential and condition assessments of federal dams). At the end of each odd-numbered fiscal year, FEMA is to submit to Congress a report describing the NDSP's status, federal agencies' progress at implementing the Federal Guidelines for Dam Safety , progress achieved in dam safety by states participating in the program, and any recommendations for legislation or other actions (33 U.S.C. Recent eventsâincluding the evacuation of approximately 200,000 people in California in 2017 due to structural deficiencies of the spillway at Oroville Damâhave led to increased attention on the condition of dams and the federal role in dam safety. Similar metrics have improved for some federal agencies that own dams, and certain federal dam safety programs have implemented or are beginning to implement risk-based dam safety approaches to managing their dam portfolios (e.g., USACE and Reclamation). The act also authorized the Secretary of the Interior to develop additional project benefits, through the construction of new or supplementary works on a project in conjunction with dam safety modifications, if such additional benefits are deemed necessary and in the interests of the United States and the project. Eligible dams must be in a state with a dam safety program, be classified as high hazard, have developed a state-approved EAP, fail to meet the state's minimum dam safety standards, and pose an unacceptable risk to the public. This report provides an overview of dam safety and associated activities in the United States, highlighting the federal role in dam safety. Federal government agencies reported owning 3% of the more than 90,000 dams in the National Inventory of Dams (NID), including some of the country's largest dams (e.g., the Bureau of Reclamation's Hoover Dam in Nevada is 730 feet tall with storage capacity of over 30 million acre-feet of water). In 2018, the percentage of high hazard potential dams in the United States with EAPs was 74% for federally owned dams and 80% for state-regulated dams.                                                                                                                                                                                                                                                                                                                                                                                                                                                                                                                                                                                                                                                                                                                                                                                                                                                                                                                                                                                                                                                                                                                                                                                                                                                                                                                                                                                                                                                                                                                                                                                                                                                                                                                                                                                                                                                                                                                                                                                                                                                                                                                                                                                                                                                                                                                                                                                                                                                                                                                                                                                                                                                                                                                                                                                                                                                                                                                                                                                                                                                                                                                                                                                                                                                                                                                                                                                                                               1\n",
       "                                                                                                                                                                                                                                                                                                                                                                                                                                                                                                                                                                                                                                                                                                                                                                                                                                                                                                                                                                                                                                                                                                                                                                                                                                                                                                                                                                                                                                                                                                                                                                                                                                                                                                                                                                                                                                                                                                                                                                                                                                                                                                                                                                                                                                                                                                                                                                                                                                                                                                                                                                                                                                                                                                                                                                                                                                                                                                                                                                                                                                                                                                                                                                                                                                                                                                                                                                                                                                                                                                                                                                                                                                                                                                                                                                                                                                                                                                                                                                                                                                                                                                                                                                                                                                                                                                                                                                                                                                                                                                                                                                                                                                                                                                                                                                                                                                                                                                                                                                                                                                                                                                                                                                                                                                                                                                                                                                                                                                                                                                                                                                                                                                                                                                                                                                                                                                                                                                                                                                                                                                                                                                                                                                                                                                                                                                                                                                                                                                                                                                                                                                                                                                                                                                                                                                                                                                                                                                                                                                                                                                                                                                                                                                                                                                                                                                                                                                                                                                                                                                                                                                                                                                                                                                                                                                                                                                                                                                                                                                                                                                                                                                                                                                                                                                                                                                                                                                                                                                                                                                                                                                                                                                                                                                                                                                                                                                                                                                                                                                                                                                                                                                                                                                                                                                                                                                                                                                                                                                                                                                                                                                                                                                                    ..\n",
       "In this report, we (1) identify federal insurance and other activities that transfer risk or losses to the federal government and, where possible, identify cost- and exposure-related information on these activities; and (2) use selected activities to illustrate some of the challenges that we identified in past reports with measuring and reporting fiscal exposures in budget documents. The Share Insurance Fund is backed by the full faith and credit of the U.S. government and, according to NCUA, has $6.0 billion in borrowing authority from the U.S. Treasury, all of which was available as of December 31, 2017. With the exception of the Terrorism Risk Insurance Program, we identified these programs through an analysis of the U.S. Code, since the programs have not had liabilities or appropriations and could not be found in the Financial Report or the President’s Budget. Tables 15, 16, and 17 list a total of 95 federal activities that met our criteria of transferring risk or losses from adverse events from third parties to the federal government and that we found in the Budget of the United States Government (President’s Budget), the Catalog of Federal Domestic Assistance (CFDA), or the Code of Laws of the United States (U.S. Code). The federal government is also the primary reinsurer for the private insurance companies that take on the risk of covering losses to insured farmers, allowing private insurers and the federal government to share in the risk of loss and opportunity for gain associated with the policies. We previously reported that the primarily cash-based budget may not accurately reflect the costs the government incurs and the payments the government may be expected to make for some activities that transfer risk or losses to the government. As we previously found, the federal budget may not accurately reflect the government’s costs or the likely claim on federal resources from activities that transfer risk or losses to the government. We then used the following sources to identify federal activities that met our criteria: (1) 2017 Financial Report of the United States Government (Financial Report) and underlying account-level data from the Government-wide Treasury Account Symbol Adjusted Trial Balance System (GTAS) of the Department of the Treasury (Treasury), (2) the Office of Management and Budget’s (OMB) President’s Budget; (3) OMB’s Catalog of Federal Domestic Assistance (CFDA) administered by the General Services Administration; and (4) the Code of Laws of the United States (U.S. Code). First, the federal budget process serves as the primary financial plan of the federal government and thus plays a critical role in the decision- making process for all federal expenditures, including those for insurance programs and other activities that transfer risk or losses to the federal government. To find information on the programs, the role of the government in the administration of the programs, and cost- and exposure-related information on the programs, we analyzed GAO reports, individual agency annual, financial, or other reports, and reports from the Congressional Budget Office. FASAB defines an insurance program as “a general term used to refer to a program that is authorized by law to financially compensate a designated population of beneficiaries by accepting all or part of the risk for losses incurred as a result of an adverse event.” In addition to activities that may fall under the FASAB definition of insurance, the federal government undertakes other activities that compensate or provide benefits to individuals or other third parties that suffer losses from an adverse event. An analysis of the President’s Budget, the Catalog of Federal Domestic Assistance (CFDA), and the U.S. Code yielded 95 additional activities that met our criteria of transferring risks or losses from adverse events to the federal government. Table 5 has information on the budget accounts we found with more than $10 billion in total new obligations for fiscal year 2017 that funded activities that transferred risk or losses to the federal government. First, we identified certain categories of federal activities that met our criteria using the note disclosures of the 2017 Financial Report: We identified the following federal insurance programs by analyzing the note disclosure on federal insurance and guarantee liabilities as well as our internal audit documents on that note disclosure for fiscal years 2014–2017: Federal Crop Insurance Program, National Flood Insurance Program (NFIP), Pension Benefit Guaranty Corporation’s (PBGC) single-employer and multiemployer pension insurance programs, Federal Deposit Insurance Corporation’s Deposit Insurance Fund, and National Credit Union Administration’s Share Insurance Fund. We applied the criteria to the Appendix of the Budget of the United States Government (President’s Budget) for Fiscal Year 2005 to identify budget accounts that funded federal insurance activities per our criteria. To compile the 2005 catalog, we developed the following criteria for identifying federal insurance activities: (1) The federal government must accept the risk of financial loss in providing protection against specific types of losses, events, or conditions whose timing, magnitude, or duration, are uncertain or unknown; and (2) by accepting this insurance risk, the federal government must be obligated to pay compensation or provide benefits if the losses, events, or conditions occur. Therefore, claims up to the statutory limit are explicit exposures, and losses in excess of PBGC’s available resources represent an implicit exposure for the federal government to the extent there is an expectation that the government would step in and cover losses beyond the program’s reserves. We reviewed the Financial Report and the President’s Budget for information and financial measures on these activities, such as receipts, outlays, and net position for NFIP and PBGC. In 2017, we recommended that RMA and Congress consider improving the calculations related to the payments to and risk-sharing agreements with participating insurance companies to reduce year-to-year fluctuations in the subsidy costs of the program. Federal activities that transfer risk or losses to the federal government have a range of fiscal exposures in which the extent of the government’s legal commitment varies (see fig. But in the same year, the program also had a $76 billion negative net position, which is one measure of the magnitude of the government’s fiscal exposure and is not included in the budget (see fig. Lastly, we conducted a search of key words in the table of contents of the U.S. Code and found additional activities that provided compensation for property damage or financial loss and thus transferred risk or losses to the federal government. This cost, the loan guarantee subsidy cost (referred to in this report as “subsidy cost”), equals the net present value of the following cash flows at the time a loan guarantee is disbursed by the lender: (1) the estimated payments by the government to cover defaults, delinquencies, interest subsidies, or other payments; and (2) the estimated payments to the government, including origination and other fees, penalties and recoveries. We refer to the President’s Budget as primarily “cash-based.” The Secretary of the Treasury, in coordination with the Director of OMB, prepares the annual Financial Report, which consolidates and summarizes financial information from federal agencies and departments. As mentioned earlier, we listed federal activities that meet the following criteria: (1) a risk of financial loss or actual financial loss to a third party exists that stems from an adverse event; and (2) through the activity, the federal government accepts some or all of the risk of financial loss or actual financial loss from the adverse event by indemnifying, guaranteeing, or providing benefits to the affected entity or beneficiary.                                                                                                                                                                                                                                                                                                                                                                                                                                                                                                                                                                                                                                                                                                                                                                                                                                                                                                                                                                                                                                                                                                                                                                                                                                                                                                                                    1\n",
       "Our descriptive and adjusted analyses of data on promotions in fiscal years 2002 through 2017 for USAID’s Foreign Service both found that the rate and odds of promotion were generally higher for women than for men, as table 7 shows. As table 6 shows, our descriptive analysis of USAID data on promotions in fiscal years 2002 through 2017 found that the rate of promotion in USAID’s Civil Service was generally lower for women than for men at GS- 13 and lower ranks. In addition, our analysis of yearly promotion rates in the Civil Service for fiscal years 2013 through 2017 showed that the rate of promotion from GS-11 and higher ranks was greater for whites than for racial or ethnic minorities for every rank and year, except for promotions from GS-15 to the executive class in fiscal years 2013, 2014, and 2016. Table 38 shows the promotion rates for white employees and racial or ethnic minority employees in USAID’s Civil and Foreign Services in fiscal years 2013 through 2017. from Class 4 and higher ranks for 12 of the 20 possible year-rank combinations in the Foreign Service. In contrast to the proportion of African Americans, the proportions of Hispanics, Asians, and other racial or ethnic minorities at USAID increased in both the Civil and Foreign Services from fiscal year 2002 to fiscal year 2018. While the adjusted rates of promotion from Class 3 to Class 2 and from Class 1 to the executive rank were lower for women than for men, there were no statistically significant differences in the odds of promotion from these ranks for women relative to men in the Foreign Service. As table 37 shows, our analysis of yearly promotion rates for fiscal years 2013 through 2017 at the U.S. Agency for International Development (USAID) found that promotion rates for white employees exceeded those for racial or ethnic minority employees for Civil Service promotions from GS-11 and every higher rank in every year, except from GS-15 to executive in 3 years, and Foreign Service promotions from Class 4 and higher ranks for 11 of the 20 possible year-rank combinations. The following figures and tables present numbers and proportions of employees in racial, ethnic, and gender groups in the U.S. Agency for International Development (USAID) overall and in USAID’s Civil and Foreign Services in fiscal years 2002 through 2018. Specifically, our adjusted analysis of USAID data on promotions in fiscal years 2002 through 2017 found the following: On average, the adjusted rate of promotion from Class 3 to Class 2 for racial or ethnic minorities was 11.0 percent, compared with 13.1 percent for whites. Our comparison of USAID workforce data for fiscal year 2018 with federal government workforce data for 2017 found the following: The proportion of women at USAID in fiscal year 2018 (54 percent) was higher than the proportion of women in the federal workforce in fiscal year 2017 (43 percent). Our comparison of USAID workforce data for fiscal year 2018 with federal workforce data for fiscal year 2017—the most recent available— found that the proportion of racial or ethnic minorities was 37 percent both at USAID and in the federal workforce. As table 5 shows, our descriptive analysis of data for USAID’s Foreign Service found that the rate of promotion was generally lower for racial or ethnic minorities than for whites. As table 5 shows, our descriptive analysis of the data for USAID’s Foreign Service found that for Class 4 and higher ranks, a lower average percentage of racial or ethnic minorities than of whites was promoted from each rank except Class 1. Specifically, our adjusted analysis of data on promotions in fiscal years 2002 through 2017 found the following: On average, the adjusted rate of promotion from Class 4 to Class 3 for women in the Foreign Service was 34.7 percent, compared with 31.5 percent for men. This report examines (1) the demographic composition of USAID’s workforce in fiscal years 2002 through 2018, (2) differences in promotion outcomes for racial or ethnic groups in USAID’s workforce, (3) differences in promotion outcomes for men and women in USAID’s workforce, and (4) the extent to which USAID has identified workforce diversity issues and worked to address them. In particular, the proportions of African Americans and Asians were higher at USAID in fiscal year 2018 than in the federal workforce in fiscal year 2017, but the proportion of Hispanics was lower at USAID than in the federal workforce for those years. Our adjusted analysis of the USAID data, controlling for certain factors other than gender that could influence promotion, found no statistically significant differences in the rates or odds of promotion for women compared with men in the Civil Service. Our adjusted analysis of the data for USAID’s Foreign Service, controlling for certain factors other than gender that could influence promotion, found that the adjusted rates and odds of promotion varied for women relative to men in the Foreign Service. Our analysis of U.S. Agency for International Development (USAID) workforce data found that racial or ethnic minorities generally spent more years in each rank than whites did in USAID’s Civil Service in fiscal years 2002 through 2018. Specifically, our adjusted analysis of USAID data on promotions in fiscal years 2002 through 2017 found the following: The average adjusted rate of promotion from GS-11 to GS-12 for racial or ethnic minorities was 46.8 percent, compared with an average of 55.8 percent for whites. As figure 3 shows, from fiscal year 2002 to fiscal year 2018, the proportion of Hispanics at USAID rose from 3 to 6 percent; Asians, from 4 to 7 percent; and other racial or ethnic minorities, from 1 to 2 percent of USAID employees. This statistically significant difference indicates that the odds of promotion from Class 3 to Class 2 in the Foreign Service were 21.5 percent lower for racial or ethnic minorities than for whites. The adjusted rates and odds of promotion for racial or ethnic minorities relative to whites were also lower for promotion from Class 4 to Class 3 and from Class 2 to Class 1 and were higher for promotion from Class 1 to the executive rank, but these differences were not statistically significant at the 95 percent confidence level. The following figures and tables present the numbers and proportions of political appointees in racial or ethnic and gender groups in USAID overall and USAID’s Civil Service and Foreign Service in fiscal years 2002 through 2018. Both our descriptive analysis and adjusted analysis of data for USAID’s Civil Service found that promotion rates were lower for racial or ethnic minorities than for whites in early to mid career, as table 4 shows.                                                                                                                                                                                                                                                                                                                                                                                                                                                                                                                                                                                                                                                                                                                                                                                                                                                                                                                                                                                                                                                                                                                                                                                                                                                                                                                                                                                                                                                                                                                                                                                                                                                                                                                                                                                                                                                                                                                                                                                                                                                                                                                                                                                                                                                                                                                                                                                                                                                                                                                                                                                                                                                                1\n",
       "Table 4 shows the 17 programs that had a substantial change in the improper payment estimates or rates between fiscal years 2018 and 2019, and the reasons for those changes, as reported in the agency financial reports. The six criteria are as follows: 1. publish a financial report in the form and including all content required by OMB—typically an AFR or a PAR—for the most recent fiscal year, and post that report on the agency website; 2. conduct a program-specific risk assessment, if required, for each program or activity that conforms with IPIA, as amended; 3. publish improper payment estimates for all programs and activities deemed susceptible to significant improper payments; 4. publish corrective action plans for those programs and activities assessed to be susceptible to significant improper payments; 5. publish and meet annual reduction targets for all programs and activities assessed to be at risk for significant improper payments; and 6. report a gross improper payment rate of less than 10 percent for each program and activity for which an improper payment estimate was published. Examples of substantial changes in improper payments and the reasons for such changes that agencies provided in their AFRs include the following: Department of Health and Human Services (HHS) reported an increase in the total estimated improper payments for the Medicaid program in excess of $21.1 billion for fiscal year 2019. For example, certain federal programs and activities that agencies determined to be at risk for significant improper payments did not report estimates of improper payments for fiscal year 2019, including the Premium Tax Credit and Temporary Assistance for Needy Families programs, and as we previously reported, the Department of Defense (DOD) lacks quality assurance procedures to ensure the completeness and accuracy of the payment populations from which it develops improper payment estimates. The total improper payment estimates for programs reported as noncompliant for 3 or more consecutive years decreased for fiscal 2017 primarily because the Medicare Fee-for-Service program, with about $41 billion of improper payments in fiscal year 2016, was reported as compliant beginning fiscal year 2017. The Improper Payments Information Act of 2002 (IPIA), as amended by IPERA and the Improper Payments Elimination and Recovery Improvement Act of 2012, requires executive branch agencies, among other things, to (1) review all programs and activities and identify those that may be susceptible to significant improper payments (commonly referred to as conducting a risk assessment), (2) publish improper payment estimates for those programs and activities that the agency identified as being susceptible to significant improper payments, (3) implement corrective actions to reduce improper payments and set reduction targets, and (4) report on the results of addressing the foregoing requirements. Table 2 details the improper payment estimates and rates that federal agencies reported to the Office of Management and Budget or in their agency financial reports or performance and accountability reports for fiscal years 2019 and 2018. The majority of the increase in the total estimated improper payments for the Medicaid program was due to HHS’s reintegration of the eligibility component of the Payment Error Rate Measurement (PERM) for Medicaid for fiscal year 2019. Appendix III provides information on all the programs that had a substantial change in estimated improper payments between fiscal years 2018 and 2019 and the reasons for those changes as reported in agency AFRs. Based on agencies that reported improper payment estimates in their AFRs and PARs, government-wide estimated improper payments for fiscal years 2019 and 2018 totaled about $175 billion and $151 billion, respectively. In addition, as shown in the table 2, 17 programs had a substantial change in their reported improper payment estimates or rates between fiscal years 2018 and 2019. As stated above, IGs for 12 of the 24 CFO Act agencies reported that their agencies were compliant with IPERA overall for fiscal year 2018. The improvement in IPERA compliance is attributable to the Departments of Commerce and Education, which were reported by their IGs as noncompliant in fiscal year 2017 but compliant in fiscal year 2018. The reported improper payment estimates for these programs totaled about $109 billion for fiscal year 2016, $74 billion for fiscal year 2017, and $78 billion for fiscal year 2018. Based on the IGs’ fiscal year 2018 compliance reports, agencies were most frequently reported as noncompliant with the IPERA requirement to publish and meet annual targets for improper payment reduction. In addition, HHS reported a decrease in the total estimated improper payments for the Medicare Fee-for-Service (Parts A and B) program of about $2.7 billion. Figure 5 details the Chief Financial Officers Act of 1990 (CFO Act) agencies’ overall compliance with the Improper Payments Elimination and Recovery Act of 2010 (IPERA), as well as the agencies’ compliance with each of the six IPERA criteria for fiscal year 2018, as reported by their inspectors general. In addition, the IGs reported that 21 programs within these agencies were noncompliant with IPERA for each of the past 3 fiscal years (2016–2018). The fiscal year 2019 total reported government-wide estimated improper payments, among programs that reported estimates, increased by about $24 billion from the fiscal year 2018 total reported. Key information contained in agency AFRs and PARs regarding the types and causes of fiscal year 2019 estimates of improper payments, and reasons for significant changes in reported estimates from fiscal year 2018, are summarized as follows: The $175 billion total reported government-wide estimates for fiscal year 2019 is broken down per OMB’s Paymentaccuracy.gov Data Call Instructions by type as follows: overpayments, totaling about $79.1 billion (approximately 45.2 underpayments, totaling about $12.9 billion (approximately 7.4 unknown, totaling about $74.1 billion (approximately 42.4 technically improper due to statute or regulation, totaling about $8.7 billion (approximately 5 percent). No agencies that IGs reported as compliant in fiscal year 2017 were reported as noncompliant in fiscal year 2018. Specifically, the number of programs reported as noncompliant for 3 or more consecutive years increased from 14 programs in fiscal year 2016 to 18 programs in fiscal year 2017 and 21 programs in fiscal year 2018. Improper payment estimates for these programs totaled about $78 billion, representing approximately 52 percent of the $151 billion government- wide reported improper payment estimates for fiscal year 2018. With regard to the six IPERA criteria, as shown in figure 2, IGs reported all agencies as compliant with the requirement to conduct program-specific risk assessments if it was applicable to the agency. About $151.2 billion (approximately 86.6 percent) of the reported government-wide improper payment estimates for fiscal year 2019 related to root causes that occurred in the three areas below.                                                                                                                                                                                                                                                                                                                                                                                                                                                                                                                                                                                                                                                                                                                                                                                                                                                                                                                                                                                                                                                                                                                                                                                                                                                                                                                                                                                                                                                                                                                                                                                                                                                                                                                                                                                                                                                                                                                                                                                                                                                                                                                                                                                                  1\n",
       "Figure 2 shows the program’s planned end to developmental testing and planned timeframes for operational testing for 2012 and the past four years and the delays the program has realized each year since the program was re-baselined in 2012. While the program is on track to meet the targets for half of the metrics, the program has not taken adequate steps to ensure the targets for the others will be met. Of the 23 operational test aircraft, the program replaced the fuel tubes on 18 aircraft by the start of operational testing in December 2018, which contributed to the 3-month delay. With development of the baseline program complete, the program is transitioning to early development and testing for modernization efforts known as Block 4, which are expected to cost about $10.5 billion. According to best practices identified by GAO, without several of the business case documents completed, program officials cannot have a high level of confidence that the requirements are firm and that the risk to committing an estimated $10.5 billion in funding to Block 4 has been adequately reduced. For example: According to the program office, it has invested a total of $320.3 million in efforts to improve manufacturing processes that it estimates could result in up to $7.9 billion in savings over the life of the program. In June 2018, we recommended that the Secretary of Defense direct the F-35 program to resolve all these deficiencies before the program’s October 2019 full-rate production decision. In this report, we (1) provide information on the program’s progress toward completing testing of the baseline aircraft; (2) assess the aircraft’s current reliability and maintainability (R&M) status; (3) assess the program’s modernization efforts (to add new aircraft capabilities), known as Block 4; and (4) provide information on the program’s production costs and efficiency initiatives. To provide information on progress in the F-35’s development, we reviewed the program’s costs, schedule, and performance plans and compared the actual progress in each area with the goals established in its 2012 baseline to identify any significant trends. According to CAPE officials, they will provide the independent cost estimate between October and December 2019 to support the program’s full-rate production decision, but this would occur several months after the program plans to award the Block 4 development contracts. The F-35 program office has not prioritized or dedicated funding in its budget to improve R&M in part because program officials explained that they have been focused on initiatives intended to lower the cost of the aircraft. According to a test official, as of April 2019, some of these risks have been realized, such as the delay with the simulator, and as a result, the end of operational testing is now planned for December 2019. In June 2018, we recommended that the F-35 program identify what steps it needs to take to ensure the F-35 aircraft meet R&M requirements before each variant reaches maturity and update its R&M Improvement Program (RMIP)—DOD’s action plan for prioritizing and funding R&M improvement projects—with these steps. DOD stated that the F-35 program office has adequate cost, schedule, and technical maturity knowledge to begin the development of initial Block 4 capabilities. As the program is considering revisions to its R&M Improvement Program (RMIP), it is in a good position to clearly define and communicate its R&M objectives for the aircraft to meet the targets under all of its eight R&M metrics. According to program officials, as of December 2018, the program has executed contract actions valued over $1.4 billion to establish testing facilities and support early Block 4 development of capabilities the program plans to deliver through 2024. (Recommendation 4) The Secretary of Defense should ensure that the F-35 program office completes its business case, at least for the initial Block 4 capabilities under development, before initiating additional development work, to include: an independent cost estimate; an approved test and evaluation master plan which addresses resources, aircraft shortfalls, and funding; and an independent technology readiness assessment. According to DOD officials, it would not be unexpected during the course of operational testing for the program to discover additional deficiencies that may require resolution and re-testing. Pratt & Whitney has also increased production over the past year and has shown similar manufacturing performance for the F-35 engine as in past years; however, it had fewer on-time deliveries in 2018 due to the challenges it faced, including an increase in the average number of quality issues per engine. For example, as of December 2018, according to a contractor representative, all of the identified improvement projects currently unfunded in the program’s RMIP would cost about $30 million to implement, but are on hold and waiting to be funded. As of December 2018, the guidance the F-35 program office has used to implement the RMIP does not define specific, measurable objectives for what the desired goals for the F-35’s R&M performance should be or align improvement projects with R&M goals. In our prior work, we identified the F-35 program’s lack of adequate knowledge and high levels of concurrency as the major drivers of the program’s significant cost and schedule growth, and other performance shortfalls. Since the start of development, the program has pushed the procurement of more than half of the total aircraft planned into the future, mostly due to significant concurrency between development and production. The F-35 program office has estimated that implementing all of the identified improvement projects currently contained in its RMIP could result in potential life cycle cost savings of over $9.2 billion by improving the F-35’s R&M. In addition, DOD planned to manage the follow-on modernization program under the current F-35 program baseline and not as its own separate major defense acquisition program.                                                                                                                                                                                                                                                                                                                                                                                                                                                                                                                                                                                                                                                                                                                                                                                                                                                                                                                                                                                                                                                                                                                                                                                                                                                                                                                                                                                                                                                                                                                                                                                                                                                                                                                                                                                                                                                                                                                                                                                                                                                                                                                                                                                                                                                                                                                                                                                                                                                                                                                                                                                                                                                                                                                                                                                                                                                                                                                                                                                                                                                                                                                                                                                                                                                                                                                                     1\n",
       "The measure was amended in the Senate to provide full-year funding for the seven remaining regular appropriations bills and agreed to by voice vote on January 25. The Senate added the text of the Agriculture appropriations bill and the Transportation and HUD appropriations bill and passed the combined measure on August 1, 2018. In the 115 th Congress and prior to the start of FY2019 on October 1, 2018, the House passed half of the regular bills (6 out of 12), and the Senate passed 9 bills (see Table 2 and Table 3 ). The measure was passed by the Senate on January 25 by voice vote, with an amendment providing for continuing appropriations through February 15. The amended CR passed the House by a vote of 217-185 and was sent back to the Senate for further consideration. The Senate added the text of the Labor, HHS, and Education appropriations bill and passed the combined measure on August 23, 2018. The resolution passed the House on a voice vote, but the House later, by unanimous consent, vacated the proceedings by which the CR had passed and allowed further proceedings to be postponed through the legislative day of January 23, 2019. While the Senate continued consideration of the House amendment on December 22, December 27, and January 2, no further votes on appropriations occurred during the 115 th Congress. The House passed the Defense appropriations bill ( H.R. In addition, the House passed a measure combining the Interior and Environment appropriations bill with the Financial Services appropriations bill ( H.R. The bill passed the House by a vote of 244-180. The House and Senate Appropriations Committees completed their drafting and consideration of all 12 regular appropriations bills by the end of July 2018. On January 24, 2019, the Senate considered two separate amendments to the House-passed bill: a Republican amendment ( S.Amdt. No further action was taken in the Senate. No further action was taken in the Senate. No further action was taken in the Senate. No further action was taken in the Senate. No further action was taken in the Senate. No further action was taken in the Senate. No further action was taken in the Senate. The Senate passed the final measure on September 12. The bill passed the House by a vote of 237-187. The bill passed the House by a vote of 234-180. The resolution subsequently passed the House by a vote of 229-184 on January 23. 31 was filed on February 13 and agreed to in the Senate, 83-16, on February 14 and in the House, 300-128, the same day.                                                                                                                                                                                                                                                                                                                                                                                                                                                                                                                                                                                                                                                                                                                                                                                                                                                                                                                                                                                                                                                                                                                                                                                                                                                                                                                                                                                                                                                                                                                                                                                                                                                                                                                                                                                                                                                                                                                                                                                                                                                                                                                                                                                                                                                                                                                                                                                                                                                                                                                                                                                                                                                                                                                                                                                                                                                                                                                                                                                                                                                                                                                                                                                                                                                                                                                                                                                                                                                                                                                                                                                                                                                                                                                                                                                                                                                                                                                                                                                                                                                                                                                                                                                                                                                                                                                                                                                                                                                                                                                                                                                                                                                                                                                                                                                                                                                                                                                                                                                                                                                                                                                                                                                                                                                                                                                                                                                                                                                                                                                                                                                                                                                                                                                                                                                                                                                                                                                                                                                                                                                                                                                                                                                                                                                                                                                                                                                                                                                                                                                                                                                                                                                                                                                                                                                                                                                                                                                                                                                                                               1\n",
       "Name: count, Length: 971, dtype: int64"
      ]
     },
     "execution_count": 7,
     "metadata": {},
     "output_type": "execute_result"
    }
   ],
   "execution_count": 7
  },
  {
   "metadata": {
    "ExecuteTime": {
     "end_time": "2025-04-12T03:19:31.531457Z",
     "start_time": "2025-04-12T03:19:31.529983Z"
    }
   },
   "cell_type": "code",
   "source": "",
   "id": "e9dfbb0a7a4e2928",
   "outputs": [],
   "execution_count": null
  },
  {
   "metadata": {
    "ExecuteTime": {
     "end_time": "2025-04-12T03:19:31.536936Z",
     "start_time": "2025-04-12T03:19:31.534477Z"
    }
   },
   "cell_type": "code",
   "source": [
    "import re\n",
    "# Function to clean text\n",
    "def clean_text(text):\n",
    "    return re.sub(r'[^\\w\\s]', '', str(text)).strip().lower()"
   ],
   "id": "a6b465eef77c0226",
   "outputs": [],
   "execution_count": 8
  },
  {
   "metadata": {
    "ExecuteTime": {
     "end_time": "2025-04-12T03:19:32.545138Z",
     "start_time": "2025-04-12T03:19:31.585203Z"
    }
   },
   "cell_type": "code",
   "source": "testdf['is_match'] = testdf.apply(lambda row: clean_text(row['Article']) == clean_text(testdf['generated_summary']), axis=1)",
   "id": "72edaf855ee27209",
   "outputs": [],
   "execution_count": 9
  },
  {
   "metadata": {
    "ExecuteTime": {
     "end_time": "2025-04-12T03:19:32.573461Z",
     "start_time": "2025-04-12T03:19:32.567487Z"
    }
   },
   "cell_type": "code",
   "source": "testdf.head()",
   "id": "baee3b7960079285",
   "outputs": [
    {
     "data": {
      "text/plain": [
       "   Unnamed: 0                                            Article  \\\n",
       "0           0  In our prior work, we have found that technolo...   \n",
       "1           1  A variety of federal laws, regulations, and po...   \n",
       "2           2  According to the National Research Council, al...   \n",
       "3           3  Nursing homes are required to keep residents s...   \n",
       "4           4  This section provides an overview of (1) the l...   \n",
       "\n",
       "                                             Summary  \\\n",
       "0  Multiple firms have produced cell-cultured mea...   \n",
       "1  Federal advisory committees provide advice to ...   \n",
       "2  DOD manages a global real-estate portfolio wit...   \n",
       "3  Nursing homes provide care to about 1.4 millio...   \n",
       "4  Decades of defense activities at DOE's Idaho N...   \n",
       "\n",
       "                                  extractive_summary  \\\n",
       "0  Some firms have developed prototypes of cell-c...   \n",
       "1  EPA’s federal advisory committees play an impo...   \n",
       "2  DOD has a global real estate portfolio that su...   \n",
       "3  Nursing home characteristics.. At the national...   \n",
       "4  DOE has a process for determining that certain...   \n",
       "\n",
       "                                   generated_summary  is_match  \n",
       "0  As a result, certain information is not yet av...     False  \n",
       "1  In most instances, the four characteristics th...     False  \n",
       "2  (Recommendation 1) The Secretary of the Navy s...     False  \n",
       "3  Our review of CMS’s State Operations Manual fo...     False  \n",
       "4  DOE agreed with our recommendations related to...     False  "
      ],
      "text/html": [
       "<div>\n",
       "<style scoped>\n",
       "    .dataframe tbody tr th:only-of-type {\n",
       "        vertical-align: middle;\n",
       "    }\n",
       "\n",
       "    .dataframe tbody tr th {\n",
       "        vertical-align: top;\n",
       "    }\n",
       "\n",
       "    .dataframe thead th {\n",
       "        text-align: right;\n",
       "    }\n",
       "</style>\n",
       "<table border=\"1\" class=\"dataframe\">\n",
       "  <thead>\n",
       "    <tr style=\"text-align: right;\">\n",
       "      <th></th>\n",
       "      <th>Unnamed: 0</th>\n",
       "      <th>Article</th>\n",
       "      <th>Summary</th>\n",
       "      <th>extractive_summary</th>\n",
       "      <th>generated_summary</th>\n",
       "      <th>is_match</th>\n",
       "    </tr>\n",
       "  </thead>\n",
       "  <tbody>\n",
       "    <tr>\n",
       "      <th>0</th>\n",
       "      <td>0</td>\n",
       "      <td>In our prior work, we have found that technolo...</td>\n",
       "      <td>Multiple firms have produced cell-cultured mea...</td>\n",
       "      <td>Some firms have developed prototypes of cell-c...</td>\n",
       "      <td>As a result, certain information is not yet av...</td>\n",
       "      <td>False</td>\n",
       "    </tr>\n",
       "    <tr>\n",
       "      <th>1</th>\n",
       "      <td>1</td>\n",
       "      <td>A variety of federal laws, regulations, and po...</td>\n",
       "      <td>Federal advisory committees provide advice to ...</td>\n",
       "      <td>EPA’s federal advisory committees play an impo...</td>\n",
       "      <td>In most instances, the four characteristics th...</td>\n",
       "      <td>False</td>\n",
       "    </tr>\n",
       "    <tr>\n",
       "      <th>2</th>\n",
       "      <td>2</td>\n",
       "      <td>According to the National Research Council, al...</td>\n",
       "      <td>DOD manages a global real-estate portfolio wit...</td>\n",
       "      <td>DOD has a global real estate portfolio that su...</td>\n",
       "      <td>(Recommendation 1) The Secretary of the Navy s...</td>\n",
       "      <td>False</td>\n",
       "    </tr>\n",
       "    <tr>\n",
       "      <th>3</th>\n",
       "      <td>3</td>\n",
       "      <td>Nursing homes are required to keep residents s...</td>\n",
       "      <td>Nursing homes provide care to about 1.4 millio...</td>\n",
       "      <td>Nursing home characteristics.. At the national...</td>\n",
       "      <td>Our review of CMS’s State Operations Manual fo...</td>\n",
       "      <td>False</td>\n",
       "    </tr>\n",
       "    <tr>\n",
       "      <th>4</th>\n",
       "      <td>4</td>\n",
       "      <td>This section provides an overview of (1) the l...</td>\n",
       "      <td>Decades of defense activities at DOE's Idaho N...</td>\n",
       "      <td>DOE has a process for determining that certain...</td>\n",
       "      <td>DOE agreed with our recommendations related to...</td>\n",
       "      <td>False</td>\n",
       "    </tr>\n",
       "  </tbody>\n",
       "</table>\n",
       "</div>"
      ]
     },
     "execution_count": 10,
     "metadata": {},
     "output_type": "execute_result"
    }
   ],
   "execution_count": 10
  },
  {
   "metadata": {
    "ExecuteTime": {
     "end_time": "2025-04-12T03:21:19.050697Z",
     "start_time": "2025-04-12T03:21:15.544377Z"
    }
   },
   "cell_type": "code",
   "source": [
    "from rouge import Rouge\n",
    "\n",
    "rouge = Rouge()\n",
    "\n",
    "def truncate_text(text, max_words=100):\n",
    "    return \" \".join(text.split()[:max_words])\n",
    "\n",
    "def compute_rouge(reference, generated):\n",
    "    if not generated.strip():  # Handle empty strings\n",
    "        return {\"rouge-1\": 0, \"rouge-2\": 0, \"rouge-l\": 0}\n",
    "    \n",
    "    # Truncate long summaries\n",
    "    reference = truncate_text(reference)\n",
    "    generated = truncate_text(generated)\n",
    "    \n",
    "    scores = rouge.get_scores(generated, reference)\n",
    "    return scores[0]\n",
    "\n",
    "# Apply function\n",
    "testdf[\"rouge_scores\"] = testdf.apply(lambda row: compute_rouge(row[\"extractive_summary\"], row[\"generated_summary\"]), axis=1)\n"
   ],
   "id": "63df238a8dfef07c",
   "outputs": [],
   "execution_count": 19
  },
  {
   "metadata": {
    "ExecuteTime": {
     "end_time": "2025-04-12T03:21:21.307993Z",
     "start_time": "2025-04-12T03:21:21.298904Z"
    }
   },
   "cell_type": "code",
   "source": "testdf.head()",
   "id": "bb6a7bc2420a7ae2",
   "outputs": [
    {
     "data": {
      "text/plain": [
       "   Unnamed: 0                                            Article  \\\n",
       "0           0  In our prior work, we have found that technolo...   \n",
       "1           1  A variety of federal laws, regulations, and po...   \n",
       "2           2  According to the National Research Council, al...   \n",
       "3           3  Nursing homes are required to keep residents s...   \n",
       "4           4  This section provides an overview of (1) the l...   \n",
       "\n",
       "                                             Summary  \\\n",
       "0  Multiple firms have produced cell-cultured mea...   \n",
       "1  Federal advisory committees provide advice to ...   \n",
       "2  DOD manages a global real-estate portfolio wit...   \n",
       "3  Nursing homes provide care to about 1.4 millio...   \n",
       "4  Decades of defense activities at DOE's Idaho N...   \n",
       "\n",
       "                                  extractive_summary  \\\n",
       "0  Some firms have developed prototypes of cell-c...   \n",
       "1  EPA’s federal advisory committees play an impo...   \n",
       "2  DOD has a global real estate portfolio that su...   \n",
       "3  Nursing home characteristics.. At the national...   \n",
       "4  DOE has a process for determining that certain...   \n",
       "\n",
       "                                   generated_summary  is_match  \\\n",
       "0  As a result, certain information is not yet av...     False   \n",
       "1  In most instances, the four characteristics th...     False   \n",
       "2  (Recommendation 1) The Secretary of the Navy s...     False   \n",
       "3  Our review of CMS’s State Operations Manual fo...     False   \n",
       "4  DOE agreed with our recommendations related to...     False   \n",
       "\n",
       "                                        rouge_scores  cosine_similarity  \n",
       "0  {'rouge-1': {'r': 0.23684210526315788, 'p': 0....           0.860153  \n",
       "1  {'rouge-1': {'r': 0.10666666666666667, 'p': 0....           0.707190  \n",
       "2  {'rouge-1': {'r': 0.15, 'p': 0.181818181818181...           0.560515  \n",
       "3  {'rouge-1': {'r': 0.22535211267605634, 'p': 0....           0.842753  \n",
       "4  {'rouge-1': {'r': 0.29577464788732394, 'p': 0....           0.853012  "
      ],
      "text/html": [
       "<div>\n",
       "<style scoped>\n",
       "    .dataframe tbody tr th:only-of-type {\n",
       "        vertical-align: middle;\n",
       "    }\n",
       "\n",
       "    .dataframe tbody tr th {\n",
       "        vertical-align: top;\n",
       "    }\n",
       "\n",
       "    .dataframe thead th {\n",
       "        text-align: right;\n",
       "    }\n",
       "</style>\n",
       "<table border=\"1\" class=\"dataframe\">\n",
       "  <thead>\n",
       "    <tr style=\"text-align: right;\">\n",
       "      <th></th>\n",
       "      <th>Unnamed: 0</th>\n",
       "      <th>Article</th>\n",
       "      <th>Summary</th>\n",
       "      <th>extractive_summary</th>\n",
       "      <th>generated_summary</th>\n",
       "      <th>is_match</th>\n",
       "      <th>rouge_scores</th>\n",
       "      <th>cosine_similarity</th>\n",
       "    </tr>\n",
       "  </thead>\n",
       "  <tbody>\n",
       "    <tr>\n",
       "      <th>0</th>\n",
       "      <td>0</td>\n",
       "      <td>In our prior work, we have found that technolo...</td>\n",
       "      <td>Multiple firms have produced cell-cultured mea...</td>\n",
       "      <td>Some firms have developed prototypes of cell-c...</td>\n",
       "      <td>As a result, certain information is not yet av...</td>\n",
       "      <td>False</td>\n",
       "      <td>{'rouge-1': {'r': 0.23684210526315788, 'p': 0....</td>\n",
       "      <td>0.860153</td>\n",
       "    </tr>\n",
       "    <tr>\n",
       "      <th>1</th>\n",
       "      <td>1</td>\n",
       "      <td>A variety of federal laws, regulations, and po...</td>\n",
       "      <td>Federal advisory committees provide advice to ...</td>\n",
       "      <td>EPA’s federal advisory committees play an impo...</td>\n",
       "      <td>In most instances, the four characteristics th...</td>\n",
       "      <td>False</td>\n",
       "      <td>{'rouge-1': {'r': 0.10666666666666667, 'p': 0....</td>\n",
       "      <td>0.707190</td>\n",
       "    </tr>\n",
       "    <tr>\n",
       "      <th>2</th>\n",
       "      <td>2</td>\n",
       "      <td>According to the National Research Council, al...</td>\n",
       "      <td>DOD manages a global real-estate portfolio wit...</td>\n",
       "      <td>DOD has a global real estate portfolio that su...</td>\n",
       "      <td>(Recommendation 1) The Secretary of the Navy s...</td>\n",
       "      <td>False</td>\n",
       "      <td>{'rouge-1': {'r': 0.15, 'p': 0.181818181818181...</td>\n",
       "      <td>0.560515</td>\n",
       "    </tr>\n",
       "    <tr>\n",
       "      <th>3</th>\n",
       "      <td>3</td>\n",
       "      <td>Nursing homes are required to keep residents s...</td>\n",
       "      <td>Nursing homes provide care to about 1.4 millio...</td>\n",
       "      <td>Nursing home characteristics.. At the national...</td>\n",
       "      <td>Our review of CMS’s State Operations Manual fo...</td>\n",
       "      <td>False</td>\n",
       "      <td>{'rouge-1': {'r': 0.22535211267605634, 'p': 0....</td>\n",
       "      <td>0.842753</td>\n",
       "    </tr>\n",
       "    <tr>\n",
       "      <th>4</th>\n",
       "      <td>4</td>\n",
       "      <td>This section provides an overview of (1) the l...</td>\n",
       "      <td>Decades of defense activities at DOE's Idaho N...</td>\n",
       "      <td>DOE has a process for determining that certain...</td>\n",
       "      <td>DOE agreed with our recommendations related to...</td>\n",
       "      <td>False</td>\n",
       "      <td>{'rouge-1': {'r': 0.29577464788732394, 'p': 0....</td>\n",
       "      <td>0.853012</td>\n",
       "    </tr>\n",
       "  </tbody>\n",
       "</table>\n",
       "</div>"
      ]
     },
     "execution_count": 20,
     "metadata": {},
     "output_type": "execute_result"
    }
   ],
   "execution_count": 20
  },
  {
   "metadata": {
    "ExecuteTime": {
     "end_time": "2025-04-12T03:21:23.474365Z",
     "start_time": "2025-04-12T03:21:23.470313Z"
    }
   },
   "cell_type": "code",
   "source": [
    "# Display average ROUGE scores\n",
    "rouge_l_scores = [score[\"rouge-l\"][\"f\"] for score in testdf[\"rouge_scores\"]]\n",
    "print(f\"Average ROUGE-L Score: {sum(rouge_l_scores) / len(rouge_l_scores):.4f}\")"
   ],
   "id": "e2f06b8e0b34b655",
   "outputs": [
    {
     "name": "stdout",
     "output_type": "stream",
     "text": [
      "Average ROUGE-L Score: 0.2386\n"
     ]
    }
   ],
   "execution_count": 21
  },
  {
   "metadata": {
    "ExecuteTime": {
     "end_time": "2025-04-12T03:21:25.220531Z",
     "start_time": "2025-04-12T03:21:25.216190Z"
    }
   },
   "cell_type": "code",
   "source": [
    "# Display average ROUGE scores\n",
    "rouge_l_scores = [score[\"rouge-2\"][\"f\"] for score in testdf[\"rouge_scores\"]]\n",
    "print(f\"Average ROUGE-2 Score: {sum(rouge_l_scores) / len(rouge_l_scores):.4f}\")"
   ],
   "id": "18bfcb800e4eea9b",
   "outputs": [
    {
     "name": "stdout",
     "output_type": "stream",
     "text": [
      "Average ROUGE-2 Score: 0.0970\n"
     ]
    }
   ],
   "execution_count": 22
  },
  {
   "metadata": {
    "ExecuteTime": {
     "end_time": "2025-04-12T03:21:26.852901Z",
     "start_time": "2025-04-12T03:21:26.849848Z"
    }
   },
   "cell_type": "code",
   "source": [
    "# Display average ROUGE scores\n",
    "rouge_l_scores = [score[\"rouge-1\"][\"f\"] for score in testdf[\"rouge_scores\"]]\n",
    "print(f\"Average ROUGE-1 Score: {sum(rouge_l_scores) / len(rouge_l_scores):.4f}\")"
   ],
   "id": "b8c0b70b8fefff30",
   "outputs": [
    {
     "name": "stdout",
     "output_type": "stream",
     "text": [
      "Average ROUGE-1 Score: 0.2777\n"
     ]
    }
   ],
   "execution_count": 23
  },
  {
   "metadata": {
    "ExecuteTime": {
     "end_time": "2025-04-12T03:20:05.140898Z",
     "start_time": "2025-04-12T03:19:36.294326Z"
    }
   },
   "cell_type": "code",
   "source": [
    "from sklearn.metrics.pairwise import cosine_similarity\n",
    "from sentence_transformers import SentenceTransformer\n",
    "\n",
    "model = SentenceTransformer('all-MiniLM-L6-v2')\n",
    "\n",
    "\n",
    "def compute_similarity(reference, generated):\n",
    "    ref_embedding = model.encode(reference)\n",
    "    gen_embedding = model.encode(generated)\n",
    "    return cosine_similarity([ref_embedding], [gen_embedding])[0][0]\n",
    "\n",
    "\n",
    "testdf[\"cosine_similarity\"] = testdf.apply(lambda row: compute_similarity(row[\"Summary\"], row[\"generated_summary\"]),\n",
    "                                           axis=1)\n",
    "print(f\"Average Cosine Similarity: {testdf['cosine_similarity'].mean():.4f}\")\n"
   ],
   "id": "7d046c096cee5154",
   "outputs": [
    {
     "name": "stdout",
     "output_type": "stream",
     "text": [
      "Average Cosine Similarity: 0.7601\n"
     ]
    }
   ],
   "execution_count": 16
  },
  {
   "metadata": {
    "ExecuteTime": {
     "end_time": "2025-04-12T03:20:05.214561Z",
     "start_time": "2025-04-12T03:20:05.210068Z"
    }
   },
   "cell_type": "code",
   "source": [
    "from sklearn.metrics import precision_score, recall_score, f1_score\n",
    "from collections import Counter\n",
    "def precision_recall_f1(reference_texts, generated_summaries):\n",
    "    precisions, recalls, f1s = [], [], []\n",
    "\n",
    "    for ref, gen in zip(reference_texts, generated_summaries):\n",
    "        ref_tokens = ref.lower().split()\n",
    "        gen_tokens = gen.lower().split()\n",
    "\n",
    "        ref_counter = Counter(ref_tokens)\n",
    "        gen_counter = Counter(gen_tokens)\n",
    "\n",
    "        common = ref_counter & gen_counter\n",
    "        tp = sum(common.values())\n",
    "        fp = sum(gen_counter.values()) - tp\n",
    "        fn = sum(ref_counter.values()) - tp\n",
    "\n",
    "        precision = tp / (tp + fp) if (tp + fp) > 0 else 0.0\n",
    "        recall = tp / (tp + fn) if (tp + fn) > 0 else 0.0\n",
    "        f1 = 2 * precision * recall / (precision + recall) if (precision + recall) > 0 else 0.0\n",
    "\n",
    "        precisions.append(precision)\n",
    "        recalls.append(recall)\n",
    "        f1s.append(f1)\n",
    "\n",
    "    return {\n",
    "        \"average_precision\": np.mean(precisions),\n",
    "        \"average_recall\": np.mean(recalls),\n",
    "        \"average_f1_score\": np.mean(f1s)\n",
    "    }"
   ],
   "id": "683422a57fb86695",
   "outputs": [],
   "execution_count": 17
  },
  {
   "metadata": {
    "ExecuteTime": {
     "end_time": "2025-04-12T03:20:05.472044Z",
     "start_time": "2025-04-12T03:20:05.228074Z"
    }
   },
   "cell_type": "code",
   "source": [
    "reference_summaries = testdf['extractive_summary'].tolist()  \n",
    "generated_summaries = testdf['generated_summary'].tolist()  \n",
    "\n",
    "# Evaluate\n",
    "results = precision_recall_f1(reference_summaries, generated_summaries)\n",
    "# Print results\n",
    "print(\"Average Precision:\", round(results['average_precision'], 4))\n",
    "print(\"Average Recall:\", round(results['average_recall'], 4))\n",
    "print(\"Average F1 Score:\", round(results['average_f1_score'], 4))"
   ],
   "id": "e4304382327b5d40",
   "outputs": [
    {
     "name": "stdout",
     "output_type": "stream",
     "text": [
      "Average Precision: 0.4308\n",
      "Average Recall: 0.6618\n",
      "Average F1 Score: 0.5107\n"
     ]
    }
   ],
   "execution_count": 18
  }
 ],
 "metadata": {
  "kernelspec": {
   "display_name": "Python 3",
   "language": "python",
   "name": "python3"
  },
  "language_info": {
   "codemirror_mode": {
    "name": "ipython",
    "version": 2
   },
   "file_extension": ".py",
   "mimetype": "text/x-python",
   "name": "python",
   "nbconvert_exporter": "python",
   "pygments_lexer": "ipython2",
   "version": "2.7.6"
  }
 },
 "nbformat": 4,
 "nbformat_minor": 5
}
