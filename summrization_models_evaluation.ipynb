{
 "cells": [
  {
   "metadata": {
    "ExecuteTime": {
     "end_time": "2025-04-05T06:15:35.578953Z",
     "start_time": "2025-04-05T06:15:31.750364Z"
    }
   },
   "cell_type": "code",
   "source": [
    "import numpy as np\n",
    "import pandas as pd\n",
    "from evaluate import load\n",
    "from scipy.ndimage import label\n",
    "from transformers import AutoTokenizer, AutoModelForSeq2SeqLM\n",
    "from datasets import Dataset, DatasetDict"
   ],
   "id": "d504061e6773a6f5",
   "outputs": [
    {
     "name": "stderr",
     "output_type": "stream",
     "text": [
      "/Users/jameelamer/MasterProject/Summarization/summrization_webapp/flaskProject2/.venv/lib/python3.12/site-packages/tqdm/auto.py:21: TqdmWarning: IProgress not found. Please update jupyter and ipywidgets. See https://ipywidgets.readthedocs.io/en/stable/user_install.html\n",
      "  from .autonotebook import tqdm as notebook_tqdm\n"
     ]
    }
   ],
   "execution_count": 1
  },
  {
   "metadata": {
    "ExecuteTime": {
     "end_time": "2025-04-05T06:15:36.742274Z",
     "start_time": "2025-04-05T06:15:36.710903Z"
    }
   },
   "cell_type": "code",
   "source": [
    "from datasets import load_from_disk\n",
    "dataset = load_from_disk(\"cord_19_dataset_for_train\")\n",
    "print(dataset)"
   ],
   "id": "5085f3ee85e2a330",
   "outputs": [
    {
     "name": "stdout",
     "output_type": "stream",
     "text": [
      "DatasetDict({\n",
      "    train: Dataset({\n",
      "        features: ['filename', 'Article', 'Summary', '__index_level_0__'],\n",
      "        num_rows: 81506\n",
      "    })\n",
      "    validation: Dataset({\n",
      "        features: ['filename', 'Article', 'Summary', '__index_level_0__'],\n",
      "        num_rows: 27169\n",
      "    })\n",
      "    test: Dataset({\n",
      "        features: ['filename', 'Article', 'Summary', '__index_level_0__'],\n",
      "        num_rows: 27169\n",
      "    })\n",
      "})\n"
     ]
    }
   ],
   "execution_count": 2
  },
  {
   "metadata": {
    "ExecuteTime": {
     "end_time": "2025-04-05T06:15:38.869721Z",
     "start_time": "2025-04-05T06:15:38.867201Z"
    }
   },
   "cell_type": "code",
   "source": "testdataset = dataset[\"test\"]",
   "id": "258c7baf38b64cf3",
   "outputs": [],
   "execution_count": 3
  },
  {
   "metadata": {
    "ExecuteTime": {
     "end_time": "2025-04-05T06:15:39.785429Z",
     "start_time": "2025-04-05T06:15:39.781287Z"
    }
   },
   "cell_type": "code",
   "source": "testdataset.column_names",
   "id": "2527a64d65c96f4b",
   "outputs": [
    {
     "data": {
      "text/plain": [
       "['filename', 'Article', 'Summary', '__index_level_0__']"
      ]
     },
     "execution_count": 4,
     "metadata": {},
     "output_type": "execute_result"
    }
   ],
   "execution_count": 4
  },
  {
   "metadata": {},
   "cell_type": "code",
   "outputs": [],
   "execution_count": null,
   "source": "",
   "id": "770933aeab3d2731"
  },
  {
   "metadata": {},
   "cell_type": "code",
   "outputs": [],
   "execution_count": null,
   "source": "",
   "id": "dfe8cf95e2ebf9e"
  },
  {
   "metadata": {},
   "cell_type": "raw",
   "source": "BERTSum finetuned",
   "id": "44a1683b26611b7e",
   "outputs": null,
   "execution_count": null
  },
  {
   "metadata": {
    "ExecuteTime": {
     "end_time": "2025-04-05T06:15:44.794054Z",
     "start_time": "2025-04-05T06:15:44.417190Z"
    }
   },
   "cell_type": "code",
   "source": [
    "import torch\n",
    "from transformers import AutoTokenizer, BertForSequenceClassification, TrainingArguments, Trainer\n",
    "from torch.utils.data import DataLoader\n",
    "import nltk\n",
    "nltk.download('punkt')"
   ],
   "id": "5db6ec82296771bc",
   "outputs": [
    {
     "name": "stderr",
     "output_type": "stream",
     "text": [
      "[nltk_data] Downloading package punkt to\n",
      "[nltk_data]     /Users/jameelamer/nltk_data...\n",
      "[nltk_data]   Package punkt is already up-to-date!\n"
     ]
    },
    {
     "data": {
      "text/plain": [
       "True"
      ]
     },
     "execution_count": 5,
     "metadata": {},
     "output_type": "execute_result"
    }
   ],
   "execution_count": 5
  },
  {
   "metadata": {
    "ExecuteTime": {
     "end_time": "2025-04-05T06:15:47.466188Z",
     "start_time": "2025-04-05T06:15:47.386235Z"
    }
   },
   "cell_type": "code",
   "source": [
    "model_name=\"./bertsum_cord19/bertsum_finetuned_model\"\n",
    "tokenizer = AutoTokenizer.from_pretrained(model_name)\n",
    "model = BertForSequenceClassification.from_pretrained(\n",
    "    model_name,\n",
    "    num_labels=1,  # Binary classification per sentence\n",
    "    problem_type=\"multi_label_classification\"\n",
    ")"
   ],
   "id": "2c4649706427011a",
   "outputs": [],
   "execution_count": 6
  },
  {
   "metadata": {
    "ExecuteTime": {
     "end_time": "2025-04-05T06:15:50.862004Z",
     "start_time": "2025-04-05T06:15:49.995347Z"
    }
   },
   "cell_type": "code",
   "source": [
    "import torch\n",
    "\n",
    "def generate_summary(model, tokenizer, text, device):\n",
    "    model.eval()\n",
    "    \n",
    "    # Tokenize input text\n",
    "    inputs = tokenizer(text, return_tensors=\"pt\", truncation=True, padding=True, max_length=512)\n",
    "\n",
    "    # Move inputs to the correct device\n",
    "    inputs = {key: val.to(device) for key, val in inputs.items()}\n",
    "    \n",
    "    with torch.no_grad():\n",
    "        output = model(**inputs)  # Forward pass on MPS\n",
    "        logits = output.logits.squeeze(-1)  # Extract logits\n",
    "        \n",
    "        # Ensure logits are moved to CPU before processing\n",
    "        logits = logits.cpu()\n",
    "\n",
    "        # Select sentences using thresholding\n",
    "        predicted_labels = (logits > 0.5).int()\n",
    "        \n",
    "        sentences = text.split(\". \")  # Sentence tokenization\n",
    "        min_length = min(len(sentences), len(predicted_labels))\n",
    "        # print(\"Logits:\", logits)\n",
    "        # print(\"Predicted Labels:\", predicted_labels)\n",
    "        # print(\"Sentences:\", sentences)\n",
    "        selected_sentences = [sentences[i] for i in range(min_length) if predicted_labels[i] == 1]        \n",
    "        summary = \" \".join(selected_sentences)\n",
    "        return summary\n",
    "\n",
    "# Detect MPS device on Mac\n",
    "device = torch.device(\"mps\" if torch.backends.mps.is_available() else \"cpu\")\n",
    "model.to(device)  # Move model to MPS\n"
   ],
   "id": "bb80cbdb1fc87d05",
   "outputs": [
    {
     "data": {
      "text/plain": [
       "BertForSequenceClassification(\n",
       "  (bert): BertModel(\n",
       "    (embeddings): BertEmbeddings(\n",
       "      (word_embeddings): Embedding(30522, 768, padding_idx=0)\n",
       "      (position_embeddings): Embedding(512, 768)\n",
       "      (token_type_embeddings): Embedding(2, 768)\n",
       "      (LayerNorm): LayerNorm((768,), eps=1e-12, elementwise_affine=True)\n",
       "      (dropout): Dropout(p=0.1, inplace=False)\n",
       "    )\n",
       "    (encoder): BertEncoder(\n",
       "      (layer): ModuleList(\n",
       "        (0-11): 12 x BertLayer(\n",
       "          (attention): BertAttention(\n",
       "            (self): BertSdpaSelfAttention(\n",
       "              (query): Linear(in_features=768, out_features=768, bias=True)\n",
       "              (key): Linear(in_features=768, out_features=768, bias=True)\n",
       "              (value): Linear(in_features=768, out_features=768, bias=True)\n",
       "              (dropout): Dropout(p=0.1, inplace=False)\n",
       "            )\n",
       "            (output): BertSelfOutput(\n",
       "              (dense): Linear(in_features=768, out_features=768, bias=True)\n",
       "              (LayerNorm): LayerNorm((768,), eps=1e-12, elementwise_affine=True)\n",
       "              (dropout): Dropout(p=0.1, inplace=False)\n",
       "            )\n",
       "          )\n",
       "          (intermediate): BertIntermediate(\n",
       "            (dense): Linear(in_features=768, out_features=3072, bias=True)\n",
       "            (intermediate_act_fn): GELUActivation()\n",
       "          )\n",
       "          (output): BertOutput(\n",
       "            (dense): Linear(in_features=3072, out_features=768, bias=True)\n",
       "            (LayerNorm): LayerNorm((768,), eps=1e-12, elementwise_affine=True)\n",
       "            (dropout): Dropout(p=0.1, inplace=False)\n",
       "          )\n",
       "        )\n",
       "      )\n",
       "    )\n",
       "    (pooler): BertPooler(\n",
       "      (dense): Linear(in_features=768, out_features=768, bias=True)\n",
       "      (activation): Tanh()\n",
       "    )\n",
       "  )\n",
       "  (dropout): Dropout(p=0.1, inplace=False)\n",
       "  (classifier): Linear(in_features=768, out_features=1, bias=True)\n",
       ")"
      ]
     },
     "execution_count": 7,
     "metadata": {},
     "output_type": "execute_result"
    }
   ],
   "execution_count": 7
  },
  {
   "metadata": {
    "ExecuteTime": {
     "end_time": "2025-04-05T06:15:55.448271Z",
     "start_time": "2025-04-05T06:15:55.184137Z"
    }
   },
   "cell_type": "code",
   "source": [
    "# Example Usage:\n",
    "text = \"\"\"\n",
    "Jamieson issues warning to bigots\\n\\nScotland's justice minister has warned bigoted soccer fans that she wants to hit them \"where it hurts most\" by banning them from matches.\\n\\nCathy Jamieson said exclusion orders are one of a series of measures being considered in the Scottish Executive campaign against sectarianism. She praised Celtic and Rangers for their work in tackling the problem. However, the minister said stopping sectarian abuse associated with Old Firm matches is a key objective. Ms Jamieson was speaking ahead of the third round Scottish Cup clash between the Glasgow clubs at Parkhead on Sunday. The sectarianism long associated with sections of the support from both clubs has become a significant target for the executive. Last week Ms Jamieson and First Minister Jack McConnell met supporters' representatives from both clubs to discuss the issue.\\n\\nThey plan to hold an anti-sectarian summit next month with officials from the clubs, church leaders, senior police officers and local authority chiefs among those to be invited. Speaking on BBC Radio Scotland's Sunday Live programme, Ms Jamieson described Friday's meeting as \"very productive\" and said putting the squeeze on the bigots would be a key aim. Ms Jamieson stressed that sectarianism has not been confined to football but it can act as a \"trigger\" for tensions and violence. Clubs have taken action in the past to ban troublesome fans and supporters' groups expressed their desire to ensure that the game is no longer tainted by the problem.\\n\\nMs Jamieson said the executive should have a role in tackling the soccer troublemakers. She said: \"We can't get away from the fact that in some instances some of the religious hatred that some people try to associate with football boils over into violence. \"That is the kind of thing we want to stop and that's the kind of thing supporters' groups are very clear they don't want to be part of either, and they will work with us to try and deal with that.\"\\n\\nMs Jamieson praised the police for their action and said: \"The police do want to identify whether there are particular individuals who are going over the top and inciting hatred or violence - they will crack down very effectively on them. \"We have of course already indicated that we will consider the introduction of banning orders to give additional powers to where there are people who are going over the top, who have made inappropriate behaviour at football matches, to be able to stop them attending the games. \"That's the kind of thing that will hit those kind of people where it hurts the most in not allowing them to attend the games,\" she said. Praising Celtic and Rangers for their efforts, she said: \"I don't think there is any doubt that we have seen some positive moves from the clubs. \"Both Rangers and Celtic football clubs have been involved in working with the executive to produce, for example, an educational pack for  \"\"\"\n",
    "summary = generate_summary(model, tokenizer, text, device)\n",
    "print(\"Generated Summary:\", summary)\n"
   ],
   "id": "a34cdea4b39f66d3",
   "outputs": [
    {
     "name": "stdout",
     "output_type": "stream",
     "text": [
      "Generated Summary: \n",
      "Jamieson issues warning to bigots\n",
      "\n",
      "Scotland's justice minister has warned bigoted soccer fans that she wants to hit them \"where it hurts most\" by banning them from matches.\n",
      "\n",
      "Cathy Jamieson said exclusion orders are one of a series of measures being considered in the Scottish Executive campaign against sectarianism\n"
     ]
    }
   ],
   "execution_count": 8
  },
  {
   "metadata": {
    "ExecuteTime": {
     "end_time": "2025-04-05T06:16:01.550351Z",
     "start_time": "2025-04-05T06:16:01.440984Z"
    }
   },
   "cell_type": "code",
   "source": "testdf=testdataset.to_pandas()",
   "id": "28e707e1317cb1f5",
   "outputs": [],
   "execution_count": 9
  },
  {
   "metadata": {
    "ExecuteTime": {
     "end_time": "2025-04-05T06:24:44.525312Z",
     "start_time": "2025-04-05T06:16:02.669262Z"
    }
   },
   "cell_type": "code",
   "source": "testdf['generated_summary'] = testdf['Article'].apply(lambda x:str(generate_summary(model, tokenizer, x, device)))",
   "id": "e869e82535987dd3",
   "outputs": [],
   "execution_count": 10
  },
  {
   "metadata": {
    "ExecuteTime": {
     "end_time": "2025-04-05T06:24:44.575300Z",
     "start_time": "2025-04-05T06:24:44.553347Z"
    }
   },
   "cell_type": "code",
   "source": "testdf[\"generated_summary\"].value_counts()",
   "id": "7922c9c22273aaa4",
   "outputs": [
    {
     "data": {
      "text/plain": [
       "generated_summary\n",
       "                                                                                                                                                                                                                                                                                                                                                                                                                                                                                                                                                                                                                                                                                                                                                                                                                                                                                   165\n",
       "The online version contains supplementary material available at https:// doi                                                                                                                                                                                                                                                                                                                                                                                                                                                                                                                                                                                                                                                                                                                                                                                                        97\n",
       "Dr                                                                                                                                                                                                                                                                                                                                                                                                                                                                                                                                                                                                                                                                                                                                                                                                                                                                                  37\n",
       "1                                                                                                                                                                                                                                                                                                                                                                                                                                                                                                                                                                                                                                                                                                                                                                                                                                                                                   37\n",
       "Additional file 1                                                                                                                                                                                                                                                                                                                                                                                                                                                                                                                                                                                                                                                                                                                                                                                                                                                                   33\n",
       "                                                                                                                                                                                                                                                                                                                                                                                                                                                                                                                                                                                                                                                                                                                                                                                                                                                                                  ... \n",
       "Supplementary Materials: Figure S1 : Electronic absorption spectrum of MT, Figure S2 : Electronic absorption spectrum of Dy(III)MT, Figure S3 : Electronic absorption spectrum of Er(III)MT, Figure S4 : Electronic absorption spectrum of Gd(III)MT, Figure S5 : Infrared Spectrum of MT, Figure S6 : Infrared Spectrum of Dy(III)MT, Figure S7 : Infrared Spectrum of Er(III) MT, Figure S8 : Infrared Spectrum of Gd(III)MT, Figure S9 : 1 H-NMR Spectrum of MT, Figure S10 : 1 H-NMR Spectrum of Dy(III)MT, Figure S11 : 13 C-NMR Spectrum of MT, Figure S12 : 13 C-NMR Spectrum of Dy(III)MT, Figure S13 : Structures of the drugs used as standard, Figure S14 : Structure of Artesunate, Table S1 : Inhibition Zone Diameter (IZD in mm) of the Controls, Table S2 : Determination of Acute Toxicity (LD50), Table  S3 : Anti-plasmodic Effect of Samples on Albino mice      1\n",
       "In conclusion, the present study demonstrated that elevated serum FGF21 was independently associated with IHTC as measured by MRS and was indicative of mild NAFLD compared with the other five potential NAFLD biomarkers                                                                                                                                                                                                                                                                                                                                                                                                                                                                                                                                                                                                                                                           1\n",
       "This research did not involve human participants and therefore no IRB approval or informed consent was necessary.                                                                                                                                                                                                                                                                                                                                                                                                                                                                                                                                                                                                                                                                                                                                                                    1\n",
       "Passenger flow prediction are gaining a huge demand in recent days                                                                                                                                                                                                                                                                                                                                                                                                                                                                                                                                                                                                                                                                                                                                                                                                                   1\n",
       "Our analysis suggests that in at-risk medically ill patients who are discharged from the hospital, extended-duration rivaroxaban at the 10 mg daily dose leads to a significant risk reduction in a composite of fatal and major thromboembolic eventsincluding symptomatic VTE, MI, nonhemorrhagic stroke, and CV death-without a significant increase in major bleeding, compared with placebo                                                                                                                                                                                                                                                                                                                                                                                                                                                                                     1\n",
       "Name: count, Length: 25590, dtype: int64"
      ]
     },
     "execution_count": 11,
     "metadata": {},
     "output_type": "execute_result"
    }
   ],
   "execution_count": 11
  },
  {
   "metadata": {
    "ExecuteTime": {
     "end_time": "2025-04-05T06:24:51.313431Z",
     "start_time": "2025-04-05T06:24:51.250097Z"
    }
   },
   "cell_type": "code",
   "source": [
    "testdf.replace(r'^\\s*$', np.nan, regex=True)\n",
    "testdf.dropna(axis=0, how='any')\n",
    "# Remove rows where \"Title\" is empty or null\n",
    "testdf = testdf[testdf[\"generated_summary\"].notna() & (testdf[\"generated_summary\"] != \"\")]\n",
    "len(testdf)"
   ],
   "id": "f45b75a224e5d79f",
   "outputs": [
    {
     "data": {
      "text/plain": [
       "27004"
      ]
     },
     "execution_count": 12,
     "metadata": {},
     "output_type": "execute_result"
    }
   ],
   "execution_count": 12
  },
  {
   "metadata": {
    "ExecuteTime": {
     "end_time": "2025-04-05T06:24:53.845127Z",
     "start_time": "2025-04-05T06:24:53.832035Z"
    }
   },
   "cell_type": "code",
   "source": [
    "testdf=testdf.drop_duplicates(subset=[\"generated_summary\"])\n",
    "testdf['generated_summary'].value_counts()"
   ],
   "id": "1e7dfd83d4c0e998",
   "outputs": [
    {
     "data": {
      "text/plain": [
       "generated_summary\n",
       "The identification of outbreaks caused by the SARS-CoV-2 BA.1 Omicron VOC demonstrated the high transmissibility and immune evasion of such a variant [9]                                                                                                                                                                                                                                           1\n",
       "In this single-center analysis, we found a similar incidence of IPA as superinfection of influenza and COVID-19                                                                                                                                                                                                                                                                                     1\n",
       "The presence of these divergent directions that the fertility behaviour of existing couples may take, as well as the previously mentioned birth effects of delayed marriages, will ultimately determine the net fertility impact of the Covid-19 outbreak                                                                                                                                           1\n",
       "The new coronavirus is an extremely contagious agent that causes fatal respiratory diseases, a major concern for global public health                                                                                                                                                                                                                                                               1\n",
       "No datasets were generated or analysed during the current study.                                                                                                                                                                                                                                                                                                                                    1\n",
       "                                                                                                                                                                                                                                                                                                                                                                                                   ..\n",
       "Author affiliations 1 Barts and The London School of Medicine and Dentistry, Queen Mary University of London, London, UK 10 Centre for Public Health Research (NI), Queen's University Belfast, Belfast, UK 11 Usher Institute of Population Health Sciences and Informatics, University of Edinburgh, Edinburgh, UK Twitter Nicholas S Hopkinson @COPDdoc and Aziz Sheikh @DrAzizSheikh            1\n",
       "The copyright holder for this preprint this version posted May 24, 2021                                                                                                                                                                                                                                                                                                                             1\n",
       "Different hematological and biochemical parameter findings were observed among the COVID-19 patients                                                                                                                                                                                                                                                                                                1\n",
       "We have reported on the design and implementation of a professional development program targeted towards inservice high school physics teachers in Texas who have a limited background in the subject                                                                                                                                                                                               1\n",
       "Our analysis suggests that in at-risk medically ill patients who are discharged from the hospital, extended-duration rivaroxaban at the 10 mg daily dose leads to a significant risk reduction in a composite of fatal and major thromboembolic eventsincluding symptomatic VTE, MI, nonhemorrhagic stroke, and CV death-without a significant increase in major bleeding, compared with placebo    1\n",
       "Name: count, Length: 25589, dtype: int64"
      ]
     },
     "execution_count": 13,
     "metadata": {},
     "output_type": "execute_result"
    }
   ],
   "execution_count": 13
  },
  {
   "metadata": {
    "ExecuteTime": {
     "end_time": "2025-04-05T06:25:15.628670Z",
     "start_time": "2025-04-05T06:24:59.230836Z"
    }
   },
   "cell_type": "code",
   "source": [
    "from rouge import Rouge\n",
    "\n",
    "rouge = Rouge()\n",
    "\n",
    "def truncate_text(text, max_words=100):\n",
    "    return \" \".join(text.split()[:max_words])\n",
    "\n",
    "def compute_rouge(reference, generated):\n",
    "    if not generated.strip():  # Handle empty strings\n",
    "        return {\"rouge-1\": 0, \"rouge-2\": 0, \"rouge-l\": 0}\n",
    "    \n",
    "    # Truncate long summaries\n",
    "    reference = truncate_text(reference)\n",
    "    generated = truncate_text(generated)\n",
    "    \n",
    "    scores = rouge.get_scores(generated, reference)\n",
    "    return scores[0]\n",
    "\n",
    "# Apply function\n",
    "testdf[\"rouge_scores\"] = testdf.apply(lambda row: compute_rouge(row[\"Summary\"], row[\"generated_summary\"]), axis=1)\n",
    "\n"
   ],
   "id": "ef060cc1a63d6e2",
   "outputs": [],
   "execution_count": 14
  },
  {
   "metadata": {
    "ExecuteTime": {
     "end_time": "2025-04-05T06:25:34.327892Z",
     "start_time": "2025-04-05T06:25:34.319150Z"
    }
   },
   "cell_type": "code",
   "source": "testdf.head()",
   "id": "b98de7f3708cf217",
   "outputs": [
    {
     "data": {
      "text/plain": [
       "                                        filename  \\\n",
       "0  d42ab1c58711535d40ca370ff9461c03bfd79f25.json   \n",
       "1  12524fc4d3d52cb18c5bf886178b8b88d44e4bd0.json   \n",
       "2  e519e407b1ce798d6110f679370afa416e569633.json   \n",
       "3  ddf88f7f1f74746cc887ff14e002b8cded71551b.json   \n",
       "4  532cdf96996c52c7eb5e83399591daf3dfe8db5c.json   \n",
       "\n",
       "                                             Article  \\\n",
       "0  The identification of outbreaks caused by the ...   \n",
       "1  Woohyun Jung https://orcid.org/0000-0002-4980-...   \n",
       "2  That said, the present research allowed an ass...   \n",
       "3    Since for any constant c > 0, the infinite sum    \n",
       "4  The authors declare consent for publication of...   \n",
       "\n",
       "                                             Summary  __index_level_0__  \\\n",
       "0  The identification of outbreaks caused by the ...              66286   \n",
       "1  Woohyun Jung https://orcid.org/0000-0002-4980-...             162636   \n",
       "2  That said, the present research allowed an ass...              35453   \n",
       "3     Since for any constant c > 0, the infinite sum              39077   \n",
       "4  The authors declare consent for publication of...               5042   \n",
       "\n",
       "                                   generated_summary  \\\n",
       "0  The identification of outbreaks caused by the ...   \n",
       "1  Woohyun Jung https://orcid.org/0000-0002-4980-...   \n",
       "2  That said, the present research allowed an ass...   \n",
       "3    Since for any constant c > 0, the infinite sum    \n",
       "4  The authors declare consent for publication of...   \n",
       "\n",
       "                                        rouge_scores  \n",
       "0  {'rouge-1': {'r': 0.2972972972972973, 'p': 1.0...  \n",
       "1  {'rouge-1': {'r': 1.0, 'p': 1.0, 'f': 0.999999...  \n",
       "2  {'rouge-1': {'r': 1.0, 'p': 1.0, 'f': 0.999999...  \n",
       "3  {'rouge-1': {'r': 1.0, 'p': 1.0, 'f': 0.999999...  \n",
       "4  {'rouge-1': {'r': 1.0, 'p': 1.0, 'f': 0.999999...  "
      ],
      "text/html": [
       "<div>\n",
       "<style scoped>\n",
       "    .dataframe tbody tr th:only-of-type {\n",
       "        vertical-align: middle;\n",
       "    }\n",
       "\n",
       "    .dataframe tbody tr th {\n",
       "        vertical-align: top;\n",
       "    }\n",
       "\n",
       "    .dataframe thead th {\n",
       "        text-align: right;\n",
       "    }\n",
       "</style>\n",
       "<table border=\"1\" class=\"dataframe\">\n",
       "  <thead>\n",
       "    <tr style=\"text-align: right;\">\n",
       "      <th></th>\n",
       "      <th>filename</th>\n",
       "      <th>Article</th>\n",
       "      <th>Summary</th>\n",
       "      <th>__index_level_0__</th>\n",
       "      <th>generated_summary</th>\n",
       "      <th>rouge_scores</th>\n",
       "    </tr>\n",
       "  </thead>\n",
       "  <tbody>\n",
       "    <tr>\n",
       "      <th>0</th>\n",
       "      <td>d42ab1c58711535d40ca370ff9461c03bfd79f25.json</td>\n",
       "      <td>The identification of outbreaks caused by the ...</td>\n",
       "      <td>The identification of outbreaks caused by the ...</td>\n",
       "      <td>66286</td>\n",
       "      <td>The identification of outbreaks caused by the ...</td>\n",
       "      <td>{'rouge-1': {'r': 0.2972972972972973, 'p': 1.0...</td>\n",
       "    </tr>\n",
       "    <tr>\n",
       "      <th>1</th>\n",
       "      <td>12524fc4d3d52cb18c5bf886178b8b88d44e4bd0.json</td>\n",
       "      <td>Woohyun Jung https://orcid.org/0000-0002-4980-...</td>\n",
       "      <td>Woohyun Jung https://orcid.org/0000-0002-4980-...</td>\n",
       "      <td>162636</td>\n",
       "      <td>Woohyun Jung https://orcid.org/0000-0002-4980-...</td>\n",
       "      <td>{'rouge-1': {'r': 1.0, 'p': 1.0, 'f': 0.999999...</td>\n",
       "    </tr>\n",
       "    <tr>\n",
       "      <th>2</th>\n",
       "      <td>e519e407b1ce798d6110f679370afa416e569633.json</td>\n",
       "      <td>That said, the present research allowed an ass...</td>\n",
       "      <td>That said, the present research allowed an ass...</td>\n",
       "      <td>35453</td>\n",
       "      <td>That said, the present research allowed an ass...</td>\n",
       "      <td>{'rouge-1': {'r': 1.0, 'p': 1.0, 'f': 0.999999...</td>\n",
       "    </tr>\n",
       "    <tr>\n",
       "      <th>3</th>\n",
       "      <td>ddf88f7f1f74746cc887ff14e002b8cded71551b.json</td>\n",
       "      <td>Since for any constant c &gt; 0, the infinite sum</td>\n",
       "      <td>Since for any constant c &gt; 0, the infinite sum</td>\n",
       "      <td>39077</td>\n",
       "      <td>Since for any constant c &gt; 0, the infinite sum</td>\n",
       "      <td>{'rouge-1': {'r': 1.0, 'p': 1.0, 'f': 0.999999...</td>\n",
       "    </tr>\n",
       "    <tr>\n",
       "      <th>4</th>\n",
       "      <td>532cdf96996c52c7eb5e83399591daf3dfe8db5c.json</td>\n",
       "      <td>The authors declare consent for publication of...</td>\n",
       "      <td>The authors declare consent for publication of...</td>\n",
       "      <td>5042</td>\n",
       "      <td>The authors declare consent for publication of...</td>\n",
       "      <td>{'rouge-1': {'r': 1.0, 'p': 1.0, 'f': 0.999999...</td>\n",
       "    </tr>\n",
       "  </tbody>\n",
       "</table>\n",
       "</div>"
      ]
     },
     "execution_count": 15,
     "metadata": {},
     "output_type": "execute_result"
    }
   ],
   "execution_count": 15
  },
  {
   "metadata": {
    "ExecuteTime": {
     "end_time": "2025-04-05T06:25:37.093382Z",
     "start_time": "2025-04-05T06:25:37.063787Z"
    }
   },
   "cell_type": "code",
   "source": [
    "# Display average ROUGE scores\n",
    "rouge_l_scores = [score[\"rouge-l\"][\"f\"] for score in testdf[\"rouge_scores\"]]\n",
    "print(f\"Average ROUGE-L Score: {sum(rouge_l_scores) / len(rouge_l_scores):.4f}\")"
   ],
   "id": "830135eea976df86",
   "outputs": [
    {
     "name": "stdout",
     "output_type": "stream",
     "text": [
      "Average ROUGE-L Score: 0.6048\n"
     ]
    }
   ],
   "execution_count": 16
  },
  {
   "metadata": {
    "ExecuteTime": {
     "end_time": "2025-04-05T06:25:39.231796Z",
     "start_time": "2025-04-05T06:25:39.215072Z"
    }
   },
   "cell_type": "code",
   "source": [
    "# Display average ROUGE scores\n",
    "rouge_l_scores = [score[\"rouge-2\"][\"f\"] for score in testdf[\"rouge_scores\"]]\n",
    "print(f\"Average ROUGE-2 Score: {sum(rouge_l_scores) / len(rouge_l_scores):.4f}\")"
   ],
   "id": "58422868e7134a69",
   "outputs": [
    {
     "name": "stdout",
     "output_type": "stream",
     "text": [
      "Average ROUGE-2 Score: 0.5530\n"
     ]
    }
   ],
   "execution_count": 17
  },
  {
   "metadata": {
    "ExecuteTime": {
     "end_time": "2025-04-05T06:25:40.935789Z",
     "start_time": "2025-04-05T06:25:40.922226Z"
    }
   },
   "cell_type": "code",
   "source": [
    "# Display average ROUGE scores\n",
    "rouge_l_scores = [score[\"rouge-1\"][\"f\"] for score in testdf[\"rouge_scores\"]]\n",
    "print(f\"Average ROUGE-1 Score: {sum(rouge_l_scores) / len(rouge_l_scores):.4f}\")"
   ],
   "id": "8e63ac998da0bd87",
   "outputs": [
    {
     "name": "stdout",
     "output_type": "stream",
     "text": [
      "Average ROUGE-1 Score: 0.6063\n"
     ]
    }
   ],
   "execution_count": 18
  },
  {
   "metadata": {
    "ExecuteTime": {
     "end_time": "2025-04-05T06:26:46.195916Z",
     "start_time": "2025-04-05T06:26:46.108056Z"
    }
   },
   "cell_type": "code",
   "source": [
    " testdf[\"article_len\"] = testdf.apply(lambda row: len(row[\"Article\"]), axis=1)\n",
    " filtered_df = testdf[testdf[\"article_len\"] >= 1500]"
   ],
   "id": "c0451f3417e83320",
   "outputs": [],
   "execution_count": 21
  },
  {
   "metadata": {
    "ExecuteTime": {
     "end_time": "2025-04-05T06:27:02.463457Z",
     "start_time": "2025-04-05T06:27:02.459602Z"
    }
   },
   "cell_type": "code",
   "source": "len(filtered_df)",
   "id": "e2cb47d5d7523b4b",
   "outputs": [
    {
     "data": {
      "text/plain": [
       "2308"
      ]
     },
     "execution_count": 22,
     "metadata": {},
     "output_type": "execute_result"
    }
   ],
   "execution_count": 22
  },
  {
   "metadata": {
    "ExecuteTime": {
     "end_time": "2025-04-05T06:27:21.203395Z",
     "start_time": "2025-04-05T06:27:21.183790Z"
    }
   },
   "cell_type": "code",
   "source": [
    "rouge_l_scores = [score[\"rouge-l\"][\"f\"] for score in filtered_df[\"rouge_scores\"]]\n",
    "print(f\"Average ROUGE-L Score: {sum(rouge_l_scores) / len(rouge_l_scores):.4f}\")"
   ],
   "id": "3a277269cc0de8f7",
   "outputs": [
    {
     "name": "stdout",
     "output_type": "stream",
     "text": [
      "Average ROUGE-L Score: 0.3186\n"
     ]
    }
   ],
   "execution_count": 23
  }
 ],
 "metadata": {
  "kernelspec": {
   "display_name": "Python 3",
   "language": "python",
   "name": "python3"
  },
  "language_info": {
   "codemirror_mode": {
    "name": "ipython",
    "version": 2
   },
   "file_extension": ".py",
   "mimetype": "text/x-python",
   "name": "python",
   "nbconvert_exporter": "python",
   "pygments_lexer": "ipython2",
   "version": "2.7.6"
  }
 },
 "nbformat": 4,
 "nbformat_minor": 5
}
