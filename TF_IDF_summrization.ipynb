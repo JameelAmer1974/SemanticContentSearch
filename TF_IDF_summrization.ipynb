{
 "cells": [
  {
   "cell_type": "code",
   "id": "initial_id",
   "metadata": {
    "collapsed": true,
    "ExecuteTime": {
     "end_time": "2025-04-12T03:28:14.275081Z",
     "start_time": "2025-04-12T03:28:11.406543Z"
    }
   },
   "source": [
    "from sklearn.feature_extraction.text import TfidfVectorizer\n",
    "from sklearn.metrics.pairwise import cosine_similarity\n",
    "import numpy as np\n",
    "import nltk\n",
    "import re\n",
    "import spacy\n",
    "nltk.download('punkt')\n",
    "from nltk.tokenize import sent_tokenize"
   ],
   "outputs": [
    {
     "name": "stderr",
     "output_type": "stream",
     "text": [
      "[nltk_data] Downloading package punkt to\n",
      "[nltk_data]     /Users/jameelamer/nltk_data...\n",
      "[nltk_data]   Package punkt is already up-to-date!\n"
     ]
    }
   ],
   "execution_count": 1
  },
  {
   "metadata": {
    "ExecuteTime": {
     "end_time": "2025-04-12T03:28:14.738070Z",
     "start_time": "2025-04-12T03:28:14.282657Z"
    }
   },
   "cell_type": "code",
   "source": [
    "# Load English tokenizer, POS tagger, parser, NER from spaCy\n",
    "import spacy.cli\n",
    "\n",
    "try:\n",
    "    nlp = spacy.load(\"en_core_web_sm\")\n",
    "except OSError:\n",
    "    import spacy.cli\n",
    "    spacy.cli.download(\"en_core_web_sm\")\n",
    "    nlp = spacy.load(\"en_core_web_sm\")\n",
    "def normalize_whitespace(text):\n",
    "    \"\"\"Remove extra whitespace, newlines, and tabs.\"\"\"\n",
    "    return re.sub(r'\\s+', ' ', text).strip()\n",
    "\n",
    "def remove_noise_and_references(text):\n",
    "    \"\"\"\n",
    "    Remove references like [1], (Smith et al., 2020), and figure/table mentions.\n",
    "    You can extend the patterns as needed.\n",
    "    \"\"\"\n",
    "    # Remove square bracket citations like [1], [12]\n",
    "    text = re.sub(r'\\[\\d+\\]', '', text)\n",
    "    \n",
    "    # Remove in-text references like (Smith et al., 2020)\n",
    "    text = re.sub(r'\\(([^)]*et al\\.,?\\s?\\d{4})\\)', '', text)\n",
    "    \n",
    "    # Remove \"Fig. 1\", \"Table 2\", etc.\n",
    "    text = re.sub(r'(Fig\\.?|Figure|Table)\\s?\\d+[a-zA-Z]?', '', text, flags=re.IGNORECASE)\n",
    "    \n",
    "    # Remove licensing and copyright boilerplate\n",
    "    text = re.sub(r'©.*?(\\.|\\n)', '', text)\n",
    "    text = re.sub(r'This article is licensed.*?(\\.|\\n)', '', text, flags=re.IGNORECASE)\n",
    "    \n",
    "    return text\n",
    "\n",
    "def sentence_segmentation(text):\n",
    "    \"\"\"Segment text into individual sentences using spaCy.\"\"\"\n",
    "    doc = nlp(text)\n",
    "    return [sent.text.strip() for sent in doc.sents if sent.text.strip()]\n",
    "\n",
    "def preprocess_text(raw_text):\n",
    "    \"\"\"Complete preprocessing pipeline.\"\"\"\n",
    "    step1 = normalize_whitespace(raw_text)\n",
    "    step2 = remove_noise_and_references(step1)\n",
    "    sentences = sentence_segmentation(step2)\n",
    "    return sentences"
   ],
   "id": "2eac8c018d516ea3",
   "outputs": [],
   "execution_count": 2
  },
  {
   "metadata": {
    "ExecuteTime": {
     "end_time": "2025-04-12T03:28:14.809214Z",
     "start_time": "2025-04-12T03:28:14.806460Z"
    }
   },
   "cell_type": "code",
   "source": [
    "def summarize_with_tfidf(text, num_sentences=3):\n",
    "    # call preprocess\n",
    "    clean_text=preprocess_text(text)\n",
    "    # Step 1: Sentence Tokenization\n",
    "    sentences = sent_tokenize(str(clean_text))\n",
    "\n",
    "    # Check if there are enough sentences\n",
    "    if len(sentences) == 0:\n",
    "        return \"No content to summarize.\"\n",
    "\n",
    "    try:\n",
    "        # Step 2: Compute TF-IDF matrix\n",
    "        vectorizer = TfidfVectorizer(stop_words='english')  # Filter stopwords\n",
    "        tfidf_matrix = vectorizer.fit_transform(sentences)\n",
    "\n",
    "        if tfidf_matrix.shape[1] == 0:\n",
    "            return \"The text contains only stopwords or insufficient content for summarization.\"\n",
    "\n",
    "        # Step 3: Calculate sentence scores using cosine similarity\n",
    "        sentence_scores = cosine_similarity(tfidf_matrix, tfidf_matrix).sum(axis=1)\n",
    "\n",
    "        # Step 4: Rank sentences\n",
    "        ranked_sentences_idx = np.argsort(sentence_scores)[::-1]\n",
    "\n",
    "        # Step 5: Select top N sentences\n",
    "        selected_sentences = [sentences[i] for i in sorted(ranked_sentences_idx[:num_sentences])]\n",
    "\n",
    "        # Step 6: Combine them into a summary\n",
    "        summary = \" \".join(selected_sentences)\n",
    "        return summary\n",
    "    \n",
    "    except ValueError as e:\n",
    "        return f\"Error: {str(e)}\"\n"
   ],
   "id": "db13144c641a9b6c",
   "outputs": [],
   "execution_count": 3
  },
  {
   "metadata": {
    "ExecuteTime": {
     "end_time": "2025-04-12T03:28:14.915181Z",
     "start_time": "2025-04-12T03:28:14.815325Z"
    }
   },
   "cell_type": "code",
   "source": [
    "text = \"\"\"\n",
    "Musicians to tackle US red tape\\n\\nMusicians' groups are to tackle US visa regulations which are blamed for hindering British acts' chances of succeeding across the Atlantic.\\n\\nA singer hoping to perform in the US can expect to pay $1,300 (£680) simply for obtaining a visa. Groups including the Musicians' Union are calling for an end to the \"raw deal\" faced by British performers. US acts are not faced with comparable expense and bureaucracy when visiting the UK for promotional purposes.\\n\\nNigel McCune from the Musicians' Union said British musicians are \"disadvantaged\" compared to their US counterparts. A sponsor has to make a petition on their behalf, which is a form amounting to nearly 30 pages, while musicians face tougher regulations than athletes and journalists. \"If you make a mistake on your form, you risk a five-year ban and thus the ability to further your career,\" says Mr McCune.\\n\\n\"The US is the world's biggest music market, which means something has to be done about the creaky bureaucracy,\" says Mr McCune. \"The current situation is preventing British acts from maintaining momentum and developing in the US,\" he added.\\n\\nThe Musicians' Union stance is being endorsed by the Music Managers' Forum (MMF), who say British artists face \"an uphill struggle\" to succeed in the US, thanks to the tough visa requirements, which are also seen as impractical. The MMF's general secretary James Seller said: \"Imagine if you were an orchestra from the Orkneys? Every member would have to travel to London to have their visas processed.\"\\n\\n\"The US market is seen as the holy grail and one of the benchmarks of success, and we're still going to fight to get in there. \"It's still very important, but there are other markets like Europe, India and China,\" added Mr Seller. A Department for Media, Culture and Sport spokeswoman said: \"We're aware that people are experiencing problems, and are working with the US embassy and record industry to see what we can do about it.\" A US Embassy spokesman said: \"We are aware that entertainers require visas for time-specific visas and are doing everything we can to process those applications speedily.\" \"We are aware of the importance of cultural exchange and we will do our best to facilitate that,\" he added.\\n\n",
    "\"\"\"\n",
    "\n",
    "summary = summarize_with_tfidf(text, num_sentences=5)\n",
    "print(str(summary))\n"
   ],
   "id": "ac677ee2d979c9aa",
   "outputs": [
    {
     "name": "stdout",
     "output_type": "stream",
     "text": [
      "[\"Musicians to tackle US red tape Musicians' groups are to tackle US visa regulations which are blamed for hindering British acts' chances of succeeding across the Atlantic. ', 'Groups including the Musicians\\' Union are calling for an end to the \"raw deal\" faced by British performers. ', 'Nigel McCune from the Musicians\\' Union said British musicians are \"disadvantaged\" compared to their US counterparts. ', '\"The US is the world\\'s biggest music market, which means something has to be done about the creaky bureaucracy,\" says Mr McCune. ', 'The Musicians\\' Union stance is being endorsed by the Music Managers\\' Forum (MMF), who say British artists face \"an uphill struggle\" to succeed in the US, thanks to the tough visa requirements, which are also seen as impractical.\n"
     ]
    }
   ],
   "execution_count": 4
  },
  {
   "metadata": {
    "ExecuteTime": {
     "end_time": "2025-04-12T03:28:14.921868Z",
     "start_time": "2025-04-12T03:28:14.920263Z"
    }
   },
   "cell_type": "code",
   "source": "#evaluation  ",
   "id": "f17367d2b6f0a16f",
   "outputs": [],
   "execution_count": 5
  },
  {
   "metadata": {
    "ExecuteTime": {
     "end_time": "2025-04-12T03:28:16.625560Z",
     "start_time": "2025-04-12T03:28:14.930629Z"
    }
   },
   "cell_type": "code",
   "source": [
    "import numpy as np\n",
    "import pandas as pd\n",
    "from evaluate import load\n",
    "from scipy.ndimage import label\n",
    "from transformers import AutoTokenizer, AutoModelForSeq2SeqLM\n",
    "from datasets import Dataset, DatasetDict"
   ],
   "id": "1af03d21ae9bac28",
   "outputs": [
    {
     "name": "stderr",
     "output_type": "stream",
     "text": [
      "/Users/jameelamer/MasterProject/Summarization/summrization_webapp/flaskProject2/.venv/lib/python3.12/site-packages/tqdm/auto.py:21: TqdmWarning: IProgress not found. Please update jupyter and ipywidgets. See https://ipywidgets.readthedocs.io/en/stable/user_install.html\n",
      "  from .autonotebook import tqdm as notebook_tqdm\n"
     ]
    }
   ],
   "execution_count": 6
  },
  {
   "metadata": {
    "ExecuteTime": {
     "end_time": "2025-04-12T03:28:17.096319Z",
     "start_time": "2025-04-12T03:28:16.630004Z"
    }
   },
   "cell_type": "code",
   "source": [
    "# BBC News Dataset\n",
    "# testdf=pd.read_csv('bbc_news_with_articles_and_extractive_summary.csv')\n",
    "# gov report dataset\n",
    "\n",
    "testdf=pd.read_csv('gov_report_with_articles_and_extractive_summary.csv')"
   ],
   "id": "8d08b57dac20e22f",
   "outputs": [],
   "execution_count": 7
  },
  {
   "metadata": {
    "ExecuteTime": {
     "end_time": "2025-04-12T03:28:17.113995Z",
     "start_time": "2025-04-12T03:28:17.107259Z"
    }
   },
   "cell_type": "code",
   "source": "testdf.head()",
   "id": "a84983576bd312a0",
   "outputs": [
    {
     "data": {
      "text/plain": [
       "   Unnamed: 0                                            Article  \\\n",
       "0           0  In our prior work, we have found that technolo...   \n",
       "1           1  A variety of federal laws, regulations, and po...   \n",
       "2           2  According to the National Research Council, al...   \n",
       "3           3  Nursing homes are required to keep residents s...   \n",
       "4           4  This section provides an overview of (1) the l...   \n",
       "\n",
       "                                             Summary  \\\n",
       "0  Multiple firms have produced cell-cultured mea...   \n",
       "1  Federal advisory committees provide advice to ...   \n",
       "2  DOD manages a global real-estate portfolio wit...   \n",
       "3  Nursing homes provide care to about 1.4 millio...   \n",
       "4  Decades of defense activities at DOE's Idaho N...   \n",
       "\n",
       "                                  extractive_summary  \n",
       "0  Some firms have developed prototypes of cell-c...  \n",
       "1  EPA’s federal advisory committees play an impo...  \n",
       "2  DOD has a global real estate portfolio that su...  \n",
       "3  Nursing home characteristics.. At the national...  \n",
       "4  DOE has a process for determining that certain...  "
      ],
      "text/html": [
       "<div>\n",
       "<style scoped>\n",
       "    .dataframe tbody tr th:only-of-type {\n",
       "        vertical-align: middle;\n",
       "    }\n",
       "\n",
       "    .dataframe tbody tr th {\n",
       "        vertical-align: top;\n",
       "    }\n",
       "\n",
       "    .dataframe thead th {\n",
       "        text-align: right;\n",
       "    }\n",
       "</style>\n",
       "<table border=\"1\" class=\"dataframe\">\n",
       "  <thead>\n",
       "    <tr style=\"text-align: right;\">\n",
       "      <th></th>\n",
       "      <th>Unnamed: 0</th>\n",
       "      <th>Article</th>\n",
       "      <th>Summary</th>\n",
       "      <th>extractive_summary</th>\n",
       "    </tr>\n",
       "  </thead>\n",
       "  <tbody>\n",
       "    <tr>\n",
       "      <th>0</th>\n",
       "      <td>0</td>\n",
       "      <td>In our prior work, we have found that technolo...</td>\n",
       "      <td>Multiple firms have produced cell-cultured mea...</td>\n",
       "      <td>Some firms have developed prototypes of cell-c...</td>\n",
       "    </tr>\n",
       "    <tr>\n",
       "      <th>1</th>\n",
       "      <td>1</td>\n",
       "      <td>A variety of federal laws, regulations, and po...</td>\n",
       "      <td>Federal advisory committees provide advice to ...</td>\n",
       "      <td>EPA’s federal advisory committees play an impo...</td>\n",
       "    </tr>\n",
       "    <tr>\n",
       "      <th>2</th>\n",
       "      <td>2</td>\n",
       "      <td>According to the National Research Council, al...</td>\n",
       "      <td>DOD manages a global real-estate portfolio wit...</td>\n",
       "      <td>DOD has a global real estate portfolio that su...</td>\n",
       "    </tr>\n",
       "    <tr>\n",
       "      <th>3</th>\n",
       "      <td>3</td>\n",
       "      <td>Nursing homes are required to keep residents s...</td>\n",
       "      <td>Nursing homes provide care to about 1.4 millio...</td>\n",
       "      <td>Nursing home characteristics.. At the national...</td>\n",
       "    </tr>\n",
       "    <tr>\n",
       "      <th>4</th>\n",
       "      <td>4</td>\n",
       "      <td>This section provides an overview of (1) the l...</td>\n",
       "      <td>Decades of defense activities at DOE's Idaho N...</td>\n",
       "      <td>DOE has a process for determining that certain...</td>\n",
       "    </tr>\n",
       "  </tbody>\n",
       "</table>\n",
       "</div>"
      ]
     },
     "execution_count": 8,
     "metadata": {},
     "output_type": "execute_result"
    }
   ],
   "execution_count": 8
  },
  {
   "metadata": {
    "ExecuteTime": {
     "end_time": "2025-04-12T03:50:14.648977Z",
     "start_time": "2025-04-12T03:28:17.178103Z"
    }
   },
   "cell_type": "code",
   "source": "testdf['generated_summary'] = testdf['Article'].apply(lambda x:str(summarize_with_tfidf( x, 25)))",
   "id": "be26dd3ab6a2583b",
   "outputs": [],
   "execution_count": 9
  },
  {
   "metadata": {
    "ExecuteTime": {
     "end_time": "2025-04-12T03:50:14.767434Z",
     "start_time": "2025-04-12T03:50:14.689141Z"
    }
   },
   "cell_type": "code",
   "source": [
    "testdf.replace(r'^\\s*$', np.nan, regex=True)\n",
    "testdf.dropna(axis=0, how='any')\n",
    "# Remove rows where \"Title\" is empty or null\n",
    "testdf = testdf[testdf[\"generated_summary\"].notna() & (testdf[\"generated_summary\"] != \"\")]\n",
    "len(testdf)"
   ],
   "id": "79021efe9f271487",
   "outputs": [
    {
     "data": {
      "text/plain": [
       "973"
      ]
     },
     "execution_count": 10,
     "metadata": {},
     "output_type": "execute_result"
    }
   ],
   "execution_count": 10
  },
  {
   "metadata": {
    "ExecuteTime": {
     "end_time": "2025-04-12T03:50:14.887688Z",
     "start_time": "2025-04-12T03:50:14.867493Z"
    }
   },
   "cell_type": "code",
   "source": [
    "testdf=testdf.drop_duplicates(subset=[\"generated_summary\"])\n",
    "testdf['generated_summary'].value_counts()"
   ],
   "id": "e954797290d40d09",
   "outputs": [
    {
     "data": {
      "text/plain": [
       "generated_summary\n",
       "', 'As a result, certain information is not yet available to stakeholders—including cell-cultured meat firms themselves, regulators, and the public—about specific aspects of the technology and commercial production methods that will be used, such as the composition of the growth medium and of the final products. ', 'Each cell-cultured meat firm is developing detailed information on its own eventual commercial production methods for making cell-cultured meat. ', 'Specifically, FDA and USDA officials said they have limited information on cell-cultured meat production methods and products and need more in order to regulate this new food. ', 'According to FDA officials and representatives from one cell-cultured meat firm, it is likely that some firms will use genetic engineering in their commercial cell-cultured meat production methods. ', 'Some studies and stakeholders we interviewed, including representatives from cell-cultured meat firms, said that the high production cost of cell- cultured meat is a key industry challenge. ', 'According to representatives from some cell-cultured meat firms, initial cell-cultured meat products most likely will not be composed entirely of cell- cultured meat but, rather, a mixture of cell-cultured meat and other ingredients such as binding, flavoring ingredients, and plant-based materials used in conventional food products. ', 'However, representatives from cell-cultured meat firms stated that they aim to produce products that contain more cell-cultured meat than other ingredients. ', 'In 2018, FDA and USDA began taking steps to collaborate on the regulatory oversight of cell-cultured meat through several mechanisms: a joint public meeting, an interagency agreement, and three working groups. ', 'FDA and USDA could more fully incorporate leading practices for collaboration in their interagency agreement and working groups. ', 'We found that the interagency agreement for oversight of cell-cultured meat partially incorporates all seven leading practices for collaboration. ', 'As the agencies continue to collaborate on their shared oversight of cell- cultured meat, by more fully incorporating all seven leading practices for collaboration into their interagency agreement, they will be better positioned to address potential fragmentation in their efforts to ensure the safety of the food supply as cell-cultured meat products near commercialization and entry into the marketplace. ', 'The agencies’ 2019 agreement to share oversight of cell-cultured meat creates a new relationship between FDA and USDA, since the agencies will oversee different stages of the production of the same food and hand off oversight at a certain point in that production. ', 'In this context, some industry representatives and other stakeholders have expressed concerns about potential fragmentation or overlap in oversight of cell-cultured meat, such as could occur during the harvest phase of cell-cultured meat production when FDA hands off its oversight to USDA. ', 'Specifically, FDA and USDA’s interagency agreement regarding cell-cultured meat states that it covers all cell-cultured meat derived from USDA-amenable species required to bear a USDA mark of inspection, which in the agreement includes livestock, poultry, and catfish. ', 'However, stakeholders from two cell-cultured meat firms, including representatives of a cell- cultured seafood firm we spoke with in April 2019, stated that they did not know who in the federal government would oversee cell-cultured seafood. ', 'While FDA and USDA officials told us they had agreed that FDA would oversee cell-cultured seafood other than catfish, as of December 2019, the agencies had not formally announced or documented this agreement. ', 'By taking steps to document which agency will oversee cell-cultured seafood other than catfish, FDA and USDA will better ensure the public, including key stakeholders such as cell-cultured meat firms, have clarity about the agencies’ oversight responsibilities in this area. ', 'FDA and USDA have taken steps to collaborate on their shared regulatory oversight of cell-cultured meat, including establishing an interagency agreement and three working groups. ', 'By taking steps to document in their interagency agreement, or other publicly available document, which agency will oversee cell-cultured seafood other than catfish, FDA and USDA could better ensure that members of the public and other key stakeholders such as cell-cultured meat firms have clarity about the agencies’ oversight responsibilities in this area. ', 'We are making a total of six recommendations, three to FDA and three to USDA:', 'The Commissioner of the Food and Drug Administration, in coordination with the Secretary of Agriculture, should more fully incorporate the seven leading practices for effective collaboration in the agencies’ interagency agreement for the joint oversight of cell-cultured meat. ', '(Recommendation 1)', 'The Secretary of Agriculture, in coordination with the Commissioner of the Food and Drug Administration, should more fully incorporate the seven leading practices for effective collaboration in the agencies’ interagency agreement for the joint oversight of cell-cultured meat. ', 'Specifically, both agencies agreed with our recommendations regarding (1) more fully incorporating the seven leading practices for effective collaboration in the three cell-cultured meat working groups as they move forward and (2) clearly documenting which agency will oversee cell-cultured seafood other than catfish. ', 'FDA and USDA partially concurred with our recommendation, directed to each agency, to more fully incorporate the seven leading practices for effective collaboration into the agencies’ interagency agreement for the joint oversight of cell-cultured meat. ', 'We continue to believe that FDA and USDA should more fully incorporate the seven leading practices for effective collaboration into their interagency agreement for the joint oversight of cell-cultured meat. ', 'To describe what is known about the process for producing cell-cultured meat and potential commercial production methods, we also reviewed two sets of public comments submitted to FDA and USDA in association with the two 2018 public meetings pertaining to cell-cultured meat.                                                                                                                                                                                                                                                                                                                                                                                                                                                                                                                                                                                                                                                                                                                                                                                                                                                                                                                                                                                                                                                                                                                                                                                                                                                                                                                                                                                                                                                                                                                                                                                                                                                                                                                                                                                                                                                                                                                                                                                                                                                                                                                                                                                                                                                                                                                                                                                                                                                                                                                                                                                                                                                                                                                                                                                                                                                                                                                                                                                                                                                                                                                                                                                                                                            1\n",
       "', 'The assessments must be the same academic assessments used to measure the achievement of all public elementary and secondary schools in the state and be administered to all students in the state within the required grades and subjects. ', 'The state assessments must be the same for all public elementary and secondary school students in the state. \", \"In the student's third year of enrollment and all subsequent years, the state must include his or her performance on the RLA and mathematics assessments in the state's accountability system. ', 'If a state has already approved one of the above mentioned assessments as the high school assessment used for accountability, the LEA is not required to request using it. ', \"To receive approval from the SEA, a locally selected high school assessment must meet the following criteria: be aligned with the state's academic content standards, address the depth and breadth of the standards, and be equivalent to the state assessment with regard to content coverage, difficulty, and quality; provide comparable, valid, and reliable data on academic achievement as compared to the state assessment (for all students and each subgroup of students) and results must be expressed in terms consistent with the state academic achievement standards; meet the general requirements of assessment systems, including technical criteria, with the exception that the locally selected high school assessment need not be the same assessment used for all students in the state and administered to all students in the state; and provide unbiased, rational, and consistent differentiation between schools within the state. \", \"States may use computer adaptive assessments for students with the most significant cognitive disabilities, provided that the assessments (1) meet the legislative requirements for alternate assessments, and (2) assess the student's academic achievement and whether the student is performing at grade level. ', 'The system must include state established long-term goals (and measures of interim progress) for all students, and separately for subgroups of students, for academic achievement as measured by proficiency on the state RLA and mathematics assessments and high school graduation rates. ', 'For all public schools, student performance on the RLA and mathematics assessments as measured by student proficiency, and for high schools may also include a measure of student growth on such assessments. ', 'Each state is required annually to measure the performance of not less than 95% of all public school students and not less than 95% of all public school students in each subgroup on the mathematics and RLA assessments. \", 'For the purposes of measuring, calculating, and reporting student proficiency on the mathematics and RLA assessments, the state must use as the denominator the greater of either (1) 95% of all public school students or 95% of all public school students in the subgroup (whichever is applicable to the calculation), or (2) the number of students participating in the assessments. ', 'If a Title I-A school identified for ATSI does not improve within a state-determined number of years, the state is required to identify the school for CSI. ', 'Each state report card is required to include information about student performance. ', 'Further, for the (1) \"all students\" group, (2) student subgroups with separate accountability determinations, (3) students who are homeless, and (4) students in foster care, the state report card must include information on performance on the other academic indicator included in the state\\'s accountability system for elementary schools and secondary schools that are not high schools. ', 'For the (1) \"all students\" group, and (2) student subgroups with separate accountability determinations (with the exception of ELs), the state report card must include information on performance on the indicator(s) of school quality or student success used in the state\\'s accountability system, as well as their progress toward meeting the state\\'s long-term accountability system goals, including interim progress. ', 'The state report card must include additional information related to student assessments. \", \"The state may include any additional information on its state report card that it believes will provide members of the public, including parents and students, with information about the progress of each of the state's elementary and secondary schools. ', \"LEAs are permitted to include additional information on their report cards that the LEA determines will provide members of the public, including parents and students, with information about the progress of each of the state's elementary and secondary schools, regardless of whether the information is also included on the state report card. ', 'A state may use the SAT or ACT for its high school assessment in its statewide accountability system, provided that the assessment is approved for use in the state plan. ', \"In short, the state must provide evidence that the SAT or ACT (1) is aligned with and equivalent to the state's academic content standards; (2) provides comparable, valid, and reliable data compared to the state assessment; (3) meets the general requirements of assessment systems with the exception that it need not be administered to all students in the state; and (4) provides unbiased, rational, and consistent differentiation between schools within the state. ', 'Statutory language requires that the proficiency of students on the RLA and mathematics assessments be included as an indicator for all public schools in a state. ', 'It provides states with the option to use measures of student growth on the state assessments for high school students. ', 'Public elementary and secondary schools that are not high schools are required to use, in addition to the proficiency measures, either a measure of student growth, \"if determined appropriate by the state,\" or another \"valid and reliable statewide indicator that allows for meaningful differentiation in school performance. \"', 'Thus, the state also has the option to use student growth as measured by the RLA and mathematics assessments as an indicator for elementary and secondary schools that are not high schools. ', 'The indicators included in the state accountability system are required to apply to all public schools in the state. ', 'The SEA is required to use its accountability system to determine which schools in the state will be identified for CSI or TSI.                                                                                                                                                                                                                                                                                                                                                                                                                                                                                                                                                                                                                                                                                                                                                                                                                                                                                                                                                                                                                                                                                                                                                                                                                                                                                                                                                                                                                                                                                                                                                                                                                                                                                                                                                                                                                                                                                                                                                                                                                                                                                                                                                                                                                                                                                                                                                                                                                                                                                                                                                                                                                                                                                                                                                                                                                                                                                                                                                                                                        1\n",
       "\"', 'The Office of Management and Budget (OMB) has provided guidance to agencies about what travel (including travel to conduct R&D or to attend scientific meetings) should be considered mission-critical, based on a list of 11 factors, such as whether the travel is for activities essential to national security or whether it is time-sensitive. ', 'In some cases, agencies and researchers are shifting their research focus to COVID-19 related topics. \"', \"NIST has announced a new grant opportunity under the Manufacturing USA National Emergency Assistance Program to support rapid, high-impact projects that support the nation's response to the COVID-19 pandemic. ', 'NIST conducted $94.4 million in research, development and supporting services for other federal agencies in FY2019. ', 'As some agencies and researchers shift their R&D priorities to respond to the COVID-19 pandemic, the funding available for R&D on other topics may be reduced, at least in the near term. ', 'More generally, the federal funding needed for the national response to COVID-19 may reduce the overall federal resources available for R&D. ', 'On March 9, 2020, OMB authorized federal agencies to provide certain short-term relief from administrative, financial management, and auditing requirements for grantees involved in research related to COVID-19. \", 'It also provides a link to a compilation maintained by the Council on Governmental Relations (COGR) of guidance from federal agencies, academic institutions, and other organizations, as well as frequently asked questions about how federal agencies that fund R&D are implementing the OMB-directed flexibilities. \", 'Congress has already enacted some legislation with R&D-related funding and provisions in response to the COVID-19 pandemic. Most of this total was for research on COVID-19 itself, including $945 million for NIH, $415 million for research, development, testing, and evaluation (RDT&E) in the DOD Defense Health Program, and smaller sums for several other agencies. ', \"The CARES Act provided NIST laboratories with $6 million in additional funding, including $5 million to support and accelerate measurement science related to viral testing and biomanufacturing; $50 million for the NIST Manufacturing Extension Partnership program to help companies across the country transform operations in support of COVID-19 related needs and to foster development of COVID-19 related supply chains; and $10 million for research related activities at Manufacturing USA's National Institute for Innovation in Manufacturing Biopharmaceuticals (NIIMBL). ', 'Organizations representing research universities, medical schools, and teaching hospitals have asked Congress, among other steps, to give research institutions receiving federal funding additional flexibility to cover researcher salaries and benefits while their institutions are affected, to provide $13 billion in additional extramural research funding, and to allow agencies to reprogram any supplemental funds that are not spent within a year for new awards. ', 'These might include seeking a clearer understanding of how federally funded R&D is being affected by COVID-19, through hearings, mandates for agency reports, support for academic studies, or mandates for reports by organizations such as the Government Accountability Office or the National Academies of Sciences, Engineering, and Medicine; directing OMB, the Office of Science and Technology Policy, or an interagency task force to develop more uniform guidance on how to identify essential or critical R&D activities, with recommendations for implementing that guidance at government laboratories, universities, companies, and other institutions involved in intramural and extramural federally funded R&D; and establishing a post-pandemic task force on the federal R&D enterprise to examine lessons learned from the COVID-19 pandemic and recommend policy changes to improve the national response of the R&D community in the event of future pandemics. ', 'As of the date of this report, COVID-19-related memoranda include M-20-19 Harnessing Technology to Support Mission Continuity (March 22, 2020)', 'Directs agencies to utilize technology to the greatest extent practicable to support mission continuity. ', 'https://www.whitehouse.gov/wp-content/uploads/2020/03/M-20-19.pdf M-20-18 Managing Federal Contract Performance Issues Associated with the Novel Coronavirus (COVID-19) (March 20, 2020) Identifies certain agency actions to relieve short-term administrative, financial management, and audit requirements under 2 C.F.R. ', 'In accordance with 2 CFR Â§200.102, \"Exceptions,\" OMB is allowing federal agencies to grant class exceptions in instances where the agency has determined that the purpose of the federal awards is to support the continued research and services necessary to carry out the emergency response related to COVID-19. \"', 'https://www.whitehouse.gov/wp-content/uploads/2020/03/M-20-18.pdf M-20-17 Administrative Relief for Recipients and Applicants of Federal Financial Assistance Directly Impacted by the Novel Coronavirus (COVID-19)', 'Due to Loss of OperationsÂ (March 19, 2020) Identifies steps to help ensure safety while maintaining continued contract performance in support of agency missions, wherever possible and consistent with the precautions issued by the Centers for Disease Control and Prevention (CDC). ', \"Agencies are urged to work with their contractors, if they have not already, to evaluate and maximize telework for contractor employees, wherever possible; be flexible in providing extensions to performance dates if telework or other flexible work solutions, such as virtual work environments, are not possible, or if a contractor is unable to perform in a timely manner due to quarantining, social distancing, or other COVID-19 related interruptions; take into consideration whether it is beneficial to keep skilled professionals or key personnel in a mobile-ready state for activities the agency deems critical to national security or other high priorities; consider whether contracts that possess capabilities for addressing impending requirements such as security, logistics, or other functions may be retooled for pandemic response consistent with the scope of the contract; and leverage the special emergency procurement authorities authorized in connection with the President's emergency declaration under Section 501(b) of the Robert T. Stafford Disaster Relief and Emergency Assistance Act, 42 U.S.C. ', 'https://www.whitehouse.gov/wp-content/uploads/2020/03/M-20-17.pdf M-20-16 Federal Agency Operational Alignment to Slow the Spread of Coronavirus COVID-19 (March 17, 2020)', \"Provided agencies with initial guidance, consistent with the President's Coronavirus Guidelines for America, directing agencies to take appropriate steps to prioritize all resources to slow the transmission of COVID-19, while ensuring mission-critical activities continue. ', 'https://www.whitehouse.gov/wp-content/uploads/2020/03/M-20-16.pdf M-20-15 Updated Guidance for the National Capital Region on Telework Flexibilities in Response to Coronavirus (March 15, 2020)', 'Directs agencies to offer maximum telework flexibilities to all current telework-eligible employees, consistent with operational needs of the departments and agencies as determined by their heads, as well as to use all existing authorities to offer telework to additional employees, to the extent their work could be telework enabled. ', 'https://www.whitehouse.gov/wp-content/uploads/2020/03/M20-15-Telework-Guidance-OMB.pdf M-20-14 Updated Federal Travel Guidance in Response to Coronavirus (March 14, 2020) Advises that \"only mission-critical travel is recommended at this time. ', 'https://www.whitehouse.gov/wp-content/uploads/2020/03/M-20-14-travel-guidance-OMB-1.pdf M-20-13 Updated Guidance on Telework Flexibilities in Response to Coronavirus (March 12, 2020)', 'Encourages agencies to maximize telework flexibilities (1) to eligible workers within those populations that the CDC identified as being at higher risk for serious complications from COVID-19 (e.g., older adults and individuals who have chronic health conditions, such as high blood pressure, heart disease, diabetes, lung disease, compromised immune systems); and (2) to CDC-identified special populations including pregnant women. \", 'https://www.whitehouse.gov/wp-content/uploads/2020/03/M-20-13.pdf M-20-11 Administrative Relief for Recipients and Applicants of Federal Financial Assistance Directly Impacted by the Novel Coronavirus (COVID-19) (March 9, 2020) Identifies and authorizes agency actions to relieve short-term administrative, financial management and audit requirements under 2 C.F.R. ', 'Notes that OMB is allowing federal agencies to grant class exceptions in instances where the agency has determined that the purpose of the federal awards is to support the continued research and services necessary to carry out the emergency response related to COVID-19. \"', 'https://www.whitehouse.gov/wp-content/uploads/2020/03/M-20-11.pdf Compilation of Other Resources The Council on Governmental Relations maintains an online compilation of guidance from federal agencies, academic institutions, and other organizations, as well as responses to frequently asked questions about how federal agencies that fund R&D are implementing the OMB-directed flexibilities.    1\n",
       "', 'This report provides an overview of dam safety and associated activities in the United States, highlighting the federal role in dam safety. ', 'The report also discusses potential issues for Congress, such as the federal role for nonfederal dam safety; federal funding for dam safety programs, rehabilitation, and repair; and public awareness of dam safety risks. \", 'Congress has reauthorized the NDSP four times and enacted other dam safety programs and activities related to federal and nonfederal dams. ', 'The NDSP also provides dam safety information resources and training, conducts research and outreach, and supports state dam safety programs with grant assistance. ', \"The National Dam Safety Review Board (NDSRB) advises FEMA's director on dam safety issues, including the allocation of grants to state dam safety programs. ', 'State dam safety programs typically include safety evaluations of existing dams, review of plans and specifications for dam construction and major repair work, periodic inspections of construction work on new and existing dams, reviews and approval of EAPs, and activities with local officials and dam owners for emergency preparedness. ', 'Two such programs are discussed below (see \" FEMA High Hazard Dam Rehabilitation Grant Program \" for information about FEMA\\'s dam rehabilitation program initiated in FY2019). ', 'Some of the metrics for the dam safety program, such as the percentage of state-regulated high hazard potential dams with EAPs and condition assessments, have shown improvement. ', \"The Federal Guidelines for Dam Safety provides basic guidance for federal agencies' dam safety programs. ', 'Many agencies with large dam portfolios (e.g., Reclamation and USACE) have since moved from this solely standards-based approach for their dam safety programs to a portfolio risk management approach to dam safety, including evaluating all modes of failure (e.g., seepage of water and sediment through a dam) and prioritizing rehabilitation and repair efforts. ', 'USACE implements a dam safety program consisting of inspections and risk analyses for USACE operated dams, and performs risk reduction measures or project modifications to address dam safety risks. ', 'The Construction account provides funding for nonroutine dam safety activities (e.g., dam safety rehabilitation and repair modifications). ', 'Modification of USACE-constructed dams for safety purposes may be cost shared with nonfederal project sponsors using two cost-sharing authorities: major rehabilitation and dam safety assurance. ', \"Reclamation's dam safety program, authorized by Reclamation Safety of Dams Act of 1978, as amended ( P.L. \", 'Some federal agencies are involved in dam safety activities of nonfederal dams; these activities may be regulatory or consist of voluntary coordination (see box on \"Nonfederal Dams on Federal Lands\"). \", 'Nonfederal dam owners generally are responsible for investing in the safety, rehabilitation, and repair of their dams. ', 'The WIIN Act authorized FEMA to administer a high hazard dam rehabilitation grant program, which would provide funding assistance for the repair, removal, or rehabilitation of nonfederal high hazard potential dams. ', \"Eligible dams must be in a state with a dam safety program, be classified as high hazard, have developed a state-approved EAP, fail to meet the state's minimum dam safety standards, and pose an unacceptable risk to the public. ', \"Congress appropriated $10 million in FY2019 for FEMA's High Hazard Dam Rehabilitation Grant Program under the Consolidated Appropriations Act, 2019 ( P.L. ', 'Congress may deliberate the federal role for dam safety, especially as most of the dams in the NID are nonfederal. ', 'Further, Congress may evaluate the level and allocation of appropriations to federal dam safety programs, project modifications for federal dams, and financial assistance for nonfederal dam safety programs and nonfederal dams. ', \"These activities, as well as the enhancement of federal agencies' dam safety programs, have improved certain dam safety metrics; nonetheless, deficiencies in federal and state programs may have contributed to recent incidents (e.g., the 2017 spillway incident at Oroville Dam, California). ', 'Some stakeholders argue that the federal government should continue its activities in maintaining and regulating dams owned by federal agencies and nonfederal dams under federal regulatory authority, while state dam safety programs should retain responsibility for state-regulated dams by following the guidelines of the Model State Dam Safety Program . ', 'They argue that many state dam safety programs and nonfederal dam owners have limited resources and authorities to inspect, conduct O&M, rehabilitate, and repair nonfederal dams. ', 'Similar metrics have improved for some federal agencies that own dams, and certain federal dam safety programs have implemented or are beginning to implement risk-based dam safety approaches to managing their dam portfolios (e.g., USACE and Reclamation).                                                                                                                                                                                                                                                                                                                                                                                                                                                                                                                                                                                                                                                                                                                                                                                                                                                                                                                                                                                                                                                                                                                                                                                                                                                                                                                                                                                                                                                                                                                                                                                                                                                                                                                                                                                                                                                                                                                                                                                                                                                                                                                                                                                                                                                                                                                                                                                                                                                                                                                                                                                                                                                                                                                                                                                                                                                                                                                                                                                                                                                                                                                                                                                                                                                                                                                                                                                                                                                                                                                                                                                                                                                                                                                                                                                                                                                                                                                                                                                                                                                                                                                                                                                                                                                                                                                                                                                                                                                                                                                                                    1\n",
       "', \"Some European allies question the Trump Administration's commitment to NATO and have criticized the Administration for a perceived unilateral approach to foreign policy issues, including the October 2019 drawdown of U.S. forces from Syria. \", 'Many allies also have criticized fellow NATO member Turkey for its military operations in Syria and its acquisition of a Russian-made air defense system. ', 'Trump Administration officials maintain that the United States remains committed to NATO, and in London, President Trump stressed that NATO \"has a great purpose. \"', \"U.S. officials also highlight the Administration's successful efforts in 2017 and 2018 to substantially increase funding for the U.S. force presence in Europe and note that Secretary General Stoltenberg has credited President Trump with playing a role in securing defense spending increases across the alliance in recent years. ', \"The allies also reinforced their commitment to NATO's ongoing mission in Afghanistan and other counterterrorism efforts and discussed the implications for NATO of China's growing investment in, and engagement with, Europe. \", 'Although NATO member states maintain full ownership of these capabilitiesâ\\x80\\x94as they do with other military capabilities deployed to NATO missionsâ\\x80\\x94the new operations center is tasked with incorporating cyber defense into all levels of NATO planning and operations. ', 'As discussed in more detail below (see \" Assessing China\\'s Impact on NATO and Transatlantic Security \"), in London, NATO leaders endorsed new baseline requirements for allies with respect to the resilience of telecommunications infrastructure, including 5G systems. \", \"In London, President Trump continued these calls but also welcomed substantial increases in European allies' defense spending over the past five years. \", 'Secretary General Stoltenberg has credited President Trump with playing a key role in spurring increases in European allied defense spending over the past five years. ', \"Deliberations in London drew attention to heightened tension and divergent views within the alliance on a range of issues, including U.S. policy toward NATO and Europe, Turkey's standing as a member of the alliance, EU security and defense policy, and NATO's relations with Russia. ', \"Some analysts and allied leaders question the Trump Administration's level of commitment to NATO and express concern that President Trump's criticisms of the alliance could cause lasting damage to NATO cohesion and credibility. \", \"In addition to admonishing European allies for failing to meet agreed NATO defense spending targets President Trump has repeatedly questioned NATO's value to the United States. \", 'Although he is not the first U.S. President to press the allies to increase defense spending, none has done so as stridently and none has called into question the U.S. commitment to NATO as openly or to the same extent as President Trump. ', 'In London, President Trump expressed that his Administration remains committed to NATO and to upholding European security, including through increased funding for U.S. defense activities in Europe such as the European Deterrence Initiative (EDI). ', \"Some NATO member state governments argue that growing divergence between the United States and many European allies on a range of key foreign and security policy issues, from Iran's nuclear program to fighting the Islamic State terrorist organization in Syria, has impeded cooperation in NATO and exposed strategic rifts within the alliance. \", 'Some European allies have expressed particular concern about what they portray as a lack of U.S. coordination on policy in Syria, where many European countries have been fighting alongside the United States to counter the Islamic State. \"', 'Referring to concerns about the drawdown of U.S. forces from Syria in October 2019 and subsequent military operations by Turkey, he lamented, \"You have partners together in the same part of the world, and you have no coordination whatsoever of strategic decision-making between the United States and its NATO allies. ', \"Some of Turkey's fellow NATO members have sharply criticized Turkey's October 2019 military operations against Kurdish forces in northern Syria as well as its planned deployment of a Russian S-400 air defense system, with some policymakers calling into question Turkey's qualification for continued membership in the alliance. \"', 'Secretary General Stoltenberg stressed that NATO allies were providing Turkey with air defense support along its border with Syria and aerial surveillance over Syria. \", 'Secretary General Stoltenberg has said that Turkey\\'s acquisition of the S-400 air defense system is \"not good\" for NATO, but he stressed that Turkey could continue to participate in NATO\\'s integrated air and missile defense systems if the S-400 is excluded from these systems. ', 'In recent years, the EU has announced several new defense initiatives, including a European Defense Fund (EDF) to support joint defense research and development activities and a new EU defense pact (known as Permanent Structured Cooperation, or PESCO) aimed at spending defense funds more efficiently. ', 'Secretary General Stoltenberg has expressed support for further EU defense integration and cooperation but emphasizes that these efforts should strengthen the European pillar within NATOâ\\x80\\x9422 NATO members are also members of the EUâ\\x80\\x94rather than replace or supplant NATO. ', \"During the Trump Administration, however, demonstrations of congressional support for NATO have at times been viewed primarily as an effort to reassure allies about the U.S. commitment to NATO after President Trump's criticisms of the alliance. \", \"Some in Congress argue that President Trump's criticism of allied defense spending levels has spurred recent defense spending increases by NATO members that were not forthcoming under prior Administrations, despite long-standing U.S. ', 'In light of these considerations, Members of Congress could focus on several key questions regarding NATO\\'s future, including the following: addressing the strategic value of NATO to the United States and the United States\\' leadership role within NATO; examining whether the alliance should adopt a new strategic concept that better reflects views of the security threat posed by Russia and new and emerging threats in the cyber and hybrid warfare domains (NATO\\'s current strategic concept was adopted in 2010); examining NATO\\'s capacity and willingness to address other security threats to the Euro-Atlantic region, including from the MENA region, posed by challenges such as terrorism and migration; examining the possible consequences of member states\\' failure to meet agreed defense spending targets; assessing U.S. force posture in Europe and the willingness of European allies to contribute to NATO deterrence efforts and U.S. defense initiatives in Europe, such as the ballistic missile defense program and EDI; examining options to sanction allies that act in ways that jeopardize allied security; revisiting the allies\\' commitment to NATO\\'s stated \"open door\" policy on enlargement, especially with respect to the membership aspirations of Georgia and Ukraine; and developing a NATO strategy toward China, particularly given U.S. and other allies\\' concerns about the security ramifications of increased Chinese investment in Europe.']                                                                                                                                                                                                                                                                                                                                                                                                                                                                                                                                                                                                                                                                                                                                                                                                                                                                                                                                                                                                                                                                                                                                                                                                                                                                                                                                                                                                                                                                                                                                                                                                                                                                                                                                                                                                                                                                                                                                                                                                                                                                    1\n",
       "                                                                                                                                                                                                                                                                                                                                                                                                                                                                                                                                                                                                                                                                                                                                                                                                                                                                                                                                                                                                                                                                                                                                                                                                                                                                                                                                                                                                                                                                                                                                                                                                                                                                                                                                                                                                                                                                                                                                                                                                                                                                                                                                                                                                                                                                                                                                                                                                                                                                                                                                                                                                                                                                                                                                                                                                                                                                                                                                                                                                                                                                                                                                                                                                                                                                                                                                                                                                                                                                                                                                                                                                                                                                                                                                                                                                                                                                                                                                                                                                                                                                                                                                                                                                                                                                                                                                                                                                                                                                                                                                                                                                                                                                                                                                                                                                                                                                                                                                                                                                                                                                                                                                                                                                                                                                                                                                                                                                                                                                                                                                                                                                                                                                                                                                                                                                                                                                                                                                                                                                                                                                                                                                                                                                                                                                                                                                                                                                                                                                                                                                                                                                                                                                                                                                                                                                                                                                                                                                                                                                                                                                                                                                                                                                                                                                                                                                                                                                                                                                                                                                                                                                                                                                                                                                                                                                                                                                                                                                                                                                                                                                                                                                                                                                                                                                                                                                                                                                                                                                                                                                                                                                                                                                                                                                                                                                                                                                                                                                                                                                                                                                                                                                                                                                                                                                                                                                                                                                                                                                                                                                                                                                                                                                                                                                                                                                           ..\n",
       "', 'From fiscal year 2002 to fiscal year 2018, the proportion of racial or ethnic minorities among USAID’s full-time, permanent, career employees increased from 33 percent to 37 percent, as  shows. ', 'Our comparison of USAID workforce data for fiscal year 2018 with federal workforce data for fiscal year 2017—the most recent available— found that the proportion of racial or ethnic minorities was 37 percent both at USAID and in the federal workforce. ', 'The proportion of racial or ethnic minorities at USAID increased from 33 percent in fiscal year 2002 to 37 percent in fiscal year 2018. ', 'As  shows, from fiscal year 2002 to fiscal year 2018, the proportion of Hispanics at USAID rose from 3 to 6 percent; Asians, from 4 to 7 percent; and other racial or ethnic minorities, from 1 to 2 percent of USAID employees. ', 'In contrast to the proportion of African Americans, the proportions of Hispanics, Asians, and other racial or ethnic minorities at USAID increased in both the Civil and Foreign Services from fiscal year 2002 to fiscal year 2018. ', 'Our analysis of USAID data for fiscal year 2018 found that the proportions of racial or ethnic minority employees generally decreased as rank increased. ', 'Our comparison of USAID workforce data for fiscal year 2018 with federal government workforce data for 2017 found the following: The proportion of women at USAID in fiscal year 2018 (54 percent) was higher than the proportion of women in the federal workforce in fiscal year 2017 (43 percent). ', 'As  shows, our analysis of USAID data for fiscal year 2018 for the Civil Service found progressively smaller proportions of women in each rank above GS-11. ', 'Both our descriptive analysis and adjusted analysis of data for USAID’s Civil Service found that promotion rates were lower for racial or ethnic minorities than for whites in early to mid career, as  shows. ', 'In addition, our analysis of yearly promotion rates in the Civil Service for fiscal years 2013 through 2017 showed that the rate of promotion from GS-11 and higher ranks was greater for whites than for racial or ethnic minorities for every rank and year, except for promotions from GS-15 to the executive class in fiscal years 2013, 2014, and 2016. ', 'Our adjusted analysis of the data for USAID’s Civil Service, controlling for certain factors other than racial or ethnic minority status that could influence promotion, found that racial or ethnic minorities had lower adjusted rates and lower odds of promotion from each rank from GS-11 through GS-14 than their white counterparts. ', 'Specifically, our adjusted analysis of USAID data on promotions in fiscal years 2002 through 2017 found the following: The average adjusted rate of promotion from GS-11 to GS-12 for racial or ethnic minorities was 46.8 percent, compared with an average of 55.8 percent for whites. ', 'shows key results of our descriptive and adjusted analyses of USAID data for racial or ethnic minorities and whites in USAID’s Civil Service. ', 'As  shows, our descriptive analysis of data for USAID’s Foreign Service found that the rate of promotion was generally lower for racial or ethnic minorities than for whites. ', 'As  shows, our descriptive analysis of the data for USAID’s Foreign Service found that for Class 4 and higher ranks, a lower average percentage of racial or ethnic minorities than of whites was promoted from each rank except Class 1. ', 'Our adjusted analysis of the data for USAID’s Foreign Service, controlling for certain factors other than racial or ethnic minority status that could influence promotion, found that racial or ethnic minorities had lower adjusted rates and odds of promotion than their white counterparts but that these differences were generally not statistically significant. ', 'Specifically, our adjusted analysis of USAID data on promotions in fiscal years 2002 through 2017 found the following: On average, the adjusted rate of promotion from Class 3 to Class 2 for racial or ethnic minorities was 11.0 percent, compared with 13.1 percent for whites. ', 'As  shows, our descriptive analysis of USAID data on promotions in fiscal years 2002 through 2017 found that the rate of promotion in USAID’s Civil Service was generally lower for women than for men at GS- 13 and lower ranks. ', 'Our descriptive and adjusted analyses of data on promotions in fiscal years 2002 through 2017 for USAID’s Foreign Service both found that the rate and odds of promotion were generally higher for women than for men, as  shows. ', 'Specifically, our adjusted analysis of data on promotions in fiscal years 2002 through 2017 found the following: On average, the adjusted rate of promotion from Class 4 to Class 3 for women in the Foreign Service was 34.7 percent, compared with 31.5 percent for men. ', 'The following figures and tables present numbers and proportions of employees in racial, ethnic, and gender groups in the U.S. Agency for International Development (USAID) overall and in USAID’s Civil and Foreign Services in fiscal years 2002 through 2018. ', 'As  shows, our analysis of yearly promotion rates for fiscal years 2013 through 2017 at the U.S. Agency for International Development (USAID) found that promotion rates for white employees exceeded those for racial or ethnic minority employees for Civil Service promotions from GS-11 and every higher rank in every year, except from GS-15 to executive in 3 years, and Foreign Service promotions from Class 4 and higher ranks for 11 of the 20 possible year-rank combinations. shows the promotion rates for white employees and racial or ethnic minority employees in USAID’s Civil and Foreign Services in fiscal years 2013 through 2017. ', 'Our analysis of U.S. Agency for International Development (USAID) workforce data found that racial or ethnic minorities generally spent more years in each rank than whites did in USAID’s Civil Service in fiscal years 2002 through 2018.  shows the average years in rank for whites and racial or ethnic minorities in USAID’s Civil and Foreign Services. ', 'shows the average years in rank for men and women in USAID’s Civil and Foreign Services in fiscal years 2002 through 2018.                                                                                                                                                                                                                                                                                                                                                                                                                                                                                                                                                                                                                                                                                                                                                                                                                                                                                                                                                                                                                                                                                                                                                                                                                                                                                                                                                                                                                                                                                                                                                                                                                                                                                                                                                                                                                                                                                                                                                                                                                                                                                                                                                                                                                                                                                                                                                                                                                                                                                                                                                                                                                                                                                                                                                                                                                                                                                                                                                                                                                                                                                                                                                                                                                                                                                                                                                                                1\n",
       "', 'The six criteria are as follows: 1. publish a financial report in the form and including all content required by OMB—typically an AFR or a PAR—for the most recent fiscal year, and post that report on the agency website; 2. conduct a program-specific risk assessment, if required, for each program or activity that conforms with IPIA, as amended; 3. publish improper payment estimates for all programs and activities deemed susceptible to significant improper payments; 4. publish corrective action plans for those programs and activities assessed to be susceptible to significant improper payments; 5. publish and meet annual reduction targets for all programs and activities assessed to be at risk for significant improper payments; and 6. report a gross improper payment rate of less than 10 percent for each program and activity for which an improper payment estimate was published. ', 'Based on agencies that reported improper payment estimates in their AFRs and PARs, government-wide estimated improper payments for fiscal years 2019 and 2018 totaled about $175 billion and $151 billion, respectively. ', 'Key information contained in agency AFRs and PARs regarding the types and causes of fiscal year 2019 estimates of improper payments, and reasons for significant changes in reported estimates from fiscal year 2018, are summarized as follows: The $175 billion total reported government-wide estimates for fiscal year 2019 is broken down per OMB’s Paymentaccuracy.gov Data Call Instructions by type as follows: overpayments, totaling about $79.1 billion (approximately 45.2 underpayments, totaling about $12.9 billion (approximately 7.4 unknown, totaling about $74.1 billion (approximately 42.4 technically improper due to statute or regulation, totaling about $8.7 billion (approximately 5 percent). ', 'About $151.2 billion (approximately 86.6 percent) of the reported government-wide improper payment estimates for fiscal year 2019 related to root causes that occurred in the three areas below. ', 'See appendix II for details on the root causes that agencies identified for their reported improper payment estimates for fiscal year 2019. ', 'The fiscal year 2019 total reported government-wide estimated improper payments, among programs that reported estimates, increased by about $24 billion from the fiscal year 2018 total reported. ', 'Between fiscal years 2018 and 2019, six programs had an increase and five programs had a decrease of over $1 billion in estimated improper payments. ', 'Appendix III provides information on all the programs that had a substantial change in estimated improper payments between fiscal years 2018 and 2019 and the reasons for those changes as reported in agency AFRs. ', 'Examples of substantial changes in improper payments and the reasons for such changes that agencies provided in their AFRs include the following: Department of Health and Human Services (HHS) reported an increase in the total estimated improper payments for the Medicaid program in excess of $21.1 billion for fiscal year 2019. ', 'For example, certain federal programs and activities that agencies determined to be at risk for significant improper payments did not report estimates of improper payments for fiscal year 2019, including the Premium Tax Credit and Temporary Assistance for Needy Families programs, and as we previously reported, the Department of Defense (DOD) lacks quality assurance procedures to ensure the completeness and accuracy of the payment populations from which it develops improper payment estimates. ', 'Eight years after the implementation of IPERA, half of the 24 CFO Act agencies were compliant with IPERA overall for fiscal year 2018, as reported by their IGs. ', 'Based on the IGs’ fiscal year 2018 compliance reports, agencies were most frequently reported as noncompliant with the IPERA requirement to publish and meet annual targets for improper payment reduction. ', 'See appendix IV for additional details on each CFO Act agency’s compliance with the six IPERA criteria for fiscal year 2018, as reported by their IG. ', 'In addition, IGs for certain CFO Act agencies reported quality issues in their agencies’ reporting of improper payment data. ', 'As stated above, IGs for 12 of the 24 CFO Act agencies reported that their agencies were compliant with IPERA overall for fiscal year 2018. ', 'As shown in , this is an increase from 10 agencies reported as compliant for fiscal year 2017, and 11 agencies reported as compliant for fiscal year 2016. ', 'No agencies that IGs reported as compliant in fiscal year 2017 were reported as noncompliant in fiscal year 2018. ', 'In addition, the IGs reported that 21 programs within these agencies were noncompliant with IPERA for each of the past 3 fiscal years (2016–2018). ', 'Improper payment estimates for these programs totaled about $78 billion, representing approximately 52 percent of the $151 billion government- wide reported improper payment estimates for fiscal year 2018. ', 'Specifically, the number of programs reported as noncompliant for 3 or more consecutive years increased from 14 programs in fiscal year 2016 to 18 programs in fiscal year 2017 and 21 programs in fiscal year 2018. ', 'The reported improper payment estimates for these programs totaled about $109 billion for fiscal year 2016, $74 billion for fiscal year 2017, and $78 billion for fiscal year 2018. ', 'The total improper payment estimates for programs reported as noncompliant for 3 or more consecutive years decreased for fiscal 2017 primarily because the Medicare Fee-for-Service program, with about $41 billion of improper payments in fiscal year 2016, was reported as compliant beginning fiscal year 2017. ', 'In addition, as shown in the , 17 programs had a substantial change in their reported improper payment estimates or rates between fiscal years 2018 and 2019. ', 'shows the government-wide agency-reported improper payment estimates and rates for fiscal year 2019, grouped by Office of Management and Budget (OMB) improper payment root cause categories. shows the 17 programs that had a substantial change in the improper payment estimates or rates between fiscal years 2018 and 2019, and the reasons for those changes, as reported in the agency financial reports.                                                                                                                                                                                                                                                                                                                                                                                                                                                                                                                                                                                                                                                                                                                                                                                                                                                                                                                                                                                                                                                                                                                                                                                                                                                                                                                                                                                                                                                                                                                                                                                                                                                                                                                                                                                                                                                                                                                                                                                                                                                                                                                                                                                                                                                                                                                                                                                                                                                                                                                                                                                                                                                                                                                                                                                                                                                                                                                                                                                                                                                                                                                                                                                                                                                                             1\n",
       "', 'The F-35 baseline aircraft development program was complete in April 2018, when developmental testing concluded. ', 'However, we also reported that the program has to complete operational testing before DOD can determine if the six remaining capabilities have been delivered. ', 'The program office plans for over 500 aircraft to be procured by the time operational testing is completed. ', 'shows the program’s planned end to developmental testing and planned timeframes for operational testing for 2012 and the past four years and the delays the program has realized each year since the program was re-baselined in 2012. ', 'Resolution of deficiencies:', 'First, before the program could begin operational testing, it had to resolve critical deficiencies with the aircraft that were identified during development testing. ', 'In June 2018, we recommended that the Secretary of Defense direct the F-35 program to resolve all these deficiencies before the program’s October 2019 full-rate production decision. ', 'Of the 23 operational test aircraft, the program replaced the fuel tubes on 18 aircraft by the start of operational testing in December 2018, which contributed to the 3-month delay. ', 'In June 2018, we recommended that the F-35 program identify what steps it needs to take to ensure the F-35 aircraft meet R&M requirements before each variant reaches maturity and update its R&M Improvement Program (RMIP)—DOD’s action plan for prioritizing and funding R&M improvement projects—with these steps. ', 'The F-35 program office has estimated that implementing all of the identified improvement projects currently contained in its RMIP could result in potential life cycle cost savings of over $9.2 billion by improving the F-35’s R&M. ', 'With development of the baseline program complete, the program is transitioning to early development and testing for modernization efforts known as Block 4, which are expected to cost about $10.5 billion. ', 'The F- 35 program plans to award Block 4 development contracts starting in May 2019, before completing a business case—a baseline cost and schedule estimate to track the program’s performance going forward. ', 'The National Defense Authorization Act for Fiscal Year 2017 required DOD to submit a report containing certain elements of an acquisition program baseline—in essence, a full program business case—to include the cost, schedule, and performance information for Block 4. ', 'DOD’s report to Congress also outlined the F-35 program office’s new development approach to deliver Block 4 capabilities—new requirements beyond the baseline aircraft capabilities to address evolving threats. ', 'According to program officials, as of December 2018, the program has executed contract actions valued over $1.4 billion to establish testing facilities and support early Block 4 development of capabilities the program plans to deliver through 2024. ', 'The F-35 program plans to award Block 4 development contracts without knowledge of the effort’s full cost or the maturity of critical technologies. ', 'Specifically, test officials stated the F-35 program office has not provided details on which capabilities are planned for each testing development cycle making it difficult to execute testing. ', 'According to CAPE officials, they will provide the independent cost estimate between October and December 2019 to support the program’s full-rate production decision, but this would occur several months after the program plans to award the Block 4 development contracts. ', '(Recommendation 4)', 'The Secretary of Defense should ensure that the F-35 program office completes its business case, at least for the initial Block 4 capabilities under development, before initiating additional development work, to include: an independent cost estimate; an approved test and evaluation master plan which addresses resources, aircraft shortfalls, and funding; and an independent technology readiness assessment. ', 'DOD officials did not concur with our recommendation that the F-35 program office complete its business case before initiating additional development work. ', 'DOD stated that the F-35 program office has adequate cost, schedule, and technical maturity knowledge to begin the development of initial Block 4 capabilities. ', 'In addition, DOD planned to manage the follow-on modernization program under the current F-35 program baseline and not as its own separate major defense acquisition program. ', 'Program officials projected that the program would only need $576.2 million in fiscal year 2018 to complete baseline development. ', 'Key program event The program office determined that it could not resolve all open deficiencies found in developmental testing within the development program, and they would need to be resolved through post-development contract actions. ', 'In this report, we (1) provide information on the program’s progress toward completing testing of the baseline aircraft; (2) assess the aircraft’s current reliability and maintainability (R&M) status; (3) assess the program’s modernization efforts (to add new aircraft capabilities), known as Block 4; and (4) provide information on the program’s production costs and efficiency initiatives. ', 'We interviewed officials from the program office, military test authorities, and contractors—Lockheed Martin (airframe) and Pratt & Whitney (engine)— on key aspects of F-35 development progress, including flight testing, future test plans, and recent findings from test events.                                                                                                                                                                                                                                                                                                                                                                                                                                                                                                                                                                                                                                                                                                                                                                                                                                                                                                                                                                                                                                                                                                                                                                                                                                                                                                                                                                                                                                                                                                                                                                                                                                                                                                                                                                                                                                                                                                                                                                                                                                                                                                                                                                                                                                                                                                                                                                                                                                                                                                                                                                                                                                                                                                                                                                                                                                                                                                                                                                                                                                                                                                                                                                                                                                                                                                                                                                                                                                                                                                                                                                                                                                                                                                                                                                                                                                                                                                                                                                                                                                                          1\n",
       "', 'Our review of CMS documentation shows that the MDH payment designation differs from the other rural payment designations in terms of eligibility criteria, financial benefit, extent of legislative permanence, and size—that is, the number of hospitals receiving the designation. ', 'Hospitals with an SCH designation can receive an additional payment added to their IPPS rate payment equal to 100 percent of the difference between payment based on the HSR and what the hospital would otherwise receive as payment based on the IPPS rate, as well as a 7.1 percent addition to their outpatient payments. ', 'Of the 2,204 rural hospitals in fiscal year 2017, a relatively small share of these hospitals were MDHs. )', 'In total, 138 hospitals, or 6.3 percent of those rural hospitals with at least one designation, were MDHs. ', 'In fiscal year 2017, 1,246 rural hospitals—or 56.5 percent of those rural hospitals with at least one designation—were CAHs. )', 'From fiscal years 2011 through 2017, the number of MDHs declined, as well as the number of MDHs that received an additional payment under the program. ', 'In addition, during this period MDHs varied on other operational and financial metrics, including the share of Medicare revenue coming from inpatient care, various measures of Medicare dependence, and profit margins. ', 'In addition, the number of MDHs that received an additional annual payment also declined, from 92 MDHs in fiscal year 2011 to 78 MDHs in fiscal year 2017—a 15 percent decrease. ', 'Our analysis of CMS data also shows that from fiscal years 2011 through 2017, MDHs varied on selected operational and financial metrics: the mix of Medicare revenue that came from inpatient versus outpatient care, various measures of Medicare dependence, and profit margins. )', 'To obtain additional context on the relationship between MDH eligibility criteria and the various measures of Medicare dependence, we ran regression models to identify the extent to which hospitals’ bed size and rural status were associated with the Medicare share of days, discharges, and total care revenue for all hospitals from fiscal years 2011 through 2017. ', 'At the same time, rural hospitals with fewer beds generally received a smaller share of their total care revenue from Medicare compared with other hospitals. ', 'Our analysis of self-reported data from hospitals shows that Medicare profit margins and total facility profit margins declined for MDHs from fiscal year 2011 through 2017. ', 'We found that hospitals with a higher Medicare share of total-care revenue had lower total facility margins on average, holding all other factors constant; in contrast, there was no significant relationship between total facility margins and the inpatient volume-based measures of Medicare dependence. ', 'To describe how the MDH designation differs from other rural hospital designations, we used CMS data—specifically, the Provider Specific File (PSF)—to identify the number of MDHs, critical access hospitals (CAH), sole community hospitals (SCH), rural low-volume adjustment hospitals (LVA), and rural referral centers (RRC) in fiscal year 2017. ', 'We next identified the number of hospitals with each designation and the value of additional payments received under the rural designations that each hospital had in that year using data provided by each hospital through their Medicare Cost Report (MCR). ', 'To first identify the universe of MDHs, rural hospitals, and all acute care inpatient prospective payment system (IPPS) hospitals, we used the PSF and MCR for fiscal years 2011 through 2017, as well as CMS Impact Files for fiscal years 2012 through 2018. ', 'Third, we calculated hospitals’ degree of Medicare dependence using three separate definitions, or measures, of dependence: (1) the amount of revenue the hospital received from Medicare as a share of all the revenue the hospital received for inpatient and outpatient services (total care revenue), (2) the share of inpatient days of care the hospital provides that are attributed to Medicare beneficiaries, and (3) the share of inpatient discharges that are attributed to Medicare beneficiaries. ', 'We used the following measures as dependent variables: (1) the amount of revenue the hospital received from Medicare as a share of all the revenue the hospital received for inpatient and outpatient services (total care revenue), (2) the share of inpatient days of care the hospital provides that are attributed to Medicare beneficiaries, and (3) the share of inpatient discharges that are attributed to Medicare beneficiaries. ', 'Rural hospitals generally were associated with larger Medicare shares of revenue than urban hospitals. ', 'In every bed-size category, the parameters for rural hospitals were significantly greater than for urban hospitals. ', 'As with the Medicare share of total revenue, our model for Medicare share of inpatient days showed, controlling for bed numbers, that rural hospitals generally had significantly greater Medicare dependence than urban hospitals. ', 'In most bed-size categories, the parameters for rural hospitals were greater than for urban hospitals. ', 'The pattern for bed size was different for Medicare dependence measured in revenue in that for rural hospitals, dependence fell as bed numbers rose, but, for urban hospitals, we observed a hump- shape distribution with the middle bed-number categories having higher dependence than the smallest and largest categories, as shown in . ', 'Our model for the Medicare share of inpatient discharges showed that, controlling for bed numbers, rural hospitals generally had greater Medicare dependence than urban hospitals. ', 'In most bed-size categories, the parameters for rural hospitals were significantly greater than for urban hospitals.                                                                                                                                                                                                                                                                                                                                                                                                                                                                                                                                                                                                                                                                                                                                                                                                                                                                                                                                                                                                                                                                                                                                                                                                                                                                                                                                                                                                                                                                                                                                                                                                                                                                                                                                                                                                                                                                                                                                                                                                                                                                                                                                                                                                                                                                                                                                                                                                                                                                                                                                                                                                                                                                                                                                                                                                                                                                                                                                                                                                                                                                                                                                                                                                                                                                                                                                                                                                                                                                                                                                                                                                                                                                                                                                                             1\n",
       "', 'The House and Senate Appropriations Committees completed their drafting and consideration of all 12 regular appropriations bills by the end of July 2018. ', 'In the 115 th Congress and prior to the start of FY2019 on October 1, 2018, the House passed half of the regular bills (6 out of 12), and the Senate passed 9 bills (see  and  ). ', 'The House passed this combined measure on June 8, 2018. ', 'The Senate passed the final measure on September 12. ', 'The House passed the Defense appropriations bill ( H.R. ', 'In addition, the House passed a measure combining the Interior and Environment appropriations bill with the Financial Services appropriations bill ( H.R. ', 'The Senate added the text of the Agriculture appropriations bill and the Transportation and HUD appropriations bill and passed the combined measure on August 1, 2018. ', 'While the Senate continued consideration of the House amendment on December 22, December 27, and January 2, no further votes on appropriations occurred during the 115 th Congress. ', 'During January 2019, the House introduced and considered a number of measures concerning FY2019 appropriations. ', 'January 3, 2019, H.J.Res. ', 'No further action was taken in the Senate. ', 'January 3, 2019, H.R. ', 'No further action was taken in the Senate. ', 'January 9, 2019, H.R. ', 'No further action was taken in the Senate. ', 'No further action was taken in the Senate. ', 'No further action was taken in the Senate. ', 'No further action was taken in the Senate. 27 , a CR to provide funding through February 1 for the seven remaining regular FY2019 appropriations bills. ', 'On January 24, 2019, the Senate considered two separate amendments to the House-passed bill: a Republican amendment ( S.Amdt. 28 , a CR to provide FY2019 appropriations for the seven remaining regular appropriations measures through February 28. ', 'The measure was passed by the Senate on January 25 by voice vote, with an amendment providing for continuing appropriations through February 15. ', 'No further action was taken in the Senate. ', 'The measure was amended in the Senate to provide full-year funding for the seven remaining regular appropriations bills and agreed to by voice vote on January 25. ', 'This ended action on regular appropriations bills for FY2019.                                                                                                                                                                                                                                                                                                                                                                                                                                                                                                                                                                                                                                                                                                                                                                                                                                                                                                                                                                                                                                                                                                                                                                                                                                                                                                                                                                                                                                                                                                                                                                                                                                                                                                                                                                                                                                                                                                                                                                                                                                                                                                                                                                                                                                                                                                                                                                                                                                                                                                                                                                                                                                                                                                                                                                                                                                                                                                                                                                                                                                                                                                                                                                                                                                                                                                                                                                                                                                                                                                                                                                                                                                                                                                                                                                                                                                                                                                                                                                                                                                                                                                                                                                                                                                                                                                                                                                                                                                                                                                                                                                                                                                                                                                                                                                                                                                                                                                                                                                                                                                                                                                                                                                                                                                                                                                                                                                                                                                                                                                                                                                                                                                                                                                                                                                                                                                                                                                                                                                                                                                                                                                                                                                                                                                                                                                                                                                                                                                                                                                                                                                                                                                                                                                                                                                                                                                                                                                                                                                                                                                                                                                                                                                                                                                                                                                                                                                                                                   1\n",
       "Name: count, Length: 969, dtype: int64"
      ]
     },
     "execution_count": 11,
     "metadata": {},
     "output_type": "execute_result"
    }
   ],
   "execution_count": 11
  },
  {
   "metadata": {
    "ExecuteTime": {
     "end_time": "2025-04-12T03:50:14.943841Z",
     "start_time": "2025-04-12T03:50:14.940222Z"
    }
   },
   "cell_type": "code",
   "source": "",
   "id": "97ffae6feb779438",
   "outputs": [],
   "execution_count": null
  },
  {
   "metadata": {
    "ExecuteTime": {
     "end_time": "2025-04-12T03:50:14.977461Z",
     "start_time": "2025-04-12T03:50:14.975588Z"
    }
   },
   "cell_type": "code",
   "source": [
    "import re\n",
    "# Function to clean text\n",
    "def clean_text(text):\n",
    "    return re.sub(r'[^\\w\\s]', '', str(text)).strip().lower()"
   ],
   "id": "6282321d8a241827",
   "outputs": [],
   "execution_count": 12
  },
  {
   "metadata": {
    "ExecuteTime": {
     "end_time": "2025-04-12T03:50:15.897215Z",
     "start_time": "2025-04-12T03:50:15.008104Z"
    }
   },
   "cell_type": "code",
   "source": "testdf['is_match'] = testdf.apply(lambda row: clean_text(row['Article']) == clean_text(testdf['generated_summary']), axis=1)",
   "id": "4c06c84ff22e39ff",
   "outputs": [],
   "execution_count": 13
  },
  {
   "metadata": {
    "ExecuteTime": {
     "end_time": "2025-04-12T03:50:15.909325Z",
     "start_time": "2025-04-12T03:50:15.904705Z"
    }
   },
   "cell_type": "code",
   "source": "testdf.head()",
   "id": "8e2c902184280cd6",
   "outputs": [
    {
     "data": {
      "text/plain": [
       "   Unnamed: 0                                            Article  \\\n",
       "0           0  In our prior work, we have found that technolo...   \n",
       "1           1  A variety of federal laws, regulations, and po...   \n",
       "2           2  According to the National Research Council, al...   \n",
       "3           3  Nursing homes are required to keep residents s...   \n",
       "4           4  This section provides an overview of (1) the l...   \n",
       "\n",
       "                                             Summary  \\\n",
       "0  Multiple firms have produced cell-cultured mea...   \n",
       "1  Federal advisory committees provide advice to ...   \n",
       "2  DOD manages a global real-estate portfolio wit...   \n",
       "3  Nursing homes provide care to about 1.4 millio...   \n",
       "4  Decades of defense activities at DOE's Idaho N...   \n",
       "\n",
       "                                  extractive_summary  \\\n",
       "0  Some firms have developed prototypes of cell-c...   \n",
       "1  EPA’s federal advisory committees play an impo...   \n",
       "2  DOD has a global real estate portfolio that su...   \n",
       "3  Nursing home characteristics.. At the national...   \n",
       "4  DOE has a process for determining that certain...   \n",
       "\n",
       "                                   generated_summary  is_match  \n",
       "0  ', 'As a result, certain information is not ye...     False  \n",
       "1  ', 'Based on our review of EPA’s Federal Advis...     False  \n",
       "2  ', 'However, 8 of the 23 installations we visi...     False  \n",
       "3  ', 'In addition to standard surveys, state sur...     False  \n",
       "4  ', 'As of March 2019, EM’s IWTU reengineering ...     False  "
      ],
      "text/html": [
       "<div>\n",
       "<style scoped>\n",
       "    .dataframe tbody tr th:only-of-type {\n",
       "        vertical-align: middle;\n",
       "    }\n",
       "\n",
       "    .dataframe tbody tr th {\n",
       "        vertical-align: top;\n",
       "    }\n",
       "\n",
       "    .dataframe thead th {\n",
       "        text-align: right;\n",
       "    }\n",
       "</style>\n",
       "<table border=\"1\" class=\"dataframe\">\n",
       "  <thead>\n",
       "    <tr style=\"text-align: right;\">\n",
       "      <th></th>\n",
       "      <th>Unnamed: 0</th>\n",
       "      <th>Article</th>\n",
       "      <th>Summary</th>\n",
       "      <th>extractive_summary</th>\n",
       "      <th>generated_summary</th>\n",
       "      <th>is_match</th>\n",
       "    </tr>\n",
       "  </thead>\n",
       "  <tbody>\n",
       "    <tr>\n",
       "      <th>0</th>\n",
       "      <td>0</td>\n",
       "      <td>In our prior work, we have found that technolo...</td>\n",
       "      <td>Multiple firms have produced cell-cultured mea...</td>\n",
       "      <td>Some firms have developed prototypes of cell-c...</td>\n",
       "      <td>', 'As a result, certain information is not ye...</td>\n",
       "      <td>False</td>\n",
       "    </tr>\n",
       "    <tr>\n",
       "      <th>1</th>\n",
       "      <td>1</td>\n",
       "      <td>A variety of federal laws, regulations, and po...</td>\n",
       "      <td>Federal advisory committees provide advice to ...</td>\n",
       "      <td>EPA’s federal advisory committees play an impo...</td>\n",
       "      <td>', 'Based on our review of EPA’s Federal Advis...</td>\n",
       "      <td>False</td>\n",
       "    </tr>\n",
       "    <tr>\n",
       "      <th>2</th>\n",
       "      <td>2</td>\n",
       "      <td>According to the National Research Council, al...</td>\n",
       "      <td>DOD manages a global real-estate portfolio wit...</td>\n",
       "      <td>DOD has a global real estate portfolio that su...</td>\n",
       "      <td>', 'However, 8 of the 23 installations we visi...</td>\n",
       "      <td>False</td>\n",
       "    </tr>\n",
       "    <tr>\n",
       "      <th>3</th>\n",
       "      <td>3</td>\n",
       "      <td>Nursing homes are required to keep residents s...</td>\n",
       "      <td>Nursing homes provide care to about 1.4 millio...</td>\n",
       "      <td>Nursing home characteristics.. At the national...</td>\n",
       "      <td>', 'In addition to standard surveys, state sur...</td>\n",
       "      <td>False</td>\n",
       "    </tr>\n",
       "    <tr>\n",
       "      <th>4</th>\n",
       "      <td>4</td>\n",
       "      <td>This section provides an overview of (1) the l...</td>\n",
       "      <td>Decades of defense activities at DOE's Idaho N...</td>\n",
       "      <td>DOE has a process for determining that certain...</td>\n",
       "      <td>', 'As of March 2019, EM’s IWTU reengineering ...</td>\n",
       "      <td>False</td>\n",
       "    </tr>\n",
       "  </tbody>\n",
       "</table>\n",
       "</div>"
      ]
     },
     "execution_count": 14,
     "metadata": {},
     "output_type": "execute_result"
    }
   ],
   "execution_count": 14
  },
  {
   "metadata": {
    "ExecuteTime": {
     "end_time": "2025-04-12T03:50:19.646655Z",
     "start_time": "2025-04-12T03:50:15.932961Z"
    }
   },
   "cell_type": "code",
   "source": [
    "from rouge import Rouge\n",
    "\n",
    "rouge = Rouge()\n",
    "\n",
    "def truncate_text(text, max_words=100):\n",
    "    return \" \".join(text.split()[:max_words])\n",
    "\n",
    "def compute_rouge(reference, generated):\n",
    "    if not generated.strip():  # Handle empty strings\n",
    "        return {\"rouge-1\": 0, \"rouge-2\": 0, \"rouge-l\": 0}\n",
    "    \n",
    "    # Truncate long summaries\n",
    "    reference = truncate_text(reference)\n",
    "    generated = truncate_text(generated)\n",
    "    \n",
    "    scores = rouge.get_scores(generated, reference)\n",
    "    return scores[0]\n",
    "\n",
    "# Apply function\n",
    "testdf[\"rouge_scores\"] = testdf.apply(lambda row: compute_rouge(row[\"extractive_summary\"], row[\"generated_summary\"]), axis=1)\n"
   ],
   "id": "9ab7ea04f425f02d",
   "outputs": [],
   "execution_count": 15
  },
  {
   "metadata": {
    "ExecuteTime": {
     "end_time": "2025-04-12T03:50:19.684138Z",
     "start_time": "2025-04-12T03:50:19.674640Z"
    }
   },
   "cell_type": "code",
   "source": "testdf.head()",
   "id": "787955229a4a1944",
   "outputs": [
    {
     "data": {
      "text/plain": [
       "   Unnamed: 0                                            Article  \\\n",
       "0           0  In our prior work, we have found that technolo...   \n",
       "1           1  A variety of federal laws, regulations, and po...   \n",
       "2           2  According to the National Research Council, al...   \n",
       "3           3  Nursing homes are required to keep residents s...   \n",
       "4           4  This section provides an overview of (1) the l...   \n",
       "\n",
       "                                             Summary  \\\n",
       "0  Multiple firms have produced cell-cultured mea...   \n",
       "1  Federal advisory committees provide advice to ...   \n",
       "2  DOD manages a global real-estate portfolio wit...   \n",
       "3  Nursing homes provide care to about 1.4 millio...   \n",
       "4  Decades of defense activities at DOE's Idaho N...   \n",
       "\n",
       "                                  extractive_summary  \\\n",
       "0  Some firms have developed prototypes of cell-c...   \n",
       "1  EPA’s federal advisory committees play an impo...   \n",
       "2  DOD has a global real estate portfolio that su...   \n",
       "3  Nursing home characteristics.. At the national...   \n",
       "4  DOE has a process for determining that certain...   \n",
       "\n",
       "                                   generated_summary  is_match  \\\n",
       "0  ', 'As a result, certain information is not ye...     False   \n",
       "1  ', 'Based on our review of EPA’s Federal Advis...     False   \n",
       "2  ', 'However, 8 of the 23 installations we visi...     False   \n",
       "3  ', 'In addition to standard surveys, state sur...     False   \n",
       "4  ', 'As of March 2019, EM’s IWTU reengineering ...     False   \n",
       "\n",
       "                                        rouge_scores  \n",
       "0  {'rouge-1': {'r': 0.27631578947368424, 'p': 0....  \n",
       "1  {'rouge-1': {'r': 0.13333333333333333, 'p': 0....  \n",
       "2  {'rouge-1': {'r': 0.2, 'p': 0.2539682539682539...  \n",
       "3  {'rouge-1': {'r': 0.2112676056338028, 'p': 0.2...  \n",
       "4  {'rouge-1': {'r': 0.18309859154929578, 'p': 0....  "
      ],
      "text/html": [
       "<div>\n",
       "<style scoped>\n",
       "    .dataframe tbody tr th:only-of-type {\n",
       "        vertical-align: middle;\n",
       "    }\n",
       "\n",
       "    .dataframe tbody tr th {\n",
       "        vertical-align: top;\n",
       "    }\n",
       "\n",
       "    .dataframe thead th {\n",
       "        text-align: right;\n",
       "    }\n",
       "</style>\n",
       "<table border=\"1\" class=\"dataframe\">\n",
       "  <thead>\n",
       "    <tr style=\"text-align: right;\">\n",
       "      <th></th>\n",
       "      <th>Unnamed: 0</th>\n",
       "      <th>Article</th>\n",
       "      <th>Summary</th>\n",
       "      <th>extractive_summary</th>\n",
       "      <th>generated_summary</th>\n",
       "      <th>is_match</th>\n",
       "      <th>rouge_scores</th>\n",
       "    </tr>\n",
       "  </thead>\n",
       "  <tbody>\n",
       "    <tr>\n",
       "      <th>0</th>\n",
       "      <td>0</td>\n",
       "      <td>In our prior work, we have found that technolo...</td>\n",
       "      <td>Multiple firms have produced cell-cultured mea...</td>\n",
       "      <td>Some firms have developed prototypes of cell-c...</td>\n",
       "      <td>', 'As a result, certain information is not ye...</td>\n",
       "      <td>False</td>\n",
       "      <td>{'rouge-1': {'r': 0.27631578947368424, 'p': 0....</td>\n",
       "    </tr>\n",
       "    <tr>\n",
       "      <th>1</th>\n",
       "      <td>1</td>\n",
       "      <td>A variety of federal laws, regulations, and po...</td>\n",
       "      <td>Federal advisory committees provide advice to ...</td>\n",
       "      <td>EPA’s federal advisory committees play an impo...</td>\n",
       "      <td>', 'Based on our review of EPA’s Federal Advis...</td>\n",
       "      <td>False</td>\n",
       "      <td>{'rouge-1': {'r': 0.13333333333333333, 'p': 0....</td>\n",
       "    </tr>\n",
       "    <tr>\n",
       "      <th>2</th>\n",
       "      <td>2</td>\n",
       "      <td>According to the National Research Council, al...</td>\n",
       "      <td>DOD manages a global real-estate portfolio wit...</td>\n",
       "      <td>DOD has a global real estate portfolio that su...</td>\n",
       "      <td>', 'However, 8 of the 23 installations we visi...</td>\n",
       "      <td>False</td>\n",
       "      <td>{'rouge-1': {'r': 0.2, 'p': 0.2539682539682539...</td>\n",
       "    </tr>\n",
       "    <tr>\n",
       "      <th>3</th>\n",
       "      <td>3</td>\n",
       "      <td>Nursing homes are required to keep residents s...</td>\n",
       "      <td>Nursing homes provide care to about 1.4 millio...</td>\n",
       "      <td>Nursing home characteristics.. At the national...</td>\n",
       "      <td>', 'In addition to standard surveys, state sur...</td>\n",
       "      <td>False</td>\n",
       "      <td>{'rouge-1': {'r': 0.2112676056338028, 'p': 0.2...</td>\n",
       "    </tr>\n",
       "    <tr>\n",
       "      <th>4</th>\n",
       "      <td>4</td>\n",
       "      <td>This section provides an overview of (1) the l...</td>\n",
       "      <td>Decades of defense activities at DOE's Idaho N...</td>\n",
       "      <td>DOE has a process for determining that certain...</td>\n",
       "      <td>', 'As of March 2019, EM’s IWTU reengineering ...</td>\n",
       "      <td>False</td>\n",
       "      <td>{'rouge-1': {'r': 0.18309859154929578, 'p': 0....</td>\n",
       "    </tr>\n",
       "  </tbody>\n",
       "</table>\n",
       "</div>"
      ]
     },
     "execution_count": 16,
     "metadata": {},
     "output_type": "execute_result"
    }
   ],
   "execution_count": 16
  },
  {
   "metadata": {
    "ExecuteTime": {
     "end_time": "2025-04-12T03:50:19.700810Z",
     "start_time": "2025-04-12T03:50:19.697892Z"
    }
   },
   "cell_type": "code",
   "source": [
    "# Display average ROUGE scores\n",
    "rouge_l_scores = [score[\"rouge-l\"][\"f\"] for score in testdf[\"rouge_scores\"]]\n",
    "print(f\"Average ROUGE-L Score: {sum(rouge_l_scores) / len(rouge_l_scores):.4f}\")"
   ],
   "id": "cb22991a96e44a6b",
   "outputs": [
    {
     "name": "stdout",
     "output_type": "stream",
     "text": [
      "Average ROUGE-L Score: 0.2818\n"
     ]
    }
   ],
   "execution_count": 17
  },
  {
   "metadata": {
    "ExecuteTime": {
     "end_time": "2025-04-12T03:50:19.762284Z",
     "start_time": "2025-04-12T03:50:19.759595Z"
    }
   },
   "cell_type": "code",
   "source": [
    "# Display average ROUGE scores\n",
    "rouge_l_scores = [score[\"rouge-2\"][\"f\"] for score in testdf[\"rouge_scores\"]]\n",
    "print(f\"Average ROUGE-2 Score: {sum(rouge_l_scores) / len(rouge_l_scores):.4f}\")"
   ],
   "id": "9934ac03be2c47a1",
   "outputs": [
    {
     "name": "stdout",
     "output_type": "stream",
     "text": [
      "Average ROUGE-2 Score: 0.1421\n"
     ]
    }
   ],
   "execution_count": 18
  },
  {
   "metadata": {
    "ExecuteTime": {
     "end_time": "2025-04-12T03:50:19.820499Z",
     "start_time": "2025-04-12T03:50:19.819037Z"
    }
   },
   "cell_type": "code",
   "source": "",
   "id": "6dba22517d5dd65c",
   "outputs": [],
   "execution_count": null
  },
  {
   "metadata": {
    "ExecuteTime": {
     "end_time": "2025-04-12T03:50:19.840526Z",
     "start_time": "2025-04-12T03:50:19.838013Z"
    }
   },
   "cell_type": "code",
   "source": [
    "# Display average ROUGE scores\n",
    "rouge_l_scores = [score[\"rouge-1\"][\"f\"] for score in testdf[\"rouge_scores\"]]\n",
    "print(f\"Average ROUGE-1 Score: {sum(rouge_l_scores) / len(rouge_l_scores):.4f}\")"
   ],
   "id": "a525adf72ee60bd0",
   "outputs": [
    {
     "name": "stdout",
     "output_type": "stream",
     "text": [
      "Average ROUGE-1 Score: 0.3115\n"
     ]
    }
   ],
   "execution_count": 19
  },
  {
   "metadata": {
    "ExecuteTime": {
     "end_time": "2025-04-12T03:50:53.740356Z",
     "start_time": "2025-04-12T03:50:19.855571Z"
    }
   },
   "cell_type": "code",
   "source": [
    "from sklearn.metrics.pairwise import cosine_similarity\n",
    "from sentence_transformers import SentenceTransformer\n",
    "model = SentenceTransformer('all-MiniLM-L6-v2')\n",
    "def compute_similarity(reference, generated):\n",
    "    ref_embedding = model.encode(reference)\n",
    "    gen_embedding = model.encode(generated)\n",
    "    return cosine_similarity([ref_embedding], [gen_embedding])[0][0]\n",
    "\n",
    "testdf[\"cosine_similarity\"] = testdf.apply(lambda row: compute_similarity(row[\"extractive_summary\"], row[\"generated_summary\"]), axis=1)\n",
    "print(f\"Average Cosine Similarity: {testdf['cosine_similarity'].mean():.4f}\")\n"
   ],
   "id": "f40e4342c1bc14e2",
   "outputs": [
    {
     "name": "stdout",
     "output_type": "stream",
     "text": [
      "Average Cosine Similarity: 0.7873\n"
     ]
    }
   ],
   "execution_count": 20
  },
  {
   "metadata": {
    "ExecuteTime": {
     "end_time": "2025-04-12T03:50:53.761434Z",
     "start_time": "2025-04-12T03:50:53.757953Z"
    }
   },
   "cell_type": "code",
   "source": [
    "from sklearn.metrics import precision_score, recall_score, f1_score\n",
    "from collections import Counter\n",
    "def precision_recall_f1(reference_texts, generated_summaries):\n",
    "    precisions, recalls, f1s = [], [], []\n",
    "\n",
    "    for ref, gen in zip(reference_texts, generated_summaries):\n",
    "        ref_tokens = ref.lower().split()\n",
    "        gen_tokens = gen.lower().split()\n",
    "\n",
    "        ref_counter = Counter(ref_tokens)\n",
    "        gen_counter = Counter(gen_tokens)\n",
    "\n",
    "        common = ref_counter & gen_counter\n",
    "        tp = sum(common.values())\n",
    "        fp = sum(gen_counter.values()) - tp\n",
    "        fn = sum(ref_counter.values()) - tp\n",
    "\n",
    "        precision = tp / (tp + fp) if (tp + fp) > 0 else 0.0\n",
    "        recall = tp / (tp + fn) if (tp + fn) > 0 else 0.0\n",
    "        f1 = 2 * precision * recall / (precision + recall) if (precision + recall) > 0 else 0.0\n",
    "\n",
    "        precisions.append(precision)\n",
    "        recalls.append(recall)\n",
    "        f1s.append(f1)\n",
    "\n",
    "    return {\n",
    "        \"average_precision\": np.mean(precisions),\n",
    "        \"average_recall\": np.mean(recalls),\n",
    "        \"average_f1_score\": np.mean(f1s)\n",
    "    }\n"
   ],
   "id": "dcb4185a2072528",
   "outputs": [],
   "execution_count": 21
  },
  {
   "metadata": {
    "ExecuteTime": {
     "end_time": "2025-04-12T03:50:54.003452Z",
     "start_time": "2025-04-12T03:50:53.771614Z"
    }
   },
   "cell_type": "code",
   "source": [
    "reference_summaries = testdf['extractive_summary'].tolist()  \n",
    "generated_summaries = testdf['generated_summary'].tolist()  \n",
    "\n",
    "# Evaluate\n",
    "results = precision_recall_f1(reference_summaries, generated_summaries)\n",
    "# Print results\n",
    "print(\"Average Precision:\", round(results['average_precision'], 4))\n",
    "print(\"Average Recall:\", round(results['average_recall'], 4))\n",
    "print(\"Average F1 Score:\", round(results['average_f1_score'], 4))"
   ],
   "id": "5b59ddb67ac63467",
   "outputs": [
    {
     "name": "stdout",
     "output_type": "stream",
     "text": [
      "Average Precision: 0.4577\n",
      "Average Recall: 0.6099\n",
      "Average F1 Score: 0.5108\n"
     ]
    }
   ],
   "execution_count": 22
  }
 ],
 "metadata": {
  "kernelspec": {
   "display_name": "Python 3",
   "language": "python",
   "name": "python3"
  },
  "language_info": {
   "codemirror_mode": {
    "name": "ipython",
    "version": 2
   },
   "file_extension": ".py",
   "mimetype": "text/x-python",
   "name": "python",
   "nbconvert_exporter": "python",
   "pygments_lexer": "ipython2",
   "version": "2.7.6"
  }
 },
 "nbformat": 4,
 "nbformat_minor": 5
}
