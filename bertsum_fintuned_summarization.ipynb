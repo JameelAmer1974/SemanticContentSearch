{
 "cells": [
  {
   "metadata": {
    "ExecuteTime": {
     "end_time": "2025-04-07T18:38:09.329986Z",
     "start_time": "2025-04-07T18:38:02.918756Z"
    }
   },
   "cell_type": "code",
   "source": [
    "\n",
    "import numpy as np\n",
    "import pandas as pd\n",
    "from evaluate import load\n",
    "from scipy.ndimage import label\n",
    "from transformers import AutoTokenizer, AutoModelForSeq2SeqLM\n",
    "from transformers import AutoTokenizer, BertForSequenceClassification, TrainingArguments, Trainer\n",
    "from datasets import Dataset, DatasetDict\n",
    "from datasets import load_from_disk\n",
    "import numpy as np\n",
    "import nltk\n",
    "import re\n",
    "import spacy\n",
    "import torch\n",
    "nltk.download('punkt')\n",
    "from nltk.tokenize import sent_tokenize\n"
   ],
   "id": "abd853ea5f6e2149",
   "outputs": [
    {
     "name": "stderr",
     "output_type": "stream",
     "text": [
      "/Users/jameelamer/MasterProject/Summarization/summrization_webapp/flaskProject2/.venv/lib/python3.12/site-packages/tqdm/auto.py:21: TqdmWarning: IProgress not found. Please update jupyter and ipywidgets. See https://ipywidgets.readthedocs.io/en/stable/user_install.html\n",
      "  from .autonotebook import tqdm as notebook_tqdm\n",
      "[nltk_data] Downloading package punkt to\n",
      "[nltk_data]     /Users/jameelamer/nltk_data...\n",
      "[nltk_data]   Package punkt is already up-to-date!\n"
     ]
    }
   ],
   "execution_count": 1
  },
  {
   "metadata": {
    "ExecuteTime": {
     "end_time": "2025-04-07T18:38:09.672707Z",
     "start_time": "2025-04-07T18:38:09.341202Z"
    }
   },
   "cell_type": "code",
   "source": [
    "# Load English tokenizer, POS tagger, parser, NER from spaCy\n",
    "import spacy.cli\n",
    "\n",
    "try:\n",
    "    nlp = spacy.load(\"en_core_web_sm\")\n",
    "except OSError:\n",
    "    import spacy.cli\n",
    "    spacy.cli.download(\"en_core_web_sm\")\n",
    "    nlp = spacy.load(\"en_core_web_sm\")\n",
    "def normalize_whitespace(text):\n",
    "    \"\"\"Remove extra whitespace, newlines, and tabs.\"\"\"\n",
    "    return re.sub(r'\\s+', ' ', text).strip()\n",
    "\n",
    "def remove_noise_and_references(text):\n",
    "    \"\"\"\n",
    "    Remove references like [1], (Smith et al., 2020), and figure/table mentions.\n",
    "    You can extend the patterns as needed.\n",
    "    \"\"\"\n",
    "    # Remove square bracket citations like [1], [12]\n",
    "    text = re.sub(r'\\[\\d+\\]', '', text)\n",
    "    \n",
    "    # Remove in-text references like (Smith et al., 2020)\n",
    "    text = re.sub(r'\\(([^)]*et al\\.,?\\s?\\d{4})\\)', '', text)\n",
    "    \n",
    "    # Remove \"Fig. 1\", \"Table 2\", etc.\n",
    "    text = re.sub(r'(Fig\\.?|Figure|Table)\\s?\\d+[a-zA-Z]?', '', text, flags=re.IGNORECASE)\n",
    "    \n",
    "    # Remove licensing and copyright boilerplate\n",
    "    text = re.sub(r'©.*?(\\.|\\n)', '', text)\n",
    "    text = re.sub(r'This article is licensed.*?(\\.|\\n)', '', text, flags=re.IGNORECASE)\n",
    "    \n",
    "    return text\n",
    "\n",
    "def sentence_segmentation(text):\n",
    "    \"\"\"Segment text into individual sentences using spaCy.\"\"\"\n",
    "    doc = nlp(text)\n",
    "    return [sent.text.strip() for sent in doc.sents if sent.text.strip()]\n",
    "\n",
    "def preprocess_text(raw_text):\n",
    "    \"\"\"Complete preprocessing pipeline.\"\"\"\n",
    "    step1 = normalize_whitespace(raw_text)\n",
    "    step2 = remove_noise_and_references(step1)\n",
    "    sentences = sentence_segmentation(step2)\n",
    "    return ' '.join(str(sentence) for sentence in sentences)"
   ],
   "id": "b0ef3ea0792dd562",
   "outputs": [],
   "execution_count": 2
  },
  {
   "metadata": {
    "collapsed": true,
    "ExecuteTime": {
     "end_time": "2025-04-07T18:39:43.998609Z",
     "start_time": "2025-04-07T18:39:43.169648Z"
    }
   },
   "cell_type": "code",
   "source": [
    "from sumy.parsers.plaintext import PlaintextParser\n",
    "from sumy.nlp.tokenizers import Tokenizer\n",
    "from sumy.summarizers.lex_rank import LexRankSummarizer\n",
    "from transformers import BartForConditionalGeneration, BartTokenizer\n",
    "\n",
    "# Load the model\n",
    "model = BertForSequenceClassification.from_pretrained(\n",
    "    \"./bertsum_bbc_news/bertsum_finetuned_model\",\n",
    "    num_labels=1,  # Binary classification per sentence\n",
    "    problem_type=\"multi_label_classification\"\n",
    ")\n",
    "\n",
    "# Load the tokenizer\n",
    "tokenizer = AutoTokenizer.from_pretrained('./bertsum_bbc_news/bertsum_finetuned_model')\n",
    "# Detect MPS device on Mac\n",
    "device = torch.device(\"mps\" if torch.backends.mps.is_available() else \"cpu\")\n",
    "model.to(device)  # Move model to MPS\n",
    "\n",
    "def bertsum_summary(model, tokenizer, text, device):    \n",
    "    # call preprocess\n",
    "    clean_text=preprocess_text(text)\n",
    "   \n",
    "    model.eval()\n",
    "    \n",
    "    # Tokenize input text\n",
    "    inputs = tokenizer(clean_text, return_tensors=\"pt\", truncation=True, padding=True, max_length=512)\n",
    "\n",
    "    # Move inputs to the correct device\n",
    "    inputs = {key: val.to(device) for key, val in inputs.items()}\n",
    "    \n",
    "    with torch.no_grad():\n",
    "        output = model(**inputs)  # Forward pass on MPS\n",
    "        logits = output.logits.squeeze(-1)  # Extract logits\n",
    "        \n",
    "        # Ensure logits are moved to CPU before processing\n",
    "        logits = logits.cpu()\n",
    "\n",
    "        # Select sentences using thresholding\n",
    "        predicted_labels = (logits > 0.5).int()\n",
    "        \n",
    "        sentences = text.split(\". \")  # Sentence tokenization\n",
    "        min_length = min(len(sentences), len(predicted_labels))\n",
    "        # print(\"Logits:\", logits)\n",
    "        # print(\"Predicted Labels:\", predicted_labels)\n",
    "        # print(\"Sentences:\", sentences)\n",
    "        selected_sentences = [sentences[i] for i in range(min_length) if predicted_labels[i] == 1]        \n",
    "        summary = \" \".join(selected_sentences)\n",
    "        return summary\n",
    "\n",
    "# Example usage\n",
    "text = \"\"\"\n",
    "Artificial intelligence is rapidly evolving. Many industries are integrating AI to enhance performance.\n",
    "Applications include healthcare, finance, and transportation. AI also raises ethical and employment concerns.\n",
    "Researchers are focused on creating explainable and fair AI. Governments are responding with new regulations and policies.\n",
    "\"\"\"\n",
    "\n",
    "summary = bertsum_summary(model, tokenizer, text, device)\n",
    "print(summary)\n"
   ],
   "id": "initial_id",
   "outputs": [
    {
     "name": "stdout",
     "output_type": "stream",
     "text": [
      "\n"
     ]
    }
   ],
   "execution_count": 4
  },
  {
   "metadata": {
    "ExecuteTime": {
     "end_time": "2025-04-07T18:39:57.807042Z",
     "start_time": "2025-04-07T18:39:57.735678Z"
    }
   },
   "cell_type": "code",
   "source": "testdf=pd.read_csv('bbc_news_with_articles_and_extractive_summary.csv')",
   "id": "ee00213e995670fa",
   "outputs": [],
   "execution_count": 5
  },
  {
   "metadata": {
    "ExecuteTime": {
     "end_time": "2025-04-07T18:44:19.345451Z",
     "start_time": "2025-04-07T18:39:59.642809Z"
    }
   },
   "cell_type": "code",
   "source": "testdf['generated_summary'] = testdf['Article'].apply(lambda x:str(bertsum_summary(model, tokenizer, x, device)))",
   "id": "9063a937d919a5ad",
   "outputs": [],
   "execution_count": 6
  },
  {
   "metadata": {
    "ExecuteTime": {
     "end_time": "2025-04-07T18:45:04.554516Z",
     "start_time": "2025-04-07T18:45:04.538919Z"
    }
   },
   "cell_type": "code",
   "source": [
    "import numpy as np\n",
    "testdf.replace(r'^\\s*$', np.nan, regex=True)\n",
    "testdf.dropna(axis=0, how='any')\n",
    "# Remove rows where \"Title\" is empty or null\n",
    "testdf = testdf[testdf[\"generated_summary\"].notna() & (testdf[\"generated_summary\"] != \"\")]\n",
    "len(testdf)"
   ],
   "id": "59454cc95365f011",
   "outputs": [
    {
     "data": {
      "text/plain": [
       "1462"
      ]
     },
     "execution_count": 7,
     "metadata": {},
     "output_type": "execute_result"
    }
   ],
   "execution_count": 7
  },
  {
   "metadata": {
    "ExecuteTime": {
     "end_time": "2025-04-07T18:45:06.081190Z",
     "start_time": "2025-04-07T18:45:06.071072Z"
    }
   },
   "cell_type": "code",
   "source": [
    "testdf=testdf.drop_duplicates(subset=[\"generated_summary\"])\n",
    "testdf['generated_summary'].value_counts()"
   ],
   "id": "444d73e621aa5cd9",
   "outputs": [
    {
     "data": {
      "text/plain": [
       "generated_summary\n",
       "Musicians to tackle US red tape\\n\\nMusicians' groups are to tackle US visa regulations which are blamed for hindering British acts' chances of succeeding across the Atlantic.\\n\\nA singer hoping to perform in the US can expect to pay $1,300 (£680) simply for obtaining a visa                                                                                                         1\n",
       "Trial date is set for Balco case\\n\\nA US judge has set a preliminary trial date for the Balco steroid distribution case which has rocked athletics.\\n\\nUS district court judge Susan Ilston rejected an attempt by the defence team to have the case dismissed at a pre-trial hearing in San Francisco                                                                                     1\n",
       "Donor attacks Blair-Brown 'feud'\\n\\nThe reported feud between Tony Blair and Gordon Brown has prompted a Labour donor to say he will almost certainly refuse to give more funds.\\n\\nDuncan Bannatyne also attacked the government over Iraq and its \"poor\" response to the Asian tsunami crisis                                                                                            1\n",
       "Howard taunts Blair over splits\\n\\nTony Blair's feud with Gordon Brown is damaging the way the UK is governed, Tory leader Michael Howard has claimed in a heated prime minister's questions.\\n\\nMr Howard asked: \"How can they fight crime when they are fighting each other?\" That question was later unveiled as the headline for new Tory campaign posters                             1\n",
       "Hodgson shoulders England blame\\n\\nFly-half Charlie Hodgson admitted his wayward kicking played a big part in England's 18-17 defeat to France.\\n\\nHodgson failed to convert three penalties and also missed a relatively easy drop goal attempt which would have given England a late win                                                                                                 1\n",
       "                                                                                                                                                                                                                                                                                                                                                                                          ..\n",
       "Q&A: Malcolm Glazer and Man Utd\\n\\nThe battle for control of Manchester United has taken another turn after the club confirmed it had received a fresh takeover approach from US business tycoon Malcolm Glazer.\\n\\nNo formal offer has been made yet, but Manchester United have confirmed they have received a \"detailed proposal\" from the US entrepreneur which could lead to a bid    1\n",
       "Yukos accused of lying to court\\n\\nRussian oil firm Yukos lied to a US court in an attempt to stop the Russian government selling off its key production unit, the court has heard.\\n\\nThe unit, Yugansk, was sold to pay off a $27.5bn (£14.5bn) back tax bill                                                                                                                            1\n",
       "'Strong dollar' call halts slide\\n\\nThe US dollar's slide against the euro and yen has halted after US Treasury Secretary John Snow said a strong dollar was \"in America's interest\".\\n\\nBut analysts said any gains are likely to be short-lived as problems with the US economy were still significant                                                                                   1\n",
       "Umbro profits lifted by Euro 2004\\n\\nUK sportswear firm Umbro has posted a 222% rise in annual profit after sales of replica England football kits were boosted by the Euro 2004 tournament.\\n\\nPre-tax profit for 2004 was £15.4m ($29.4m)                                                                                                                                                1\n",
       "US woman sues over ink cartridges\\n\\nA US woman is suing Hewlett Packard (HP), saying its printer ink cartridges are secretly programmed to expire on a certain date.\\n\\nThe unnamed woman from Georgia says that a chip inside the cartridge tells the printer that it needs re-filling even when it does not                                                                             1\n",
       "Name: count, Length: 1394, dtype: int64"
      ]
     },
     "execution_count": 8,
     "metadata": {},
     "output_type": "execute_result"
    }
   ],
   "execution_count": 8
  },
  {
   "metadata": {},
   "cell_type": "code",
   "source": "",
   "id": "e9dfbb0a7a4e2928",
   "outputs": [],
   "execution_count": null
  },
  {
   "metadata": {
    "ExecuteTime": {
     "end_time": "2025-04-07T18:45:09.296936Z",
     "start_time": "2025-04-07T18:45:09.294802Z"
    }
   },
   "cell_type": "code",
   "source": [
    "import re\n",
    "# Function to clean text\n",
    "def clean_text(text):\n",
    "    return re.sub(r'[^\\w\\s]', '', str(text)).strip().lower()"
   ],
   "id": "a6b465eef77c0226",
   "outputs": [],
   "execution_count": 9
  },
  {
   "metadata": {
    "ExecuteTime": {
     "end_time": "2025-04-07T18:45:11.317313Z",
     "start_time": "2025-04-07T18:45:11.057246Z"
    }
   },
   "cell_type": "code",
   "source": "testdf['is_match'] = testdf.apply(lambda row: clean_text(row['Article']) == clean_text(testdf['generated_summary']), axis=1)",
   "id": "72edaf855ee27209",
   "outputs": [],
   "execution_count": 10
  },
  {
   "metadata": {
    "ExecuteTime": {
     "end_time": "2025-04-07T18:45:13.275368Z",
     "start_time": "2025-04-07T18:45:13.269578Z"
    }
   },
   "cell_type": "code",
   "source": "testdf.head()",
   "id": "baee3b7960079285",
   "outputs": [
    {
     "data": {
      "text/plain": [
       "    Unnamed: 0  Title                                            Article  \\\n",
       "0            0    289  Musicians to tackle US red tape\\n\\nMusicians' ...   \n",
       "2            2    276  Rocker Doherty in on-stage fight\\n\\nRock singe...   \n",
       "6            6    114  Pete Doherty misses bail deadline\\n\\nSinger Pe...   \n",
       "7            7    100  Fockers retain film chart crown\\n\\nComedy Meet...   \n",
       "11          11    303  Film production 'falls' 40% in UK\\n\\nThe numbe...   \n",
       "\n",
       "                                              Summary       Category  \\\n",
       "0   Nigel McCune from the Musicians' Union said Br...  entertainment   \n",
       "2   Babyshambles, which he formed after his acrimo...  entertainment   \n",
       "6   Mr Wass was also given a curfew and told to su...  entertainment   \n",
       "7   Meet the Fockers also broke the box office rec...  entertainment   \n",
       "11  The UK Film Council said the drop was partly d...  entertainment   \n",
       "\n",
       "                                   extractive_summary  \\\n",
       "0   Nigel McCune from the Musicians' Union said Br...   \n",
       "2   Babyshambles, which he formed after his acrimo...   \n",
       "6   Mr Doherty, 25, was arrested following an alle...   \n",
       "7   Meet the Fockers also broke the box office rec...   \n",
       "11  Twenty-seven British films were made in the UK...   \n",
       "\n",
       "                                    generated_summary  is_match  \n",
       "0   Musicians to tackle US red tape\\n\\nMusicians' ...     False  \n",
       "2   Rocker Doherty in on-stage fight\\n\\nRock singe...     False  \n",
       "6   Pete Doherty misses bail deadline\\n\\nSinger Pe...     False  \n",
       "7   Fockers retain film chart crown\\n\\nComedy Meet...     False  \n",
       "11  Film production 'falls' 40% in UK\\n\\nThe numbe...     False  "
      ],
      "text/html": [
       "<div>\n",
       "<style scoped>\n",
       "    .dataframe tbody tr th:only-of-type {\n",
       "        vertical-align: middle;\n",
       "    }\n",
       "\n",
       "    .dataframe tbody tr th {\n",
       "        vertical-align: top;\n",
       "    }\n",
       "\n",
       "    .dataframe thead th {\n",
       "        text-align: right;\n",
       "    }\n",
       "</style>\n",
       "<table border=\"1\" class=\"dataframe\">\n",
       "  <thead>\n",
       "    <tr style=\"text-align: right;\">\n",
       "      <th></th>\n",
       "      <th>Unnamed: 0</th>\n",
       "      <th>Title</th>\n",
       "      <th>Article</th>\n",
       "      <th>Summary</th>\n",
       "      <th>Category</th>\n",
       "      <th>extractive_summary</th>\n",
       "      <th>generated_summary</th>\n",
       "      <th>is_match</th>\n",
       "    </tr>\n",
       "  </thead>\n",
       "  <tbody>\n",
       "    <tr>\n",
       "      <th>0</th>\n",
       "      <td>0</td>\n",
       "      <td>289</td>\n",
       "      <td>Musicians to tackle US red tape\\n\\nMusicians' ...</td>\n",
       "      <td>Nigel McCune from the Musicians' Union said Br...</td>\n",
       "      <td>entertainment</td>\n",
       "      <td>Nigel McCune from the Musicians' Union said Br...</td>\n",
       "      <td>Musicians to tackle US red tape\\n\\nMusicians' ...</td>\n",
       "      <td>False</td>\n",
       "    </tr>\n",
       "    <tr>\n",
       "      <th>2</th>\n",
       "      <td>2</td>\n",
       "      <td>276</td>\n",
       "      <td>Rocker Doherty in on-stage fight\\n\\nRock singe...</td>\n",
       "      <td>Babyshambles, which he formed after his acrimo...</td>\n",
       "      <td>entertainment</td>\n",
       "      <td>Babyshambles, which he formed after his acrimo...</td>\n",
       "      <td>Rocker Doherty in on-stage fight\\n\\nRock singe...</td>\n",
       "      <td>False</td>\n",
       "    </tr>\n",
       "    <tr>\n",
       "      <th>6</th>\n",
       "      <td>6</td>\n",
       "      <td>114</td>\n",
       "      <td>Pete Doherty misses bail deadline\\n\\nSinger Pe...</td>\n",
       "      <td>Mr Wass was also given a curfew and told to su...</td>\n",
       "      <td>entertainment</td>\n",
       "      <td>Mr Doherty, 25, was arrested following an alle...</td>\n",
       "      <td>Pete Doherty misses bail deadline\\n\\nSinger Pe...</td>\n",
       "      <td>False</td>\n",
       "    </tr>\n",
       "    <tr>\n",
       "      <th>7</th>\n",
       "      <td>7</td>\n",
       "      <td>100</td>\n",
       "      <td>Fockers retain film chart crown\\n\\nComedy Meet...</td>\n",
       "      <td>Meet the Fockers also broke the box office rec...</td>\n",
       "      <td>entertainment</td>\n",
       "      <td>Meet the Fockers also broke the box office rec...</td>\n",
       "      <td>Fockers retain film chart crown\\n\\nComedy Meet...</td>\n",
       "      <td>False</td>\n",
       "    </tr>\n",
       "    <tr>\n",
       "      <th>11</th>\n",
       "      <td>11</td>\n",
       "      <td>303</td>\n",
       "      <td>Film production 'falls' 40% in UK\\n\\nThe numbe...</td>\n",
       "      <td>The UK Film Council said the drop was partly d...</td>\n",
       "      <td>entertainment</td>\n",
       "      <td>Twenty-seven British films were made in the UK...</td>\n",
       "      <td>Film production 'falls' 40% in UK\\n\\nThe numbe...</td>\n",
       "      <td>False</td>\n",
       "    </tr>\n",
       "  </tbody>\n",
       "</table>\n",
       "</div>"
      ]
     },
     "execution_count": 11,
     "metadata": {},
     "output_type": "execute_result"
    }
   ],
   "execution_count": 11
  },
  {
   "metadata": {
    "ExecuteTime": {
     "end_time": "2025-04-07T18:45:19.894703Z",
     "start_time": "2025-04-07T18:45:17.366009Z"
    }
   },
   "cell_type": "code",
   "source": [
    "from rouge import Rouge\n",
    "\n",
    "rouge = Rouge()\n",
    "\n",
    "def truncate_text(text, max_words=100):\n",
    "    return \" \".join(text.split()[:max_words])\n",
    "\n",
    "def compute_rouge(reference, generated):\n",
    "    if not generated.strip():  # Handle empty strings\n",
    "        return {\"rouge-1\": 0, \"rouge-2\": 0, \"rouge-l\": 0}\n",
    "    \n",
    "    # Truncate long summaries\n",
    "    reference = truncate_text(reference)\n",
    "    generated = truncate_text(generated)\n",
    "    \n",
    "    scores = rouge.get_scores(generated, reference)\n",
    "    return scores[0]\n",
    "\n",
    "# Apply function\n",
    "testdf[\"rouge_scores\"] = testdf.apply(lambda row: compute_rouge(row[\"Summary\"], row[\"generated_summary\"]), axis=1)\n"
   ],
   "id": "63df238a8dfef07c",
   "outputs": [],
   "execution_count": 12
  },
  {
   "metadata": {
    "ExecuteTime": {
     "end_time": "2025-04-07T18:45:20.647978Z",
     "start_time": "2025-04-07T18:45:20.641314Z"
    }
   },
   "cell_type": "code",
   "source": "testdf.head()",
   "id": "bb6a7bc2420a7ae2",
   "outputs": [
    {
     "data": {
      "text/plain": [
       "    Unnamed: 0  Title                                            Article  \\\n",
       "0            0    289  Musicians to tackle US red tape\\n\\nMusicians' ...   \n",
       "2            2    276  Rocker Doherty in on-stage fight\\n\\nRock singe...   \n",
       "6            6    114  Pete Doherty misses bail deadline\\n\\nSinger Pe...   \n",
       "7            7    100  Fockers retain film chart crown\\n\\nComedy Meet...   \n",
       "11          11    303  Film production 'falls' 40% in UK\\n\\nThe numbe...   \n",
       "\n",
       "                                              Summary       Category  \\\n",
       "0   Nigel McCune from the Musicians' Union said Br...  entertainment   \n",
       "2   Babyshambles, which he formed after his acrimo...  entertainment   \n",
       "6   Mr Wass was also given a curfew and told to su...  entertainment   \n",
       "7   Meet the Fockers also broke the box office rec...  entertainment   \n",
       "11  The UK Film Council said the drop was partly d...  entertainment   \n",
       "\n",
       "                                   extractive_summary  \\\n",
       "0   Nigel McCune from the Musicians' Union said Br...   \n",
       "2   Babyshambles, which he formed after his acrimo...   \n",
       "6   Mr Doherty, 25, was arrested following an alle...   \n",
       "7   Meet the Fockers also broke the box office rec...   \n",
       "11  Twenty-seven British films were made in the UK...   \n",
       "\n",
       "                                    generated_summary  is_match  \\\n",
       "0   Musicians to tackle US red tape\\n\\nMusicians' ...     False   \n",
       "2   Rocker Doherty in on-stage fight\\n\\nRock singe...     False   \n",
       "6   Pete Doherty misses bail deadline\\n\\nSinger Pe...     False   \n",
       "7   Fockers retain film chart crown\\n\\nComedy Meet...     False   \n",
       "11  Film production 'falls' 40% in UK\\n\\nThe numbe...     False   \n",
       "\n",
       "                                         rouge_scores  \n",
       "0   {'rouge-1': {'r': 0.2987012987012987, 'p': 0.6...  \n",
       "2   {'rouge-1': {'r': 0.2857142857142857, 'p': 0.6...  \n",
       "6   {'rouge-1': {'r': 0.4358974358974359, 'p': 0.7...  \n",
       "7   {'rouge-1': {'r': 0.32051282051282054, 'p': 0....  \n",
       "11  {'rouge-1': {'r': 0.37142857142857144, 'p': 0....  "
      ],
      "text/html": [
       "<div>\n",
       "<style scoped>\n",
       "    .dataframe tbody tr th:only-of-type {\n",
       "        vertical-align: middle;\n",
       "    }\n",
       "\n",
       "    .dataframe tbody tr th {\n",
       "        vertical-align: top;\n",
       "    }\n",
       "\n",
       "    .dataframe thead th {\n",
       "        text-align: right;\n",
       "    }\n",
       "</style>\n",
       "<table border=\"1\" class=\"dataframe\">\n",
       "  <thead>\n",
       "    <tr style=\"text-align: right;\">\n",
       "      <th></th>\n",
       "      <th>Unnamed: 0</th>\n",
       "      <th>Title</th>\n",
       "      <th>Article</th>\n",
       "      <th>Summary</th>\n",
       "      <th>Category</th>\n",
       "      <th>extractive_summary</th>\n",
       "      <th>generated_summary</th>\n",
       "      <th>is_match</th>\n",
       "      <th>rouge_scores</th>\n",
       "    </tr>\n",
       "  </thead>\n",
       "  <tbody>\n",
       "    <tr>\n",
       "      <th>0</th>\n",
       "      <td>0</td>\n",
       "      <td>289</td>\n",
       "      <td>Musicians to tackle US red tape\\n\\nMusicians' ...</td>\n",
       "      <td>Nigel McCune from the Musicians' Union said Br...</td>\n",
       "      <td>entertainment</td>\n",
       "      <td>Nigel McCune from the Musicians' Union said Br...</td>\n",
       "      <td>Musicians to tackle US red tape\\n\\nMusicians' ...</td>\n",
       "      <td>False</td>\n",
       "      <td>{'rouge-1': {'r': 0.2987012987012987, 'p': 0.6...</td>\n",
       "    </tr>\n",
       "    <tr>\n",
       "      <th>2</th>\n",
       "      <td>2</td>\n",
       "      <td>276</td>\n",
       "      <td>Rocker Doherty in on-stage fight\\n\\nRock singe...</td>\n",
       "      <td>Babyshambles, which he formed after his acrimo...</td>\n",
       "      <td>entertainment</td>\n",
       "      <td>Babyshambles, which he formed after his acrimo...</td>\n",
       "      <td>Rocker Doherty in on-stage fight\\n\\nRock singe...</td>\n",
       "      <td>False</td>\n",
       "      <td>{'rouge-1': {'r': 0.2857142857142857, 'p': 0.6...</td>\n",
       "    </tr>\n",
       "    <tr>\n",
       "      <th>6</th>\n",
       "      <td>6</td>\n",
       "      <td>114</td>\n",
       "      <td>Pete Doherty misses bail deadline\\n\\nSinger Pe...</td>\n",
       "      <td>Mr Wass was also given a curfew and told to su...</td>\n",
       "      <td>entertainment</td>\n",
       "      <td>Mr Doherty, 25, was arrested following an alle...</td>\n",
       "      <td>Pete Doherty misses bail deadline\\n\\nSinger Pe...</td>\n",
       "      <td>False</td>\n",
       "      <td>{'rouge-1': {'r': 0.4358974358974359, 'p': 0.7...</td>\n",
       "    </tr>\n",
       "    <tr>\n",
       "      <th>7</th>\n",
       "      <td>7</td>\n",
       "      <td>100</td>\n",
       "      <td>Fockers retain film chart crown\\n\\nComedy Meet...</td>\n",
       "      <td>Meet the Fockers also broke the box office rec...</td>\n",
       "      <td>entertainment</td>\n",
       "      <td>Meet the Fockers also broke the box office rec...</td>\n",
       "      <td>Fockers retain film chart crown\\n\\nComedy Meet...</td>\n",
       "      <td>False</td>\n",
       "      <td>{'rouge-1': {'r': 0.32051282051282054, 'p': 0....</td>\n",
       "    </tr>\n",
       "    <tr>\n",
       "      <th>11</th>\n",
       "      <td>11</td>\n",
       "      <td>303</td>\n",
       "      <td>Film production 'falls' 40% in UK\\n\\nThe numbe...</td>\n",
       "      <td>The UK Film Council said the drop was partly d...</td>\n",
       "      <td>entertainment</td>\n",
       "      <td>Twenty-seven British films were made in the UK...</td>\n",
       "      <td>Film production 'falls' 40% in UK\\n\\nThe numbe...</td>\n",
       "      <td>False</td>\n",
       "      <td>{'rouge-1': {'r': 0.37142857142857144, 'p': 0....</td>\n",
       "    </tr>\n",
       "  </tbody>\n",
       "</table>\n",
       "</div>"
      ]
     },
     "execution_count": 13,
     "metadata": {},
     "output_type": "execute_result"
    }
   ],
   "execution_count": 13
  },
  {
   "metadata": {
    "ExecuteTime": {
     "end_time": "2025-04-07T18:45:22.907395Z",
     "start_time": "2025-04-07T18:45:22.904183Z"
    }
   },
   "cell_type": "code",
   "source": [
    "# Display average ROUGE scores\n",
    "rouge_l_scores = [score[\"rouge-l\"][\"f\"] for score in testdf[\"rouge_scores\"]]\n",
    "print(f\"Average ROUGE-L Score: {sum(rouge_l_scores) / len(rouge_l_scores):.4f}\")"
   ],
   "id": "e2f06b8e0b34b655",
   "outputs": [
    {
     "name": "stdout",
     "output_type": "stream",
     "text": [
      "Average ROUGE-L Score: 0.4143\n"
     ]
    }
   ],
   "execution_count": 14
  },
  {
   "metadata": {
    "ExecuteTime": {
     "end_time": "2025-04-07T18:45:24.756347Z",
     "start_time": "2025-04-07T18:45:24.753742Z"
    }
   },
   "cell_type": "code",
   "source": [
    "# Display average ROUGE scores\n",
    "rouge_l_scores = [score[\"rouge-2\"][\"f\"] for score in testdf[\"rouge_scores\"]]\n",
    "print(f\"Average ROUGE-2 Score: {sum(rouge_l_scores) / len(rouge_l_scores):.4f}\")"
   ],
   "id": "18bfcb800e4eea9b",
   "outputs": [
    {
     "name": "stdout",
     "output_type": "stream",
     "text": [
      "Average ROUGE-2 Score: 0.2971\n"
     ]
    }
   ],
   "execution_count": 15
  },
  {
   "metadata": {
    "ExecuteTime": {
     "end_time": "2025-04-07T18:45:26.958503Z",
     "start_time": "2025-04-07T18:45:26.955804Z"
    }
   },
   "cell_type": "code",
   "source": [
    "# Display average ROUGE scores\n",
    "rouge_l_scores = [score[\"rouge-1\"][\"f\"] for score in testdf[\"rouge_scores\"]]\n",
    "print(f\"Average ROUGE-1 Score: {sum(rouge_l_scores) / len(rouge_l_scores):.4f}\")"
   ],
   "id": "b8c0b70b8fefff30",
   "outputs": [
    {
     "name": "stdout",
     "output_type": "stream",
     "text": [
      "Average ROUGE-1 Score: 0.4284\n"
     ]
    }
   ],
   "execution_count": 16
  },
  {
   "metadata": {
    "ExecuteTime": {
     "end_time": "2025-04-07T18:46:26.040945Z",
     "start_time": "2025-04-07T18:45:30.301693Z"
    }
   },
   "cell_type": "code",
   "source": [
    "from sklearn.metrics.pairwise import cosine_similarity\n",
    "from sentence_transformers import SentenceTransformer\n",
    "\n",
    "model = SentenceTransformer('all-MiniLM-L6-v2')\n",
    "\n",
    "\n",
    "def compute_similarity(reference, generated):\n",
    "    ref_embedding = model.encode(reference)\n",
    "    gen_embedding = model.encode(generated)\n",
    "    return cosine_similarity([ref_embedding], [gen_embedding])[0][0]\n",
    "\n",
    "\n",
    "testdf[\"cosine_similarity\"] = testdf.apply(lambda row: compute_similarity(row[\"Summary\"], row[\"generated_summary\"]),\n",
    "                                           axis=1)\n",
    "print(f\"Average Cosine Similarity: {testdf['cosine_similarity'].mean():.4f}\")\n"
   ],
   "id": "7d046c096cee5154",
   "outputs": [
    {
     "name": "stderr",
     "output_type": "stream",
     "text": [
      "huggingface/tokenizers: The current process just got forked, after parallelism has already been used. Disabling parallelism to avoid deadlocks...\n",
      "To disable this warning, you can either:\n",
      "\t- Avoid using `tokenizers` before the fork if possible\n",
      "\t- Explicitly set the environment variable TOKENIZERS_PARALLELISM=(true | false)\n"
     ]
    },
    {
     "name": "stdout",
     "output_type": "stream",
     "text": [
      "Average Cosine Similarity: 0.7437\n"
     ]
    }
   ],
   "execution_count": 17
  }
 ],
 "metadata": {
  "kernelspec": {
   "display_name": "Python 3",
   "language": "python",
   "name": "python3"
  },
  "language_info": {
   "codemirror_mode": {
    "name": "ipython",
    "version": 2
   },
   "file_extension": ".py",
   "mimetype": "text/x-python",
   "name": "python",
   "nbconvert_exporter": "python",
   "pygments_lexer": "ipython2",
   "version": "2.7.6"
  }
 },
 "nbformat": 4,
 "nbformat_minor": 5
}
