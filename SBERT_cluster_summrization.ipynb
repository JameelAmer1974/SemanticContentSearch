{
 "cells": [
  {
   "cell_type": "code",
   "id": "initial_id",
   "metadata": {
    "collapsed": true,
    "ExecuteTime": {
     "end_time": "2025-04-12T04:19:07.656093Z",
     "start_time": "2025-04-12T04:19:01.488712Z"
    }
   },
   "source": [
    "import numpy as np\n",
    "from sentence_transformers import SentenceTransformer\n",
    "from sklearn.metrics.pairwise import cosine_similarity\n",
    "from sklearn.cluster import KMeans\n",
    "from nltk.tokenize import sent_tokenize\n",
    "import nltk\n",
    "nltk.download('punkt')\n",
    "model = SentenceTransformer('all-MiniLM-L6-v2')"
   ],
   "outputs": [
    {
     "name": "stderr",
     "output_type": "stream",
     "text": [
      "/Users/jameelamer/MasterProject/Summarization/summrization_webapp/flaskProject2/.venv/lib/python3.12/site-packages/tqdm/auto.py:21: TqdmWarning: IProgress not found. Please update jupyter and ipywidgets. See https://ipywidgets.readthedocs.io/en/stable/user_install.html\n",
      "  from .autonotebook import tqdm as notebook_tqdm\n",
      "[nltk_data] Downloading package punkt to\n",
      "[nltk_data]     /Users/jameelamer/nltk_data...\n",
      "[nltk_data]   Package punkt is already up-to-date!\n"
     ]
    }
   ],
   "execution_count": 1
  },
  {
   "metadata": {
    "ExecuteTime": {
     "end_time": "2025-04-12T04:19:08.747659Z",
     "start_time": "2025-04-12T04:19:07.669760Z"
    }
   },
   "cell_type": "code",
   "source": [
    "# Load English tokenizer, POS tagger, parser, NER from spaCy\n",
    "import spacy.cli\n",
    "import re\n",
    "try:\n",
    "    nlp = spacy.load(\"en_core_web_sm\")\n",
    "except OSError:\n",
    "    import spacy.cli\n",
    "    spacy.cli.download(\"en_core_web_sm\")\n",
    "    nlp = spacy.load(\"en_core_web_sm\")\n",
    "def normalize_whitespace(text):\n",
    "    \"\"\"Remove extra whitespace, newlines, and tabs.\"\"\"\n",
    "    return re.sub(r'\\s+', ' ', text).strip()\n",
    "\n",
    "def remove_noise_and_references(text):\n",
    "    \"\"\"\n",
    "    Remove references like [1], (Smith et al., 2020), and figure/table mentions.\n",
    "    You can extend the patterns as needed.\n",
    "    \"\"\"\n",
    "    # Remove square bracket citations like [1], [12]\n",
    "    text = re.sub(r'\\[\\d+\\]', '', text)\n",
    "    \n",
    "    # Remove in-text references like (Smith et al., 2020)\n",
    "    text = re.sub(r'\\(([^)]*et al\\.,?\\s?\\d{4})\\)', '', text)\n",
    "    \n",
    "    # Remove \"Fig. 1\", \"Table 2\", etc.\n",
    "    text = re.sub(r'(Fig\\.?|Figure|Table)\\s?\\d+[a-zA-Z]?', '', text, flags=re.IGNORECASE)\n",
    "    \n",
    "    # Remove licensing and copyright boilerplate\n",
    "    text = re.sub(r'©.*?(\\.|\\n)', '', text)\n",
    "    text = re.sub(r'This article is licensed.*?(\\.|\\n)', '', text, flags=re.IGNORECASE)\n",
    "    \n",
    "    return text\n",
    "\n",
    "def sentence_segmentation(text):\n",
    "    \"\"\"Segment text into individual sentences using spaCy.\"\"\"\n",
    "    doc = nlp(text)\n",
    "    return [sent.text.strip() for sent in doc.sents if sent.text.strip()]\n",
    "\n",
    "def preprocess_text(raw_text):\n",
    "    \"\"\"Complete preprocessing pipeline.\"\"\"\n",
    "    step1 = normalize_whitespace(raw_text)\n",
    "    step2 = remove_noise_and_references(step1)\n",
    "    sentences = sentence_segmentation(step2)\n",
    "    return ' '.join(str(sentence) for sentence in sentences)"
   ],
   "id": "647571159387fb8a",
   "outputs": [],
   "execution_count": 2
  },
  {
   "metadata": {
    "ExecuteTime": {
     "end_time": "2025-04-12T04:19:08.846643Z",
     "start_time": "2025-04-12T04:19:08.843276Z"
    }
   },
   "cell_type": "code",
   "source": [
    "def cluster_summary(text, num_sentences=3):\n",
    "    # call preprocess\n",
    "    clean_text=preprocess_text(text)\n",
    "    return sbert_with_clustering(clean_text,num_sentences,num_sentences)\n",
    "\n",
    "def sbert_with_clustering(text, num_sentences=3, num_clusters=3):\n",
    "\n",
    "    sentences = sent_tokenize(text)\n",
    "    if len(sentences) <= num_sentences:\n",
    "        return text\n",
    "    embeddings = model.encode(sentences)\n",
    "    kmeans = KMeans(n_clusters=num_clusters, random_state=42)\n",
    "    clusters = kmeans.fit_predict(embeddings)\n",
    "    cluster_summaries = []\n",
    "    for cluster_id in range(num_clusters):\n",
    "        cluster_sentences = [sentences[i] for i in range(len(sentences)) if clusters[i] == cluster_id]\n",
    "        cluster_embeddings = [embeddings[i] for i in range(len(sentences)) if clusters[i] == cluster_id]\n",
    "        sim_matrix = cosine_similarity(cluster_embeddings)\n",
    "        scores = sim_matrix.sum(axis=1)\n",
    "        top_sentence_idx = np.argmax(scores)\n",
    "        cluster_summaries.append(cluster_sentences[top_sentence_idx])\n",
    "    summary = \" \".join(cluster_summaries)\n",
    "    return summary"
   ],
   "id": "ebe0a7a86e65bad3",
   "outputs": [],
   "execution_count": 3
  },
  {
   "metadata": {
    "ExecuteTime": {
     "end_time": "2025-04-12T04:19:11.388741Z",
     "start_time": "2025-04-12T04:19:08.862937Z"
    }
   },
   "cell_type": "code",
   "source": [
    "text = \"\"\"\n",
    "Artificial intelligence (AI) has seen rapid advancements in recent years. Many industries are adopting AI for automation and efficiency. \n",
    "Healthcare, finance, and manufacturing are among the top sectors leveraging AI technologies. \n",
    "Despite its benefits, there are concerns about job displacement and ethical implications. \n",
    "AI researchers are working on developing responsible and transparent systems. \n",
    "Governments are also introducing regulations to govern AI development and deployment.\n",
    "\"\"\"\n",
    "\n",
    "summary = cluster_summary(text, num_sentences=5)\n",
    "print(summary)"
   ],
   "id": "b9822a53a276613a",
   "outputs": [
    {
     "name": "stdout",
     "output_type": "stream",
     "text": [
      "Healthcare, finance, and manufacturing are among the top sectors leveraging AI technologies. Despite its benefits, there are concerns about job displacement and ethical implications. Artificial intelligence (AI) has seen rapid advancements in recent years. Governments are also introducing regulations to govern AI development and deployment. AI researchers are working on developing responsible and transparent systems.\n"
     ]
    },
    {
     "name": "stderr",
     "output_type": "stream",
     "text": [
      "huggingface/tokenizers: The current process just got forked, after parallelism has already been used. Disabling parallelism to avoid deadlocks...\n",
      "To disable this warning, you can either:\n",
      "\t- Avoid using `tokenizers` before the fork if possible\n",
      "\t- Explicitly set the environment variable TOKENIZERS_PARALLELISM=(true | false)\n"
     ]
    }
   ],
   "execution_count": 4
  },
  {
   "metadata": {
    "ExecuteTime": {
     "end_time": "2025-04-12T04:19:11.468608Z",
     "start_time": "2025-04-12T04:19:11.465336Z"
    }
   },
   "cell_type": "code",
   "source": "",
   "id": "57467ac6d4748530",
   "outputs": [],
   "execution_count": null
  },
  {
   "metadata": {
    "ExecuteTime": {
     "end_time": "2025-04-12T04:19:11.490944Z",
     "start_time": "2025-04-12T04:19:11.488186Z"
    }
   },
   "cell_type": "code",
   "source": "#evaluation  ",
   "id": "33c308631be79c18",
   "outputs": [],
   "execution_count": 5
  },
  {
   "metadata": {
    "ExecuteTime": {
     "end_time": "2025-04-12T04:19:11.591757Z",
     "start_time": "2025-04-12T04:19:11.521629Z"
    }
   },
   "cell_type": "code",
   "source": [
    "import numpy as np\n",
    "import pandas as pd\n",
    "from evaluate import load\n",
    "from scipy.ndimage import label\n",
    "from transformers import AutoTokenizer, AutoModelForSeq2SeqLM\n",
    "from datasets import Dataset, DatasetDict"
   ],
   "id": "b2187c9002adf8d0",
   "outputs": [],
   "execution_count": 6
  },
  {
   "metadata": {
    "ExecuteTime": {
     "end_time": "2025-04-12T04:19:12.136159Z",
     "start_time": "2025-04-12T04:19:11.601079Z"
    }
   },
   "cell_type": "code",
   "source": [
    "# Load BBC dataset\n",
    "testdf=pd.read_csv('bbc_news_with_articles_and_extractive_summary.csv')\n",
    "#load gov report dataset\n",
    "testdf = pd.read_csv('gov_report_with_articles_and_extractive_summary.csv')\n",
    "\n",
    "testdf.head()"
   ],
   "id": "3d9fc9369016cde5",
   "outputs": [
    {
     "data": {
      "text/plain": [
       "   Unnamed: 0                                            Article  \\\n",
       "0           0  In our prior work, we have found that technolo...   \n",
       "1           1  A variety of federal laws, regulations, and po...   \n",
       "2           2  According to the National Research Council, al...   \n",
       "3           3  Nursing homes are required to keep residents s...   \n",
       "4           4  This section provides an overview of (1) the l...   \n",
       "\n",
       "                                             Summary  \\\n",
       "0  Multiple firms have produced cell-cultured mea...   \n",
       "1  Federal advisory committees provide advice to ...   \n",
       "2  DOD manages a global real-estate portfolio wit...   \n",
       "3  Nursing homes provide care to about 1.4 millio...   \n",
       "4  Decades of defense activities at DOE's Idaho N...   \n",
       "\n",
       "                                  extractive_summary  \n",
       "0  Some firms have developed prototypes of cell-c...  \n",
       "1  EPA’s federal advisory committees play an impo...  \n",
       "2  DOD has a global real estate portfolio that su...  \n",
       "3  Nursing home characteristics.. At the national...  \n",
       "4  DOE has a process for determining that certain...  "
      ],
      "text/html": [
       "<div>\n",
       "<style scoped>\n",
       "    .dataframe tbody tr th:only-of-type {\n",
       "        vertical-align: middle;\n",
       "    }\n",
       "\n",
       "    .dataframe tbody tr th {\n",
       "        vertical-align: top;\n",
       "    }\n",
       "\n",
       "    .dataframe thead th {\n",
       "        text-align: right;\n",
       "    }\n",
       "</style>\n",
       "<table border=\"1\" class=\"dataframe\">\n",
       "  <thead>\n",
       "    <tr style=\"text-align: right;\">\n",
       "      <th></th>\n",
       "      <th>Unnamed: 0</th>\n",
       "      <th>Article</th>\n",
       "      <th>Summary</th>\n",
       "      <th>extractive_summary</th>\n",
       "    </tr>\n",
       "  </thead>\n",
       "  <tbody>\n",
       "    <tr>\n",
       "      <th>0</th>\n",
       "      <td>0</td>\n",
       "      <td>In our prior work, we have found that technolo...</td>\n",
       "      <td>Multiple firms have produced cell-cultured mea...</td>\n",
       "      <td>Some firms have developed prototypes of cell-c...</td>\n",
       "    </tr>\n",
       "    <tr>\n",
       "      <th>1</th>\n",
       "      <td>1</td>\n",
       "      <td>A variety of federal laws, regulations, and po...</td>\n",
       "      <td>Federal advisory committees provide advice to ...</td>\n",
       "      <td>EPA’s federal advisory committees play an impo...</td>\n",
       "    </tr>\n",
       "    <tr>\n",
       "      <th>2</th>\n",
       "      <td>2</td>\n",
       "      <td>According to the National Research Council, al...</td>\n",
       "      <td>DOD manages a global real-estate portfolio wit...</td>\n",
       "      <td>DOD has a global real estate portfolio that su...</td>\n",
       "    </tr>\n",
       "    <tr>\n",
       "      <th>3</th>\n",
       "      <td>3</td>\n",
       "      <td>Nursing homes are required to keep residents s...</td>\n",
       "      <td>Nursing homes provide care to about 1.4 millio...</td>\n",
       "      <td>Nursing home characteristics.. At the national...</td>\n",
       "    </tr>\n",
       "    <tr>\n",
       "      <th>4</th>\n",
       "      <td>4</td>\n",
       "      <td>This section provides an overview of (1) the l...</td>\n",
       "      <td>Decades of defense activities at DOE's Idaho N...</td>\n",
       "      <td>DOE has a process for determining that certain...</td>\n",
       "    </tr>\n",
       "  </tbody>\n",
       "</table>\n",
       "</div>"
      ]
     },
     "execution_count": 7,
     "metadata": {},
     "output_type": "execute_result"
    }
   ],
   "execution_count": 7
  },
  {
   "metadata": {
    "ExecuteTime": {
     "end_time": "2025-04-12T04:50:41.328071Z",
     "start_time": "2025-04-12T04:19:12.163901Z"
    }
   },
   "cell_type": "code",
   "source": "testdf['generated_summary'] = testdf['Article'].apply(lambda x:str(cluster_summary( x, 25)))",
   "id": "a5b7c86c95ff8860",
   "outputs": [],
   "execution_count": 8
  },
  {
   "metadata": {
    "ExecuteTime": {
     "end_time": "2025-04-12T04:50:41.655859Z",
     "start_time": "2025-04-12T04:50:41.576757Z"
    }
   },
   "cell_type": "code",
   "source": [
    "testdf.replace(r'^\\s*$', np.nan, regex=True)\n",
    "testdf.dropna(axis=0, how='any')\n",
    "# Remove rows where \"Title\" is empty or null\n",
    "testdf = testdf[testdf[\"generated_summary\"].notna() & (testdf[\"generated_summary\"] != \"\")]\n",
    "len(testdf)"
   ],
   "id": "8da510a77b5862e5",
   "outputs": [
    {
     "data": {
      "text/plain": [
       "973"
      ]
     },
     "execution_count": 9,
     "metadata": {},
     "output_type": "execute_result"
    }
   ],
   "execution_count": 9
  },
  {
   "metadata": {
    "ExecuteTime": {
     "end_time": "2025-04-12T04:50:42.128804Z",
     "start_time": "2025-04-12T04:50:42.106081Z"
    }
   },
   "cell_type": "code",
   "source": [
    "testdf=testdf.drop_duplicates(subset=[\"generated_summary\"])\n",
    "testdf['generated_summary'].value_counts()"
   ],
   "id": "2bfe4627a52f0fce",
   "outputs": [
    {
     "data": {
      "text/plain": [
       "generated_summary\n",
       "As of December 2019, these firms had not provided regulators with specific information detailing the composition of their cell-cultured meat prototypes, according to FDA and USDA officials. Have participating agencies articulated and agreed to a process for making and enforcing decisions? In addition, as part of their oversight of the food supply, FDA and USDA oversee food labeling of the products under their respective jurisdictions. The ability to regularly attend activities of the collaborative mechanism? Developing and updating written guidance and agreements. We shared our description of the process for making cell-cultured meat, and associated questions, with representatives from three cell-cultured meat firms and academic researchers at two universities for their technical review and incorporated revisions as appropriate. What type of growth medium will producers use, and how might variations in the media affect the final product? Instead, the agencies stated that they believe it would be most valuable to incorporate the leading practices into a more detailed joint framework or standard operating procedure they plan to issue. Including relevant participants. FDA and USDA officials said that they were working to determine what knowledge participants in the pre-market assessment working group and the labeling working group needed to perform the work of the working group. The use of edible or food-grade scaffolds, where they are used, will affect the composition of the product and may need to be evaluated by federal agencies for safety. Moreover, by more fully incorporating all seven leading practices for interagency collaboration early in the development of the working groups, FDA and USDA could proactively minimize potential fragmentation and overlap in their oversight of cell-cultured meat and ensure they are utilizing resources efficiently or effectively. FDA conducts risk-based inspections of high-risk and non-high-risk food facilities. Have participating agencies developed ways for operating across agency boundaries? While FDA and USDA officials told us they have decided who will oversee cell-cultured seafood, they have not formally announced or documented this decision, and some stakeholders have reported confusion or ambiguity about which agency will oversee cell-cultured seafood other than catfish. Developing a more detailed joint framework or standard operating procedure in accordance with the existing interagency agreement that incorporates those leading practices would meet the intent of our recommendation to improve the effectiveness of the agencies’ collaboration. FDA and USDA’s shared oversight of cell-cultured meat poses various challenges for these agencies, as well as stakeholders such as industry. How will FDA and USDA define the point of harvest? We also attended the October 2018 meeting and listened to agency officials’ presentations and oral remarks made by stakeholders and members of the public. How will leadership be sustained over the long term? Led by USDA, this group will focus on developing joint principles for product labeling and claims. For example: Defining outcomes and monitoring accountability. FDA and USDA could more fully incorporate leading practices for collaboration in their interagency agreement and working groups. However, the interagency agreement does not document how the agencies will track and monitor progress toward short-term and long-term outcomes. However, the interagency agreement only partially incorporates the seven leading collaboration practices that can enhance and sustain agencies’ collaborative efforts, and the working groups either partially incorporate or do not incorporate these leading practices, which has raised concerns about potential fragmentation or overlap in oversight.                                                                                                                                                                                                                                                                                                                                                                                                                                                                                                                                                                                                                                                                                                                                                                                                                                                                                                                                                                                                                                                                                                                                                                                                                                                                                                                                                                                                                                                                                                                                                                                                                                                                                                                                                                                                                                                                                                                                                                                                                                                                                                                                                                                                                                                                                                                                                                               1\n",
       "106-554 ) included language authorizing the creation of the DRA based on the seven participating states of the LMDDC, with the addition of Alabama and 16 of its counties. The Northern Great Plains Rural Development Act ( P.L. The stated mission of the NBRC is \"to catalyze regional, collaborative, and transformative community economic development approaches that alleviate economic distress and position the region for economic growth.\" The amendments included: 1. various limitations on project funding amounts and commission contributions; 2. the establishment of an economic and energy development initiative; 3. the expansion of county designations to include an \"at-risk\" designation; and 4. the expansion of the number of counties under the ARC's jurisdiction. The NGPRA featured broad similarities to the basic structure shared among most of the federal regional authorities and commissions, being a federal-state partnership led by a federal co-chair (appointed by the President, with the advice and consent of the Senate) and governors of the participating states, of which one was designated as the state co-chair. The 2008 farm bill authorized annual appropriations of $30 million for FY2008 through FY2012 for all three new commissions. The Southwest Border Regional Commission (SBRC) was created with the enactment of the Food, Conservation, and Energy Act of 2008, or the 2008 farm bill ( P.L. 3196 ), which would have authorized the SBRC, the DRA, the NGPRA, and the SCRC. Funding determinations are assessed according to the DRA's authorizing statute, its strategic plan, state priorities, and distress designation. All three commissions share common statutory authorizing language modeled after the ARC. Given their geographic reach, broad activities, and integrated intergovernmental structures, the federal regional commissions and authorities are a significant element of federal economic development efforts. However, as no federal co-chair has been appointed since the SCRC was authorized, it is not operational. The ARC is a federal-state partnership, with administrative costs shared equally by the federal government and member states, while economic development activities are funded by congressional appropriations. The Agricultural Act of 2014, or 2014 farm bill ( P.L. Also, the NGPRA would have designated levels of county economic distress; 75% of funds were reserved for the most distressed counties in each state, and 50% reserved for transportation, telecommunications, and basic infrastructure improvements. H.R. The NGPRA's funding authorization lapsed at the end of FY2018; it was not reauthorized. LDDs \"provide technical assistance, application support and review, and other services\" to the DRA and entities applying for funding. The Appalachian Regional Commission was established in 1965 to address economic distress in the Appalachian region. The state co-chair is limited to two consecutive terms, but may not serve a term of less than one year. The current strategic plan, adopted in November 2015, prioritizes five investment goals: 1. entrepreneurial and business development; 2. workforce development; 3. infrastructure development; 4. natural and cultural assets; and 5. leadership and community capacity. The Denali Commission is unique as a single-state commission, and in its reliance on federal funding for both administration and activities. (3) workforce development; and 4. These designations are made and refined annually. Each distress level corresponds to a given county's ranking relative to that of the United States as a whole.                                                                                                                                                                                                                                                                                                                                                                                                                                                                                                                                                                                                                                                                                                                                                                                                                                                                                                                                                                                                                                                                                                                                                                                                                                                                                                                                                                                                                                                                                                                                                                                                                                                                                                                                                                                                                                                                                                                                                                                                                                                                                                                                                                                                                                                                                                                                                                                                                                                                                                                                                                                                          1\n",
       "Note that all amounts in this section are based on regular LHHS appropriations only; they do not include funds for HHS agencies provided through other appropriations bills (e.g., funding for the Food and Drug Administration) or outside of the annual appropriations process (e.g., direct appropriations for Medicare or mandatory funds provided by authorizing laws, such as the Patient Protection and Affordable Care Act [ACA, P.L. The amounts shown in this table reflect total budget authority provided in the bill (i.e., all funds appropriated in the bill, regardless of the fiscal year in which the funds become available), not total budget authority available for the current fiscal year. This is followed by a high-level summary and analysis of enacted and proposed appropriations for FY2019, compared to FY2018 funding levels. 6157 ) that was amended on the floor and passed by the Senate on August 23, 2018. Of the $2.9 billion appropriated to the UAC account, some funds were set aside for designated activities or purposes, such as state-licensed shelters (not less than $866 million); postrelease services, child advocates, and legal services (not less than $100 million); additional federal field specialists and increased case management and coordination services intended to place children with sponsors more expeditiously and reduce the length of stay in HHS custody (not less than $8 million); project officers/program staff and the development of a discharge rate improvement plan (not less than $1 million); and oversight activities conducted by the HHS Office of the Inspector General ($5 million). In general, discretionary funds account for about 10% of HHS appropriations in the LHHS bill. 115-289 ). The omnibus also provided $817.5 billion in mandatory funding, for a combined FY2018 LHHS total of $1.004 trillion. Typically, about three-quarters of ED's discretionary appropriations go either to local educational agenciesâwhich primarily use the funds to provide educational and related services for economically disadvantaged students and students with disabilitiesâor to low-income postsecondary students in the form of Pell Grants, which help pay for college. In general, this report is focused strictly on appropriations to agencies and accounts that are subject to the jurisdiction of the Labor, Health and Human Services, Education, and Related Agencies subcommittees of the House and Senate appropriations committees (i.e., accounts traditionally funded via the LHHS bill). The bill was passed by the House on June 27 and by the Senate on June 26. For consistency with source materials, amounts do not reflect sequestration or reestimates of mandatory spending programs, where applicable. It is authorized by Section 241 of the Public Health Service Act (PHSA), and allows the Secretary of HHS, with the approval of appropriators, to redistribute a portion of eligible PHS agency appropriations across HHS for program evaluation purposes. Proposed discretionary ED appropriations for FY2019 compared to FY2018 would have decreased under the President's budget (-10.8%) and increased slightly under the Senate floor and House committee bills (+0.8 and +0.2, respectively). displays the FY2019 enacted discretionary and mandatory LHHS funding levels, by bill title. In 2018, the Perkins Act was comprehensively reauthorized once again through the passage of the Strengthening Career and Technical Education for the 21 st Century Act (Perkins V; P.L. The dollar changes and percentage changes discussed in the text are based on unrounded amounts. For instance, annual LHHS appropriations acts commonly include provisions limiting the use of federal funds for abortions, the use of human embryos for research, needle exchange programs, and gun control advocacy. The House committee bill did not recommend an increase. This was $357 million (+1.6%) more than FY2018 and $7.8 billion (+50.6%) more than the FY2019 President's budget request. This is followed by Appendix B , which provides an overview of the LHHS-related floor amendments that were offered in the Senate during its consideration of H.R. The FY2019 omnibus provided $1.1 billion in tap transfers to NIH, a $224 million (+24.3%) increase over the FY2018 level. DOL entities focused on worker protection provide services to ensure worker safety, adherence to wage and overtime laws, and contract compliance, among other duties. Cap Adjustments, Exemptions, and Special Rules The BCA allows for certain adjustments to the discretionary spending limits for FY2012-FY2021. State Opioid Response Grants received $1.5 billion in FY2019, a $500 million (+50%) increase from FY2018, which was the first year in which funding was provided for this program.                                                                                                                                                                                                                                                                                                                                                                                                                                                                                                                                                                                                                                                                                                                                                                                                                                                                                                                                                                                                                                                                                                                                                                                                                                                                                                                                                                                                            1\n",
       "Laboratories have reported shortages of widely used supplies, such as RNA-extraction kits, swabs, and personal protective equipment, that are in high demand for COVID-19 testing and patient care. It is not yet clear how much, if any, will be available to address issues directly related to R&D. This report provides an overview of how the nation's response to COVID-19 is affecting the federal R&D enterprise, how the federal government and others are addressing those effects, and issues that may arise as the situation develops. For example, they may need additional computing and networking equipment and services to accommodate researchers working remotely. Federal agencies also run scientific and technical conferences. There are specific challenges for shared university research infrastructure, including core facilitiesâspecialized laboratories with unique instruments and capabilities that provide services to an institution's researchers âas well as animal care facilities and clinical trial infrastructure. According to the Association of Public and Land-Grant Universities, research functions that some (but not necessarily all) universities have identified as essential include COVID-19 related research; activity that if discontinued would generate significant data and sample loss; activity that if discontinued would pose a safety hazard; activity that maintains critical equipment or core facilities; activity that maintains critical samples, reagents, and materials; activity that maintains animal populations; activity that maintains critically needed plant populations, tissue cultures, or other living organisms; activity in support of essential human subjects research; and clinical trial activity that if discontinued would adversely affect patient care. https://www.whitehouse.gov/wp-content/uploads/2020/03/M-20-11.pdf Compilation of Other Resources The Council on Governmental Relations maintains an online compilation of guidance from federal agencies, academic institutions, and other organizations, as well as responses to frequently asked questions about how federal agencies that fund R&D are implementing the OMB-directed flexibilities. Some agencies have announced accommodations for existing awardees, such as no-cost extensions of awards, extensions of financial and other reporting deadlines, changes to the allowability of cancellation fees and costs resulting from the pausing and restarting of research, and allowing the continued payment of salaries and benefits out of grant funds. https://www.whitehouse.gov/wp-content/uploads/2020/03/M-20-16.pdf M-20-15 Updated Guidance for the National Capital Region on Telework Flexibilities in Response to Coronavirus (March 15, 2020) Directs agencies to offer maximum telework flexibilities to all current telework-eligible employees, consistent with operational needs of the departments and agencies as determined by their heads, as well as to use all existing authorities to offer telework to additional employees, to the extent their work could be telework enabled. NIST also provides calibration and testing services for industry, academia, and government; its FY2019 revenues for these services were $33.5 million. The Office of Management and Budget (OMB) has provided guidance to agencies about what travel (including travel to conduct R&D or to attend scientific meetings) should be considered mission-critical, based on a list of 11 factors, such as whether the travel is for activities essential to national security or whether it is time-sensitive. R&D at institutions that remain open may also be affected by disruptions to the supply of materials and equipment or by closures at collaborating research institutions. As some agencies and researchers shift their R&D priorities to respond to the COVID-19 pandemic, the funding available for R&D on other topics may be reduced, at least in the near term. Organizations representing research universities, medical schools, and teaching hospitals have asked Congress, among other steps, to give research institutions receiving federal funding additional flexibility to cover researcher salaries and benefits while their institutions are affected, to provide $13 billion in additional extramural research funding, and to allow agencies to reprogram any supplemental funds that are not spent within a year for new awards. The Coronavirus Aid, Relief, and Economic Security (CARES) Act ( P.L. It will certainly be an obstacle to schedules and success in activities like preparing for a launch or building an exploratory spacecraft.\" The impact of cancelling conferences may be particularly significant in certain fields. https://www.whitehouse.gov/wp-content/uploads/2020/03/M-20-19.pdf M-20-18 Managing Federal Contract Performance Issues Associated with the Novel Coronavirus (COVID-19) (March 20, 2020) Identifies certain agency actions to relieve short-term administrative, financial management, and audit requirements under 2 C.F.R. Most of this total was for research on COVID-19 itself, including $945 million for NIH, $415 million for research, development, testing, and evaluation (RDT&E) in the DOD Defense Health Program, and smaller sums for several other agencies. Actions by state or local governments may be a factor in the decisions of some facilities. In accordance with 2 CFR Â§200.102, \"Exceptions,\" OMB is allowing federal agencies to grant class exceptions in instances where the agency has determined that the purpose of the federal awards is to support the continued research and services necessary to carry out the emergency response related to COVID-19. In some cases, conferences are continuing virtually with attempts to facilitate informal interactions that would normally take place in person. The memorandum also provides answers to a set of frequently asked questions intended to assist the acquisition workforce as it addresses impacts due to COVID-19. While NASA has suspended a number of other major projects, it is continuing work on the Mars 2020 mission, scheduled for a launch window that opens in mid-July 2020.    1\n",
       "This report provides an overview of dam safety and associated activities in the United States, highlighting the federal role in dam safety. Congress appropriated $10 million in FY2019 for FEMA's High Hazard Dam Rehabilitation Grant Program under the Consolidated Appropriations Act, 2019 ( P.L. Dam safety policies may address risk by focusing on preventing dam failure while preparing for the consequences if failure occurs. In 2018, the percentage of high hazard potential dams in the United States with EAPs was 74% for federally owned dams and 80% for state-regulated dams. Grant funding may be used for training, dam inspections, dam safety awareness workshops and outreach materials, identification of dams in need of repair or removal, development and testing of EAPs, permitting activities, and improved coordination with state emergency preparedness officials. Reclamation's dam safety program, authorized by Reclamation Safety of Dams Act of 1978, as amended ( P.L. At mining sites, dams may be constructed for water supply, water treatment, sediment control, or the disposal of mining byproducts and waste (i.e., tailings dams). 801 et seq. Nonfederal sponsors are to pay the standard cost share based on authorized purposes. Funding levels and a lack of state statutory authorities may limit the activities of some state dam safety programs. FERC has allowed dam owners, generally those with a portfolio of dams, to pilot risk-informed decisionmaking using the draft guidelines for their inspections and prioritizing rehabilitation and repairs instead of using the current deterministic, standards-based approach. Similar metrics have improved for some federal agencies that own dams, and certain federal dam safety programs have implemented or are beginning to implement risk-based dam safety approaches to managing their dam portfolios (e.g., USACE and Reclamation). Congress provides funding for USACE's various dam safety activities through the Investigations, O&M, and Construction accounts. Currently, NRC directly regulates eight dams. The rehabilitation program is intended to extend the approved service life of the dams and bring them into compliance with applicable safety and performance standards or to decommission the dams so they no longer pose a threat to life and property. Further, Congress may evaluate the level and allocation of appropriations to federal dam safety programs, project modifications for federal dams, and financial assistance for nonfederal dam safety programs and nonfederal dams. 95-578 ; 43 U.S.C. The NID, a database of dams in the United States, is maintained by USACE. From 2015 to 2018, extreme storms (including Hurricane Matthew) and subsequent flooding resulted in over 100 dam breaches in North Carolina and South Carolina. Â§715.18). Still, some dam failures have resulted in notable disasters in the United States. As of FY2019, Reclamation estimated that the current portfolio of dam safety modification projects through FY2030 would cost between $1.4 billion to $1.8 billion. The Watershed Protection and Flood Prevention Act (P.L. According to a 2019 study by ASDSO, the combined total cost to rehabilitate the nonfederal and federal dams in the NID would exceed $70 billion. Dam safety processes and productsâsuch as emergency action plans (EAPs) and inundation mapsâmay support informed decisionmaking to reduce the risk and consequences of dam failures and incidents.                                                                                                                                                                                                                                                                                                                                                                                                                                                                                                                                                                                                                                                                                                                                                                                                                                                                                                                                                                                                                                                                                                                                                                                                                                                                                                                                                                                                                                                                                                                                                                                                                                                                                                                                                                                                                                                                                                                                                                                                                                                                                                                                                                                                                                                                                                                                                                                                                                                                                                                                                                                                                                                                                                                                                                 1\n",
       "                                                                                                                                                                                                                                                                                                                                                                                                                                                                                                                                                                                                                                                                                                                                                                                                                                                                                                                                                                                                                                                                                                                                                                                                                                                                                                                                                                                                                                                                                                                                                                                                                                                                                                                                                                                                                                                                                                                                                                                                                                                                                                                                                                                                                                                                                                                                                                                                                                                                                                                                                                                                                                                                                                                                                                                                                                                                                                                                                                                                                                                                                                                                                                                                                                                                                                                                                                                                                                                                                                                                                                                                                                                                                                                                                                                                                                                                                                                                                                                                                                                                                                                                                                                                                                                                                                                                                                                                                                                                                                                                                                                                                                                                                                                                                                                                                                                                                                                                                                                                                                                                                                                                                                                                                                                                                                                                                                                                                                                                                                                                                                                                                                                                                                                                                                                                                                                                                                                                                                                                                                                                                                                                                                                                                                                                                                                                               ..\n",
       "In addition, the budget request for the Disaster Relief Fund, which provides a significant portion of the total federal response to major disasters, traditionally has been intended to cover each fiscal year’s costs for previously declared disasters and the predictable cost of noncatastrophic events. Thus, the federal guarantee transfers some or all of the risks of borrower default from private lenders to the federal government. Before 2004, NFIP was able to cover most of its claims and repay occasional loans from the U.S. Treasury with premiums it collected, but it has not been able to do so since, partly due to extraordinary catastrophic loss years resulting from Hurricane Katrina and Superstorm Sandy. As required by law, FDIC implemented a plan to replenish the DIF and raise the reserve ratio to its designated minimum in the time limits prescribed by the Federal Deposit Insurance Act. While these reports provide additional financial information, we previously reported that decision-making is best informed if the government includes in the budget the costs of its commitments at the time it makes them. PBGC provides financial assistance to multiemployer plans when they become insolvent. We analyzed the results and identified budget accounts that funded additional federal activities that met our criteria and reported budget obligation data for those accounts for fiscal year 2017. We also identified the following categories of activities that met our criteria: federal loan guarantee programs, senior preferred stock purchase agreements with two government-sponsored enterprises— Fannie Mae and Freddie Mac; federal employee and veterans benefits excluding veterans’ burial and education benefits; and social insurance. Crop insurance premiums are subsidized in part to achieve high participation and coverage levels, which may reduce or eliminate the need for potentially costly disaster assistance payments from congressionally authorized ad hoc disaster programs. Each of the activities listed represented $10 billion or more in benefit liabilities payable for the fiscal year ending September 30, 2017. The estimated subsidy cost to the government for loan guarantees, including reestimates, was $12.5 billion during fiscal year 2017, as reported in the Financial Report. has information on an additional 51 activities found through our sources that met our criteria. In addition, the amount of the exposure to the federal government can be hard to measure for some activities. As mentioned earlier, we listed federal activities that meet the following criteria: (1) a risk of financial loss or actual financial loss to a third party exists that stems from an adverse event; and (2) through the activity, the federal government accepts some or all of the risk of financial loss or actual financial loss from the adverse event by indemnifying, guaranteeing, or providing benefits to the affected entity or beneficiary. The fund ratio for NCUA’s Share Insurance Fund is called the equity ratio, and has a statutory minimum of 1.20 percent. In addition, Congress created the National Flood Insurance Program (NFIP) to address the increasing cost of federal disaster assistance by providing flood insurance to property owners in flood-prone areas, where such insurance either was not available or prohibitively expensive through the private sector. The Federal Crop Insurance program is funded through mandatory spending authority, so that RMA receives a permanent indefinite appropriation each fiscal year for premium subsidy and other expenses and returns unobligated balances to the U.S. Treasury at the end of the fiscal year. In 2003, we developed a conceptual framework for fiscal exposures that notes fiscal exposures may be explicit or implicit. We reviewed the Financial Report and the President’s Budget for information and financial measures on these activities, such as receipts, outlays, and net position for NFIP and PBGC. In this report, we (1) identify federal insurance and other activities that transfer risk or losses to the federal government and, where possible, identify cost- and exposure-related information on these activities; and (2) use selected activities to illustrate some of the challenges that we identified in past reports with measuring and reporting fiscal exposures in budget documents. Even when premiums or fees exist, they may not cover all costs, as federal expenditures can be driven more by policy goals or agency missions than a desire to achieve fiscal solvency. The resulting catalog is based solely on the criteria we developed for this report and the sources and methodology we used. The federal government offers its civilian and military employees health and life insurance, defined benefit pension and other retirement benefits (such as post-retirement health insurance and life insurance), and other benefits. These programs provide eligible individuals with benefits, such as health insurance, disability, and retirement benefits, thus transferring risk to the federal government. On the other hand, NCUA’s Share Insurance Fund borrowed funds from the U.S. Treasury during the 2007–2009 financial crisis but has since repaid the loans.                                                                                                                                                                                                                                                                                                                                                                                                                                                                                                                                                                                                                                                                                                                                                                                                                                                                                                                      1\n",
       "Our estimates of the adjusted rates and odds of promotion from GS- 12 to GS-13 and from GS-13 to GS-14 were also statistically significantly lower for racial or ethnic minorities than for whites. For example, the fiscal year 2017 MD-715 report stated that USAID did not conduct trend analyses of the effects of management or personnel policies, procedures, and practices and that the agency lacked sufficient resources to enable it to conduct a thorough barrier analysis of its workforce. We are sending copies of this report to the appropriate congressional committees, the Administrator of USAID, the Chair of EEOC, and the Director of OPM. Tables 43, 44, 50, and 51 provide summaries of the multivariate statistical regression results (specifically, duration regression results) for our estimates of the percentage differences in odds of promotion for racial or ethnic minorities compared with whites and for women compared with men in the U.S. Agency for International Development’s (USAID) Civil and Foreign Services. For example, the number of filled positions in OCRD decreased from 10 to nine in fiscal year 2016, despite the addition of a new hire. Specifically, our adjusted analysis of data on promotions in fiscal years 2002 through 2017 found the following: On average, the adjusted rate of promotion from Class 4 to Class 3 for women in the Foreign Service was 34.7 percent, compared with 31.5 percent for men. USAID has determined that specific groups, such as Hispanics and African Americans, are underrepresented in its workforce, and the agency has a strategic plan that identifies goals, activities, and measures to support diversity and inclusion. In addition to analyzing the demographic composition of the U.S. Agency for International Development (USAID) workforce, we analyzed USAID personnel data to determine summary statistics on employees hired in fiscal years 2003 through 2018. The 2017 Diversity and Inclusion Strategic Plan was developed concurrently with, and folded into, the HR Transformation Strategy’s diversity and inclusion objective. In contrast to the proportion of African Americans, the proportions of Hispanics, Asians, and other racial or ethnic minorities at USAID increased in both the Civil and Foreign Services from fiscal year 2002 to fiscal year 2018. We found these differences when conducting descriptive analyses, which calculated simple average promotion rates, as well as adjusted analyses, which controlled for certain individual and occupational factors other than racial or ethnic minority status that could influence promotion. Model 1b 0.912 (0.0897) Model 2 0.988 (0.0986) Model 3 0.855 (0.0906) Model 4 0.832* (0.0900) Model 5 0.838 (0.0926) (0.116) (0.120) (0.139) 1.021 (0.0385) 1.028 (0.0395) 1.034 (0.0405) Age at entry, squared (0.0158) (0.0165) (0.0170) Years of government, service squared 1.000 (0.000575) 1.000 (0.000594) 1.000 (0.000603) (5.518) (4.311) 0.865 (0.235) 1.013 (0.281) (0.159) (0.160) 0.788 (0.242) 0.703 (0.219) Odds ratio (standard error) (0.163) (0.180) 0.580 (0.210) 0.612 (0.223) (0.277) (0.284) 0.844 (0.263) 0.932 (0.295) 0.198*** (0.0621) 0.164*** (0.0520) 0.199*** (0.0636) 0.243* (0.183) 0.221* (0.172) 0.187** (0.154) Legend: GS = General Schedule, — = not applicable, √ = controls applied, *** = statistically significant at p-value < 0.01, ** = statistically significant at p- value < 0.05, * = statistically significant at p-value < 0.1. Further, sustained attention to diversity efforts from USAID’s senior leadership would help ensure that OCRD has the capacity to perform its required EEO functions. Both our descriptive analysis and adjusted analysis of data for USAID’s Civil Service found that promotion rates were lower for racial or ethnic minorities than for whites in early to mid career, as  shows. Those standards require that we plan and perform the audit to obtain sufficient, appropriate evidence to provide a reasonable basis for our findings and conclusions based on our audit objectives. As part of a model EEO program to prevent unlawful discrimination, federal agencies are to regularly evaluate their employment practices to identify barriers to EEO in the workplace, take measures to eliminate identified barriers, and report annually on these efforts to EEOC, according to MD-715. The Pathways Internship Program provides targeted diversity recruitment, salaries, and payments for Pathways Interns, according to the USAID Chief Human Capital Officer’s June 2019 testimony. Thus, our analyses do not establish a causal relationship between demographic characteristics and promotion outcomes. OCRD has faced persistent staffing gaps stemming in part from a lack of management attention to the agency’s EEO programs. In recent years, USAID has consistently reported being unable to complete EEO counseling, EEO investigations, or final agency decisions on EEO complaints in a timely manner, as required by federal equal employment regulations. USAID promotes varying numbers of its Foreign Service employees each year. In fiscal year 2002, the proportion of women was also generally smaller in higher ranks in both the Civil and Foreign Services. According to USAID’s Chief Human Capital Officer, USAID established the Hiring and Reassignment Review Board (HRRB) in July 2017 as a mechanism to allow USAID to prioritize positions during the government- wide hiring freeze and a subsequent period when all USAID external hires required approval from the Secretary of State. In November 2019, USAID officials told us that OCRD lacked the staff needed to complete the fiscal year 2018 MD- 715 report by this deadline and therefore intended to concentrate on submitting a report for fiscal year 2019. We compared the proportions of racial or ethnic minorities in USAID’s workforce with those in the federal workforce and relevant civilian labor force.                                                                                                                                                                                                                                     1\n",
       "HHS’s fiscal year 2019 AFR noted that another significant cause for estimated Medicaid improper payments is errors resulting from state noncompliance with provider screening and enrollment requirements. See appendix I for the reported amounts by agency and program for fiscal years 2019 and 2018. If an agency does not meet one or more of the six IPERA criteria for any of its programs or activities, the IG considers the agency to be noncompliant overall. About $74.1 billion (approximately 42.4 percent) resulted from situations where the agency lacked supporting documentation necessary to verify the accuracy of the payments. The reported improper payment estimates for these programs totaled about $109 billion for fiscal year 2016, $74 billion for fiscal year 2017, and $78 billion for fiscal year 2018. For example, we previously reported that issues and inconsistencies we identified in selected agencies’ processes for estimating improper payments may affect the quality of their estimates. We provided a draft of this report to OMB and CIGIE for review and comment. See appendix II for details on the root causes that agencies identified for their reported improper payment estimates for fiscal year 2019. However, the government’s ability to understand the full scope of its improper payments is hindered by incomplete, unreliable, or understated estimates; risk assessments that may not accurately assess the risk of improper payment; and noncompliance with criteria listed in IPERA. We also provided the full draft for review and comment to agencies and respective IG offices we met with throughout the course of this work. Administrative or process errors: In this category, errors were caused by incorrect data entry, classifying, or processing of applications or payments. As shown in , the number of programs reported as noncompliant with IPERA for 3 or more consecutive years has increased since fiscal year 2016. See appendix IV for additional details on each CFO Act agency’s compliance with the six IPERA criteria for fiscal year 2018, as reported by their IG. For fiscal year 2019, HHS estimated improper payments attributed to eligibility determinations in 17 states (about one-third of all states). OMB plays a key role in implementing laws related to improper payment reporting. Contact points for our Offices of Congressional Relations and Public Affairs may be found on the last page of this report. These types of errors include but are not limited to (1) inability to access data and (2) data needed do not exist. CIGIE stated that it had no comments. If you or your staff have any questions about this report, please contact me at (202) 512-2623 or davisbh@gao.gov. In addition, as shown in the , 17 programs had a substantial change in their reported improper payment estimates or rates between fiscal years 2018 and 2019. In addition, 22 of 24 agencies (92 percent) met the requirement to publish a PAR or AFR. Medical necessity: For this category, a medical provider delivers a service or item that does not meet coverage requirements for medical necessity (for example, providing a power wheelchair to a patient whose medical record does not support meeting coverage requirements for a power wheelchair). Inability to authenticate eligibility. Failure to verify data: In this category, the agency (federal, state, or local), or another party administering federal dollars, fails to verify appropriate data to determine whether a recipient should be receiving a payment, even though such data exist in government or third-party databases. GAO staff who made key contributions to this report are listed in appendix VI.                                                                                                                                                                                                                                                                                                                                                                                                                                                                                                                                                                                                                                                                                                                                                                                                                                                                                                                                                                                                                                                                                                                                                                                                                                                                                                                                                                                                                                                                                                                                                                                                                                                                                                                                                                                                                                                                                                                                                                                                                                                                                                                                                                                                                                                                                                                                                                                                                                                                                                                                              1\n",
       "It provides a framework for the program office to provide detailed test plans and subsequently determine the resources needed. F-35 Joint Strike Fighter: Continued Oversight Needed as Program Plans to Begin Development of New Capabilities. It stated it planned to develop a full acquisition program baseline for the modernization effort in 2018 and provide a report to Congress by March 2019. GAO-18-464R. According to DOD, to improve production affordability, the F-35 program office is continuing to make investments to lower the price of an F-35A to below $80 million by lot 13. Over the past year, the program has been working to complete its business case for Block 4, including incorporating Block 4 activities into its acquisition strategy—which was approved in October 2018. Pratt & Whitney has also increased production over the past year and has shown similar manufacturing performance for the F-35 engine as in past years; however, it had fewer on-time deliveries in 2018 due to the challenges it faced, including an increase in the average number of quality issues per engine. Washington, D.C.: March 24, 2014. The program categorizes deficiencies according to their potential impact on the aircraft’s performance. (Recommendation 4) The Secretary of Defense should ensure that the F-35 program office completes its business case, at least for the initial Block 4 capabilities under development, before initiating additional development work, to include: an independent cost estimate; an approved test and evaluation master plan which addresses resources, aircraft shortfalls, and funding; and an independent technology readiness assessment. For example, as of December 2018, according to a contractor representative, all of the identified improvement projects currently unfunded in the program’s RMIP would cost about $30 million to implement, but are on hold and waiting to be funded. According to F-35 program officials, the ORD R&M metrics should be re-evaluated to determine more realistic R&M performance metrics, but they have not yet taken actions to do so. Since the start of development, the program has pushed the procurement of more than half of the total aircraft planned into the future, mostly due to significant concurrency between development and production. We obtained cost investment and savings estimates and discussed cost and manufacturing efficiency initiatives, such as the economic order quantity purchases, with the contractors and program office officials to understand potential cost savings and plans. Until operational testing is complete, there is a risk that additional problems with the aircraft may be identified. To provide information on progress in the F-35’s development, we reviewed the program’s costs, schedule, and performance plans and compared the actual progress in each area with the goals established in its 2012 baseline to identify any significant trends. The F-35 program started formal operational testing in December 2018 after a 3-month delay. DOD viewed modernization as a continuation of the existing program and the existing oversight mechanisms, including regularly scheduled high-level acquisition reviews, would be used to manage the effort. DOD did not concur with our recommendation. (Recommendation 5) We provided a draft of this report to DOD for review and comment. The contractor faced several production quality issues and parts delays, which it worked to address over the past year. Without defining measurable objectives in its RMIP guidance for meeting all eight R&M metrics and aligning which improvement projects will ensure those metrics are met, the program is at risk of not fully meeting its R&M goals. According to a test official, as of April 2019, some of these risks have been realized, such as the delay with the simulator, and as a result, the end of operational testing is now planned for December 2019. In addition, there is the possibility of new deficiencies emerging from operational testing. Since then, the program incorporated more scope and fidelity into the Block 4 cost estimate, which has increased to $10.5 billion for Block 4 capabilities planned through 2024.                                                                                                                                                                                                                                                                                                                                                                                                                                                                                                                                                                                                                                                                                                                                                                                                                                                                                                                                                                                                                                                                                                                                                                                                                                                                                                                                                                                                                                                                                                                                                                                                                                                                                                                                                                                                                                                                                                                                                                                                        1\n",
       "In the Senate, a third CR for FY2019 ( H.R. 28 , a CR to provide FY2019 appropriations for the seven remaining regular appropriations measures through February 28. The bill passed the House by a vote of 234-180. January 15, 2019, H.J.Res. No further action was taken in the Senate. The Senate passed the final measure on September 18. The annual appropriations cycle is often initiated after the President's budget submission. 115-244 ). 264 , a measure to provide full-year FY2019 regular appropriations for Financial Services. The House passed it on September 26. It was enacted into law on September 21, 2018 ( P.L. The measure was passed by the Senate on January 25 by voice vote, with an amendment providing for continuing appropriations through February 15. Congress has adjusted these statutory caps, including through the Bipartisan Budget Acts (BBAs) of 2013 (for FY2014 and FY2015), 2015 (for FY2016 and FY2017), 2018 (for FY2018 and FY2019), and 2019 (for FY2020 and FY2021), which provided for spending cap increases in both defense and nondefense categories. 6157 ) on June 28, 2018. 5 ) and a Democratic amendment ( S.Amdt. January 10, 2019, H.R. The resolution passed the House by a vote of 231-180. The combined measure was then sent to conference. On December 21, the Senate agreed to a motion to proceed to the House amendment by a vote of 48-47, with Vice President Pence casting the tie-breaking vote. Following the vote, Senate Majority Leader Mitch McConnell stated the following: However, obviously, since any eventual solution requires 60 votes here in the Senate, it has been clear from the beginning that two things are necessary: support from enough Senate Democrats to pass the proposal at 60 and a Presidential signature. Colleagues, when an agreement is reached, it will receive a vote here on the Senate floor. During January 2019, the House introduced and considered a number of measures concerning FY2019 appropriations. These appropriations bill groupings were also used for resolving differences between the House and Senate through conference committees. 6 ). In May 2018, the House and Senate submitted these filings.                                                                                                                                                                                                                                                                                                                                                                                                                                                                                                                                                                                                                                                                                                                                                                                                                                                                                                                                                                                                                                                                                                                                                                                                                                                                                                                                                                                                                                                                                                                                                                                                                                                                                                                                                                                                                                                                                                                                                                                                                                                                                                                                                                                                                                                                                                                                                                                                                                                                                                                                                                                                                                                                                                                                                                                                                                                                                                                                                                                                                                                                                                                                                                                                                                                                                                                                                                                                                                                                                                                                                                                                                                                                                                                                                                                                                                                                                                                                                                                                                                                                                                      1\n",
       "Name: count, Length: 972, dtype: int64"
      ]
     },
     "execution_count": 10,
     "metadata": {},
     "output_type": "execute_result"
    }
   ],
   "execution_count": 10
  },
  {
   "metadata": {
    "ExecuteTime": {
     "end_time": "2025-04-12T04:50:42.368142Z",
     "start_time": "2025-04-12T04:50:42.366751Z"
    }
   },
   "cell_type": "code",
   "source": "",
   "id": "f8ac590a48c62b8",
   "outputs": [],
   "execution_count": null
  },
  {
   "metadata": {
    "ExecuteTime": {
     "end_time": "2025-04-12T04:50:42.516036Z",
     "start_time": "2025-04-12T04:50:42.514204Z"
    }
   },
   "cell_type": "code",
   "source": [
    "import re\n",
    "# Function to clean text\n",
    "def clean_text(text):\n",
    "    return re.sub(r'[^\\w\\s]', '', str(text)).strip().lower()"
   ],
   "id": "19cb3cce3ec68184",
   "outputs": [],
   "execution_count": 11
  },
  {
   "metadata": {
    "ExecuteTime": {
     "end_time": "2025-04-12T04:50:46.266291Z",
     "start_time": "2025-04-12T04:50:42.589434Z"
    }
   },
   "cell_type": "code",
   "source": [
    "from rouge import Rouge\n",
    "\n",
    "rouge = Rouge()\n",
    "\n",
    "def truncate_text(text, max_words=100):\n",
    "    return \" \".join(text.split()[:max_words])\n",
    "\n",
    "def compute_rouge(reference, generated):\n",
    "    if not generated.strip():  # Handle empty strings\n",
    "        return {\"rouge-1\": 0, \"rouge-2\": 0, \"rouge-l\": 0}\n",
    "    \n",
    "    # Truncate long summaries\n",
    "    reference = truncate_text(reference)\n",
    "    generated = truncate_text(generated)\n",
    "    \n",
    "    scores = rouge.get_scores(generated, reference)\n",
    "    return scores[0]\n",
    "\n",
    "# Apply function\n",
    "testdf[\"rouge_scores\"] = testdf.apply(lambda row: compute_rouge(row[\"extractive_summary\"], row[\"generated_summary\"]), axis=1)"
   ],
   "id": "479da49a03d88c91",
   "outputs": [],
   "execution_count": 12
  },
  {
   "metadata": {
    "ExecuteTime": {
     "end_time": "2025-04-12T04:50:46.284957Z",
     "start_time": "2025-04-12T04:50:46.282613Z"
    }
   },
   "cell_type": "code",
   "source": [
    "# Display average ROUGE scores\n",
    "rouge_l_scores = [score[\"rouge-l\"][\"f\"] for score in testdf[\"rouge_scores\"]]\n",
    "print(f\"Average ROUGE-L Score: {sum(rouge_l_scores) / len(rouge_l_scores):.4f}\")"
   ],
   "id": "4ac5c18029f86a50",
   "outputs": [
    {
     "name": "stdout",
     "output_type": "stream",
     "text": [
      "Average ROUGE-L Score: 0.2223\n"
     ]
    }
   ],
   "execution_count": 13
  },
  {
   "metadata": {
    "ExecuteTime": {
     "end_time": "2025-04-12T04:50:46.421730Z",
     "start_time": "2025-04-12T04:50:46.419051Z"
    }
   },
   "cell_type": "code",
   "source": [
    "# Display average ROUGE scores\n",
    "rouge_l_scores = [score[\"rouge-2\"][\"f\"] for score in testdf[\"rouge_scores\"]]\n",
    "print(f\"Average ROUGE-2 Score: {sum(rouge_l_scores) / len(rouge_l_scores):.4f}\")"
   ],
   "id": "61a7c4073217f8b7",
   "outputs": [
    {
     "name": "stdout",
     "output_type": "stream",
     "text": [
      "Average ROUGE-2 Score: 0.0729\n"
     ]
    }
   ],
   "execution_count": 14
  },
  {
   "metadata": {
    "ExecuteTime": {
     "end_time": "2025-04-12T04:50:46.517983Z",
     "start_time": "2025-04-12T04:50:46.515671Z"
    }
   },
   "cell_type": "code",
   "source": [
    "# Display average ROUGE scores\n",
    "rouge_l_scores = [score[\"rouge-1\"][\"f\"] for score in testdf[\"rouge_scores\"]]\n",
    "print(f\"Average ROUGE-1 Score: {sum(rouge_l_scores) / len(rouge_l_scores):.4f}\")"
   ],
   "id": "7cb3cec483878358",
   "outputs": [
    {
     "name": "stdout",
     "output_type": "stream",
     "text": [
      "Average ROUGE-1 Score: 0.2532\n"
     ]
    }
   ],
   "execution_count": 15
  },
  {
   "metadata": {
    "ExecuteTime": {
     "end_time": "2025-04-12T04:51:17.482274Z",
     "start_time": "2025-04-12T04:50:46.587494Z"
    }
   },
   "cell_type": "code",
   "source": [
    "from sklearn.metrics.pairwise import cosine_similarity\n",
    "def compute_similarity(reference, generated):\n",
    "    ref_embedding = model.encode(reference)\n",
    "    gen_embedding = model.encode(generated)\n",
    "    return cosine_similarity([ref_embedding], [gen_embedding])[0][0]\n",
    "\n",
    "testdf[\"cosine_similarity\"] = testdf.apply(lambda row: compute_similarity(row[\"extractive_summary\"], row[\"generated_summary\"]), axis=1)\n",
    "print(f\"Average Cosine Similarity: {testdf['cosine_similarity'].mean():.4f}\")\n"
   ],
   "id": "c314d5fb5f8d0338",
   "outputs": [
    {
     "name": "stdout",
     "output_type": "stream",
     "text": [
      "Average Cosine Similarity: 0.7733\n"
     ]
    }
   ],
   "execution_count": 16
  },
  {
   "metadata": {
    "ExecuteTime": {
     "end_time": "2025-04-12T04:51:17.591740Z",
     "start_time": "2025-04-12T04:51:17.587060Z"
    }
   },
   "cell_type": "code",
   "source": [
    "from sklearn.metrics import precision_score, recall_score, f1_score\n",
    "from collections import Counter\n",
    "def precision_recall_f1(reference_texts, generated_summaries):\n",
    "    precisions, recalls, f1s = [], [], []\n",
    "\n",
    "    for ref, gen in zip(reference_texts, generated_summaries):\n",
    "        ref_tokens = ref.lower().split()\n",
    "        gen_tokens = gen.lower().split()\n",
    "\n",
    "        ref_counter = Counter(ref_tokens)\n",
    "        gen_counter = Counter(gen_tokens)\n",
    "\n",
    "        common = ref_counter & gen_counter\n",
    "        tp = sum(common.values())\n",
    "        fp = sum(gen_counter.values()) - tp\n",
    "        fn = sum(ref_counter.values()) - tp\n",
    "\n",
    "        precision = tp / (tp + fp) if (tp + fp) > 0 else 0.0\n",
    "        recall = tp / (tp + fn) if (tp + fn) > 0 else 0.0\n",
    "        f1 = 2 * precision * recall / (precision + recall) if (precision + recall) > 0 else 0.0\n",
    "\n",
    "        precisions.append(precision)\n",
    "        recalls.append(recall)\n",
    "        f1s.append(f1)\n",
    "\n",
    "    return {\n",
    "        \"average_precision\": np.mean(precisions),\n",
    "        \"average_recall\": np.mean(recalls),\n",
    "        \"average_f1_score\": np.mean(f1s)\n",
    "    }\n"
   ],
   "id": "fe8bf4b73c64f582",
   "outputs": [],
   "execution_count": 17
  },
  {
   "metadata": {
    "ExecuteTime": {
     "end_time": "2025-04-12T04:51:17.859606Z",
     "start_time": "2025-04-12T04:51:17.652427Z"
    }
   },
   "cell_type": "code",
   "source": [
    "reference_summaries = testdf['extractive_summary'].tolist()\n",
    "generated_summaries = testdf['generated_summary'].tolist()\n",
    "\n",
    "# Evaluate\n",
    "results = precision_recall_f1(reference_summaries, generated_summaries)\n",
    "# Print results\n",
    "print(\"Average Precision:\", round(results['average_precision'], 4))\n",
    "print(\"Average Recall:\", round(results['average_recall'], 4))\n",
    "print(\"Average F1 Score:\", round(results['average_f1_score'], 4))"
   ],
   "id": "aa2f6ecd69a73e7",
   "outputs": [
    {
     "name": "stdout",
     "output_type": "stream",
     "text": [
      "Average Precision: 0.5092\n",
      "Average Recall: 0.5276\n",
      "Average F1 Score: 0.5058\n"
     ]
    }
   ],
   "execution_count": 18
  }
 ],
 "metadata": {
  "kernelspec": {
   "display_name": "Python 3",
   "language": "python",
   "name": "python3"
  },
  "language_info": {
   "codemirror_mode": {
    "name": "ipython",
    "version": 2
   },
   "file_extension": ".py",
   "mimetype": "text/x-python",
   "name": "python",
   "nbconvert_exporter": "python",
   "pygments_lexer": "ipython2",
   "version": "2.7.6"
  }
 },
 "nbformat": 4,
 "nbformat_minor": 5
}
